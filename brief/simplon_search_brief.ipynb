{
 "metadata": {
  "language_info": {
   "codemirror_mode": {
    "name": "ipython",
    "version": 3
   },
   "file_extension": ".py",
   "mimetype": "text/x-python",
   "name": "python",
   "nbconvert_exporter": "python",
   "pygments_lexer": "ipython3",
   "version": "3.8.5"
  },
  "orig_nbformat": 2,
  "kernelspec": {
   "name": "python3",
   "display_name": "Python 3.8.5 64-bit ('base': conda)",
   "metadata": {
    "interpreter": {
     "hash": "64b474f71659f9be32f34132c3eef93d33d176ead871b80ca6db3fa26bc83f65"
    }
   }
  }
 },
 "nbformat": 4,
 "nbformat_minor": 2,
 "cells": [
  {
   "cell_type": "code",
   "execution_count": 16,
   "metadata": {},
   "outputs": [],
   "source": [
    "import pandas as pd\n",
    "import re\n",
    "import os\n",
    "from re import *\n",
    "\n",
    "#matplotlib_txt = pd.read_txt(\"../jeux_de_données/Matplotlib.txt\")\n",
    "#numpy_txt = pd.read_txt(\"../jeux_de_données/Numpy.txt\")\n",
    "#pandas_txt = pd.read_txt(\"../jeux_de_données/Pandas.txt\")\n",
    "#seaborn_txt = pd.read_txt(\"../jeux_de_données/Seaborn.txt\")"
   ]
  },
  {
   "source": [
    "## 1. Proposer une fonction almost (mot, s) qui trouve dans un texte s toute les occurrence d’un mot dont une lettre a pu éventuellement être enlevée\n",
    "\n",
    "Exemple: si mot vaut «alphonse», une réponse acceptable vaut est «alponse»"
   ],
   "cell_type": "markdown",
   "metadata": {}
  },
  {
   "cell_type": "code",
   "execution_count": 17,
   "metadata": {},
   "outputs": [
    {
     "output_type": "stream",
     "name": "stdout",
     "text": [
      "['Les', 'etrois', 'tris,', 'lys', 'trois', 'gros,', 'les', 'troisx', 'roi']\n"
     ]
    },
    {
     "output_type": "execute_result",
     "data": {
      "text/plain": [
       "[]"
      ]
     },
     "metadata": {},
     "execution_count": 17
    }
   ],
   "source": [
    "s = \"Les etrois tris, lys trois gros, les troisx roi\"\n",
    "\n",
    "def almost(mot,s):\n",
    "\n",
    "    # seul les chaines de caractères nous interesse, je supprime donc les caractères spéciaux\n",
    "    liste_s = s.replace(\",\", \"\")\n",
    "\n",
    "    # je place chaque mot  de \"s\" dans une liste\n",
    "    liste_s = s.split()\n",
    "    print(liste_s)      \n",
    "\n",
    "    match = []\n",
    "\n",
    "    for m in liste_s:\n",
    "        if m == mot:\n",
    "            match.append(m)\n",
    "            print(match)\n",
    "        \n",
    "        elif len(m)+1 == len(mot):\n",
    "            print(m,len(m))\n",
    "\n",
    "            for i in range(0,len(m)-1):\n",
    "                print(i)\n",
    "                if m[i].upper() != mot[i].upper() and m[i:] == mot[i+1:]:\n",
    "                    match.append(m)\n",
    "                    break\n",
    "\n",
    "        return match   \n",
    "\n",
    "almost(\"trois\", s)"
   ]
  },
  {
   "cell_type": "code",
   "execution_count": 18,
   "metadata": {},
   "outputs": [
    {
     "output_type": "stream",
     "name": "stdout",
     "text": [
      "Les etrois tris lys trois gros les troisx roi\n['Les', 'etrois', 'tris', 'lys', 'trois', 'gros', 'les', 'troisx', 'roi']\ntris 4\n0\n1\n2\ngros 4\n0\n1\n2\n"
     ]
    },
    {
     "output_type": "execute_result",
     "data": {
      "text/plain": [
       "['tris', 'trois']"
      ]
     },
     "metadata": {},
     "execution_count": 18
    }
   ],
   "source": [
    "s = \"Les etrois tris, lys trois gros, les troisx roi\"\n",
    "\n",
    "def almost(mot,s):\n",
    "\n",
    "    s = ''.join(char for char in s if char.isalnum() or char==' ')\n",
    "    print(s)\n",
    "\n",
    "    match=[]\n",
    "    dif=0\n",
    "    liste=s.split()\n",
    "    print(liste)\n",
    "\n",
    "    for m in liste:\n",
    "        if m==mot:\n",
    "            match.append(m)\n",
    "        elif len(m)+1==len(mot) : \n",
    "            print(m,len(m))\n",
    "\n",
    "            for i in range(0,len(m)-1):\n",
    "                print(i)\n",
    "\n",
    "                if m[i].upper()!=mot[i].upper() and m[i:]==mot[i+1:]:\n",
    "                    match.append(m)\n",
    "                    break\n",
    "    return match\n",
    "\n",
    "almost(\"trois\",s)"
   ]
  },
  {
   "cell_type": "code",
   "execution_count": 19,
   "metadata": {},
   "outputs": [
    {
     "output_type": "execute_result",
     "data": {
      "text/plain": [
       "['tris', 'trois']"
      ]
     },
     "metadata": {},
     "execution_count": 19
    }
   ],
   "source": [
    "s = \"Les etrois tris, lys trois gros, les troisx roi\"\n",
    "\n",
    "def almost(mot: str, s: str) -> list:\n",
    "\n",
    "    words = [\"\".join([mot[j] if j != i else mot[j]+\"?\" for j in range(len(mot))]) for i in range(len(mot))]\n",
    "    searchRegex = re.compile(r'[^a-z]('+ \"|\".join(words) +')[^a-z]', flags=re.IGNORECASE)\n",
    "\n",
    "    return searchRegex.findall(\" \"+s)\n",
    "\n",
    "almost(\"trois\", s)"
   ]
  },
  {
   "cell_type": "code",
   "execution_count": 20,
   "metadata": {},
   "outputs": [
    {
     "output_type": "stream",
     "name": "stdout",
     "text": [
      "['trois', 'tris']\n['les']\n"
     ]
    }
   ],
   "source": [
    "s = \"Les etrois tris, lys trois gros, les troisx roi\"\n",
    "\n",
    "def almost(mot,s):\n",
    "\n",
    "    z = \" \"+sub(\"[.,]\", \"\",s)+\" \"\n",
    "    found = findall(\"\\s(\"+mot+\")\\s\",z)\n",
    "\n",
    "    for i in range(len(mot)):\n",
    "\n",
    "        motif = \"\\s(\"+mot[:i]+mot[i+1:]+\")\\s\"\n",
    "        found += findall(motif, \" \" + z)\n",
    "\n",
    "    return found\n",
    "\n",
    "print(almost(\"trois\",s))\n",
    "print(almost(\"les\",s))"
   ]
  },
  {
   "source": [
    "## 2. Proposez une fonction pluslarge(mot, s) qui trouve dans un texte toutes les occurrences d’un mot dont une lettre a pu éventuellement être enlevée, ajouté ou remplacé par une autre"
   ],
   "cell_type": "markdown",
   "metadata": {}
  },
  {
   "cell_type": "code",
   "execution_count": 21,
   "metadata": {},
   "outputs": [
    {
     "output_type": "stream",
     "name": "stdout",
     "text": [
      "['trois', 'tris', 'etrois', 'troisx']\n['Les', 'les']\n"
     ]
    }
   ],
   "source": [
    "s = \"Les etrois tris, lys trois gros, les troisx roi\"\n",
    "\n",
    "def plusLarge(mot,s):\n",
    "  \n",
    "    z = \" \"+sub(\"[.,]\", \"\",s)+\" \"\n",
    "    found = findall(\"\\s(\"+mot+\")\\s\",z)\n",
    "\n",
    "    # cas lettres manquantes\n",
    "    for i in range(len(mot)):\n",
    "\n",
    "        motif = \"\\s(\"+mot[:i]+mot[i+1:]+\")\\s\"\n",
    "        found += findall(motif,z)\n",
    "\n",
    "    # cas lettres ajoutées\n",
    "    for i in range(len(mot)):\n",
    "\n",
    "        motif = \"\\s(\"+mot[:i]+\"[^\\s]\"+mot[i:]+\")\\s\"\n",
    "        found += findall(motif,z)\n",
    "\n",
    "    # cas lettres modifiées\n",
    "    for i in range(len(mot)):\n",
    "\n",
    "        motif = \"\\s(\"+mot[:i]+\"[^\\s^\"+mot[i]+\"]\"+mot[i+1:]+\")\\s\"\n",
    "        found += findall(motif,z)\n",
    "\n",
    "    # cas lettres à la fin\n",
    "    motif = \"\\s(\"+mot+\"[^\\s])\\s\"\n",
    "    found += findall(motif,z)\n",
    "        \n",
    "    return found\n",
    "\n",
    "print(plusLarge(\"trois\",s))\n",
    "print(plusLarge(\"Les\",s))"
   ]
  },
  {
   "cell_type": "code",
   "execution_count": 22,
   "metadata": {},
   "outputs": [
    {
     "output_type": "stream",
     "name": "stdout",
     "text": [
      "['etrois', 'tris', 'trois', 'troisx']\n['Les', 'lys', 'les']\n"
     ]
    }
   ],
   "source": [
    "s = \"Les etrois tris, lys trois gros, les troisx roi\"\n",
    "\n",
    "def plusLarge(mot, s):\n",
    "\n",
    "    words = []\n",
    "\n",
    "    for i in range(len(mot)):\n",
    "        word = \"\"\n",
    "\n",
    "        for j in range(len(mot)):\n",
    "            word += mot[j] if j != i else mot[j]+\"?.{0,1}\"\n",
    "        words.append(word)\n",
    "    searchRegex = re.compile(r'\\b('+ r\"|\".join(words) + r'|\\w' + mot + r')\\b', flags=re.IGNORECASE)\n",
    "\n",
    "    return searchRegex.findall(s)\n",
    "\n",
    "print(plusLarge(\"trois\",s))\n",
    "print(plusLarge(\"Les\",s))"
   ]
  },
  {
   "source": [
    "## 3. Proposez une fonction score(p, s) qui prend en argument une phrase p et lui attribue un score en fonction de la présence des mots qu’elle contient dans s: cinq points par mot exact, un point par mot approché"
   ],
   "cell_type": "markdown",
   "metadata": {}
  },
  {
   "cell_type": "code",
   "execution_count": 23,
   "metadata": {},
   "outputs": [
    {
     "output_type": "stream",
     "name": "stdout",
     "text": [
      "['Ce']\n[]\n[]\n['en']\n['mousse']\n"
     ]
    },
    {
     "output_type": "execute_result",
     "data": {
      "text/plain": [
       "11"
      ]
     },
     "metadata": {},
     "execution_count": 23
    }
   ],
   "source": [
    "p = \"Le petit bonhomme en mousse\"\n",
    "s = \"Ce superbe matelas en mousse naturelle\"\n",
    "\n",
    "#p = phrase recherchée\n",
    "def score(p,s):\n",
    "\n",
    "    score = 0\n",
    "\n",
    "    s = s.replace(\",\",\"\")\n",
    "    s = s.replace(\".\",\"\")\n",
    "\n",
    "    p = p.replace(\",\",\"\")\n",
    "    p = p.replace(\".\",\"\")\n",
    "\n",
    "    p_liste = p.split()\n",
    "\n",
    "    for word in p_liste:\n",
    "        liste_found = plusLarge(word,s)\n",
    "        print(liste_found)\n",
    "        for words in liste_found:\n",
    "            if words == word:\n",
    "                score += 5\n",
    "            else:\n",
    "                score += 1\n",
    "    return score\n",
    "\n",
    "score(p,s)"
   ]
  },
  {
   "source": [
    "## 4. Modifiez les fonctions précédentes de façons à ce qu’elles donnent un bonus de 20 points si deux mots successifs dans la phrase initial sont également successif dans le texte parcouru (les mots exacts)\n",
    "- Exemple: Si on cherche «Le petit bonhomme en mouse» dans «Ce superbe matelas en mousse naturelle»"
   ],
   "cell_type": "markdown",
   "metadata": {}
  },
  {
   "cell_type": "code",
   "execution_count": 47,
   "metadata": {},
   "outputs": [
    {
     "output_type": "stream",
     "name": "stdout",
     "text": [
      "0\n31\n"
     ]
    }
   ],
   "source": [
    "p = \"Le petit bonhomme en mousse\"\n",
    "t = \"Ce superbe matelas en mousse naturelle\"\n",
    "\n",
    "def score2(p, t):\n",
    "\n",
    "    sc = 0\n",
    "    q = \" \"+sub(\"[,.]\",\"\", p)+\" \"\n",
    "    z = \" \" + sub(\"[,.]\",\"\", s)\n",
    "    mot = p.split()\n",
    "\n",
    "    for x in mot:\n",
    "        for i in plusLarge(x, z):\n",
    "            sc += 5 if i in q else 1\n",
    "\n",
    "    for y in range(len(mot)-1):\n",
    "        if \" \" + mot[y] + \" \" + mot[y+1] + \" \" in z:\n",
    "            sc += 20 \n",
    "            #sc += len(pluslarge(x, s))\n",
    "            #sc += 4*z.count(\" \"+x+\" \")\n",
    "    return sc\n",
    "\n",
    "print(score2(\"les trois gros\", t))\n",
    "print(score2(p, t))"
   ]
  },
  {
   "source": [
    "## 5. Vous pouvez utiliser la fonction nouvellement créé sur un ensemble de fichier txt et voir quel est le fichier qui correspond le plus à une phrase recherchée.Pour se faire:\n",
    "- 1.Importé «os» et utilisez la fonction os.listdir() afin de récupérer dans une liste des fichier présent dans dossiers\n",
    "- 2.Vous pouvez lire chacun de ces fichiers:\n",
    "- - a.Ouvre le fichier avec la fonction open()(pensez à spécifier l’encodage, «encoding=\"utf-8\"») et assigné le à unevariables\n",
    "- - b.Utilisez la méthodes .read() et assigné l’objet retournéà une nouvelle variables. Cette variable contiendra maintenant le contenudu fichier txt sous forme de chaînede caractères.\n",
    "- - c.Utilisez la fonction score2()sur cette chaîne de caractères et stocké le résultat dans un dictionnaireavec le nom du fichier pour clé et le score pour valeur. \n",
    "- Vous pouvez utiliser une boucle for pour répéter cela pour tousles fichiers.d.Afficher le contenu du dictionnaire en ordonnant les résultats par score descendant. Utiliser la fonction sorted()"
   ],
   "cell_type": "markdown",
   "metadata": {}
  },
  {
   "cell_type": "code",
   "execution_count": 54,
   "metadata": {},
   "outputs": [
    {
     "output_type": "stream",
     "name": "stdout",
     "text": [
      "{'Numpy.txt': 30, 'Seaborn.txt': 37, 'Matplotlib.txt': 64, 'Pandas.txt': 65}\n"
     ]
    }
   ],
   "source": [
    "liste_des_textes = os.listdir(\"../jeux_de_données/textes\")\n",
    "liste_des_textes_ouverts = []\n",
    "dico_final = {}\n",
    "\n",
    "for text in liste_des_textes :\n",
    "    liste_des_textes_ouverts.append(open(\"../jeux_de_données/textes/\" + text, encoding = \"utf-8\").read()) \n",
    "    \n",
    "for i in range(len(liste_des_textes_ouverts)) :\n",
    "    dico_final[liste_des_textes[i]] = score(\"analyse et visualisation\", liste_des_textes_ouverts[i])\n",
    "\n",
    "print(dico_final)"
   ]
  }
 ]
}