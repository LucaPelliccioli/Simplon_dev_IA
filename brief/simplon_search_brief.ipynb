{
 "metadata": {
  "language_info": {
   "codemirror_mode": {
    "name": "ipython",
    "version": 3
   },
   "file_extension": ".py",
   "mimetype": "text/x-python",
   "name": "python",
   "nbconvert_exporter": "python",
   "pygments_lexer": "ipython3",
   "version": "3.8.5"
  },
  "orig_nbformat": 2,
  "kernelspec": {
   "name": "python3",
   "display_name": "Python 3.8.5 64-bit ('base': conda)",
   "metadata": {
    "interpreter": {
     "hash": "64b474f71659f9be32f34132c3eef93d33d176ead871b80ca6db3fa26bc83f65"
    }
   }
  }
 },
 "nbformat": 4,
 "nbformat_minor": 2,
 "cells": [
  {
   "cell_type": "code",
   "execution_count": 94,
   "metadata": {},
   "outputs": [],
   "source": [
    "import pandas as pd\n",
    "from re import *\n",
    "import os\n",
    "\n",
    "#matplotlib_txt = pd.read_txt(\"../jeux_de_données/Matplotlib.txt\")\n",
    "#numpy_txt = pd.read_txt(\"../jeux_de_données/Numpy.txt\")\n",
    "#pandas_txt = pd.read_txt(\"../jeux_de_données/Pandas.txt\")\n",
    "#seaborn_txt = pd.read_txt(\"../jeux_de_données/Seaborn.txt\")"
   ]
  },
  {
   "source": [
    "## 1. Proposer une fonction almost (mot, s) qui trouve dans un texte s toute les occurrence d’un mot dont une lettre a pu éventuellement être enlevée\n",
    "\n",
    "Exemple: si mot vaut «alphonse», une réponse acceptable vaut est «alponse»"
   ],
   "cell_type": "markdown",
   "metadata": {}
  },
  {
   "cell_type": "code",
   "execution_count": 77,
   "metadata": {},
   "outputs": [
    {
     "output_type": "error",
     "ename": "IndentationError",
     "evalue": "unexpected indent (<ipython-input-77-538c89dc0de5>, line 21)",
     "traceback": [
      "\u001b[0;36m  File \u001b[0;32m\"<ipython-input-77-538c89dc0de5>\"\u001b[0;36m, line \u001b[0;32m21\u001b[0m\n\u001b[0;31m    elif len[i] + 1 == len(mot):\u001b[0m\n\u001b[0m    ^\u001b[0m\n\u001b[0;31mIndentationError\u001b[0m\u001b[0;31m:\u001b[0m unexpected indent\n"
     ]
    }
   ],
   "source": [
    "s = \"Les etrois tris, lys trois gros, les troisx roi\"\n",
    "\n",
    "def almost(mot,s):\n",
    "\n",
    "    # seul les chaines de caractères nous interesse, je supprime donc les caractères spéciaux\n",
    "    liste_s = s.replace(\",\", \"\")\n",
    "\n",
    "    # je place chaque mot  de \"s\" dans une liste\n",
    "    liste_s = liste_s.split()\n",
    "    print(liste_s)      \n",
    "\n",
    "\n",
    "    liste_match = []\n",
    "\n",
    "    for i in liste_s:\n",
    "\n",
    "        if i == mot:\n",
    "            liste_match.append(i)\n",
    "    print(liste_match)\n",
    "    \n",
    "        elif len[i] + 1 == len(mot):\n",
    "\n",
    "            for k in range(0, len(i) - 1):\n",
    "\n",
    "                if       \n",
    "\n",
    "almost(\"trois\", s)"
   ]
  },
  {
   "cell_type": "code",
   "execution_count": 88,
   "metadata": {},
   "outputs": [
    {
     "output_type": "execute_result",
     "data": {
      "text/plain": [
       "['tris', 'trois']"
      ]
     },
     "metadata": {},
     "execution_count": 88
    }
   ],
   "source": [
    "s = \"Les etrois tris, lys trois gros, les troisx roi\"\n",
    "\n",
    "def almost(mot: str, s: str) -> list:\n",
    "\n",
    "    words = [\"\".join([mot[j] if j != i else mot[j]+\"?\" for j in range(len(mot))]) for i in range(len(mot))]\n",
    "    searchRegex = re.compile(r'[^a-z]('+ \"|\".join(words) +')[^a-z]', flags=re.IGNORECASE)\n",
    "\n",
    "    return searchRegex.findall(\" \"+s)\n",
    "\n",
    "almost(\"trois\", s)"
   ]
  },
  {
   "cell_type": "code",
   "execution_count": 93,
   "metadata": {},
   "outputs": [
    {
     "output_type": "stream",
     "name": "stdout",
     "text": [
      "[' trois ', ' tris ']\n[' les ']\n"
     ]
    }
   ],
   "source": [
    "s = \"Les etrois tris, lys trois gros, les troisx roi\"\n",
    "\n",
    "def almost(mot,s):\n",
    "\n",
    "    z = \" \"+sub(\"[.,]\", \"\",s)+\" \"\n",
    "    found = findall(\"\\s\"+mot+\"\\s\",z)\n",
    "\n",
    "    for i in range(len(mot)):\n",
    "\n",
    "        motif = \"\\s\"+mot[:i]+mot[i+1:]+\"\\s\"\n",
    "        found += findall(motif, \" \" + z)\n",
    "\n",
    "    return found\n",
    "\n",
    "print(almost(\"trois\",s))\n",
    "print(almost(\"les\",s))"
   ]
  },
  {
   "source": [
    "## 2. Proposez une fonction pluslarge(mot, s) qui trouve dans un texte toutes les occurrences d’un mot dont une lettre a pu éventuellement être enlevée, ajouté ou remplacé par une autre"
   ],
   "cell_type": "markdown",
   "metadata": {}
  },
  {
   "cell_type": "code",
   "execution_count": 107,
   "metadata": {},
   "outputs": [
    {
     "output_type": "execute_result",
     "data": {
      "text/plain": [
       "[' trois ', ' tris ', ' etrois ', ' troisx ']"
      ]
     },
     "metadata": {},
     "execution_count": 107
    }
   ],
   "source": [
    "s = \"Les etrois tris, lys trois gros, les troisx roi\"\n",
    "\n",
    "def pluslarge(mot,s):\n",
    "  \n",
    "    z = \" \"+sub(\"[.,]\", \"\",s)+\" \"\n",
    "    found = findall(\"\\s\"+mot+\"\\s\",z)\n",
    "\n",
    "    # cas lettres manquantes\n",
    "    for i in range(len(mot)):\n",
    "\n",
    "        motif = \"\\s\"+mot[:i]+mot[i+1:]+\"\\s\"\n",
    "        found += findall(motif,z)\n",
    "\n",
    "    # cas lettres ajoutés\n",
    "    for i in range(len(mot)):\n",
    "\n",
    "        motif = \"\\s\"+mot[:i]+\"[^\\s]\"+mot[i:]+\"\\s\"\n",
    "        found += findall(motif,z)\n",
    "\n",
    "    # cas lettres modifiés\n",
    "    for i in range(len(mot)):\n",
    "\n",
    "        motif = \"\\s\"+mot[:i]+\"[^\\s^\"+mot[i]+\"]\"+mot[i+1:]+\"\\s\"\n",
    "        found += findall(motif,z)\n",
    "\n",
    "    # cas lettres à la fin\n",
    "    motif = \"\\s\"+mot+\"[^\\s]\\s\"\n",
    "    found += findall(motif,z)\n",
    "        \n",
    "    return found\n",
    "\n",
    "pluslarge(\"trois\",s)"
   ]
  },
  {
   "source": [
    "## 3. Proposez une fonction score(p, s) qui prend en argument une phrase p et lui attribue un score en fonction de la présence des mots qu’elle contient dans s: cinq points par mot exact, un point par mot approché"
   ],
   "cell_type": "markdown",
   "metadata": {}
  },
  {
   "cell_type": "code",
   "execution_count": null,
   "metadata": {},
   "outputs": [],
   "source": [
    "p = \"Les etrois tris, lys trois gros, les troisx roi\"\n",
    "\n",
    "def score(p,s):\n",
    "\n",
    "    \n",
    "\n",
    "\n",
    "\n",
    "\n",
    "\n",
    "\n",
    "\n",
    "\n",
    "\n",
    "score(p, \"trois\")"
   ]
  },
  {
   "source": [
    "## 4. Modifiez les fonctions précédentes de façons à ce qu’elles donnent un bonus de 20 points si deux mots successifs dans la phrase initial sont également successif dans le texte parcouru (les mots exacts).Exemple: Si on cherche «Le petit bonhomme en mouse» dans «Ce superbe matelas en mousse naturelle»"
   ],
   "cell_type": "markdown",
   "metadata": {}
  },
  {
   "cell_type": "code",
   "execution_count": null,
   "metadata": {},
   "outputs": [],
   "source": []
  }
 ]
}