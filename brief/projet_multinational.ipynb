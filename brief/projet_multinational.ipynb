{
 "metadata": {
  "language_info": {
   "codemirror_mode": {
    "name": "ipython",
    "version": 3
   },
   "file_extension": ".py",
   "mimetype": "text/x-python",
   "name": "python",
   "nbconvert_exporter": "python",
   "pygments_lexer": "ipython3",
   "version": "3.8.5"
  },
  "orig_nbformat": 2,
  "kernelspec": {
   "name": "python3",
   "display_name": "Python 3.8.5 64-bit ('base': conda)",
   "metadata": {
    "interpreter": {
     "hash": "64b474f71659f9be32f34132c3eef93d33d176ead871b80ca6db3fa26bc83f65"
    }
   }
  }
 },
 "nbformat": 4,
 "nbformat_minor": 2,
 "cells": [
  {
   "cell_type": "code",
   "execution_count": 2,
   "metadata": {},
   "outputs": [],
   "source": [
    "from sqlalchemy import create_engine\n",
    "import pandas as pd\n",
    "import re \n",
    "\n",
    "def connect_db(dico):\n",
    "\n",
    "    str_engine = \"mysql+\" + dico[\"connector\"] + \"://\" + dico[\"user\"] + \":\" + dico[\"pwd\"] + \"@\" + dico[\"host\"] + \":\" + dico[\"port\"] + \"/\" + dico[\"bdd\"]\n",
    "    connect = create_engine(str_engine)\n",
    "    return connect\n",
    "\n",
    "d = {\n",
    "    \"connector\": \"pymysql\",\n",
    "    \"user\" : \"simplon\",\n",
    "    \"pwd\" : \"fidelio\",\n",
    "    \"host\" : \"localhost\",\n",
    "    \"port\": \"3306\",\n",
    "    \"bdd\" : \"survey\"\n",
    "}\n",
    "\n",
    "engine = connect_db(d)\n",
    "# https://docs.sqlalchemy.org/en/14/core/engines.html"
   ]
  },
  {
   "cell_type": "code",
   "execution_count": 3,
   "metadata": {},
   "outputs": [
    {
     "output_type": "execute_result",
     "data": {
      "text/plain": [
       "       Survey Year               Timestamp  SalaryUSD         Country  \\\n",
       "0             2021 2020-12-10 08:22:42.696    65000.0          Sweden   \n",
       "1             2021 2020-12-10 08:23:22.242   145000.0   United States   \n",
       "2             2021 2020-12-10 08:23:37.909   105000.0   United States   \n",
       "3             2021 2020-12-10 08:23:48.152    46482.0  United Kingdom   \n",
       "4             2021 2020-12-10 08:24:03.600    98800.0   United States   \n",
       "...            ...                     ...        ...             ...   \n",
       "10336         2017 2017-01-14 15:50:23.936    36549.0  United Kingdom   \n",
       "10337         2017 2017-01-15 01:01:21.212    65000.0    Saudi Arabia   \n",
       "10338         2017 2017-01-15 03:25:47.422    85000.0     Netherlands   \n",
       "10339         2017 2017-01-15 03:37:35.305    90000.0   United States   \n",
       "10340         2017 2017-01-15 03:37:59.149    23000.0        Portugal   \n",
       "\n",
       "      PostalCode       PrimaryDatabase  YearsWithThisDatabase  \\\n",
       "0            NaN  Microsoft SQL Server                      4   \n",
       "1          76063  Microsoft SQL Server                     15   \n",
       "2          43240  Microsoft SQL Server                     12   \n",
       "3            NaN  Microsoft SQL Server                     10   \n",
       "4            468  Microsoft SQL Server                      5   \n",
       "...          ...                   ...                    ...   \n",
       "10336  Not Asked  Microsoft SQL Server                      3   \n",
       "10337  Not Asked  Microsoft SQL Server                      7   \n",
       "10338  Not Asked  Microsoft SQL Server                     17   \n",
       "10339  Not Asked  Microsoft SQL Server                      8   \n",
       "10340  Not Asked  Microsoft SQL Server                      4   \n",
       "\n",
       "                                        OtherDatabases    EmploymentStatus  \\\n",
       "0                                 Microsoft SQL Server  Full time employee   \n",
       "1                            Azure SQL DB (any flavor)  Full time employee   \n",
       "2                PostgreSQL, Azure SQL DB (any flavor)  Full time employee   \n",
       "3                            Azure SQL DB (any flavor)  Full time employee   \n",
       "4                                                  DB2  Full time employee   \n",
       "...                                                ...                 ...   \n",
       "10336                                              NaN  Full time employee   \n",
       "10337  Oracle, MySQL/MariaDB, Microsoft Access, SQLite  Full time employee   \n",
       "10338                                           Oracle  Full time employee   \n",
       "10339                                    MySQL/MariaDB  Full time employee   \n",
       "10340                PostgreSQL, DB2, Microsoft Access  Full time employee   \n",
       "\n",
       "                                                JobTitle  ...  \\\n",
       "0      Developer: Business Intelligence (SSRS, PowerB...  ...   \n",
       "1      DBA (Production Focus - build & troubleshoot s...  ...   \n",
       "2      DBA (General - splits time evenly between writ...  ...   \n",
       "3      DBA (Production Focus - build & troubleshoot s...  ...   \n",
       "4      Developer: Business Intelligence (SSRS, PowerB...  ...   \n",
       "...                                                  ...  ...   \n",
       "10336                                                DBA  ...   \n",
       "10337                                                DBA  ...   \n",
       "10338                                              Other  ...   \n",
       "10339                                                DBA  ...   \n",
       "10340                                          Architect  ...   \n",
       "\n",
       "      NewestVersionInProduction  OldestVersionInProduction  \\\n",
       "0               SQL Server 2016            SQL Server 2016   \n",
       "1               SQL Server 2019            SQL Server 2014   \n",
       "2               SQL Server 2017          SQL Server 2008R2   \n",
       "3               SQL Server 2019            SQL Server 2012   \n",
       "4               SQL Server 2019            SQL Server 2012   \n",
       "...                         ...                        ...   \n",
       "10336                 Not Asked                  Not Asked   \n",
       "10337                 Not Asked                  Not Asked   \n",
       "10338                 Not Asked                  Not Asked   \n",
       "10339                 Not Asked                  Not Asked   \n",
       "10340                 Not Asked                  Not Asked   \n",
       "\n",
       "      PopulationOfLargestCityWithin20Miles  \\\n",
       "0                         <= 20,000 (town)   \n",
       "1                         1M+ (metropolis)   \n",
       "2                     300K-1M (large city)   \n",
       "3                     300K-1M (large city)   \n",
       "4                         100K-299K (city)   \n",
       "...                                    ...   \n",
       "10336                            Not Asked   \n",
       "10337                            Not Asked   \n",
       "10338                            Not Asked   \n",
       "10339                            Not Asked   \n",
       "10340                            Not Asked   \n",
       "\n",
       "                            EmploymentSector  \\\n",
       "0                           Private business   \n",
       "1                           Private business   \n",
       "2                           Private business   \n",
       "3      Education (K-12, college, university)   \n",
       "4                           Private business   \n",
       "...                                      ...   \n",
       "10336                       Private business   \n",
       "10337                       Private business   \n",
       "10338                       Private business   \n",
       "10339                       Private business   \n",
       "10340                       Private business   \n",
       "\n",
       "                           LookingForAnotherJob  \\\n",
       "0                                     Not Asked   \n",
       "1                                     Not Asked   \n",
       "2                                     Not Asked   \n",
       "3                                     Not Asked   \n",
       "4                                     Not Asked   \n",
       "...                                         ...   \n",
       "10336                                        No   \n",
       "10337    Yes, but only passively (just curious)   \n",
       "10338    Yes, but only passively (just curious)   \n",
       "10339  Yes, actively looking for something else   \n",
       "10340    Yes, but only passively (just curious)   \n",
       "\n",
       "                          CareerPlansThisYear     Gender OtherJobDuties  \\\n",
       "0      Stay with the same employer, same role       Male      Not Asked   \n",
       "1      Stay with the same employer, same role       Male      Not Asked   \n",
       "2      Stay with the same employer, same role       Male      Not Asked   \n",
       "3      Stay with the same employer, same role       Male      Not Asked   \n",
       "4      Stay with the same employer, same role       Male      Not Asked   \n",
       "...                                       ...        ...            ...   \n",
       "10336                               Not Asked  Not Asked      Not Asked   \n",
       "10337                               Not Asked  Not Asked      Not Asked   \n",
       "10338                               Not Asked  Not Asked      Not Asked   \n",
       "10339                               Not Asked  Not Asked      Not Asked   \n",
       "10340                               Not Asked  Not Asked      Not Asked   \n",
       "\n",
       "      KindsOfTasksPerformed Counter  \n",
       "0                 Not Asked       1  \n",
       "1                 Not Asked       1  \n",
       "2                 Not Asked       1  \n",
       "3                 Not Asked       1  \n",
       "4                 Not Asked       1  \n",
       "...                     ...     ...  \n",
       "10336             Not Asked       1  \n",
       "10337             Not Asked       1  \n",
       "10338             Not Asked       1  \n",
       "10339             Not Asked       1  \n",
       "10340             Not Asked       1  \n",
       "\n",
       "[10341 rows x 31 columns]"
      ],
      "text/html": "<div>\n<style scoped>\n    .dataframe tbody tr th:only-of-type {\n        vertical-align: middle;\n    }\n\n    .dataframe tbody tr th {\n        vertical-align: top;\n    }\n\n    .dataframe thead th {\n        text-align: right;\n    }\n</style>\n<table border=\"1\" class=\"dataframe\">\n  <thead>\n    <tr style=\"text-align: right;\">\n      <th></th>\n      <th>Survey Year</th>\n      <th>Timestamp</th>\n      <th>SalaryUSD</th>\n      <th>Country</th>\n      <th>PostalCode</th>\n      <th>PrimaryDatabase</th>\n      <th>YearsWithThisDatabase</th>\n      <th>OtherDatabases</th>\n      <th>EmploymentStatus</th>\n      <th>JobTitle</th>\n      <th>...</th>\n      <th>NewestVersionInProduction</th>\n      <th>OldestVersionInProduction</th>\n      <th>PopulationOfLargestCityWithin20Miles</th>\n      <th>EmploymentSector</th>\n      <th>LookingForAnotherJob</th>\n      <th>CareerPlansThisYear</th>\n      <th>Gender</th>\n      <th>OtherJobDuties</th>\n      <th>KindsOfTasksPerformed</th>\n      <th>Counter</th>\n    </tr>\n  </thead>\n  <tbody>\n    <tr>\n      <th>0</th>\n      <td>2021</td>\n      <td>2020-12-10 08:22:42.696</td>\n      <td>65000.0</td>\n      <td>Sweden</td>\n      <td>NaN</td>\n      <td>Microsoft SQL Server</td>\n      <td>4</td>\n      <td>Microsoft SQL Server</td>\n      <td>Full time employee</td>\n      <td>Developer: Business Intelligence (SSRS, PowerB...</td>\n      <td>...</td>\n      <td>SQL Server 2016</td>\n      <td>SQL Server 2016</td>\n      <td>&lt;= 20,000 (town)</td>\n      <td>Private business</td>\n      <td>Not Asked</td>\n      <td>Stay with the same employer, same role</td>\n      <td>Male</td>\n      <td>Not Asked</td>\n      <td>Not Asked</td>\n      <td>1</td>\n    </tr>\n    <tr>\n      <th>1</th>\n      <td>2021</td>\n      <td>2020-12-10 08:23:22.242</td>\n      <td>145000.0</td>\n      <td>United States</td>\n      <td>76063</td>\n      <td>Microsoft SQL Server</td>\n      <td>15</td>\n      <td>Azure SQL DB (any flavor)</td>\n      <td>Full time employee</td>\n      <td>DBA (Production Focus - build &amp; troubleshoot s...</td>\n      <td>...</td>\n      <td>SQL Server 2019</td>\n      <td>SQL Server 2014</td>\n      <td>1M+ (metropolis)</td>\n      <td>Private business</td>\n      <td>Not Asked</td>\n      <td>Stay with the same employer, same role</td>\n      <td>Male</td>\n      <td>Not Asked</td>\n      <td>Not Asked</td>\n      <td>1</td>\n    </tr>\n    <tr>\n      <th>2</th>\n      <td>2021</td>\n      <td>2020-12-10 08:23:37.909</td>\n      <td>105000.0</td>\n      <td>United States</td>\n      <td>43240</td>\n      <td>Microsoft SQL Server</td>\n      <td>12</td>\n      <td>PostgreSQL, Azure SQL DB (any flavor)</td>\n      <td>Full time employee</td>\n      <td>DBA (General - splits time evenly between writ...</td>\n      <td>...</td>\n      <td>SQL Server 2017</td>\n      <td>SQL Server 2008R2</td>\n      <td>300K-1M (large city)</td>\n      <td>Private business</td>\n      <td>Not Asked</td>\n      <td>Stay with the same employer, same role</td>\n      <td>Male</td>\n      <td>Not Asked</td>\n      <td>Not Asked</td>\n      <td>1</td>\n    </tr>\n    <tr>\n      <th>3</th>\n      <td>2021</td>\n      <td>2020-12-10 08:23:48.152</td>\n      <td>46482.0</td>\n      <td>United Kingdom</td>\n      <td>NaN</td>\n      <td>Microsoft SQL Server</td>\n      <td>10</td>\n      <td>Azure SQL DB (any flavor)</td>\n      <td>Full time employee</td>\n      <td>DBA (Production Focus - build &amp; troubleshoot s...</td>\n      <td>...</td>\n      <td>SQL Server 2019</td>\n      <td>SQL Server 2012</td>\n      <td>300K-1M (large city)</td>\n      <td>Education (K-12, college, university)</td>\n      <td>Not Asked</td>\n      <td>Stay with the same employer, same role</td>\n      <td>Male</td>\n      <td>Not Asked</td>\n      <td>Not Asked</td>\n      <td>1</td>\n    </tr>\n    <tr>\n      <th>4</th>\n      <td>2021</td>\n      <td>2020-12-10 08:24:03.600</td>\n      <td>98800.0</td>\n      <td>United States</td>\n      <td>468</td>\n      <td>Microsoft SQL Server</td>\n      <td>5</td>\n      <td>DB2</td>\n      <td>Full time employee</td>\n      <td>Developer: Business Intelligence (SSRS, PowerB...</td>\n      <td>...</td>\n      <td>SQL Server 2019</td>\n      <td>SQL Server 2012</td>\n      <td>100K-299K (city)</td>\n      <td>Private business</td>\n      <td>Not Asked</td>\n      <td>Stay with the same employer, same role</td>\n      <td>Male</td>\n      <td>Not Asked</td>\n      <td>Not Asked</td>\n      <td>1</td>\n    </tr>\n    <tr>\n      <th>...</th>\n      <td>...</td>\n      <td>...</td>\n      <td>...</td>\n      <td>...</td>\n      <td>...</td>\n      <td>...</td>\n      <td>...</td>\n      <td>...</td>\n      <td>...</td>\n      <td>...</td>\n      <td>...</td>\n      <td>...</td>\n      <td>...</td>\n      <td>...</td>\n      <td>...</td>\n      <td>...</td>\n      <td>...</td>\n      <td>...</td>\n      <td>...</td>\n      <td>...</td>\n      <td>...</td>\n    </tr>\n    <tr>\n      <th>10336</th>\n      <td>2017</td>\n      <td>2017-01-14 15:50:23.936</td>\n      <td>36549.0</td>\n      <td>United Kingdom</td>\n      <td>Not Asked</td>\n      <td>Microsoft SQL Server</td>\n      <td>3</td>\n      <td>NaN</td>\n      <td>Full time employee</td>\n      <td>DBA</td>\n      <td>...</td>\n      <td>Not Asked</td>\n      <td>Not Asked</td>\n      <td>Not Asked</td>\n      <td>Private business</td>\n      <td>No</td>\n      <td>Not Asked</td>\n      <td>Not Asked</td>\n      <td>Not Asked</td>\n      <td>Not Asked</td>\n      <td>1</td>\n    </tr>\n    <tr>\n      <th>10337</th>\n      <td>2017</td>\n      <td>2017-01-15 01:01:21.212</td>\n      <td>65000.0</td>\n      <td>Saudi Arabia</td>\n      <td>Not Asked</td>\n      <td>Microsoft SQL Server</td>\n      <td>7</td>\n      <td>Oracle, MySQL/MariaDB, Microsoft Access, SQLite</td>\n      <td>Full time employee</td>\n      <td>DBA</td>\n      <td>...</td>\n      <td>Not Asked</td>\n      <td>Not Asked</td>\n      <td>Not Asked</td>\n      <td>Private business</td>\n      <td>Yes, but only passively (just curious)</td>\n      <td>Not Asked</td>\n      <td>Not Asked</td>\n      <td>Not Asked</td>\n      <td>Not Asked</td>\n      <td>1</td>\n    </tr>\n    <tr>\n      <th>10338</th>\n      <td>2017</td>\n      <td>2017-01-15 03:25:47.422</td>\n      <td>85000.0</td>\n      <td>Netherlands</td>\n      <td>Not Asked</td>\n      <td>Microsoft SQL Server</td>\n      <td>17</td>\n      <td>Oracle</td>\n      <td>Full time employee</td>\n      <td>Other</td>\n      <td>...</td>\n      <td>Not Asked</td>\n      <td>Not Asked</td>\n      <td>Not Asked</td>\n      <td>Private business</td>\n      <td>Yes, but only passively (just curious)</td>\n      <td>Not Asked</td>\n      <td>Not Asked</td>\n      <td>Not Asked</td>\n      <td>Not Asked</td>\n      <td>1</td>\n    </tr>\n    <tr>\n      <th>10339</th>\n      <td>2017</td>\n      <td>2017-01-15 03:37:35.305</td>\n      <td>90000.0</td>\n      <td>United States</td>\n      <td>Not Asked</td>\n      <td>Microsoft SQL Server</td>\n      <td>8</td>\n      <td>MySQL/MariaDB</td>\n      <td>Full time employee</td>\n      <td>DBA</td>\n      <td>...</td>\n      <td>Not Asked</td>\n      <td>Not Asked</td>\n      <td>Not Asked</td>\n      <td>Private business</td>\n      <td>Yes, actively looking for something else</td>\n      <td>Not Asked</td>\n      <td>Not Asked</td>\n      <td>Not Asked</td>\n      <td>Not Asked</td>\n      <td>1</td>\n    </tr>\n    <tr>\n      <th>10340</th>\n      <td>2017</td>\n      <td>2017-01-15 03:37:59.149</td>\n      <td>23000.0</td>\n      <td>Portugal</td>\n      <td>Not Asked</td>\n      <td>Microsoft SQL Server</td>\n      <td>4</td>\n      <td>PostgreSQL, DB2, Microsoft Access</td>\n      <td>Full time employee</td>\n      <td>Architect</td>\n      <td>...</td>\n      <td>Not Asked</td>\n      <td>Not Asked</td>\n      <td>Not Asked</td>\n      <td>Private business</td>\n      <td>Yes, but only passively (just curious)</td>\n      <td>Not Asked</td>\n      <td>Not Asked</td>\n      <td>Not Asked</td>\n      <td>Not Asked</td>\n      <td>1</td>\n    </tr>\n  </tbody>\n</table>\n<p>10341 rows × 31 columns</p>\n</div>"
     },
     "metadata": {},
     "execution_count": 3
    }
   ],
   "source": [
    "survey_data = pd.read_excel(\"/home/simplon/Simplon_dev_IA/jeux_de_données/Data_Professional_Salary_Survey_Responses_1.xlsx\")\n",
    "survey_data\n",
    "#https://pandas.pydata.org/pandas-docs/stable/reference/api/pandas.read_excel.html"
   ]
  },
  {
   "source": [
    "# Création DataFrames pour insertion dans la base de données"
   ],
   "cell_type": "markdown",
   "metadata": {}
  },
  {
   "source": [
    "# DataFrame sondage_item"
   ],
   "cell_type": "markdown",
   "metadata": {}
  },
  {
   "cell_type": "code",
   "execution_count": 4,
   "metadata": {},
   "outputs": [],
   "source": [
    "sondage_item_dic = {\n",
    "    \n",
    "    \"timestamp\": \"Timestamp\",\n",
    "    \"salary_usd\" : \"SalaryUSD\",\n",
    "    \"postal_code\" : \"PostalCode\",\n",
    "    \"years_with_db\" : \"YearsWithThisDatabase\",\n",
    "    \"manage_staff\": \"ManageStaff\",\n",
    "    \"years_with_job\" : \"YearsWithThisTypeOfJob\",\n",
    "    \"other_people\": \"OtherPeopleOnYourTeam\",\n",
    "    \"company_employee\" : \"CompanyEmployeesOverall\",\n",
    "    \"database_servers\" : \"DatabaseServers\",\n",
    "    \"education_computer\" : \"EducationIsComputerRelated\",\n",
    "    \"hours_worked\": \"HoursWorkedPerWeek\",\n",
    "    \"telecommute\" : \"TelecommuteDaysPerWeek\",\n",
    "    \"newest_version\": \"NewestVersionInProduction\",\n",
    "    \"oldest_version\" : \"OldestVersionInProduction\",\n",
    "    \"gender\" : \"Gender\"\n",
    "\n",
    "}\n",
    "\n",
    "sondage_item_df = pd.DataFrame(columns= [i for i in sondage_item_dic.keys()])\n",
    "sondage_item_df\n",
    "\n",
    "# Settage des index\n",
    "\n",
    "#sondage_item_df = sondage_item_df.rename_axis(index=\"sgi_id\")\n",
    "sondage_item_df[\"sgi_id\"] = range(1, sondage_item_df.shape[0] + 1)\n",
    "sondage_item_df\n",
    "\n",
    "for i in sondage_item_dic.keys():\n",
    "   sondage_item_df[str(i)] = survey_data[str(sondage_item_dic[i])]"
   ]
  },
  {
   "source": [
    "# DataFrame carrer_plan"
   ],
   "cell_type": "markdown",
   "metadata": {}
  },
  {
   "cell_type": "code",
   "execution_count": 5,
   "metadata": {},
   "outputs": [
    {
     "output_type": "execute_result",
     "data": {
      "text/plain": [
       "Index(['cap_id', 'cap_plan'], dtype='object')"
      ]
     },
     "metadata": {},
     "execution_count": 5
    }
   ],
   "source": [
    "carrer_plan_columns = pd.read_sql_query(\"select * from career_plan;\", engine).columns\n",
    "carrer_plan_columns"
   ]
  },
  {
   "cell_type": "code",
   "execution_count": 6,
   "metadata": {},
   "outputs": [
    {
     "output_type": "execute_result",
     "data": {
      "text/plain": [
       "                                         cap_plan  cap_id\n",
       "1          Stay with the same employer, same role       1\n",
       "2                               Prefer not to say       2\n",
       "3                 Change both employers and roles       3\n",
       "4   Stay with the same role, but change employers       4\n",
       "5  Stay with the same employer,  but change roles       5\n",
       "6                                       Not Asked       6"
      ],
      "text/html": "<div>\n<style scoped>\n    .dataframe tbody tr th:only-of-type {\n        vertical-align: middle;\n    }\n\n    .dataframe tbody tr th {\n        vertical-align: top;\n    }\n\n    .dataframe thead th {\n        text-align: right;\n    }\n</style>\n<table border=\"1\" class=\"dataframe\">\n  <thead>\n    <tr style=\"text-align: right;\">\n      <th></th>\n      <th>cap_plan</th>\n      <th>cap_id</th>\n    </tr>\n  </thead>\n  <tbody>\n    <tr>\n      <th>1</th>\n      <td>Stay with the same employer, same role</td>\n      <td>1</td>\n    </tr>\n    <tr>\n      <th>2</th>\n      <td>Prefer not to say</td>\n      <td>2</td>\n    </tr>\n    <tr>\n      <th>3</th>\n      <td>Change both employers and roles</td>\n      <td>3</td>\n    </tr>\n    <tr>\n      <th>4</th>\n      <td>Stay with the same role, but change employers</td>\n      <td>4</td>\n    </tr>\n    <tr>\n      <th>5</th>\n      <td>Stay with the same employer,  but change roles</td>\n      <td>5</td>\n    </tr>\n    <tr>\n      <th>6</th>\n      <td>Not Asked</td>\n      <td>6</td>\n    </tr>\n  </tbody>\n</table>\n</div>"
     },
     "metadata": {},
     "execution_count": 6
    }
   ],
   "source": [
    "carrer_df = survey_data[\"CareerPlansThisYear\"]\n",
    "carrer_df.drop_duplicates(inplace=True)\n",
    "carrer_df = carrer_df.reset_index(drop=True)\n",
    "carrer_df.index += 1\n",
    "\n",
    "carrer_df = pd.DataFrame({\"cap_plan\" : carrer_df})\n",
    "#carrer_df = carrer_df.rename_axis(index=\"cap_id\")\n",
    "carrer_df[\"cap_id\"] = carrer_df.index\n",
    "carrer_df"
   ]
  },
  {
   "cell_type": "code",
   "execution_count": 7,
   "metadata": {},
   "outputs": [
    {
     "output_type": "execute_result",
     "data": {
      "text/plain": [
       "                    timestamp  salary_usd postal_code  years_with_db  \\\n",
       "0     2020-12-10 08:22:42.696     65000.0         NaN              4   \n",
       "1     2020-12-10 08:23:22.242    145000.0       76063             15   \n",
       "2     2020-12-10 08:23:37.909    105000.0       43240             12   \n",
       "3     2020-12-10 08:23:48.152     46482.0         NaN             10   \n",
       "4     2020-12-10 08:24:03.600     98800.0         468              5   \n",
       "...                       ...         ...         ...            ...   \n",
       "10336 2017-01-14 15:50:23.936     36549.0   Not Asked              3   \n",
       "10337 2017-01-15 01:01:21.212     65000.0   Not Asked              7   \n",
       "10338 2017-01-15 03:25:47.422     85000.0   Not Asked             17   \n",
       "10339 2017-01-15 03:37:35.305     90000.0   Not Asked              8   \n",
       "10340 2017-01-15 03:37:59.149     23000.0   Not Asked              4   \n",
       "\n",
       "      manage_staff  years_with_job other_people company_employee  \\\n",
       "0              Yes               4         None                2   \n",
       "1               No              25         None               74   \n",
       "2              Yes               6            1              500   \n",
       "3               No               5         None               35   \n",
       "4               No               5         None               50   \n",
       "...            ...             ...          ...              ...   \n",
       "10336           No               1            1        Not Asked   \n",
       "10337          Yes               3            5        Not Asked   \n",
       "10338           No              17            1        Not Asked   \n",
       "10339           No               3            1        Not Asked   \n",
       "10340           No               9            3        Not Asked   \n",
       "\n",
       "      database_servers education_computer hours_worked  \\\n",
       "0            Not Asked          Not Asked    Not Asked   \n",
       "1            Not Asked          Not Asked    Not Asked   \n",
       "2            Not Asked          Not Asked    Not Asked   \n",
       "3            Not Asked          Not Asked    Not Asked   \n",
       "4            Not Asked          Not Asked    Not Asked   \n",
       "...                ...                ...          ...   \n",
       "10336               42                NaN           38   \n",
       "10337               40                Yes           50   \n",
       "10338              200                 No           40   \n",
       "10339               80                Yes           45   \n",
       "10340               10                Yes           40   \n",
       "\n",
       "                             telecommute   newest_version     oldest_version  \\\n",
       "0                              Not Asked  SQL Server 2016    SQL Server 2016   \n",
       "1                              Not Asked  SQL Server 2019    SQL Server 2014   \n",
       "2                              Not Asked  SQL Server 2017  SQL Server 2008R2   \n",
       "3                              Not Asked  SQL Server 2019    SQL Server 2012   \n",
       "4                              Not Asked  SQL Server 2019    SQL Server 2012   \n",
       "...                                  ...              ...                ...   \n",
       "10336  None, or less than 1 day per week        Not Asked          Not Asked   \n",
       "10337                                  1        Not Asked          Not Asked   \n",
       "10338                                  1        Not Asked          Not Asked   \n",
       "10339                          5 or more        Not Asked          Not Asked   \n",
       "10340  None, or less than 1 day per week        Not Asked          Not Asked   \n",
       "\n",
       "          gender  sgi_id  cap_id  \n",
       "0           Male     NaN       1  \n",
       "1           Male     NaN       1  \n",
       "2           Male     NaN       1  \n",
       "3           Male     NaN       1  \n",
       "4           Male     NaN       1  \n",
       "...          ...     ...     ...  \n",
       "10336  Not Asked     NaN       6  \n",
       "10337  Not Asked     NaN       6  \n",
       "10338  Not Asked     NaN       6  \n",
       "10339  Not Asked     NaN       6  \n",
       "10340  Not Asked     NaN       6  \n",
       "\n",
       "[10341 rows x 17 columns]"
      ],
      "text/html": "<div>\n<style scoped>\n    .dataframe tbody tr th:only-of-type {\n        vertical-align: middle;\n    }\n\n    .dataframe tbody tr th {\n        vertical-align: top;\n    }\n\n    .dataframe thead th {\n        text-align: right;\n    }\n</style>\n<table border=\"1\" class=\"dataframe\">\n  <thead>\n    <tr style=\"text-align: right;\">\n      <th></th>\n      <th>timestamp</th>\n      <th>salary_usd</th>\n      <th>postal_code</th>\n      <th>years_with_db</th>\n      <th>manage_staff</th>\n      <th>years_with_job</th>\n      <th>other_people</th>\n      <th>company_employee</th>\n      <th>database_servers</th>\n      <th>education_computer</th>\n      <th>hours_worked</th>\n      <th>telecommute</th>\n      <th>newest_version</th>\n      <th>oldest_version</th>\n      <th>gender</th>\n      <th>sgi_id</th>\n      <th>cap_id</th>\n    </tr>\n  </thead>\n  <tbody>\n    <tr>\n      <th>0</th>\n      <td>2020-12-10 08:22:42.696</td>\n      <td>65000.0</td>\n      <td>NaN</td>\n      <td>4</td>\n      <td>Yes</td>\n      <td>4</td>\n      <td>None</td>\n      <td>2</td>\n      <td>Not Asked</td>\n      <td>Not Asked</td>\n      <td>Not Asked</td>\n      <td>Not Asked</td>\n      <td>SQL Server 2016</td>\n      <td>SQL Server 2016</td>\n      <td>Male</td>\n      <td>NaN</td>\n      <td>1</td>\n    </tr>\n    <tr>\n      <th>1</th>\n      <td>2020-12-10 08:23:22.242</td>\n      <td>145000.0</td>\n      <td>76063</td>\n      <td>15</td>\n      <td>No</td>\n      <td>25</td>\n      <td>None</td>\n      <td>74</td>\n      <td>Not Asked</td>\n      <td>Not Asked</td>\n      <td>Not Asked</td>\n      <td>Not Asked</td>\n      <td>SQL Server 2019</td>\n      <td>SQL Server 2014</td>\n      <td>Male</td>\n      <td>NaN</td>\n      <td>1</td>\n    </tr>\n    <tr>\n      <th>2</th>\n      <td>2020-12-10 08:23:37.909</td>\n      <td>105000.0</td>\n      <td>43240</td>\n      <td>12</td>\n      <td>Yes</td>\n      <td>6</td>\n      <td>1</td>\n      <td>500</td>\n      <td>Not Asked</td>\n      <td>Not Asked</td>\n      <td>Not Asked</td>\n      <td>Not Asked</td>\n      <td>SQL Server 2017</td>\n      <td>SQL Server 2008R2</td>\n      <td>Male</td>\n      <td>NaN</td>\n      <td>1</td>\n    </tr>\n    <tr>\n      <th>3</th>\n      <td>2020-12-10 08:23:48.152</td>\n      <td>46482.0</td>\n      <td>NaN</td>\n      <td>10</td>\n      <td>No</td>\n      <td>5</td>\n      <td>None</td>\n      <td>35</td>\n      <td>Not Asked</td>\n      <td>Not Asked</td>\n      <td>Not Asked</td>\n      <td>Not Asked</td>\n      <td>SQL Server 2019</td>\n      <td>SQL Server 2012</td>\n      <td>Male</td>\n      <td>NaN</td>\n      <td>1</td>\n    </tr>\n    <tr>\n      <th>4</th>\n      <td>2020-12-10 08:24:03.600</td>\n      <td>98800.0</td>\n      <td>468</td>\n      <td>5</td>\n      <td>No</td>\n      <td>5</td>\n      <td>None</td>\n      <td>50</td>\n      <td>Not Asked</td>\n      <td>Not Asked</td>\n      <td>Not Asked</td>\n      <td>Not Asked</td>\n      <td>SQL Server 2019</td>\n      <td>SQL Server 2012</td>\n      <td>Male</td>\n      <td>NaN</td>\n      <td>1</td>\n    </tr>\n    <tr>\n      <th>...</th>\n      <td>...</td>\n      <td>...</td>\n      <td>...</td>\n      <td>...</td>\n      <td>...</td>\n      <td>...</td>\n      <td>...</td>\n      <td>...</td>\n      <td>...</td>\n      <td>...</td>\n      <td>...</td>\n      <td>...</td>\n      <td>...</td>\n      <td>...</td>\n      <td>...</td>\n      <td>...</td>\n      <td>...</td>\n    </tr>\n    <tr>\n      <th>10336</th>\n      <td>2017-01-14 15:50:23.936</td>\n      <td>36549.0</td>\n      <td>Not Asked</td>\n      <td>3</td>\n      <td>No</td>\n      <td>1</td>\n      <td>1</td>\n      <td>Not Asked</td>\n      <td>42</td>\n      <td>NaN</td>\n      <td>38</td>\n      <td>None, or less than 1 day per week</td>\n      <td>Not Asked</td>\n      <td>Not Asked</td>\n      <td>Not Asked</td>\n      <td>NaN</td>\n      <td>6</td>\n    </tr>\n    <tr>\n      <th>10337</th>\n      <td>2017-01-15 01:01:21.212</td>\n      <td>65000.0</td>\n      <td>Not Asked</td>\n      <td>7</td>\n      <td>Yes</td>\n      <td>3</td>\n      <td>5</td>\n      <td>Not Asked</td>\n      <td>40</td>\n      <td>Yes</td>\n      <td>50</td>\n      <td>1</td>\n      <td>Not Asked</td>\n      <td>Not Asked</td>\n      <td>Not Asked</td>\n      <td>NaN</td>\n      <td>6</td>\n    </tr>\n    <tr>\n      <th>10338</th>\n      <td>2017-01-15 03:25:47.422</td>\n      <td>85000.0</td>\n      <td>Not Asked</td>\n      <td>17</td>\n      <td>No</td>\n      <td>17</td>\n      <td>1</td>\n      <td>Not Asked</td>\n      <td>200</td>\n      <td>No</td>\n      <td>40</td>\n      <td>1</td>\n      <td>Not Asked</td>\n      <td>Not Asked</td>\n      <td>Not Asked</td>\n      <td>NaN</td>\n      <td>6</td>\n    </tr>\n    <tr>\n      <th>10339</th>\n      <td>2017-01-15 03:37:35.305</td>\n      <td>90000.0</td>\n      <td>Not Asked</td>\n      <td>8</td>\n      <td>No</td>\n      <td>3</td>\n      <td>1</td>\n      <td>Not Asked</td>\n      <td>80</td>\n      <td>Yes</td>\n      <td>45</td>\n      <td>5 or more</td>\n      <td>Not Asked</td>\n      <td>Not Asked</td>\n      <td>Not Asked</td>\n      <td>NaN</td>\n      <td>6</td>\n    </tr>\n    <tr>\n      <th>10340</th>\n      <td>2017-01-15 03:37:59.149</td>\n      <td>23000.0</td>\n      <td>Not Asked</td>\n      <td>4</td>\n      <td>No</td>\n      <td>9</td>\n      <td>3</td>\n      <td>Not Asked</td>\n      <td>10</td>\n      <td>Yes</td>\n      <td>40</td>\n      <td>None, or less than 1 day per week</td>\n      <td>Not Asked</td>\n      <td>Not Asked</td>\n      <td>Not Asked</td>\n      <td>NaN</td>\n      <td>6</td>\n    </tr>\n  </tbody>\n</table>\n<p>10341 rows × 17 columns</p>\n</div>"
     },
     "metadata": {},
     "execution_count": 7
    }
   ],
   "source": [
    "id_carrer = survey_data[\"CareerPlansThisYear\"].apply(lambda x: carrer_df[carrer_df[\"cap_plan\"] == x].index[0])\n",
    "\n",
    "sondage_item_df[\"cap_id\"] = id_carrer.astype(pd.Int64Dtype())\n",
    "sondage_item_df"
   ]
  },
  {
   "source": [
    "# DataFrame certification"
   ],
   "cell_type": "markdown",
   "metadata": {}
  },
  {
   "cell_type": "code",
   "execution_count": 8,
   "metadata": {},
   "outputs": [
    {
     "output_type": "execute_result",
     "data": {
      "text/plain": [
       "Index(['cert_id', 'cert_name'], dtype='object')"
      ]
     },
     "metadata": {},
     "execution_count": 8
    }
   ],
   "source": [
    "certification_columns = pd.read_sql_query(\"select * from certification;\", engine).columns\n",
    "certification_columns"
   ]
  },
  {
   "cell_type": "code",
   "execution_count": 9,
   "metadata": {},
   "outputs": [
    {
     "output_type": "execute_result",
     "data": {
      "text/plain": [
       "                          cert_name  cert_id\n",
       "1                         Not Asked        1\n",
       "2                  No, I never have        2\n",
       "3  Yes, and they're currently valid        3\n",
       "4             Yes, but they expired        4"
      ],
      "text/html": "<div>\n<style scoped>\n    .dataframe tbody tr th:only-of-type {\n        vertical-align: middle;\n    }\n\n    .dataframe tbody tr th {\n        vertical-align: top;\n    }\n\n    .dataframe thead th {\n        text-align: right;\n    }\n</style>\n<table border=\"1\" class=\"dataframe\">\n  <thead>\n    <tr style=\"text-align: right;\">\n      <th></th>\n      <th>cert_name</th>\n      <th>cert_id</th>\n    </tr>\n  </thead>\n  <tbody>\n    <tr>\n      <th>1</th>\n      <td>Not Asked</td>\n      <td>1</td>\n    </tr>\n    <tr>\n      <th>2</th>\n      <td>No, I never have</td>\n      <td>2</td>\n    </tr>\n    <tr>\n      <th>3</th>\n      <td>Yes, and they're currently valid</td>\n      <td>3</td>\n    </tr>\n    <tr>\n      <th>4</th>\n      <td>Yes, but they expired</td>\n      <td>4</td>\n    </tr>\n  </tbody>\n</table>\n</div>"
     },
     "metadata": {},
     "execution_count": 9
    }
   ],
   "source": [
    "certification_df = survey_data[\"Certifications\"]\n",
    "certification_df.drop_duplicates(inplace=True)\n",
    "certification_df = certification_df.reset_index(drop=True)\n",
    "certification_df.index += 1\n",
    "\n",
    "certification_df = pd.DataFrame({\"cert_name\" : certification_df})\n",
    "#certification_df = certification_df.rename_axis(index=\"cert_id\")\n",
    "certification_df[\"cert_id\"] = certification_df.index\n",
    "certification_df"
   ]
  },
  {
   "cell_type": "code",
   "execution_count": 10,
   "metadata": {},
   "outputs": [
    {
     "output_type": "execute_result",
     "data": {
      "text/plain": [
       "                    timestamp  salary_usd postal_code  years_with_db  \\\n",
       "0     2020-12-10 08:22:42.696     65000.0         NaN              4   \n",
       "1     2020-12-10 08:23:22.242    145000.0       76063             15   \n",
       "2     2020-12-10 08:23:37.909    105000.0       43240             12   \n",
       "3     2020-12-10 08:23:48.152     46482.0         NaN             10   \n",
       "4     2020-12-10 08:24:03.600     98800.0         468              5   \n",
       "...                       ...         ...         ...            ...   \n",
       "10336 2017-01-14 15:50:23.936     36549.0   Not Asked              3   \n",
       "10337 2017-01-15 01:01:21.212     65000.0   Not Asked              7   \n",
       "10338 2017-01-15 03:25:47.422     85000.0   Not Asked             17   \n",
       "10339 2017-01-15 03:37:35.305     90000.0   Not Asked              8   \n",
       "10340 2017-01-15 03:37:59.149     23000.0   Not Asked              4   \n",
       "\n",
       "      manage_staff  years_with_job other_people company_employee  \\\n",
       "0              Yes               4         None                2   \n",
       "1               No              25         None               74   \n",
       "2              Yes               6            1              500   \n",
       "3               No               5         None               35   \n",
       "4               No               5         None               50   \n",
       "...            ...             ...          ...              ...   \n",
       "10336           No               1            1        Not Asked   \n",
       "10337          Yes               3            5        Not Asked   \n",
       "10338           No              17            1        Not Asked   \n",
       "10339           No               3            1        Not Asked   \n",
       "10340           No               9            3        Not Asked   \n",
       "\n",
       "      database_servers education_computer hours_worked  \\\n",
       "0            Not Asked          Not Asked    Not Asked   \n",
       "1            Not Asked          Not Asked    Not Asked   \n",
       "2            Not Asked          Not Asked    Not Asked   \n",
       "3            Not Asked          Not Asked    Not Asked   \n",
       "4            Not Asked          Not Asked    Not Asked   \n",
       "...                ...                ...          ...   \n",
       "10336               42                NaN           38   \n",
       "10337               40                Yes           50   \n",
       "10338              200                 No           40   \n",
       "10339               80                Yes           45   \n",
       "10340               10                Yes           40   \n",
       "\n",
       "                             telecommute   newest_version     oldest_version  \\\n",
       "0                              Not Asked  SQL Server 2016    SQL Server 2016   \n",
       "1                              Not Asked  SQL Server 2019    SQL Server 2014   \n",
       "2                              Not Asked  SQL Server 2017  SQL Server 2008R2   \n",
       "3                              Not Asked  SQL Server 2019    SQL Server 2012   \n",
       "4                              Not Asked  SQL Server 2019    SQL Server 2012   \n",
       "...                                  ...              ...                ...   \n",
       "10336  None, or less than 1 day per week        Not Asked          Not Asked   \n",
       "10337                                  1        Not Asked          Not Asked   \n",
       "10338                                  1        Not Asked          Not Asked   \n",
       "10339                          5 or more        Not Asked          Not Asked   \n",
       "10340  None, or less than 1 day per week        Not Asked          Not Asked   \n",
       "\n",
       "          gender  sgi_id  cap_id  cert_id  \n",
       "0           Male     NaN       1        1  \n",
       "1           Male     NaN       1        1  \n",
       "2           Male     NaN       1        1  \n",
       "3           Male     NaN       1        1  \n",
       "4           Male     NaN       1        1  \n",
       "...          ...     ...     ...      ...  \n",
       "10336  Not Asked     NaN       6        2  \n",
       "10337  Not Asked     NaN       6        2  \n",
       "10338  Not Asked     NaN       6        2  \n",
       "10339  Not Asked     NaN       6        3  \n",
       "10340  Not Asked     NaN       6        3  \n",
       "\n",
       "[10341 rows x 18 columns]"
      ],
      "text/html": "<div>\n<style scoped>\n    .dataframe tbody tr th:only-of-type {\n        vertical-align: middle;\n    }\n\n    .dataframe tbody tr th {\n        vertical-align: top;\n    }\n\n    .dataframe thead th {\n        text-align: right;\n    }\n</style>\n<table border=\"1\" class=\"dataframe\">\n  <thead>\n    <tr style=\"text-align: right;\">\n      <th></th>\n      <th>timestamp</th>\n      <th>salary_usd</th>\n      <th>postal_code</th>\n      <th>years_with_db</th>\n      <th>manage_staff</th>\n      <th>years_with_job</th>\n      <th>other_people</th>\n      <th>company_employee</th>\n      <th>database_servers</th>\n      <th>education_computer</th>\n      <th>hours_worked</th>\n      <th>telecommute</th>\n      <th>newest_version</th>\n      <th>oldest_version</th>\n      <th>gender</th>\n      <th>sgi_id</th>\n      <th>cap_id</th>\n      <th>cert_id</th>\n    </tr>\n  </thead>\n  <tbody>\n    <tr>\n      <th>0</th>\n      <td>2020-12-10 08:22:42.696</td>\n      <td>65000.0</td>\n      <td>NaN</td>\n      <td>4</td>\n      <td>Yes</td>\n      <td>4</td>\n      <td>None</td>\n      <td>2</td>\n      <td>Not Asked</td>\n      <td>Not Asked</td>\n      <td>Not Asked</td>\n      <td>Not Asked</td>\n      <td>SQL Server 2016</td>\n      <td>SQL Server 2016</td>\n      <td>Male</td>\n      <td>NaN</td>\n      <td>1</td>\n      <td>1</td>\n    </tr>\n    <tr>\n      <th>1</th>\n      <td>2020-12-10 08:23:22.242</td>\n      <td>145000.0</td>\n      <td>76063</td>\n      <td>15</td>\n      <td>No</td>\n      <td>25</td>\n      <td>None</td>\n      <td>74</td>\n      <td>Not Asked</td>\n      <td>Not Asked</td>\n      <td>Not Asked</td>\n      <td>Not Asked</td>\n      <td>SQL Server 2019</td>\n      <td>SQL Server 2014</td>\n      <td>Male</td>\n      <td>NaN</td>\n      <td>1</td>\n      <td>1</td>\n    </tr>\n    <tr>\n      <th>2</th>\n      <td>2020-12-10 08:23:37.909</td>\n      <td>105000.0</td>\n      <td>43240</td>\n      <td>12</td>\n      <td>Yes</td>\n      <td>6</td>\n      <td>1</td>\n      <td>500</td>\n      <td>Not Asked</td>\n      <td>Not Asked</td>\n      <td>Not Asked</td>\n      <td>Not Asked</td>\n      <td>SQL Server 2017</td>\n      <td>SQL Server 2008R2</td>\n      <td>Male</td>\n      <td>NaN</td>\n      <td>1</td>\n      <td>1</td>\n    </tr>\n    <tr>\n      <th>3</th>\n      <td>2020-12-10 08:23:48.152</td>\n      <td>46482.0</td>\n      <td>NaN</td>\n      <td>10</td>\n      <td>No</td>\n      <td>5</td>\n      <td>None</td>\n      <td>35</td>\n      <td>Not Asked</td>\n      <td>Not Asked</td>\n      <td>Not Asked</td>\n      <td>Not Asked</td>\n      <td>SQL Server 2019</td>\n      <td>SQL Server 2012</td>\n      <td>Male</td>\n      <td>NaN</td>\n      <td>1</td>\n      <td>1</td>\n    </tr>\n    <tr>\n      <th>4</th>\n      <td>2020-12-10 08:24:03.600</td>\n      <td>98800.0</td>\n      <td>468</td>\n      <td>5</td>\n      <td>No</td>\n      <td>5</td>\n      <td>None</td>\n      <td>50</td>\n      <td>Not Asked</td>\n      <td>Not Asked</td>\n      <td>Not Asked</td>\n      <td>Not Asked</td>\n      <td>SQL Server 2019</td>\n      <td>SQL Server 2012</td>\n      <td>Male</td>\n      <td>NaN</td>\n      <td>1</td>\n      <td>1</td>\n    </tr>\n    <tr>\n      <th>...</th>\n      <td>...</td>\n      <td>...</td>\n      <td>...</td>\n      <td>...</td>\n      <td>...</td>\n      <td>...</td>\n      <td>...</td>\n      <td>...</td>\n      <td>...</td>\n      <td>...</td>\n      <td>...</td>\n      <td>...</td>\n      <td>...</td>\n      <td>...</td>\n      <td>...</td>\n      <td>...</td>\n      <td>...</td>\n      <td>...</td>\n    </tr>\n    <tr>\n      <th>10336</th>\n      <td>2017-01-14 15:50:23.936</td>\n      <td>36549.0</td>\n      <td>Not Asked</td>\n      <td>3</td>\n      <td>No</td>\n      <td>1</td>\n      <td>1</td>\n      <td>Not Asked</td>\n      <td>42</td>\n      <td>NaN</td>\n      <td>38</td>\n      <td>None, or less than 1 day per week</td>\n      <td>Not Asked</td>\n      <td>Not Asked</td>\n      <td>Not Asked</td>\n      <td>NaN</td>\n      <td>6</td>\n      <td>2</td>\n    </tr>\n    <tr>\n      <th>10337</th>\n      <td>2017-01-15 01:01:21.212</td>\n      <td>65000.0</td>\n      <td>Not Asked</td>\n      <td>7</td>\n      <td>Yes</td>\n      <td>3</td>\n      <td>5</td>\n      <td>Not Asked</td>\n      <td>40</td>\n      <td>Yes</td>\n      <td>50</td>\n      <td>1</td>\n      <td>Not Asked</td>\n      <td>Not Asked</td>\n      <td>Not Asked</td>\n      <td>NaN</td>\n      <td>6</td>\n      <td>2</td>\n    </tr>\n    <tr>\n      <th>10338</th>\n      <td>2017-01-15 03:25:47.422</td>\n      <td>85000.0</td>\n      <td>Not Asked</td>\n      <td>17</td>\n      <td>No</td>\n      <td>17</td>\n      <td>1</td>\n      <td>Not Asked</td>\n      <td>200</td>\n      <td>No</td>\n      <td>40</td>\n      <td>1</td>\n      <td>Not Asked</td>\n      <td>Not Asked</td>\n      <td>Not Asked</td>\n      <td>NaN</td>\n      <td>6</td>\n      <td>2</td>\n    </tr>\n    <tr>\n      <th>10339</th>\n      <td>2017-01-15 03:37:35.305</td>\n      <td>90000.0</td>\n      <td>Not Asked</td>\n      <td>8</td>\n      <td>No</td>\n      <td>3</td>\n      <td>1</td>\n      <td>Not Asked</td>\n      <td>80</td>\n      <td>Yes</td>\n      <td>45</td>\n      <td>5 or more</td>\n      <td>Not Asked</td>\n      <td>Not Asked</td>\n      <td>Not Asked</td>\n      <td>NaN</td>\n      <td>6</td>\n      <td>3</td>\n    </tr>\n    <tr>\n      <th>10340</th>\n      <td>2017-01-15 03:37:59.149</td>\n      <td>23000.0</td>\n      <td>Not Asked</td>\n      <td>4</td>\n      <td>No</td>\n      <td>9</td>\n      <td>3</td>\n      <td>Not Asked</td>\n      <td>10</td>\n      <td>Yes</td>\n      <td>40</td>\n      <td>None, or less than 1 day per week</td>\n      <td>Not Asked</td>\n      <td>Not Asked</td>\n      <td>Not Asked</td>\n      <td>NaN</td>\n      <td>6</td>\n      <td>3</td>\n    </tr>\n  </tbody>\n</table>\n<p>10341 rows × 18 columns</p>\n</div>"
     },
     "metadata": {},
     "execution_count": 10
    }
   ],
   "source": [
    "id_certification = survey_data[\"Certifications\"].apply(lambda x: certification_df[certification_df[\"cert_name\"] == x].index[0])\n",
    "\n",
    "sondage_item_df[\"cert_id\"] = id_certification.astype(pd.Int64Dtype())\n",
    "sondage_item_df"
   ]
  },
  {
   "source": [
    "# DataFrame country"
   ],
   "cell_type": "markdown",
   "metadata": {}
  },
  {
   "cell_type": "code",
   "execution_count": 11,
   "metadata": {},
   "outputs": [
    {
     "output_type": "execute_result",
     "data": {
      "text/plain": [
       "Index(['ctr_id', 'ctr_name'], dtype='object')"
      ]
     },
     "metadata": {},
     "execution_count": 11
    }
   ],
   "source": [
    "country_columns = pd.read_sql_query(\"select * from country;\", engine).columns\n",
    "country_columns"
   ]
  },
  {
   "cell_type": "code",
   "execution_count": 12,
   "metadata": {},
   "outputs": [
    {
     "output_type": "execute_result",
     "data": {
      "text/plain": [
       "          ctr_name  ctr_id\n",
       "1           Sweden       1\n",
       "2    United States       2\n",
       "3   United Kingdom       3\n",
       "4         Pakistan       4\n",
       "5         Paraguay       5\n",
       "..             ...     ...\n",
       "93         Albania      93\n",
       "94         Bolivia      94\n",
       "95         Vietnam      95\n",
       "96         Bermuda      96\n",
       "97           Kenya      97\n",
       "\n",
       "[97 rows x 2 columns]"
      ],
      "text/html": "<div>\n<style scoped>\n    .dataframe tbody tr th:only-of-type {\n        vertical-align: middle;\n    }\n\n    .dataframe tbody tr th {\n        vertical-align: top;\n    }\n\n    .dataframe thead th {\n        text-align: right;\n    }\n</style>\n<table border=\"1\" class=\"dataframe\">\n  <thead>\n    <tr style=\"text-align: right;\">\n      <th></th>\n      <th>ctr_name</th>\n      <th>ctr_id</th>\n    </tr>\n  </thead>\n  <tbody>\n    <tr>\n      <th>1</th>\n      <td>Sweden</td>\n      <td>1</td>\n    </tr>\n    <tr>\n      <th>2</th>\n      <td>United States</td>\n      <td>2</td>\n    </tr>\n    <tr>\n      <th>3</th>\n      <td>United Kingdom</td>\n      <td>3</td>\n    </tr>\n    <tr>\n      <th>4</th>\n      <td>Pakistan</td>\n      <td>4</td>\n    </tr>\n    <tr>\n      <th>5</th>\n      <td>Paraguay</td>\n      <td>5</td>\n    </tr>\n    <tr>\n      <th>...</th>\n      <td>...</td>\n      <td>...</td>\n    </tr>\n    <tr>\n      <th>93</th>\n      <td>Albania</td>\n      <td>93</td>\n    </tr>\n    <tr>\n      <th>94</th>\n      <td>Bolivia</td>\n      <td>94</td>\n    </tr>\n    <tr>\n      <th>95</th>\n      <td>Vietnam</td>\n      <td>95</td>\n    </tr>\n    <tr>\n      <th>96</th>\n      <td>Bermuda</td>\n      <td>96</td>\n    </tr>\n    <tr>\n      <th>97</th>\n      <td>Kenya</td>\n      <td>97</td>\n    </tr>\n  </tbody>\n</table>\n<p>97 rows × 2 columns</p>\n</div>"
     },
     "metadata": {},
     "execution_count": 12
    }
   ],
   "source": [
    "country_df = survey_data[\"Country\"]\n",
    "country_df.drop_duplicates(inplace=True)\n",
    "country_df = country_df.reset_index(drop=True)\n",
    "country_df.index += 1\n",
    "\n",
    "country_df = pd.DataFrame({\"ctr_name\" : country_df})\n",
    "#country_df = country_df.rename_axis(index=\"ctr_id\")\n",
    "country_df[\"ctr_id\"] = country_df.index\n",
    "country_df"
   ]
  },
  {
   "cell_type": "code",
   "execution_count": 13,
   "metadata": {},
   "outputs": [
    {
     "output_type": "execute_result",
     "data": {
      "text/plain": [
       "                    timestamp  salary_usd postal_code  years_with_db  \\\n",
       "0     2020-12-10 08:22:42.696     65000.0         NaN              4   \n",
       "1     2020-12-10 08:23:22.242    145000.0       76063             15   \n",
       "2     2020-12-10 08:23:37.909    105000.0       43240             12   \n",
       "3     2020-12-10 08:23:48.152     46482.0         NaN             10   \n",
       "4     2020-12-10 08:24:03.600     98800.0         468              5   \n",
       "...                       ...         ...         ...            ...   \n",
       "10336 2017-01-14 15:50:23.936     36549.0   Not Asked              3   \n",
       "10337 2017-01-15 01:01:21.212     65000.0   Not Asked              7   \n",
       "10338 2017-01-15 03:25:47.422     85000.0   Not Asked             17   \n",
       "10339 2017-01-15 03:37:35.305     90000.0   Not Asked              8   \n",
       "10340 2017-01-15 03:37:59.149     23000.0   Not Asked              4   \n",
       "\n",
       "      manage_staff  years_with_job other_people company_employee  \\\n",
       "0              Yes               4         None                2   \n",
       "1               No              25         None               74   \n",
       "2              Yes               6            1              500   \n",
       "3               No               5         None               35   \n",
       "4               No               5         None               50   \n",
       "...            ...             ...          ...              ...   \n",
       "10336           No               1            1        Not Asked   \n",
       "10337          Yes               3            5        Not Asked   \n",
       "10338           No              17            1        Not Asked   \n",
       "10339           No               3            1        Not Asked   \n",
       "10340           No               9            3        Not Asked   \n",
       "\n",
       "      database_servers education_computer hours_worked  \\\n",
       "0            Not Asked          Not Asked    Not Asked   \n",
       "1            Not Asked          Not Asked    Not Asked   \n",
       "2            Not Asked          Not Asked    Not Asked   \n",
       "3            Not Asked          Not Asked    Not Asked   \n",
       "4            Not Asked          Not Asked    Not Asked   \n",
       "...                ...                ...          ...   \n",
       "10336               42                NaN           38   \n",
       "10337               40                Yes           50   \n",
       "10338              200                 No           40   \n",
       "10339               80                Yes           45   \n",
       "10340               10                Yes           40   \n",
       "\n",
       "                             telecommute   newest_version     oldest_version  \\\n",
       "0                              Not Asked  SQL Server 2016    SQL Server 2016   \n",
       "1                              Not Asked  SQL Server 2019    SQL Server 2014   \n",
       "2                              Not Asked  SQL Server 2017  SQL Server 2008R2   \n",
       "3                              Not Asked  SQL Server 2019    SQL Server 2012   \n",
       "4                              Not Asked  SQL Server 2019    SQL Server 2012   \n",
       "...                                  ...              ...                ...   \n",
       "10336  None, or less than 1 day per week        Not Asked          Not Asked   \n",
       "10337                                  1        Not Asked          Not Asked   \n",
       "10338                                  1        Not Asked          Not Asked   \n",
       "10339                          5 or more        Not Asked          Not Asked   \n",
       "10340  None, or less than 1 day per week        Not Asked          Not Asked   \n",
       "\n",
       "          gender  sgi_id  cap_id  cert_id  ctr_id  \n",
       "0           Male     NaN       1        1       1  \n",
       "1           Male     NaN       1        1       2  \n",
       "2           Male     NaN       1        1       2  \n",
       "3           Male     NaN       1        1       3  \n",
       "4           Male     NaN       1        1       2  \n",
       "...          ...     ...     ...      ...     ...  \n",
       "10336  Not Asked     NaN       6        2       3  \n",
       "10337  Not Asked     NaN       6        2      73  \n",
       "10338  Not Asked     NaN       6        2      28  \n",
       "10339  Not Asked     NaN       6        3       2  \n",
       "10340  Not Asked     NaN       6        3      18  \n",
       "\n",
       "[10341 rows x 19 columns]"
      ],
      "text/html": "<div>\n<style scoped>\n    .dataframe tbody tr th:only-of-type {\n        vertical-align: middle;\n    }\n\n    .dataframe tbody tr th {\n        vertical-align: top;\n    }\n\n    .dataframe thead th {\n        text-align: right;\n    }\n</style>\n<table border=\"1\" class=\"dataframe\">\n  <thead>\n    <tr style=\"text-align: right;\">\n      <th></th>\n      <th>timestamp</th>\n      <th>salary_usd</th>\n      <th>postal_code</th>\n      <th>years_with_db</th>\n      <th>manage_staff</th>\n      <th>years_with_job</th>\n      <th>other_people</th>\n      <th>company_employee</th>\n      <th>database_servers</th>\n      <th>education_computer</th>\n      <th>hours_worked</th>\n      <th>telecommute</th>\n      <th>newest_version</th>\n      <th>oldest_version</th>\n      <th>gender</th>\n      <th>sgi_id</th>\n      <th>cap_id</th>\n      <th>cert_id</th>\n      <th>ctr_id</th>\n    </tr>\n  </thead>\n  <tbody>\n    <tr>\n      <th>0</th>\n      <td>2020-12-10 08:22:42.696</td>\n      <td>65000.0</td>\n      <td>NaN</td>\n      <td>4</td>\n      <td>Yes</td>\n      <td>4</td>\n      <td>None</td>\n      <td>2</td>\n      <td>Not Asked</td>\n      <td>Not Asked</td>\n      <td>Not Asked</td>\n      <td>Not Asked</td>\n      <td>SQL Server 2016</td>\n      <td>SQL Server 2016</td>\n      <td>Male</td>\n      <td>NaN</td>\n      <td>1</td>\n      <td>1</td>\n      <td>1</td>\n    </tr>\n    <tr>\n      <th>1</th>\n      <td>2020-12-10 08:23:22.242</td>\n      <td>145000.0</td>\n      <td>76063</td>\n      <td>15</td>\n      <td>No</td>\n      <td>25</td>\n      <td>None</td>\n      <td>74</td>\n      <td>Not Asked</td>\n      <td>Not Asked</td>\n      <td>Not Asked</td>\n      <td>Not Asked</td>\n      <td>SQL Server 2019</td>\n      <td>SQL Server 2014</td>\n      <td>Male</td>\n      <td>NaN</td>\n      <td>1</td>\n      <td>1</td>\n      <td>2</td>\n    </tr>\n    <tr>\n      <th>2</th>\n      <td>2020-12-10 08:23:37.909</td>\n      <td>105000.0</td>\n      <td>43240</td>\n      <td>12</td>\n      <td>Yes</td>\n      <td>6</td>\n      <td>1</td>\n      <td>500</td>\n      <td>Not Asked</td>\n      <td>Not Asked</td>\n      <td>Not Asked</td>\n      <td>Not Asked</td>\n      <td>SQL Server 2017</td>\n      <td>SQL Server 2008R2</td>\n      <td>Male</td>\n      <td>NaN</td>\n      <td>1</td>\n      <td>1</td>\n      <td>2</td>\n    </tr>\n    <tr>\n      <th>3</th>\n      <td>2020-12-10 08:23:48.152</td>\n      <td>46482.0</td>\n      <td>NaN</td>\n      <td>10</td>\n      <td>No</td>\n      <td>5</td>\n      <td>None</td>\n      <td>35</td>\n      <td>Not Asked</td>\n      <td>Not Asked</td>\n      <td>Not Asked</td>\n      <td>Not Asked</td>\n      <td>SQL Server 2019</td>\n      <td>SQL Server 2012</td>\n      <td>Male</td>\n      <td>NaN</td>\n      <td>1</td>\n      <td>1</td>\n      <td>3</td>\n    </tr>\n    <tr>\n      <th>4</th>\n      <td>2020-12-10 08:24:03.600</td>\n      <td>98800.0</td>\n      <td>468</td>\n      <td>5</td>\n      <td>No</td>\n      <td>5</td>\n      <td>None</td>\n      <td>50</td>\n      <td>Not Asked</td>\n      <td>Not Asked</td>\n      <td>Not Asked</td>\n      <td>Not Asked</td>\n      <td>SQL Server 2019</td>\n      <td>SQL Server 2012</td>\n      <td>Male</td>\n      <td>NaN</td>\n      <td>1</td>\n      <td>1</td>\n      <td>2</td>\n    </tr>\n    <tr>\n      <th>...</th>\n      <td>...</td>\n      <td>...</td>\n      <td>...</td>\n      <td>...</td>\n      <td>...</td>\n      <td>...</td>\n      <td>...</td>\n      <td>...</td>\n      <td>...</td>\n      <td>...</td>\n      <td>...</td>\n      <td>...</td>\n      <td>...</td>\n      <td>...</td>\n      <td>...</td>\n      <td>...</td>\n      <td>...</td>\n      <td>...</td>\n      <td>...</td>\n    </tr>\n    <tr>\n      <th>10336</th>\n      <td>2017-01-14 15:50:23.936</td>\n      <td>36549.0</td>\n      <td>Not Asked</td>\n      <td>3</td>\n      <td>No</td>\n      <td>1</td>\n      <td>1</td>\n      <td>Not Asked</td>\n      <td>42</td>\n      <td>NaN</td>\n      <td>38</td>\n      <td>None, or less than 1 day per week</td>\n      <td>Not Asked</td>\n      <td>Not Asked</td>\n      <td>Not Asked</td>\n      <td>NaN</td>\n      <td>6</td>\n      <td>2</td>\n      <td>3</td>\n    </tr>\n    <tr>\n      <th>10337</th>\n      <td>2017-01-15 01:01:21.212</td>\n      <td>65000.0</td>\n      <td>Not Asked</td>\n      <td>7</td>\n      <td>Yes</td>\n      <td>3</td>\n      <td>5</td>\n      <td>Not Asked</td>\n      <td>40</td>\n      <td>Yes</td>\n      <td>50</td>\n      <td>1</td>\n      <td>Not Asked</td>\n      <td>Not Asked</td>\n      <td>Not Asked</td>\n      <td>NaN</td>\n      <td>6</td>\n      <td>2</td>\n      <td>73</td>\n    </tr>\n    <tr>\n      <th>10338</th>\n      <td>2017-01-15 03:25:47.422</td>\n      <td>85000.0</td>\n      <td>Not Asked</td>\n      <td>17</td>\n      <td>No</td>\n      <td>17</td>\n      <td>1</td>\n      <td>Not Asked</td>\n      <td>200</td>\n      <td>No</td>\n      <td>40</td>\n      <td>1</td>\n      <td>Not Asked</td>\n      <td>Not Asked</td>\n      <td>Not Asked</td>\n      <td>NaN</td>\n      <td>6</td>\n      <td>2</td>\n      <td>28</td>\n    </tr>\n    <tr>\n      <th>10339</th>\n      <td>2017-01-15 03:37:35.305</td>\n      <td>90000.0</td>\n      <td>Not Asked</td>\n      <td>8</td>\n      <td>No</td>\n      <td>3</td>\n      <td>1</td>\n      <td>Not Asked</td>\n      <td>80</td>\n      <td>Yes</td>\n      <td>45</td>\n      <td>5 or more</td>\n      <td>Not Asked</td>\n      <td>Not Asked</td>\n      <td>Not Asked</td>\n      <td>NaN</td>\n      <td>6</td>\n      <td>3</td>\n      <td>2</td>\n    </tr>\n    <tr>\n      <th>10340</th>\n      <td>2017-01-15 03:37:59.149</td>\n      <td>23000.0</td>\n      <td>Not Asked</td>\n      <td>4</td>\n      <td>No</td>\n      <td>9</td>\n      <td>3</td>\n      <td>Not Asked</td>\n      <td>10</td>\n      <td>Yes</td>\n      <td>40</td>\n      <td>None, or less than 1 day per week</td>\n      <td>Not Asked</td>\n      <td>Not Asked</td>\n      <td>Not Asked</td>\n      <td>NaN</td>\n      <td>6</td>\n      <td>3</td>\n      <td>18</td>\n    </tr>\n  </tbody>\n</table>\n<p>10341 rows × 19 columns</p>\n</div>"
     },
     "metadata": {},
     "execution_count": 13
    }
   ],
   "source": [
    "id_country = survey_data[\"Country\"].apply(lambda x: country_df[country_df[\"ctr_name\"] == x].index[0])\n",
    "\n",
    "sondage_item_df[\"ctr_id\"] = id_country.astype(pd.Int64Dtype())\n",
    "sondage_item_df"
   ]
  },
  {
   "source": [
    "# DataFrame education"
   ],
   "cell_type": "markdown",
   "metadata": {}
  },
  {
   "cell_type": "code",
   "execution_count": 14,
   "metadata": {},
   "outputs": [
    {
     "output_type": "execute_result",
     "data": {
      "text/plain": [
       "Index(['edu_id', 'edu_title'], dtype='object')"
      ]
     },
     "metadata": {},
     "execution_count": 14
    }
   ],
   "source": [
    "education_columns = pd.read_sql_query(\"select * from education;\", engine).columns\n",
    "education_columns"
   ]
  },
  {
   "cell_type": "code",
   "execution_count": 15,
   "metadata": {},
   "outputs": [
    {
     "output_type": "execute_result",
     "data": {
      "text/plain": [
       "                    edu_title  edu_id\n",
       "1                   Not Asked       1\n",
       "2         Bachelors (4 years)       2\n",
       "3  None (no degree completed)       3\n",
       "4                     Masters       4\n",
       "5        Associates (2 years)       5\n",
       "6               Doctorate/PhD       6"
      ],
      "text/html": "<div>\n<style scoped>\n    .dataframe tbody tr th:only-of-type {\n        vertical-align: middle;\n    }\n\n    .dataframe tbody tr th {\n        vertical-align: top;\n    }\n\n    .dataframe thead th {\n        text-align: right;\n    }\n</style>\n<table border=\"1\" class=\"dataframe\">\n  <thead>\n    <tr style=\"text-align: right;\">\n      <th></th>\n      <th>edu_title</th>\n      <th>edu_id</th>\n    </tr>\n  </thead>\n  <tbody>\n    <tr>\n      <th>1</th>\n      <td>Not Asked</td>\n      <td>1</td>\n    </tr>\n    <tr>\n      <th>2</th>\n      <td>Bachelors (4 years)</td>\n      <td>2</td>\n    </tr>\n    <tr>\n      <th>3</th>\n      <td>None (no degree completed)</td>\n      <td>3</td>\n    </tr>\n    <tr>\n      <th>4</th>\n      <td>Masters</td>\n      <td>4</td>\n    </tr>\n    <tr>\n      <th>5</th>\n      <td>Associates (2 years)</td>\n      <td>5</td>\n    </tr>\n    <tr>\n      <th>6</th>\n      <td>Doctorate/PhD</td>\n      <td>6</td>\n    </tr>\n  </tbody>\n</table>\n</div>"
     },
     "metadata": {},
     "execution_count": 15
    }
   ],
   "source": [
    "education_df = survey_data[\"Education\"]\n",
    "education_df.drop_duplicates(inplace=True)\n",
    "education_df = education_df.reset_index(drop=True)\n",
    "education_df.index += 1\n",
    "\n",
    "education_df = pd.DataFrame({\"edu_title\" : education_df})\n",
    "#education_df = education_df.rename_axis(index=\"edu_id\")\n",
    "education_df[\"edu_id\"] = education_df.index\n",
    "education_df"
   ]
  },
  {
   "cell_type": "code",
   "execution_count": 16,
   "metadata": {},
   "outputs": [
    {
     "output_type": "execute_result",
     "data": {
      "text/plain": [
       "                    timestamp  salary_usd postal_code  years_with_db  \\\n",
       "0     2020-12-10 08:22:42.696     65000.0         NaN              4   \n",
       "1     2020-12-10 08:23:22.242    145000.0       76063             15   \n",
       "2     2020-12-10 08:23:37.909    105000.0       43240             12   \n",
       "3     2020-12-10 08:23:48.152     46482.0         NaN             10   \n",
       "4     2020-12-10 08:24:03.600     98800.0         468              5   \n",
       "...                       ...         ...         ...            ...   \n",
       "10336 2017-01-14 15:50:23.936     36549.0   Not Asked              3   \n",
       "10337 2017-01-15 01:01:21.212     65000.0   Not Asked              7   \n",
       "10338 2017-01-15 03:25:47.422     85000.0   Not Asked             17   \n",
       "10339 2017-01-15 03:37:35.305     90000.0   Not Asked              8   \n",
       "10340 2017-01-15 03:37:59.149     23000.0   Not Asked              4   \n",
       "\n",
       "      manage_staff  years_with_job other_people company_employee  \\\n",
       "0              Yes               4         None                2   \n",
       "1               No              25         None               74   \n",
       "2              Yes               6            1              500   \n",
       "3               No               5         None               35   \n",
       "4               No               5         None               50   \n",
       "...            ...             ...          ...              ...   \n",
       "10336           No               1            1        Not Asked   \n",
       "10337          Yes               3            5        Not Asked   \n",
       "10338           No              17            1        Not Asked   \n",
       "10339           No               3            1        Not Asked   \n",
       "10340           No               9            3        Not Asked   \n",
       "\n",
       "      database_servers education_computer hours_worked  \\\n",
       "0            Not Asked          Not Asked    Not Asked   \n",
       "1            Not Asked          Not Asked    Not Asked   \n",
       "2            Not Asked          Not Asked    Not Asked   \n",
       "3            Not Asked          Not Asked    Not Asked   \n",
       "4            Not Asked          Not Asked    Not Asked   \n",
       "...                ...                ...          ...   \n",
       "10336               42                NaN           38   \n",
       "10337               40                Yes           50   \n",
       "10338              200                 No           40   \n",
       "10339               80                Yes           45   \n",
       "10340               10                Yes           40   \n",
       "\n",
       "                             telecommute   newest_version     oldest_version  \\\n",
       "0                              Not Asked  SQL Server 2016    SQL Server 2016   \n",
       "1                              Not Asked  SQL Server 2019    SQL Server 2014   \n",
       "2                              Not Asked  SQL Server 2017  SQL Server 2008R2   \n",
       "3                              Not Asked  SQL Server 2019    SQL Server 2012   \n",
       "4                              Not Asked  SQL Server 2019    SQL Server 2012   \n",
       "...                                  ...              ...                ...   \n",
       "10336  None, or less than 1 day per week        Not Asked          Not Asked   \n",
       "10337                                  1        Not Asked          Not Asked   \n",
       "10338                                  1        Not Asked          Not Asked   \n",
       "10339                          5 or more        Not Asked          Not Asked   \n",
       "10340  None, or less than 1 day per week        Not Asked          Not Asked   \n",
       "\n",
       "          gender  sgi_id  cap_id  cert_id  ctr_id  edu_id  \n",
       "0           Male     NaN       1        1       1       1  \n",
       "1           Male     NaN       1        1       2       1  \n",
       "2           Male     NaN       1        1       2       1  \n",
       "3           Male     NaN       1        1       3       1  \n",
       "4           Male     NaN       1        1       2       1  \n",
       "...          ...     ...     ...      ...     ...     ...  \n",
       "10336  Not Asked     NaN       6        2       3       3  \n",
       "10337  Not Asked     NaN       6        2      73       2  \n",
       "10338  Not Asked     NaN       6        2      28       2  \n",
       "10339  Not Asked     NaN       6        3       2       4  \n",
       "10340  Not Asked     NaN       6        3      18       3  \n",
       "\n",
       "[10341 rows x 20 columns]"
      ],
      "text/html": "<div>\n<style scoped>\n    .dataframe tbody tr th:only-of-type {\n        vertical-align: middle;\n    }\n\n    .dataframe tbody tr th {\n        vertical-align: top;\n    }\n\n    .dataframe thead th {\n        text-align: right;\n    }\n</style>\n<table border=\"1\" class=\"dataframe\">\n  <thead>\n    <tr style=\"text-align: right;\">\n      <th></th>\n      <th>timestamp</th>\n      <th>salary_usd</th>\n      <th>postal_code</th>\n      <th>years_with_db</th>\n      <th>manage_staff</th>\n      <th>years_with_job</th>\n      <th>other_people</th>\n      <th>company_employee</th>\n      <th>database_servers</th>\n      <th>education_computer</th>\n      <th>hours_worked</th>\n      <th>telecommute</th>\n      <th>newest_version</th>\n      <th>oldest_version</th>\n      <th>gender</th>\n      <th>sgi_id</th>\n      <th>cap_id</th>\n      <th>cert_id</th>\n      <th>ctr_id</th>\n      <th>edu_id</th>\n    </tr>\n  </thead>\n  <tbody>\n    <tr>\n      <th>0</th>\n      <td>2020-12-10 08:22:42.696</td>\n      <td>65000.0</td>\n      <td>NaN</td>\n      <td>4</td>\n      <td>Yes</td>\n      <td>4</td>\n      <td>None</td>\n      <td>2</td>\n      <td>Not Asked</td>\n      <td>Not Asked</td>\n      <td>Not Asked</td>\n      <td>Not Asked</td>\n      <td>SQL Server 2016</td>\n      <td>SQL Server 2016</td>\n      <td>Male</td>\n      <td>NaN</td>\n      <td>1</td>\n      <td>1</td>\n      <td>1</td>\n      <td>1</td>\n    </tr>\n    <tr>\n      <th>1</th>\n      <td>2020-12-10 08:23:22.242</td>\n      <td>145000.0</td>\n      <td>76063</td>\n      <td>15</td>\n      <td>No</td>\n      <td>25</td>\n      <td>None</td>\n      <td>74</td>\n      <td>Not Asked</td>\n      <td>Not Asked</td>\n      <td>Not Asked</td>\n      <td>Not Asked</td>\n      <td>SQL Server 2019</td>\n      <td>SQL Server 2014</td>\n      <td>Male</td>\n      <td>NaN</td>\n      <td>1</td>\n      <td>1</td>\n      <td>2</td>\n      <td>1</td>\n    </tr>\n    <tr>\n      <th>2</th>\n      <td>2020-12-10 08:23:37.909</td>\n      <td>105000.0</td>\n      <td>43240</td>\n      <td>12</td>\n      <td>Yes</td>\n      <td>6</td>\n      <td>1</td>\n      <td>500</td>\n      <td>Not Asked</td>\n      <td>Not Asked</td>\n      <td>Not Asked</td>\n      <td>Not Asked</td>\n      <td>SQL Server 2017</td>\n      <td>SQL Server 2008R2</td>\n      <td>Male</td>\n      <td>NaN</td>\n      <td>1</td>\n      <td>1</td>\n      <td>2</td>\n      <td>1</td>\n    </tr>\n    <tr>\n      <th>3</th>\n      <td>2020-12-10 08:23:48.152</td>\n      <td>46482.0</td>\n      <td>NaN</td>\n      <td>10</td>\n      <td>No</td>\n      <td>5</td>\n      <td>None</td>\n      <td>35</td>\n      <td>Not Asked</td>\n      <td>Not Asked</td>\n      <td>Not Asked</td>\n      <td>Not Asked</td>\n      <td>SQL Server 2019</td>\n      <td>SQL Server 2012</td>\n      <td>Male</td>\n      <td>NaN</td>\n      <td>1</td>\n      <td>1</td>\n      <td>3</td>\n      <td>1</td>\n    </tr>\n    <tr>\n      <th>4</th>\n      <td>2020-12-10 08:24:03.600</td>\n      <td>98800.0</td>\n      <td>468</td>\n      <td>5</td>\n      <td>No</td>\n      <td>5</td>\n      <td>None</td>\n      <td>50</td>\n      <td>Not Asked</td>\n      <td>Not Asked</td>\n      <td>Not Asked</td>\n      <td>Not Asked</td>\n      <td>SQL Server 2019</td>\n      <td>SQL Server 2012</td>\n      <td>Male</td>\n      <td>NaN</td>\n      <td>1</td>\n      <td>1</td>\n      <td>2</td>\n      <td>1</td>\n    </tr>\n    <tr>\n      <th>...</th>\n      <td>...</td>\n      <td>...</td>\n      <td>...</td>\n      <td>...</td>\n      <td>...</td>\n      <td>...</td>\n      <td>...</td>\n      <td>...</td>\n      <td>...</td>\n      <td>...</td>\n      <td>...</td>\n      <td>...</td>\n      <td>...</td>\n      <td>...</td>\n      <td>...</td>\n      <td>...</td>\n      <td>...</td>\n      <td>...</td>\n      <td>...</td>\n      <td>...</td>\n    </tr>\n    <tr>\n      <th>10336</th>\n      <td>2017-01-14 15:50:23.936</td>\n      <td>36549.0</td>\n      <td>Not Asked</td>\n      <td>3</td>\n      <td>No</td>\n      <td>1</td>\n      <td>1</td>\n      <td>Not Asked</td>\n      <td>42</td>\n      <td>NaN</td>\n      <td>38</td>\n      <td>None, or less than 1 day per week</td>\n      <td>Not Asked</td>\n      <td>Not Asked</td>\n      <td>Not Asked</td>\n      <td>NaN</td>\n      <td>6</td>\n      <td>2</td>\n      <td>3</td>\n      <td>3</td>\n    </tr>\n    <tr>\n      <th>10337</th>\n      <td>2017-01-15 01:01:21.212</td>\n      <td>65000.0</td>\n      <td>Not Asked</td>\n      <td>7</td>\n      <td>Yes</td>\n      <td>3</td>\n      <td>5</td>\n      <td>Not Asked</td>\n      <td>40</td>\n      <td>Yes</td>\n      <td>50</td>\n      <td>1</td>\n      <td>Not Asked</td>\n      <td>Not Asked</td>\n      <td>Not Asked</td>\n      <td>NaN</td>\n      <td>6</td>\n      <td>2</td>\n      <td>73</td>\n      <td>2</td>\n    </tr>\n    <tr>\n      <th>10338</th>\n      <td>2017-01-15 03:25:47.422</td>\n      <td>85000.0</td>\n      <td>Not Asked</td>\n      <td>17</td>\n      <td>No</td>\n      <td>17</td>\n      <td>1</td>\n      <td>Not Asked</td>\n      <td>200</td>\n      <td>No</td>\n      <td>40</td>\n      <td>1</td>\n      <td>Not Asked</td>\n      <td>Not Asked</td>\n      <td>Not Asked</td>\n      <td>NaN</td>\n      <td>6</td>\n      <td>2</td>\n      <td>28</td>\n      <td>2</td>\n    </tr>\n    <tr>\n      <th>10339</th>\n      <td>2017-01-15 03:37:35.305</td>\n      <td>90000.0</td>\n      <td>Not Asked</td>\n      <td>8</td>\n      <td>No</td>\n      <td>3</td>\n      <td>1</td>\n      <td>Not Asked</td>\n      <td>80</td>\n      <td>Yes</td>\n      <td>45</td>\n      <td>5 or more</td>\n      <td>Not Asked</td>\n      <td>Not Asked</td>\n      <td>Not Asked</td>\n      <td>NaN</td>\n      <td>6</td>\n      <td>3</td>\n      <td>2</td>\n      <td>4</td>\n    </tr>\n    <tr>\n      <th>10340</th>\n      <td>2017-01-15 03:37:59.149</td>\n      <td>23000.0</td>\n      <td>Not Asked</td>\n      <td>4</td>\n      <td>No</td>\n      <td>9</td>\n      <td>3</td>\n      <td>Not Asked</td>\n      <td>10</td>\n      <td>Yes</td>\n      <td>40</td>\n      <td>None, or less than 1 day per week</td>\n      <td>Not Asked</td>\n      <td>Not Asked</td>\n      <td>Not Asked</td>\n      <td>NaN</td>\n      <td>6</td>\n      <td>3</td>\n      <td>18</td>\n      <td>3</td>\n    </tr>\n  </tbody>\n</table>\n<p>10341 rows × 20 columns</p>\n</div>"
     },
     "metadata": {},
     "execution_count": 16
    }
   ],
   "source": [
    "id_education = survey_data[\"Education\"].apply(lambda x: education_df[education_df[\"edu_title\"] == x].index[0])\n",
    "\n",
    "sondage_item_df[\"edu_id\"] = id_education.astype(pd.Int64Dtype())\n",
    "sondage_item_df"
   ]
  },
  {
   "source": [
    "# DataFrame employment_sector"
   ],
   "cell_type": "markdown",
   "metadata": {}
  },
  {
   "cell_type": "code",
   "execution_count": 17,
   "metadata": {},
   "outputs": [
    {
     "output_type": "execute_result",
     "data": {
      "text/plain": [
       "Index(['sec_id', 'sec_name'], dtype='object')"
      ]
     },
     "metadata": {},
     "execution_count": 17
    }
   ],
   "source": [
    "employment_sector_columns = pd.read_sql_query(\"select * from employment_sector;\", engine).columns\n",
    "employment_sector_columns"
   ]
  },
  {
   "cell_type": "code",
   "execution_count": 18,
   "metadata": {},
   "outputs": [
    {
     "output_type": "execute_result",
     "data": {
      "text/plain": [
       "                                sec_name  sec_id\n",
       "1                       Private business       1\n",
       "2  Education (K-12, college, university)       2\n",
       "3              State/province government       3\n",
       "4                       Local government       4\n",
       "5                             Non-profit       5\n",
       "6                     Federal government       6\n",
       "7                                Student       7"
      ],
      "text/html": "<div>\n<style scoped>\n    .dataframe tbody tr th:only-of-type {\n        vertical-align: middle;\n    }\n\n    .dataframe tbody tr th {\n        vertical-align: top;\n    }\n\n    .dataframe thead th {\n        text-align: right;\n    }\n</style>\n<table border=\"1\" class=\"dataframe\">\n  <thead>\n    <tr style=\"text-align: right;\">\n      <th></th>\n      <th>sec_name</th>\n      <th>sec_id</th>\n    </tr>\n  </thead>\n  <tbody>\n    <tr>\n      <th>1</th>\n      <td>Private business</td>\n      <td>1</td>\n    </tr>\n    <tr>\n      <th>2</th>\n      <td>Education (K-12, college, university)</td>\n      <td>2</td>\n    </tr>\n    <tr>\n      <th>3</th>\n      <td>State/province government</td>\n      <td>3</td>\n    </tr>\n    <tr>\n      <th>4</th>\n      <td>Local government</td>\n      <td>4</td>\n    </tr>\n    <tr>\n      <th>5</th>\n      <td>Non-profit</td>\n      <td>5</td>\n    </tr>\n    <tr>\n      <th>6</th>\n      <td>Federal government</td>\n      <td>6</td>\n    </tr>\n    <tr>\n      <th>7</th>\n      <td>Student</td>\n      <td>7</td>\n    </tr>\n  </tbody>\n</table>\n</div>"
     },
     "metadata": {},
     "execution_count": 18
    }
   ],
   "source": [
    "employment_sector_df = survey_data[\"EmploymentSector\"]\n",
    "employment_sector_df.drop_duplicates(inplace=True)\n",
    "employment_sector_df = employment_sector_df.reset_index(drop=True)\n",
    "employment_sector_df.index += 1\n",
    "\n",
    "employment_sector_df = pd.DataFrame({\"sec_name\" : employment_sector_df})\n",
    "#employment_sector_df = employment_sector_df.rename_axis(index=\"sec_id\")\n",
    "employment_sector_df[\"sec_id\"] = employment_sector_df.index\n",
    "employment_sector_df"
   ]
  },
  {
   "cell_type": "code",
   "execution_count": 19,
   "metadata": {},
   "outputs": [
    {
     "output_type": "execute_result",
     "data": {
      "text/plain": [
       "                    timestamp  salary_usd postal_code  years_with_db  \\\n",
       "0     2020-12-10 08:22:42.696     65000.0         NaN              4   \n",
       "1     2020-12-10 08:23:22.242    145000.0       76063             15   \n",
       "2     2020-12-10 08:23:37.909    105000.0       43240             12   \n",
       "3     2020-12-10 08:23:48.152     46482.0         NaN             10   \n",
       "4     2020-12-10 08:24:03.600     98800.0         468              5   \n",
       "...                       ...         ...         ...            ...   \n",
       "10336 2017-01-14 15:50:23.936     36549.0   Not Asked              3   \n",
       "10337 2017-01-15 01:01:21.212     65000.0   Not Asked              7   \n",
       "10338 2017-01-15 03:25:47.422     85000.0   Not Asked             17   \n",
       "10339 2017-01-15 03:37:35.305     90000.0   Not Asked              8   \n",
       "10340 2017-01-15 03:37:59.149     23000.0   Not Asked              4   \n",
       "\n",
       "      manage_staff  years_with_job other_people company_employee  \\\n",
       "0              Yes               4         None                2   \n",
       "1               No              25         None               74   \n",
       "2              Yes               6            1              500   \n",
       "3               No               5         None               35   \n",
       "4               No               5         None               50   \n",
       "...            ...             ...          ...              ...   \n",
       "10336           No               1            1        Not Asked   \n",
       "10337          Yes               3            5        Not Asked   \n",
       "10338           No              17            1        Not Asked   \n",
       "10339           No               3            1        Not Asked   \n",
       "10340           No               9            3        Not Asked   \n",
       "\n",
       "      database_servers education_computer  ...  \\\n",
       "0            Not Asked          Not Asked  ...   \n",
       "1            Not Asked          Not Asked  ...   \n",
       "2            Not Asked          Not Asked  ...   \n",
       "3            Not Asked          Not Asked  ...   \n",
       "4            Not Asked          Not Asked  ...   \n",
       "...                ...                ...  ...   \n",
       "10336               42                NaN  ...   \n",
       "10337               40                Yes  ...   \n",
       "10338              200                 No  ...   \n",
       "10339               80                Yes  ...   \n",
       "10340               10                Yes  ...   \n",
       "\n",
       "                             telecommute   newest_version     oldest_version  \\\n",
       "0                              Not Asked  SQL Server 2016    SQL Server 2016   \n",
       "1                              Not Asked  SQL Server 2019    SQL Server 2014   \n",
       "2                              Not Asked  SQL Server 2017  SQL Server 2008R2   \n",
       "3                              Not Asked  SQL Server 2019    SQL Server 2012   \n",
       "4                              Not Asked  SQL Server 2019    SQL Server 2012   \n",
       "...                                  ...              ...                ...   \n",
       "10336  None, or less than 1 day per week        Not Asked          Not Asked   \n",
       "10337                                  1        Not Asked          Not Asked   \n",
       "10338                                  1        Not Asked          Not Asked   \n",
       "10339                          5 or more        Not Asked          Not Asked   \n",
       "10340  None, or less than 1 day per week        Not Asked          Not Asked   \n",
       "\n",
       "          gender sgi_id  cap_id  cert_id  ctr_id  edu_id  sec_id  \n",
       "0           Male    NaN       1        1       1       1       1  \n",
       "1           Male    NaN       1        1       2       1       1  \n",
       "2           Male    NaN       1        1       2       1       1  \n",
       "3           Male    NaN       1        1       3       1       2  \n",
       "4           Male    NaN       1        1       2       1       1  \n",
       "...          ...    ...     ...      ...     ...     ...     ...  \n",
       "10336  Not Asked    NaN       6        2       3       3       1  \n",
       "10337  Not Asked    NaN       6        2      73       2       1  \n",
       "10338  Not Asked    NaN       6        2      28       2       1  \n",
       "10339  Not Asked    NaN       6        3       2       4       1  \n",
       "10340  Not Asked    NaN       6        3      18       3       1  \n",
       "\n",
       "[10341 rows x 21 columns]"
      ],
      "text/html": "<div>\n<style scoped>\n    .dataframe tbody tr th:only-of-type {\n        vertical-align: middle;\n    }\n\n    .dataframe tbody tr th {\n        vertical-align: top;\n    }\n\n    .dataframe thead th {\n        text-align: right;\n    }\n</style>\n<table border=\"1\" class=\"dataframe\">\n  <thead>\n    <tr style=\"text-align: right;\">\n      <th></th>\n      <th>timestamp</th>\n      <th>salary_usd</th>\n      <th>postal_code</th>\n      <th>years_with_db</th>\n      <th>manage_staff</th>\n      <th>years_with_job</th>\n      <th>other_people</th>\n      <th>company_employee</th>\n      <th>database_servers</th>\n      <th>education_computer</th>\n      <th>...</th>\n      <th>telecommute</th>\n      <th>newest_version</th>\n      <th>oldest_version</th>\n      <th>gender</th>\n      <th>sgi_id</th>\n      <th>cap_id</th>\n      <th>cert_id</th>\n      <th>ctr_id</th>\n      <th>edu_id</th>\n      <th>sec_id</th>\n    </tr>\n  </thead>\n  <tbody>\n    <tr>\n      <th>0</th>\n      <td>2020-12-10 08:22:42.696</td>\n      <td>65000.0</td>\n      <td>NaN</td>\n      <td>4</td>\n      <td>Yes</td>\n      <td>4</td>\n      <td>None</td>\n      <td>2</td>\n      <td>Not Asked</td>\n      <td>Not Asked</td>\n      <td>...</td>\n      <td>Not Asked</td>\n      <td>SQL Server 2016</td>\n      <td>SQL Server 2016</td>\n      <td>Male</td>\n      <td>NaN</td>\n      <td>1</td>\n      <td>1</td>\n      <td>1</td>\n      <td>1</td>\n      <td>1</td>\n    </tr>\n    <tr>\n      <th>1</th>\n      <td>2020-12-10 08:23:22.242</td>\n      <td>145000.0</td>\n      <td>76063</td>\n      <td>15</td>\n      <td>No</td>\n      <td>25</td>\n      <td>None</td>\n      <td>74</td>\n      <td>Not Asked</td>\n      <td>Not Asked</td>\n      <td>...</td>\n      <td>Not Asked</td>\n      <td>SQL Server 2019</td>\n      <td>SQL Server 2014</td>\n      <td>Male</td>\n      <td>NaN</td>\n      <td>1</td>\n      <td>1</td>\n      <td>2</td>\n      <td>1</td>\n      <td>1</td>\n    </tr>\n    <tr>\n      <th>2</th>\n      <td>2020-12-10 08:23:37.909</td>\n      <td>105000.0</td>\n      <td>43240</td>\n      <td>12</td>\n      <td>Yes</td>\n      <td>6</td>\n      <td>1</td>\n      <td>500</td>\n      <td>Not Asked</td>\n      <td>Not Asked</td>\n      <td>...</td>\n      <td>Not Asked</td>\n      <td>SQL Server 2017</td>\n      <td>SQL Server 2008R2</td>\n      <td>Male</td>\n      <td>NaN</td>\n      <td>1</td>\n      <td>1</td>\n      <td>2</td>\n      <td>1</td>\n      <td>1</td>\n    </tr>\n    <tr>\n      <th>3</th>\n      <td>2020-12-10 08:23:48.152</td>\n      <td>46482.0</td>\n      <td>NaN</td>\n      <td>10</td>\n      <td>No</td>\n      <td>5</td>\n      <td>None</td>\n      <td>35</td>\n      <td>Not Asked</td>\n      <td>Not Asked</td>\n      <td>...</td>\n      <td>Not Asked</td>\n      <td>SQL Server 2019</td>\n      <td>SQL Server 2012</td>\n      <td>Male</td>\n      <td>NaN</td>\n      <td>1</td>\n      <td>1</td>\n      <td>3</td>\n      <td>1</td>\n      <td>2</td>\n    </tr>\n    <tr>\n      <th>4</th>\n      <td>2020-12-10 08:24:03.600</td>\n      <td>98800.0</td>\n      <td>468</td>\n      <td>5</td>\n      <td>No</td>\n      <td>5</td>\n      <td>None</td>\n      <td>50</td>\n      <td>Not Asked</td>\n      <td>Not Asked</td>\n      <td>...</td>\n      <td>Not Asked</td>\n      <td>SQL Server 2019</td>\n      <td>SQL Server 2012</td>\n      <td>Male</td>\n      <td>NaN</td>\n      <td>1</td>\n      <td>1</td>\n      <td>2</td>\n      <td>1</td>\n      <td>1</td>\n    </tr>\n    <tr>\n      <th>...</th>\n      <td>...</td>\n      <td>...</td>\n      <td>...</td>\n      <td>...</td>\n      <td>...</td>\n      <td>...</td>\n      <td>...</td>\n      <td>...</td>\n      <td>...</td>\n      <td>...</td>\n      <td>...</td>\n      <td>...</td>\n      <td>...</td>\n      <td>...</td>\n      <td>...</td>\n      <td>...</td>\n      <td>...</td>\n      <td>...</td>\n      <td>...</td>\n      <td>...</td>\n      <td>...</td>\n    </tr>\n    <tr>\n      <th>10336</th>\n      <td>2017-01-14 15:50:23.936</td>\n      <td>36549.0</td>\n      <td>Not Asked</td>\n      <td>3</td>\n      <td>No</td>\n      <td>1</td>\n      <td>1</td>\n      <td>Not Asked</td>\n      <td>42</td>\n      <td>NaN</td>\n      <td>...</td>\n      <td>None, or less than 1 day per week</td>\n      <td>Not Asked</td>\n      <td>Not Asked</td>\n      <td>Not Asked</td>\n      <td>NaN</td>\n      <td>6</td>\n      <td>2</td>\n      <td>3</td>\n      <td>3</td>\n      <td>1</td>\n    </tr>\n    <tr>\n      <th>10337</th>\n      <td>2017-01-15 01:01:21.212</td>\n      <td>65000.0</td>\n      <td>Not Asked</td>\n      <td>7</td>\n      <td>Yes</td>\n      <td>3</td>\n      <td>5</td>\n      <td>Not Asked</td>\n      <td>40</td>\n      <td>Yes</td>\n      <td>...</td>\n      <td>1</td>\n      <td>Not Asked</td>\n      <td>Not Asked</td>\n      <td>Not Asked</td>\n      <td>NaN</td>\n      <td>6</td>\n      <td>2</td>\n      <td>73</td>\n      <td>2</td>\n      <td>1</td>\n    </tr>\n    <tr>\n      <th>10338</th>\n      <td>2017-01-15 03:25:47.422</td>\n      <td>85000.0</td>\n      <td>Not Asked</td>\n      <td>17</td>\n      <td>No</td>\n      <td>17</td>\n      <td>1</td>\n      <td>Not Asked</td>\n      <td>200</td>\n      <td>No</td>\n      <td>...</td>\n      <td>1</td>\n      <td>Not Asked</td>\n      <td>Not Asked</td>\n      <td>Not Asked</td>\n      <td>NaN</td>\n      <td>6</td>\n      <td>2</td>\n      <td>28</td>\n      <td>2</td>\n      <td>1</td>\n    </tr>\n    <tr>\n      <th>10339</th>\n      <td>2017-01-15 03:37:35.305</td>\n      <td>90000.0</td>\n      <td>Not Asked</td>\n      <td>8</td>\n      <td>No</td>\n      <td>3</td>\n      <td>1</td>\n      <td>Not Asked</td>\n      <td>80</td>\n      <td>Yes</td>\n      <td>...</td>\n      <td>5 or more</td>\n      <td>Not Asked</td>\n      <td>Not Asked</td>\n      <td>Not Asked</td>\n      <td>NaN</td>\n      <td>6</td>\n      <td>3</td>\n      <td>2</td>\n      <td>4</td>\n      <td>1</td>\n    </tr>\n    <tr>\n      <th>10340</th>\n      <td>2017-01-15 03:37:59.149</td>\n      <td>23000.0</td>\n      <td>Not Asked</td>\n      <td>4</td>\n      <td>No</td>\n      <td>9</td>\n      <td>3</td>\n      <td>Not Asked</td>\n      <td>10</td>\n      <td>Yes</td>\n      <td>...</td>\n      <td>None, or less than 1 day per week</td>\n      <td>Not Asked</td>\n      <td>Not Asked</td>\n      <td>Not Asked</td>\n      <td>NaN</td>\n      <td>6</td>\n      <td>3</td>\n      <td>18</td>\n      <td>3</td>\n      <td>1</td>\n    </tr>\n  </tbody>\n</table>\n<p>10341 rows × 21 columns</p>\n</div>"
     },
     "metadata": {},
     "execution_count": 19
    }
   ],
   "source": [
    "id_employment_sector = survey_data[\"EmploymentSector\"].apply(lambda x: employment_sector_df[employment_sector_df[\"sec_name\"] == x].index[0])\n",
    "\n",
    "sondage_item_df[\"sec_id\"] = id_employment_sector.astype(pd.Int64Dtype())\n",
    "sondage_item_df"
   ]
  },
  {
   "source": [
    "# DataFrame employment_status"
   ],
   "cell_type": "markdown",
   "metadata": {}
  },
  {
   "cell_type": "code",
   "execution_count": 20,
   "metadata": {},
   "outputs": [
    {
     "output_type": "execute_result",
     "data": {
      "text/plain": [
       "Index(['emp_id', 'emp_status'], dtype='object')"
      ]
     },
     "metadata": {},
     "execution_count": 20
    }
   ],
   "source": [
    "employment_status_columns = pd.read_sql_query(\"select * from employment_status;\", engine).columns\n",
    "employment_status_columns"
   ]
  },
  {
   "cell_type": "code",
   "execution_count": 21,
   "metadata": {},
   "outputs": [
    {
     "output_type": "execute_result",
     "data": {
      "text/plain": [
       "                                          emp_status  emp_id\n",
       "1                                 Full time employee       1\n",
       "2  Full time employee of a consulting/contracting...       2\n",
       "3  Independent consultant, contractor, freelancer...       3\n",
       "4                                          Part time       4\n",
       "5         Independent or freelancer or company owner       5"
      ],
      "text/html": "<div>\n<style scoped>\n    .dataframe tbody tr th:only-of-type {\n        vertical-align: middle;\n    }\n\n    .dataframe tbody tr th {\n        vertical-align: top;\n    }\n\n    .dataframe thead th {\n        text-align: right;\n    }\n</style>\n<table border=\"1\" class=\"dataframe\">\n  <thead>\n    <tr style=\"text-align: right;\">\n      <th></th>\n      <th>emp_status</th>\n      <th>emp_id</th>\n    </tr>\n  </thead>\n  <tbody>\n    <tr>\n      <th>1</th>\n      <td>Full time employee</td>\n      <td>1</td>\n    </tr>\n    <tr>\n      <th>2</th>\n      <td>Full time employee of a consulting/contracting...</td>\n      <td>2</td>\n    </tr>\n    <tr>\n      <th>3</th>\n      <td>Independent consultant, contractor, freelancer...</td>\n      <td>3</td>\n    </tr>\n    <tr>\n      <th>4</th>\n      <td>Part time</td>\n      <td>4</td>\n    </tr>\n    <tr>\n      <th>5</th>\n      <td>Independent or freelancer or company owner</td>\n      <td>5</td>\n    </tr>\n  </tbody>\n</table>\n</div>"
     },
     "metadata": {},
     "execution_count": 21
    }
   ],
   "source": [
    "employment_status_df = survey_data[\"EmploymentStatus\"]\n",
    "employment_status_df.drop_duplicates(inplace=True)\n",
    "employment_status_df = employment_status_df.reset_index(drop=True)\n",
    "employment_status_df.index += 1\n",
    "\n",
    "employment_status_df = pd.DataFrame({\"emp_status\" : employment_status_df})\n",
    "#employment_status_df = employment_status_df.rename_axis(index=\"emp_id\")\n",
    "employment_status_df[\"emp_id\"] = employment_status_df.index\n",
    "employment_status_df"
   ]
  },
  {
   "cell_type": "code",
   "execution_count": 22,
   "metadata": {},
   "outputs": [
    {
     "output_type": "execute_result",
     "data": {
      "text/plain": [
       "0                                                         1\n",
       "1                                                         1\n",
       "2                                                         1\n",
       "3                                                         1\n",
       "4                                                         1\n",
       "                                ...                        \n",
       "10337                                                     1\n",
       "10338                                                     1\n",
       "10339                                                     1\n",
       "10340                                                     1\n",
       "emp_id    0        1\n",
       "1        1\n",
       "2        1\n",
       "3        1\n",
       "4 ...\n",
       "Name: EmploymentStatus, Length: 10342, dtype: object"
      ]
     },
     "metadata": {},
     "execution_count": 22
    }
   ],
   "source": [
    "id_employment_status = survey_data[\"EmploymentStatus\"].apply(lambda x: employment_status_df[employment_status_df[\"emp_status\"] == x].index[0])\n",
    "\n",
    "id_employment_status[\"emp_id\"] = id_employment_status.astype(pd.Int64Dtype())\n",
    "id_employment_status"
   ]
  },
  {
   "source": [
    "# DataFrame how_many_companies"
   ],
   "cell_type": "markdown",
   "metadata": {}
  },
  {
   "cell_type": "code",
   "execution_count": 23,
   "metadata": {},
   "outputs": [
    {
     "output_type": "execute_result",
     "data": {
      "text/plain": [
       "Index(['mcp_id', 'mcp_many_companies'], dtype='object')"
      ]
     },
     "metadata": {},
     "execution_count": 23
    }
   ],
   "source": [
    "column_how_many_companies = pd.read_sql_query(\"select * from how_many_companies;\", engine).columns\n",
    "column_how_many_companies"
   ]
  },
  {
   "cell_type": "code",
   "execution_count": 24,
   "metadata": {},
   "outputs": [
    {
     "output_type": "execute_result",
     "data": {
      "text/plain": [
       "  mcp_many_companies  mcp_id\n",
       "1                  1       1\n",
       "2                  5       2\n",
       "3                  4       3\n",
       "4                  2       4\n",
       "5                  3       5\n",
       "6          6 or more       6\n",
       "7          Not Asked       7"
      ],
      "text/html": "<div>\n<style scoped>\n    .dataframe tbody tr th:only-of-type {\n        vertical-align: middle;\n    }\n\n    .dataframe tbody tr th {\n        vertical-align: top;\n    }\n\n    .dataframe thead th {\n        text-align: right;\n    }\n</style>\n<table border=\"1\" class=\"dataframe\">\n  <thead>\n    <tr style=\"text-align: right;\">\n      <th></th>\n      <th>mcp_many_companies</th>\n      <th>mcp_id</th>\n    </tr>\n  </thead>\n  <tbody>\n    <tr>\n      <th>1</th>\n      <td>1</td>\n      <td>1</td>\n    </tr>\n    <tr>\n      <th>2</th>\n      <td>5</td>\n      <td>2</td>\n    </tr>\n    <tr>\n      <th>3</th>\n      <td>4</td>\n      <td>3</td>\n    </tr>\n    <tr>\n      <th>4</th>\n      <td>2</td>\n      <td>4</td>\n    </tr>\n    <tr>\n      <th>5</th>\n      <td>3</td>\n      <td>5</td>\n    </tr>\n    <tr>\n      <th>6</th>\n      <td>6 or more</td>\n      <td>6</td>\n    </tr>\n    <tr>\n      <th>7</th>\n      <td>Not Asked</td>\n      <td>7</td>\n    </tr>\n  </tbody>\n</table>\n</div>"
     },
     "metadata": {},
     "execution_count": 24
    }
   ],
   "source": [
    "hmc_df = survey_data[\"HowManyCompanies\"]\n",
    "hmc_df.drop_duplicates(inplace=True)\n",
    "hmc_df = hmc_df.reset_index(drop=True)\n",
    "hmc_df.index += 1\n",
    "\n",
    "hmc_df = pd.DataFrame({\"mcp_many_companies\" : hmc_df})\n",
    "#hmc_df = hmc_df.rename_axis(index=\"mcp_id\")\n",
    "hmc_df[\"mcp_id\"] = hmc_df.index\n",
    "hmc_df"
   ]
  },
  {
   "cell_type": "code",
   "execution_count": 25,
   "metadata": {},
   "outputs": [],
   "source": [
    "id_hmc = survey_data[\"HowManyCompanies\"].apply(lambda x: hmc_df[hmc_df[\"mcp_many_companies\"] == x].index[0])\n",
    "\n",
    "sondage_item_df[\"mcp_id\"] = id_hmc.astype(pd.Int64Dtype())"
   ]
  },
  {
   "source": [
    "# DataFrame largest_city"
   ],
   "cell_type": "markdown",
   "metadata": {}
  },
  {
   "cell_type": "code",
   "execution_count": 26,
   "metadata": {},
   "outputs": [
    {
     "output_type": "execute_result",
     "data": {
      "text/plain": [
       "Index(['pop_id', 'pop_name'], dtype='object')"
      ]
     },
     "metadata": {},
     "execution_count": 26
    }
   ],
   "source": [
    "largest_city_companies = pd.read_sql_query(\"select * from largest_city;\", engine).columns\n",
    "largest_city_companies"
   ]
  },
  {
   "cell_type": "code",
   "execution_count": 27,
   "metadata": {},
   "outputs": [
    {
     "output_type": "execute_result",
     "data": {
      "text/plain": [
       "               pop_name  pop_id\n",
       "1      <= 20,000 (town)       1\n",
       "2      1M+ (metropolis)       2\n",
       "3  300K-1M (large city)       3\n",
       "4      100K-299K (city)       4\n",
       "5  20K-99K (large town)       5\n",
       "6             Not Asked       6"
      ],
      "text/html": "<div>\n<style scoped>\n    .dataframe tbody tr th:only-of-type {\n        vertical-align: middle;\n    }\n\n    .dataframe tbody tr th {\n        vertical-align: top;\n    }\n\n    .dataframe thead th {\n        text-align: right;\n    }\n</style>\n<table border=\"1\" class=\"dataframe\">\n  <thead>\n    <tr style=\"text-align: right;\">\n      <th></th>\n      <th>pop_name</th>\n      <th>pop_id</th>\n    </tr>\n  </thead>\n  <tbody>\n    <tr>\n      <th>1</th>\n      <td>&lt;= 20,000 (town)</td>\n      <td>1</td>\n    </tr>\n    <tr>\n      <th>2</th>\n      <td>1M+ (metropolis)</td>\n      <td>2</td>\n    </tr>\n    <tr>\n      <th>3</th>\n      <td>300K-1M (large city)</td>\n      <td>3</td>\n    </tr>\n    <tr>\n      <th>4</th>\n      <td>100K-299K (city)</td>\n      <td>4</td>\n    </tr>\n    <tr>\n      <th>5</th>\n      <td>20K-99K (large town)</td>\n      <td>5</td>\n    </tr>\n    <tr>\n      <th>6</th>\n      <td>Not Asked</td>\n      <td>6</td>\n    </tr>\n  </tbody>\n</table>\n</div>"
     },
     "metadata": {},
     "execution_count": 27
    }
   ],
   "source": [
    "largest_city_df = survey_data[\"PopulationOfLargestCityWithin20Miles\"]\n",
    "largest_city_df.drop_duplicates(inplace=True)\n",
    "largest_city_df = largest_city_df.reset_index(drop=True)\n",
    "largest_city_df.index += 1\n",
    "\n",
    "largest_city_df = pd.DataFrame({\"pop_name\" : largest_city_df})\n",
    "#largest_city_df = largest_city_df.rename_axis(index=\"pop_id\")\n",
    "largest_city_df[\"pop_id\"] = largest_city_df.index\n",
    "largest_city_df"
   ]
  },
  {
   "cell_type": "code",
   "execution_count": 28,
   "metadata": {},
   "outputs": [
    {
     "output_type": "execute_result",
     "data": {
      "text/plain": [
       "                    timestamp  salary_usd postal_code  years_with_db  \\\n",
       "0     2020-12-10 08:22:42.696     65000.0         NaN              4   \n",
       "1     2020-12-10 08:23:22.242    145000.0       76063             15   \n",
       "2     2020-12-10 08:23:37.909    105000.0       43240             12   \n",
       "3     2020-12-10 08:23:48.152     46482.0         NaN             10   \n",
       "4     2020-12-10 08:24:03.600     98800.0         468              5   \n",
       "...                       ...         ...         ...            ...   \n",
       "10336 2017-01-14 15:50:23.936     36549.0   Not Asked              3   \n",
       "10337 2017-01-15 01:01:21.212     65000.0   Not Asked              7   \n",
       "10338 2017-01-15 03:25:47.422     85000.0   Not Asked             17   \n",
       "10339 2017-01-15 03:37:35.305     90000.0   Not Asked              8   \n",
       "10340 2017-01-15 03:37:59.149     23000.0   Not Asked              4   \n",
       "\n",
       "      manage_staff  years_with_job other_people company_employee  \\\n",
       "0              Yes               4         None                2   \n",
       "1               No              25         None               74   \n",
       "2              Yes               6            1              500   \n",
       "3               No               5         None               35   \n",
       "4               No               5         None               50   \n",
       "...            ...             ...          ...              ...   \n",
       "10336           No               1            1        Not Asked   \n",
       "10337          Yes               3            5        Not Asked   \n",
       "10338           No              17            1        Not Asked   \n",
       "10339           No               3            1        Not Asked   \n",
       "10340           No               9            3        Not Asked   \n",
       "\n",
       "      database_servers education_computer  ...     oldest_version     gender  \\\n",
       "0            Not Asked          Not Asked  ...    SQL Server 2016       Male   \n",
       "1            Not Asked          Not Asked  ...    SQL Server 2014       Male   \n",
       "2            Not Asked          Not Asked  ...  SQL Server 2008R2       Male   \n",
       "3            Not Asked          Not Asked  ...    SQL Server 2012       Male   \n",
       "4            Not Asked          Not Asked  ...    SQL Server 2012       Male   \n",
       "...                ...                ...  ...                ...        ...   \n",
       "10336               42                NaN  ...          Not Asked  Not Asked   \n",
       "10337               40                Yes  ...          Not Asked  Not Asked   \n",
       "10338              200                 No  ...          Not Asked  Not Asked   \n",
       "10339               80                Yes  ...          Not Asked  Not Asked   \n",
       "10340               10                Yes  ...          Not Asked  Not Asked   \n",
       "\n",
       "      sgi_id cap_id cert_id  ctr_id  edu_id  sec_id  mcp_id  pop_id  \n",
       "0        NaN      1       1       1       1       1       1       1  \n",
       "1        NaN      1       1       2       1       1       2       2  \n",
       "2        NaN      1       1       2       1       1       3       3  \n",
       "3        NaN      1       1       3       1       2       4       3  \n",
       "4        NaN      1       1       2       1       1       1       4  \n",
       "...      ...    ...     ...     ...     ...     ...     ...     ...  \n",
       "10336    NaN      6       2       3       3       1       7       6  \n",
       "10337    NaN      6       2      73       2       1       7       6  \n",
       "10338    NaN      6       2      28       2       1       7       6  \n",
       "10339    NaN      6       3       2       4       1       7       6  \n",
       "10340    NaN      6       3      18       3       1       7       6  \n",
       "\n",
       "[10341 rows x 23 columns]"
      ],
      "text/html": "<div>\n<style scoped>\n    .dataframe tbody tr th:only-of-type {\n        vertical-align: middle;\n    }\n\n    .dataframe tbody tr th {\n        vertical-align: top;\n    }\n\n    .dataframe thead th {\n        text-align: right;\n    }\n</style>\n<table border=\"1\" class=\"dataframe\">\n  <thead>\n    <tr style=\"text-align: right;\">\n      <th></th>\n      <th>timestamp</th>\n      <th>salary_usd</th>\n      <th>postal_code</th>\n      <th>years_with_db</th>\n      <th>manage_staff</th>\n      <th>years_with_job</th>\n      <th>other_people</th>\n      <th>company_employee</th>\n      <th>database_servers</th>\n      <th>education_computer</th>\n      <th>...</th>\n      <th>oldest_version</th>\n      <th>gender</th>\n      <th>sgi_id</th>\n      <th>cap_id</th>\n      <th>cert_id</th>\n      <th>ctr_id</th>\n      <th>edu_id</th>\n      <th>sec_id</th>\n      <th>mcp_id</th>\n      <th>pop_id</th>\n    </tr>\n  </thead>\n  <tbody>\n    <tr>\n      <th>0</th>\n      <td>2020-12-10 08:22:42.696</td>\n      <td>65000.0</td>\n      <td>NaN</td>\n      <td>4</td>\n      <td>Yes</td>\n      <td>4</td>\n      <td>None</td>\n      <td>2</td>\n      <td>Not Asked</td>\n      <td>Not Asked</td>\n      <td>...</td>\n      <td>SQL Server 2016</td>\n      <td>Male</td>\n      <td>NaN</td>\n      <td>1</td>\n      <td>1</td>\n      <td>1</td>\n      <td>1</td>\n      <td>1</td>\n      <td>1</td>\n      <td>1</td>\n    </tr>\n    <tr>\n      <th>1</th>\n      <td>2020-12-10 08:23:22.242</td>\n      <td>145000.0</td>\n      <td>76063</td>\n      <td>15</td>\n      <td>No</td>\n      <td>25</td>\n      <td>None</td>\n      <td>74</td>\n      <td>Not Asked</td>\n      <td>Not Asked</td>\n      <td>...</td>\n      <td>SQL Server 2014</td>\n      <td>Male</td>\n      <td>NaN</td>\n      <td>1</td>\n      <td>1</td>\n      <td>2</td>\n      <td>1</td>\n      <td>1</td>\n      <td>2</td>\n      <td>2</td>\n    </tr>\n    <tr>\n      <th>2</th>\n      <td>2020-12-10 08:23:37.909</td>\n      <td>105000.0</td>\n      <td>43240</td>\n      <td>12</td>\n      <td>Yes</td>\n      <td>6</td>\n      <td>1</td>\n      <td>500</td>\n      <td>Not Asked</td>\n      <td>Not Asked</td>\n      <td>...</td>\n      <td>SQL Server 2008R2</td>\n      <td>Male</td>\n      <td>NaN</td>\n      <td>1</td>\n      <td>1</td>\n      <td>2</td>\n      <td>1</td>\n      <td>1</td>\n      <td>3</td>\n      <td>3</td>\n    </tr>\n    <tr>\n      <th>3</th>\n      <td>2020-12-10 08:23:48.152</td>\n      <td>46482.0</td>\n      <td>NaN</td>\n      <td>10</td>\n      <td>No</td>\n      <td>5</td>\n      <td>None</td>\n      <td>35</td>\n      <td>Not Asked</td>\n      <td>Not Asked</td>\n      <td>...</td>\n      <td>SQL Server 2012</td>\n      <td>Male</td>\n      <td>NaN</td>\n      <td>1</td>\n      <td>1</td>\n      <td>3</td>\n      <td>1</td>\n      <td>2</td>\n      <td>4</td>\n      <td>3</td>\n    </tr>\n    <tr>\n      <th>4</th>\n      <td>2020-12-10 08:24:03.600</td>\n      <td>98800.0</td>\n      <td>468</td>\n      <td>5</td>\n      <td>No</td>\n      <td>5</td>\n      <td>None</td>\n      <td>50</td>\n      <td>Not Asked</td>\n      <td>Not Asked</td>\n      <td>...</td>\n      <td>SQL Server 2012</td>\n      <td>Male</td>\n      <td>NaN</td>\n      <td>1</td>\n      <td>1</td>\n      <td>2</td>\n      <td>1</td>\n      <td>1</td>\n      <td>1</td>\n      <td>4</td>\n    </tr>\n    <tr>\n      <th>...</th>\n      <td>...</td>\n      <td>...</td>\n      <td>...</td>\n      <td>...</td>\n      <td>...</td>\n      <td>...</td>\n      <td>...</td>\n      <td>...</td>\n      <td>...</td>\n      <td>...</td>\n      <td>...</td>\n      <td>...</td>\n      <td>...</td>\n      <td>...</td>\n      <td>...</td>\n      <td>...</td>\n      <td>...</td>\n      <td>...</td>\n      <td>...</td>\n      <td>...</td>\n      <td>...</td>\n    </tr>\n    <tr>\n      <th>10336</th>\n      <td>2017-01-14 15:50:23.936</td>\n      <td>36549.0</td>\n      <td>Not Asked</td>\n      <td>3</td>\n      <td>No</td>\n      <td>1</td>\n      <td>1</td>\n      <td>Not Asked</td>\n      <td>42</td>\n      <td>NaN</td>\n      <td>...</td>\n      <td>Not Asked</td>\n      <td>Not Asked</td>\n      <td>NaN</td>\n      <td>6</td>\n      <td>2</td>\n      <td>3</td>\n      <td>3</td>\n      <td>1</td>\n      <td>7</td>\n      <td>6</td>\n    </tr>\n    <tr>\n      <th>10337</th>\n      <td>2017-01-15 01:01:21.212</td>\n      <td>65000.0</td>\n      <td>Not Asked</td>\n      <td>7</td>\n      <td>Yes</td>\n      <td>3</td>\n      <td>5</td>\n      <td>Not Asked</td>\n      <td>40</td>\n      <td>Yes</td>\n      <td>...</td>\n      <td>Not Asked</td>\n      <td>Not Asked</td>\n      <td>NaN</td>\n      <td>6</td>\n      <td>2</td>\n      <td>73</td>\n      <td>2</td>\n      <td>1</td>\n      <td>7</td>\n      <td>6</td>\n    </tr>\n    <tr>\n      <th>10338</th>\n      <td>2017-01-15 03:25:47.422</td>\n      <td>85000.0</td>\n      <td>Not Asked</td>\n      <td>17</td>\n      <td>No</td>\n      <td>17</td>\n      <td>1</td>\n      <td>Not Asked</td>\n      <td>200</td>\n      <td>No</td>\n      <td>...</td>\n      <td>Not Asked</td>\n      <td>Not Asked</td>\n      <td>NaN</td>\n      <td>6</td>\n      <td>2</td>\n      <td>28</td>\n      <td>2</td>\n      <td>1</td>\n      <td>7</td>\n      <td>6</td>\n    </tr>\n    <tr>\n      <th>10339</th>\n      <td>2017-01-15 03:37:35.305</td>\n      <td>90000.0</td>\n      <td>Not Asked</td>\n      <td>8</td>\n      <td>No</td>\n      <td>3</td>\n      <td>1</td>\n      <td>Not Asked</td>\n      <td>80</td>\n      <td>Yes</td>\n      <td>...</td>\n      <td>Not Asked</td>\n      <td>Not Asked</td>\n      <td>NaN</td>\n      <td>6</td>\n      <td>3</td>\n      <td>2</td>\n      <td>4</td>\n      <td>1</td>\n      <td>7</td>\n      <td>6</td>\n    </tr>\n    <tr>\n      <th>10340</th>\n      <td>2017-01-15 03:37:59.149</td>\n      <td>23000.0</td>\n      <td>Not Asked</td>\n      <td>4</td>\n      <td>No</td>\n      <td>9</td>\n      <td>3</td>\n      <td>Not Asked</td>\n      <td>10</td>\n      <td>Yes</td>\n      <td>...</td>\n      <td>Not Asked</td>\n      <td>Not Asked</td>\n      <td>NaN</td>\n      <td>6</td>\n      <td>3</td>\n      <td>18</td>\n      <td>3</td>\n      <td>1</td>\n      <td>7</td>\n      <td>6</td>\n    </tr>\n  </tbody>\n</table>\n<p>10341 rows × 23 columns</p>\n</div>"
     },
     "metadata": {},
     "execution_count": 28
    }
   ],
   "source": [
    "id_lc = survey_data[\"PopulationOfLargestCityWithin20Miles\"].apply(lambda x: largest_city_df[largest_city_df[\"pop_name\"] == x].index[0])\n",
    "\n",
    "sondage_item_df[\"pop_id\"] = id_lc.astype(pd.Int64Dtype())\n",
    "sondage_item_df"
   ]
  },
  {
   "source": [
    "# DataFrame looking_job"
   ],
   "cell_type": "markdown",
   "metadata": {}
  },
  {
   "cell_type": "code",
   "execution_count": 29,
   "metadata": {},
   "outputs": [
    {
     "output_type": "execute_result",
     "data": {
      "text/plain": [
       "Index(['look_id', 'look_job'], dtype='object')"
      ]
     },
     "metadata": {},
     "execution_count": 29
    }
   ],
   "source": [
    "looking_job_companies = pd.read_sql_query(\"select * from looking_job;\", engine).columns\n",
    "looking_job_companies"
   ]
  },
  {
   "cell_type": "code",
   "execution_count": 30,
   "metadata": {},
   "outputs": [
    {
     "output_type": "execute_result",
     "data": {
      "text/plain": [
       "                                   look_job  look_id\n",
       "1                                 Not Asked        1\n",
       "2                                        No        2\n",
       "3    Yes, but only passively (just curious)        3\n",
       "4  Yes, actively looking for something else        4"
      ],
      "text/html": "<div>\n<style scoped>\n    .dataframe tbody tr th:only-of-type {\n        vertical-align: middle;\n    }\n\n    .dataframe tbody tr th {\n        vertical-align: top;\n    }\n\n    .dataframe thead th {\n        text-align: right;\n    }\n</style>\n<table border=\"1\" class=\"dataframe\">\n  <thead>\n    <tr style=\"text-align: right;\">\n      <th></th>\n      <th>look_job</th>\n      <th>look_id</th>\n    </tr>\n  </thead>\n  <tbody>\n    <tr>\n      <th>1</th>\n      <td>Not Asked</td>\n      <td>1</td>\n    </tr>\n    <tr>\n      <th>2</th>\n      <td>No</td>\n      <td>2</td>\n    </tr>\n    <tr>\n      <th>3</th>\n      <td>Yes, but only passively (just curious)</td>\n      <td>3</td>\n    </tr>\n    <tr>\n      <th>4</th>\n      <td>Yes, actively looking for something else</td>\n      <td>4</td>\n    </tr>\n  </tbody>\n</table>\n</div>"
     },
     "metadata": {},
     "execution_count": 30
    }
   ],
   "source": [
    "looking_job_df = survey_data[\"LookingForAnotherJob\"]\n",
    "looking_job_df.drop_duplicates(inplace=True)\n",
    "looking_job_df = looking_job_df.reset_index(drop=True)\n",
    "looking_job_df.index += 1\n",
    "\n",
    "looking_job_df = pd.DataFrame({\"look_job\" : looking_job_df})\n",
    "#looking_job_df = looking_job_df.rename_axis(index=\"look_id\")\n",
    "looking_job_df[\"look_id\"] = looking_job_df.index\n",
    "looking_job_df"
   ]
  },
  {
   "cell_type": "code",
   "execution_count": 31,
   "metadata": {},
   "outputs": [
    {
     "output_type": "execute_result",
     "data": {
      "text/plain": [
       "                    timestamp  salary_usd postal_code  years_with_db  \\\n",
       "0     2020-12-10 08:22:42.696     65000.0         NaN              4   \n",
       "1     2020-12-10 08:23:22.242    145000.0       76063             15   \n",
       "2     2020-12-10 08:23:37.909    105000.0       43240             12   \n",
       "3     2020-12-10 08:23:48.152     46482.0         NaN             10   \n",
       "4     2020-12-10 08:24:03.600     98800.0         468              5   \n",
       "...                       ...         ...         ...            ...   \n",
       "10336 2017-01-14 15:50:23.936     36549.0   Not Asked              3   \n",
       "10337 2017-01-15 01:01:21.212     65000.0   Not Asked              7   \n",
       "10338 2017-01-15 03:25:47.422     85000.0   Not Asked             17   \n",
       "10339 2017-01-15 03:37:35.305     90000.0   Not Asked              8   \n",
       "10340 2017-01-15 03:37:59.149     23000.0   Not Asked              4   \n",
       "\n",
       "      manage_staff  years_with_job other_people company_employee  \\\n",
       "0              Yes               4         None                2   \n",
       "1               No              25         None               74   \n",
       "2              Yes               6            1              500   \n",
       "3               No               5         None               35   \n",
       "4               No               5         None               50   \n",
       "...            ...             ...          ...              ...   \n",
       "10336           No               1            1        Not Asked   \n",
       "10337          Yes               3            5        Not Asked   \n",
       "10338           No              17            1        Not Asked   \n",
       "10339           No               3            1        Not Asked   \n",
       "10340           No               9            3        Not Asked   \n",
       "\n",
       "      database_servers education_computer  ...     gender sgi_id cap_id  \\\n",
       "0            Not Asked          Not Asked  ...       Male    NaN      1   \n",
       "1            Not Asked          Not Asked  ...       Male    NaN      1   \n",
       "2            Not Asked          Not Asked  ...       Male    NaN      1   \n",
       "3            Not Asked          Not Asked  ...       Male    NaN      1   \n",
       "4            Not Asked          Not Asked  ...       Male    NaN      1   \n",
       "...                ...                ...  ...        ...    ...    ...   \n",
       "10336               42                NaN  ...  Not Asked    NaN      6   \n",
       "10337               40                Yes  ...  Not Asked    NaN      6   \n",
       "10338              200                 No  ...  Not Asked    NaN      6   \n",
       "10339               80                Yes  ...  Not Asked    NaN      6   \n",
       "10340               10                Yes  ...  Not Asked    NaN      6   \n",
       "\n",
       "      cert_id ctr_id  edu_id  sec_id  mcp_id  pop_id  look_id  \n",
       "0           1      1       1       1       1       1        1  \n",
       "1           1      2       1       1       2       2        1  \n",
       "2           1      2       1       1       3       3        1  \n",
       "3           1      3       1       2       4       3        1  \n",
       "4           1      2       1       1       1       4        1  \n",
       "...       ...    ...     ...     ...     ...     ...      ...  \n",
       "10336       2      3       3       1       7       6        2  \n",
       "10337       2     73       2       1       7       6        3  \n",
       "10338       2     28       2       1       7       6        3  \n",
       "10339       3      2       4       1       7       6        4  \n",
       "10340       3     18       3       1       7       6        3  \n",
       "\n",
       "[10341 rows x 24 columns]"
      ],
      "text/html": "<div>\n<style scoped>\n    .dataframe tbody tr th:only-of-type {\n        vertical-align: middle;\n    }\n\n    .dataframe tbody tr th {\n        vertical-align: top;\n    }\n\n    .dataframe thead th {\n        text-align: right;\n    }\n</style>\n<table border=\"1\" class=\"dataframe\">\n  <thead>\n    <tr style=\"text-align: right;\">\n      <th></th>\n      <th>timestamp</th>\n      <th>salary_usd</th>\n      <th>postal_code</th>\n      <th>years_with_db</th>\n      <th>manage_staff</th>\n      <th>years_with_job</th>\n      <th>other_people</th>\n      <th>company_employee</th>\n      <th>database_servers</th>\n      <th>education_computer</th>\n      <th>...</th>\n      <th>gender</th>\n      <th>sgi_id</th>\n      <th>cap_id</th>\n      <th>cert_id</th>\n      <th>ctr_id</th>\n      <th>edu_id</th>\n      <th>sec_id</th>\n      <th>mcp_id</th>\n      <th>pop_id</th>\n      <th>look_id</th>\n    </tr>\n  </thead>\n  <tbody>\n    <tr>\n      <th>0</th>\n      <td>2020-12-10 08:22:42.696</td>\n      <td>65000.0</td>\n      <td>NaN</td>\n      <td>4</td>\n      <td>Yes</td>\n      <td>4</td>\n      <td>None</td>\n      <td>2</td>\n      <td>Not Asked</td>\n      <td>Not Asked</td>\n      <td>...</td>\n      <td>Male</td>\n      <td>NaN</td>\n      <td>1</td>\n      <td>1</td>\n      <td>1</td>\n      <td>1</td>\n      <td>1</td>\n      <td>1</td>\n      <td>1</td>\n      <td>1</td>\n    </tr>\n    <tr>\n      <th>1</th>\n      <td>2020-12-10 08:23:22.242</td>\n      <td>145000.0</td>\n      <td>76063</td>\n      <td>15</td>\n      <td>No</td>\n      <td>25</td>\n      <td>None</td>\n      <td>74</td>\n      <td>Not Asked</td>\n      <td>Not Asked</td>\n      <td>...</td>\n      <td>Male</td>\n      <td>NaN</td>\n      <td>1</td>\n      <td>1</td>\n      <td>2</td>\n      <td>1</td>\n      <td>1</td>\n      <td>2</td>\n      <td>2</td>\n      <td>1</td>\n    </tr>\n    <tr>\n      <th>2</th>\n      <td>2020-12-10 08:23:37.909</td>\n      <td>105000.0</td>\n      <td>43240</td>\n      <td>12</td>\n      <td>Yes</td>\n      <td>6</td>\n      <td>1</td>\n      <td>500</td>\n      <td>Not Asked</td>\n      <td>Not Asked</td>\n      <td>...</td>\n      <td>Male</td>\n      <td>NaN</td>\n      <td>1</td>\n      <td>1</td>\n      <td>2</td>\n      <td>1</td>\n      <td>1</td>\n      <td>3</td>\n      <td>3</td>\n      <td>1</td>\n    </tr>\n    <tr>\n      <th>3</th>\n      <td>2020-12-10 08:23:48.152</td>\n      <td>46482.0</td>\n      <td>NaN</td>\n      <td>10</td>\n      <td>No</td>\n      <td>5</td>\n      <td>None</td>\n      <td>35</td>\n      <td>Not Asked</td>\n      <td>Not Asked</td>\n      <td>...</td>\n      <td>Male</td>\n      <td>NaN</td>\n      <td>1</td>\n      <td>1</td>\n      <td>3</td>\n      <td>1</td>\n      <td>2</td>\n      <td>4</td>\n      <td>3</td>\n      <td>1</td>\n    </tr>\n    <tr>\n      <th>4</th>\n      <td>2020-12-10 08:24:03.600</td>\n      <td>98800.0</td>\n      <td>468</td>\n      <td>5</td>\n      <td>No</td>\n      <td>5</td>\n      <td>None</td>\n      <td>50</td>\n      <td>Not Asked</td>\n      <td>Not Asked</td>\n      <td>...</td>\n      <td>Male</td>\n      <td>NaN</td>\n      <td>1</td>\n      <td>1</td>\n      <td>2</td>\n      <td>1</td>\n      <td>1</td>\n      <td>1</td>\n      <td>4</td>\n      <td>1</td>\n    </tr>\n    <tr>\n      <th>...</th>\n      <td>...</td>\n      <td>...</td>\n      <td>...</td>\n      <td>...</td>\n      <td>...</td>\n      <td>...</td>\n      <td>...</td>\n      <td>...</td>\n      <td>...</td>\n      <td>...</td>\n      <td>...</td>\n      <td>...</td>\n      <td>...</td>\n      <td>...</td>\n      <td>...</td>\n      <td>...</td>\n      <td>...</td>\n      <td>...</td>\n      <td>...</td>\n      <td>...</td>\n      <td>...</td>\n    </tr>\n    <tr>\n      <th>10336</th>\n      <td>2017-01-14 15:50:23.936</td>\n      <td>36549.0</td>\n      <td>Not Asked</td>\n      <td>3</td>\n      <td>No</td>\n      <td>1</td>\n      <td>1</td>\n      <td>Not Asked</td>\n      <td>42</td>\n      <td>NaN</td>\n      <td>...</td>\n      <td>Not Asked</td>\n      <td>NaN</td>\n      <td>6</td>\n      <td>2</td>\n      <td>3</td>\n      <td>3</td>\n      <td>1</td>\n      <td>7</td>\n      <td>6</td>\n      <td>2</td>\n    </tr>\n    <tr>\n      <th>10337</th>\n      <td>2017-01-15 01:01:21.212</td>\n      <td>65000.0</td>\n      <td>Not Asked</td>\n      <td>7</td>\n      <td>Yes</td>\n      <td>3</td>\n      <td>5</td>\n      <td>Not Asked</td>\n      <td>40</td>\n      <td>Yes</td>\n      <td>...</td>\n      <td>Not Asked</td>\n      <td>NaN</td>\n      <td>6</td>\n      <td>2</td>\n      <td>73</td>\n      <td>2</td>\n      <td>1</td>\n      <td>7</td>\n      <td>6</td>\n      <td>3</td>\n    </tr>\n    <tr>\n      <th>10338</th>\n      <td>2017-01-15 03:25:47.422</td>\n      <td>85000.0</td>\n      <td>Not Asked</td>\n      <td>17</td>\n      <td>No</td>\n      <td>17</td>\n      <td>1</td>\n      <td>Not Asked</td>\n      <td>200</td>\n      <td>No</td>\n      <td>...</td>\n      <td>Not Asked</td>\n      <td>NaN</td>\n      <td>6</td>\n      <td>2</td>\n      <td>28</td>\n      <td>2</td>\n      <td>1</td>\n      <td>7</td>\n      <td>6</td>\n      <td>3</td>\n    </tr>\n    <tr>\n      <th>10339</th>\n      <td>2017-01-15 03:37:35.305</td>\n      <td>90000.0</td>\n      <td>Not Asked</td>\n      <td>8</td>\n      <td>No</td>\n      <td>3</td>\n      <td>1</td>\n      <td>Not Asked</td>\n      <td>80</td>\n      <td>Yes</td>\n      <td>...</td>\n      <td>Not Asked</td>\n      <td>NaN</td>\n      <td>6</td>\n      <td>3</td>\n      <td>2</td>\n      <td>4</td>\n      <td>1</td>\n      <td>7</td>\n      <td>6</td>\n      <td>4</td>\n    </tr>\n    <tr>\n      <th>10340</th>\n      <td>2017-01-15 03:37:59.149</td>\n      <td>23000.0</td>\n      <td>Not Asked</td>\n      <td>4</td>\n      <td>No</td>\n      <td>9</td>\n      <td>3</td>\n      <td>Not Asked</td>\n      <td>10</td>\n      <td>Yes</td>\n      <td>...</td>\n      <td>Not Asked</td>\n      <td>NaN</td>\n      <td>6</td>\n      <td>3</td>\n      <td>18</td>\n      <td>3</td>\n      <td>1</td>\n      <td>7</td>\n      <td>6</td>\n      <td>3</td>\n    </tr>\n  </tbody>\n</table>\n<p>10341 rows × 24 columns</p>\n</div>"
     },
     "metadata": {},
     "execution_count": 31
    }
   ],
   "source": [
    "id_looking_job = survey_data[\"LookingForAnotherJob\"].apply(lambda x: looking_job_df[looking_job_df[\"look_job\"] == x].index[0])\n",
    "\n",
    "sondage_item_df[\"look_id\"] = id_looking_job.astype(pd.Int64Dtype())\n",
    "sondage_item_df"
   ]
  },
  {
   "source": [
    "# DataFrame sondage"
   ],
   "cell_type": "markdown",
   "metadata": {}
  },
  {
   "cell_type": "code",
   "execution_count": 32,
   "metadata": {},
   "outputs": [
    {
     "output_type": "execute_result",
     "data": {
      "text/plain": [
       "Index(['sdg_id', 'sdg_year'], dtype='object')"
      ]
     },
     "metadata": {},
     "execution_count": 32
    }
   ],
   "source": [
    "sondage_columns = pd.read_sql_query(\"select * from sondage;\", engine).columns\n",
    "sondage_columns"
   ]
  },
  {
   "cell_type": "code",
   "execution_count": 33,
   "metadata": {},
   "outputs": [
    {
     "output_type": "execute_result",
     "data": {
      "text/plain": [
       "   sdg_year  sdg_id\n",
       "1      2021       1\n",
       "2      2020       2\n",
       "3      2019       3\n",
       "4      2018       4\n",
       "5      2017       5"
      ],
      "text/html": "<div>\n<style scoped>\n    .dataframe tbody tr th:only-of-type {\n        vertical-align: middle;\n    }\n\n    .dataframe tbody tr th {\n        vertical-align: top;\n    }\n\n    .dataframe thead th {\n        text-align: right;\n    }\n</style>\n<table border=\"1\" class=\"dataframe\">\n  <thead>\n    <tr style=\"text-align: right;\">\n      <th></th>\n      <th>sdg_year</th>\n      <th>sdg_id</th>\n    </tr>\n  </thead>\n  <tbody>\n    <tr>\n      <th>1</th>\n      <td>2021</td>\n      <td>1</td>\n    </tr>\n    <tr>\n      <th>2</th>\n      <td>2020</td>\n      <td>2</td>\n    </tr>\n    <tr>\n      <th>3</th>\n      <td>2019</td>\n      <td>3</td>\n    </tr>\n    <tr>\n      <th>4</th>\n      <td>2018</td>\n      <td>4</td>\n    </tr>\n    <tr>\n      <th>5</th>\n      <td>2017</td>\n      <td>5</td>\n    </tr>\n  </tbody>\n</table>\n</div>"
     },
     "metadata": {},
     "execution_count": 33
    }
   ],
   "source": [
    "sondage_df = survey_data[\"Survey Year\"]\n",
    "sondage_df.drop_duplicates(inplace=True)\n",
    "sondage_df = sondage_df.reset_index(drop=True)\n",
    "sondage_df.index += 1\n",
    "\n",
    "sondage_df = pd.DataFrame({\"sdg_year\" : sondage_df})\n",
    "#sondage_df = sondage_df.rename_axis(index=\"sdg_id\")\n",
    "sondage_df[\"sdg_id\"] = range(1, sondage_df.shape[0] + 1)\n",
    "sondage_df"
   ]
  },
  {
   "cell_type": "code",
   "execution_count": 34,
   "metadata": {},
   "outputs": [
    {
     "output_type": "execute_result",
     "data": {
      "text/plain": [
       "                    timestamp  salary_usd postal_code  years_with_db  \\\n",
       "0     2020-12-10 08:22:42.696     65000.0         NaN              4   \n",
       "1     2020-12-10 08:23:22.242    145000.0       76063             15   \n",
       "2     2020-12-10 08:23:37.909    105000.0       43240             12   \n",
       "3     2020-12-10 08:23:48.152     46482.0         NaN             10   \n",
       "4     2020-12-10 08:24:03.600     98800.0         468              5   \n",
       "...                       ...         ...         ...            ...   \n",
       "10336 2017-01-14 15:50:23.936     36549.0   Not Asked              3   \n",
       "10337 2017-01-15 01:01:21.212     65000.0   Not Asked              7   \n",
       "10338 2017-01-15 03:25:47.422     85000.0   Not Asked             17   \n",
       "10339 2017-01-15 03:37:35.305     90000.0   Not Asked              8   \n",
       "10340 2017-01-15 03:37:59.149     23000.0   Not Asked              4   \n",
       "\n",
       "      manage_staff  years_with_job other_people company_employee  \\\n",
       "0              Yes               4         None                2   \n",
       "1               No              25         None               74   \n",
       "2              Yes               6            1              500   \n",
       "3               No               5         None               35   \n",
       "4               No               5         None               50   \n",
       "...            ...             ...          ...              ...   \n",
       "10336           No               1            1        Not Asked   \n",
       "10337          Yes               3            5        Not Asked   \n",
       "10338           No              17            1        Not Asked   \n",
       "10339           No               3            1        Not Asked   \n",
       "10340           No               9            3        Not Asked   \n",
       "\n",
       "      database_servers education_computer  ... sgi_id cap_id cert_id ctr_id  \\\n",
       "0            Not Asked          Not Asked  ...    NaN      1       1      1   \n",
       "1            Not Asked          Not Asked  ...    NaN      1       1      2   \n",
       "2            Not Asked          Not Asked  ...    NaN      1       1      2   \n",
       "3            Not Asked          Not Asked  ...    NaN      1       1      3   \n",
       "4            Not Asked          Not Asked  ...    NaN      1       1      2   \n",
       "...                ...                ...  ...    ...    ...     ...    ...   \n",
       "10336               42                NaN  ...    NaN      6       2      3   \n",
       "10337               40                Yes  ...    NaN      6       2     73   \n",
       "10338              200                 No  ...    NaN      6       2     28   \n",
       "10339               80                Yes  ...    NaN      6       3      2   \n",
       "10340               10                Yes  ...    NaN      6       3     18   \n",
       "\n",
       "      edu_id  sec_id  mcp_id  pop_id  look_id  sdg_id  \n",
       "0          1       1       1       1        1       1  \n",
       "1          1       1       2       2        1       1  \n",
       "2          1       1       3       3        1       1  \n",
       "3          1       2       4       3        1       1  \n",
       "4          1       1       1       4        1       1  \n",
       "...      ...     ...     ...     ...      ...     ...  \n",
       "10336      3       1       7       6        2       5  \n",
       "10337      2       1       7       6        3       5  \n",
       "10338      2       1       7       6        3       5  \n",
       "10339      4       1       7       6        4       5  \n",
       "10340      3       1       7       6        3       5  \n",
       "\n",
       "[10341 rows x 25 columns]"
      ],
      "text/html": "<div>\n<style scoped>\n    .dataframe tbody tr th:only-of-type {\n        vertical-align: middle;\n    }\n\n    .dataframe tbody tr th {\n        vertical-align: top;\n    }\n\n    .dataframe thead th {\n        text-align: right;\n    }\n</style>\n<table border=\"1\" class=\"dataframe\">\n  <thead>\n    <tr style=\"text-align: right;\">\n      <th></th>\n      <th>timestamp</th>\n      <th>salary_usd</th>\n      <th>postal_code</th>\n      <th>years_with_db</th>\n      <th>manage_staff</th>\n      <th>years_with_job</th>\n      <th>other_people</th>\n      <th>company_employee</th>\n      <th>database_servers</th>\n      <th>education_computer</th>\n      <th>...</th>\n      <th>sgi_id</th>\n      <th>cap_id</th>\n      <th>cert_id</th>\n      <th>ctr_id</th>\n      <th>edu_id</th>\n      <th>sec_id</th>\n      <th>mcp_id</th>\n      <th>pop_id</th>\n      <th>look_id</th>\n      <th>sdg_id</th>\n    </tr>\n  </thead>\n  <tbody>\n    <tr>\n      <th>0</th>\n      <td>2020-12-10 08:22:42.696</td>\n      <td>65000.0</td>\n      <td>NaN</td>\n      <td>4</td>\n      <td>Yes</td>\n      <td>4</td>\n      <td>None</td>\n      <td>2</td>\n      <td>Not Asked</td>\n      <td>Not Asked</td>\n      <td>...</td>\n      <td>NaN</td>\n      <td>1</td>\n      <td>1</td>\n      <td>1</td>\n      <td>1</td>\n      <td>1</td>\n      <td>1</td>\n      <td>1</td>\n      <td>1</td>\n      <td>1</td>\n    </tr>\n    <tr>\n      <th>1</th>\n      <td>2020-12-10 08:23:22.242</td>\n      <td>145000.0</td>\n      <td>76063</td>\n      <td>15</td>\n      <td>No</td>\n      <td>25</td>\n      <td>None</td>\n      <td>74</td>\n      <td>Not Asked</td>\n      <td>Not Asked</td>\n      <td>...</td>\n      <td>NaN</td>\n      <td>1</td>\n      <td>1</td>\n      <td>2</td>\n      <td>1</td>\n      <td>1</td>\n      <td>2</td>\n      <td>2</td>\n      <td>1</td>\n      <td>1</td>\n    </tr>\n    <tr>\n      <th>2</th>\n      <td>2020-12-10 08:23:37.909</td>\n      <td>105000.0</td>\n      <td>43240</td>\n      <td>12</td>\n      <td>Yes</td>\n      <td>6</td>\n      <td>1</td>\n      <td>500</td>\n      <td>Not Asked</td>\n      <td>Not Asked</td>\n      <td>...</td>\n      <td>NaN</td>\n      <td>1</td>\n      <td>1</td>\n      <td>2</td>\n      <td>1</td>\n      <td>1</td>\n      <td>3</td>\n      <td>3</td>\n      <td>1</td>\n      <td>1</td>\n    </tr>\n    <tr>\n      <th>3</th>\n      <td>2020-12-10 08:23:48.152</td>\n      <td>46482.0</td>\n      <td>NaN</td>\n      <td>10</td>\n      <td>No</td>\n      <td>5</td>\n      <td>None</td>\n      <td>35</td>\n      <td>Not Asked</td>\n      <td>Not Asked</td>\n      <td>...</td>\n      <td>NaN</td>\n      <td>1</td>\n      <td>1</td>\n      <td>3</td>\n      <td>1</td>\n      <td>2</td>\n      <td>4</td>\n      <td>3</td>\n      <td>1</td>\n      <td>1</td>\n    </tr>\n    <tr>\n      <th>4</th>\n      <td>2020-12-10 08:24:03.600</td>\n      <td>98800.0</td>\n      <td>468</td>\n      <td>5</td>\n      <td>No</td>\n      <td>5</td>\n      <td>None</td>\n      <td>50</td>\n      <td>Not Asked</td>\n      <td>Not Asked</td>\n      <td>...</td>\n      <td>NaN</td>\n      <td>1</td>\n      <td>1</td>\n      <td>2</td>\n      <td>1</td>\n      <td>1</td>\n      <td>1</td>\n      <td>4</td>\n      <td>1</td>\n      <td>1</td>\n    </tr>\n    <tr>\n      <th>...</th>\n      <td>...</td>\n      <td>...</td>\n      <td>...</td>\n      <td>...</td>\n      <td>...</td>\n      <td>...</td>\n      <td>...</td>\n      <td>...</td>\n      <td>...</td>\n      <td>...</td>\n      <td>...</td>\n      <td>...</td>\n      <td>...</td>\n      <td>...</td>\n      <td>...</td>\n      <td>...</td>\n      <td>...</td>\n      <td>...</td>\n      <td>...</td>\n      <td>...</td>\n      <td>...</td>\n    </tr>\n    <tr>\n      <th>10336</th>\n      <td>2017-01-14 15:50:23.936</td>\n      <td>36549.0</td>\n      <td>Not Asked</td>\n      <td>3</td>\n      <td>No</td>\n      <td>1</td>\n      <td>1</td>\n      <td>Not Asked</td>\n      <td>42</td>\n      <td>NaN</td>\n      <td>...</td>\n      <td>NaN</td>\n      <td>6</td>\n      <td>2</td>\n      <td>3</td>\n      <td>3</td>\n      <td>1</td>\n      <td>7</td>\n      <td>6</td>\n      <td>2</td>\n      <td>5</td>\n    </tr>\n    <tr>\n      <th>10337</th>\n      <td>2017-01-15 01:01:21.212</td>\n      <td>65000.0</td>\n      <td>Not Asked</td>\n      <td>7</td>\n      <td>Yes</td>\n      <td>3</td>\n      <td>5</td>\n      <td>Not Asked</td>\n      <td>40</td>\n      <td>Yes</td>\n      <td>...</td>\n      <td>NaN</td>\n      <td>6</td>\n      <td>2</td>\n      <td>73</td>\n      <td>2</td>\n      <td>1</td>\n      <td>7</td>\n      <td>6</td>\n      <td>3</td>\n      <td>5</td>\n    </tr>\n    <tr>\n      <th>10338</th>\n      <td>2017-01-15 03:25:47.422</td>\n      <td>85000.0</td>\n      <td>Not Asked</td>\n      <td>17</td>\n      <td>No</td>\n      <td>17</td>\n      <td>1</td>\n      <td>Not Asked</td>\n      <td>200</td>\n      <td>No</td>\n      <td>...</td>\n      <td>NaN</td>\n      <td>6</td>\n      <td>2</td>\n      <td>28</td>\n      <td>2</td>\n      <td>1</td>\n      <td>7</td>\n      <td>6</td>\n      <td>3</td>\n      <td>5</td>\n    </tr>\n    <tr>\n      <th>10339</th>\n      <td>2017-01-15 03:37:35.305</td>\n      <td>90000.0</td>\n      <td>Not Asked</td>\n      <td>8</td>\n      <td>No</td>\n      <td>3</td>\n      <td>1</td>\n      <td>Not Asked</td>\n      <td>80</td>\n      <td>Yes</td>\n      <td>...</td>\n      <td>NaN</td>\n      <td>6</td>\n      <td>3</td>\n      <td>2</td>\n      <td>4</td>\n      <td>1</td>\n      <td>7</td>\n      <td>6</td>\n      <td>4</td>\n      <td>5</td>\n    </tr>\n    <tr>\n      <th>10340</th>\n      <td>2017-01-15 03:37:59.149</td>\n      <td>23000.0</td>\n      <td>Not Asked</td>\n      <td>4</td>\n      <td>No</td>\n      <td>9</td>\n      <td>3</td>\n      <td>Not Asked</td>\n      <td>10</td>\n      <td>Yes</td>\n      <td>...</td>\n      <td>NaN</td>\n      <td>6</td>\n      <td>3</td>\n      <td>18</td>\n      <td>3</td>\n      <td>1</td>\n      <td>7</td>\n      <td>6</td>\n      <td>3</td>\n      <td>5</td>\n    </tr>\n  </tbody>\n</table>\n<p>10341 rows × 25 columns</p>\n</div>"
     },
     "metadata": {},
     "execution_count": 34
    }
   ],
   "source": [
    "id_sondage = survey_data[\"Survey Year\"].apply(lambda x: sondage_df[sondage_df[\"sdg_year\"] == x].index[0])\n",
    "\n",
    "sondage_item_df[\"sdg_id\"] = id_sondage.astype(pd.Int64Dtype())\n",
    "sondage_item_df"
   ]
  },
  {
   "source": [
    "---"
   ],
   "cell_type": "markdown",
   "metadata": {}
  },
  {
   "source": [
    "# DataFrame job"
   ],
   "cell_type": "markdown",
   "metadata": {}
  },
  {
   "cell_type": "code",
   "execution_count": 35,
   "metadata": {},
   "outputs": [
    {
     "output_type": "execute_result",
     "data": {
      "text/plain": [
       "Index(['job_id', 'job_name'], dtype='object')"
      ]
     },
     "metadata": {},
     "execution_count": 35
    }
   ],
   "source": [
    "job_columns = pd.read_sql_query(\"select * from job;\", engine).columns\n",
    "job_columns"
   ]
  },
  {
   "cell_type": "code",
   "execution_count": 36,
   "metadata": {},
   "outputs": [
    {
     "output_type": "execute_result",
     "data": {
      "text/plain": [
       "                                             job_name  job_id\n",
       "1   Developer: Business Intelligence (SSRS, PowerB...       1\n",
       "2   DBA (Production Focus - build & troubleshoot s...       2\n",
       "3   DBA (General - splits time evenly between writ...       3\n",
       "4                                             Manager       4\n",
       "5                   Developer: App code (C#, JS, etc)       5\n",
       "6                                    Developer: T-SQL       6\n",
       "7                                           Architect       7\n",
       "8   DBA (Development Focus - tunes queries, indexe...       8\n",
       "9                                            Engineer       9\n",
       "10                                            Analyst      10\n",
       "11                                              Other      11\n",
       "12                                     Data Scientist      12\n",
       "13                                                DBA      13\n",
       "14                        Principal database engineer      14\n",
       "15                   DevOps, Sr Software Engineer DBA      15\n",
       "16                                        Technician       16\n",
       "17                                Database Specialist      17\n",
       "18                                         Consultant      18\n",
       "19                              Systems Administrator      19\n",
       "20                                              Sales      20\n",
       "21                                 DBA / BI Developer      21\n",
       "22                                     Sr Consultant       22\n",
       "23                               Analytics consultant      23"
      ],
      "text/html": "<div>\n<style scoped>\n    .dataframe tbody tr th:only-of-type {\n        vertical-align: middle;\n    }\n\n    .dataframe tbody tr th {\n        vertical-align: top;\n    }\n\n    .dataframe thead th {\n        text-align: right;\n    }\n</style>\n<table border=\"1\" class=\"dataframe\">\n  <thead>\n    <tr style=\"text-align: right;\">\n      <th></th>\n      <th>job_name</th>\n      <th>job_id</th>\n    </tr>\n  </thead>\n  <tbody>\n    <tr>\n      <th>1</th>\n      <td>Developer: Business Intelligence (SSRS, PowerB...</td>\n      <td>1</td>\n    </tr>\n    <tr>\n      <th>2</th>\n      <td>DBA (Production Focus - build &amp; troubleshoot s...</td>\n      <td>2</td>\n    </tr>\n    <tr>\n      <th>3</th>\n      <td>DBA (General - splits time evenly between writ...</td>\n      <td>3</td>\n    </tr>\n    <tr>\n      <th>4</th>\n      <td>Manager</td>\n      <td>4</td>\n    </tr>\n    <tr>\n      <th>5</th>\n      <td>Developer: App code (C#, JS, etc)</td>\n      <td>5</td>\n    </tr>\n    <tr>\n      <th>6</th>\n      <td>Developer: T-SQL</td>\n      <td>6</td>\n    </tr>\n    <tr>\n      <th>7</th>\n      <td>Architect</td>\n      <td>7</td>\n    </tr>\n    <tr>\n      <th>8</th>\n      <td>DBA (Development Focus - tunes queries, indexe...</td>\n      <td>8</td>\n    </tr>\n    <tr>\n      <th>9</th>\n      <td>Engineer</td>\n      <td>9</td>\n    </tr>\n    <tr>\n      <th>10</th>\n      <td>Analyst</td>\n      <td>10</td>\n    </tr>\n    <tr>\n      <th>11</th>\n      <td>Other</td>\n      <td>11</td>\n    </tr>\n    <tr>\n      <th>12</th>\n      <td>Data Scientist</td>\n      <td>12</td>\n    </tr>\n    <tr>\n      <th>13</th>\n      <td>DBA</td>\n      <td>13</td>\n    </tr>\n    <tr>\n      <th>14</th>\n      <td>Principal database engineer</td>\n      <td>14</td>\n    </tr>\n    <tr>\n      <th>15</th>\n      <td>DevOps, Sr Software Engineer DBA</td>\n      <td>15</td>\n    </tr>\n    <tr>\n      <th>16</th>\n      <td>Technician</td>\n      <td>16</td>\n    </tr>\n    <tr>\n      <th>17</th>\n      <td>Database Specialist</td>\n      <td>17</td>\n    </tr>\n    <tr>\n      <th>18</th>\n      <td>Consultant</td>\n      <td>18</td>\n    </tr>\n    <tr>\n      <th>19</th>\n      <td>Systems Administrator</td>\n      <td>19</td>\n    </tr>\n    <tr>\n      <th>20</th>\n      <td>Sales</td>\n      <td>20</td>\n    </tr>\n    <tr>\n      <th>21</th>\n      <td>DBA / BI Developer</td>\n      <td>21</td>\n    </tr>\n    <tr>\n      <th>22</th>\n      <td>Sr Consultant</td>\n      <td>22</td>\n    </tr>\n    <tr>\n      <th>23</th>\n      <td>Analytics consultant</td>\n      <td>23</td>\n    </tr>\n  </tbody>\n</table>\n</div>"
     },
     "metadata": {},
     "execution_count": 36
    }
   ],
   "source": [
    "job_df = survey_data[\"JobTitle\"]\n",
    "job_df.drop_duplicates(inplace=True)\n",
    "job_df = job_df.reset_index(drop=True)\n",
    "job_df.index += 1\n",
    "\n",
    "job_df = pd.DataFrame({\"job_name\" : job_df})\n",
    "#job_df = job_df.rename_axis(index=\"job_id\")\n",
    "job_df[\"job_id\"] = job_df.index\n",
    "job_df"
   ]
  },
  {
   "cell_type": "code",
   "execution_count": 37,
   "metadata": {},
   "outputs": [
    {
     "output_type": "execute_result",
     "data": {
      "text/plain": [
       "                    timestamp  salary_usd postal_code  years_with_db  \\\n",
       "0     2020-12-10 08:22:42.696     65000.0         NaN              4   \n",
       "1     2020-12-10 08:23:22.242    145000.0       76063             15   \n",
       "2     2020-12-10 08:23:37.909    105000.0       43240             12   \n",
       "3     2020-12-10 08:23:48.152     46482.0         NaN             10   \n",
       "4     2020-12-10 08:24:03.600     98800.0         468              5   \n",
       "...                       ...         ...         ...            ...   \n",
       "10336 2017-01-14 15:50:23.936     36549.0   Not Asked              3   \n",
       "10337 2017-01-15 01:01:21.212     65000.0   Not Asked              7   \n",
       "10338 2017-01-15 03:25:47.422     85000.0   Not Asked             17   \n",
       "10339 2017-01-15 03:37:35.305     90000.0   Not Asked              8   \n",
       "10340 2017-01-15 03:37:59.149     23000.0   Not Asked              4   \n",
       "\n",
       "      manage_staff  years_with_job other_people company_employee  \\\n",
       "0              Yes               4         None                2   \n",
       "1               No              25         None               74   \n",
       "2              Yes               6            1              500   \n",
       "3               No               5         None               35   \n",
       "4               No               5         None               50   \n",
       "...            ...             ...          ...              ...   \n",
       "10336           No               1            1        Not Asked   \n",
       "10337          Yes               3            5        Not Asked   \n",
       "10338           No              17            1        Not Asked   \n",
       "10339           No               3            1        Not Asked   \n",
       "10340           No               9            3        Not Asked   \n",
       "\n",
       "      database_servers education_computer  ... cap_id cert_id ctr_id edu_id  \\\n",
       "0            Not Asked          Not Asked  ...      1       1      1      1   \n",
       "1            Not Asked          Not Asked  ...      1       1      2      1   \n",
       "2            Not Asked          Not Asked  ...      1       1      2      1   \n",
       "3            Not Asked          Not Asked  ...      1       1      3      1   \n",
       "4            Not Asked          Not Asked  ...      1       1      2      1   \n",
       "...                ...                ...  ...    ...     ...    ...    ...   \n",
       "10336               42                NaN  ...      6       2      3      3   \n",
       "10337               40                Yes  ...      6       2     73      2   \n",
       "10338              200                 No  ...      6       2     28      2   \n",
       "10339               80                Yes  ...      6       3      2      4   \n",
       "10340               10                Yes  ...      6       3     18      3   \n",
       "\n",
       "      sec_id  mcp_id  pop_id  look_id  sdg_id  job_id  \n",
       "0          1       1       1        1       1       1  \n",
       "1          1       2       2        1       1       2  \n",
       "2          1       3       3        1       1       3  \n",
       "3          2       4       3        1       1       2  \n",
       "4          1       1       4        1       1       1  \n",
       "...      ...     ...     ...      ...     ...     ...  \n",
       "10336      1       7       6        2       5      13  \n",
       "10337      1       7       6        3       5      13  \n",
       "10338      1       7       6        3       5      11  \n",
       "10339      1       7       6        4       5      13  \n",
       "10340      1       7       6        3       5       7  \n",
       "\n",
       "[10341 rows x 26 columns]"
      ],
      "text/html": "<div>\n<style scoped>\n    .dataframe tbody tr th:only-of-type {\n        vertical-align: middle;\n    }\n\n    .dataframe tbody tr th {\n        vertical-align: top;\n    }\n\n    .dataframe thead th {\n        text-align: right;\n    }\n</style>\n<table border=\"1\" class=\"dataframe\">\n  <thead>\n    <tr style=\"text-align: right;\">\n      <th></th>\n      <th>timestamp</th>\n      <th>salary_usd</th>\n      <th>postal_code</th>\n      <th>years_with_db</th>\n      <th>manage_staff</th>\n      <th>years_with_job</th>\n      <th>other_people</th>\n      <th>company_employee</th>\n      <th>database_servers</th>\n      <th>education_computer</th>\n      <th>...</th>\n      <th>cap_id</th>\n      <th>cert_id</th>\n      <th>ctr_id</th>\n      <th>edu_id</th>\n      <th>sec_id</th>\n      <th>mcp_id</th>\n      <th>pop_id</th>\n      <th>look_id</th>\n      <th>sdg_id</th>\n      <th>job_id</th>\n    </tr>\n  </thead>\n  <tbody>\n    <tr>\n      <th>0</th>\n      <td>2020-12-10 08:22:42.696</td>\n      <td>65000.0</td>\n      <td>NaN</td>\n      <td>4</td>\n      <td>Yes</td>\n      <td>4</td>\n      <td>None</td>\n      <td>2</td>\n      <td>Not Asked</td>\n      <td>Not Asked</td>\n      <td>...</td>\n      <td>1</td>\n      <td>1</td>\n      <td>1</td>\n      <td>1</td>\n      <td>1</td>\n      <td>1</td>\n      <td>1</td>\n      <td>1</td>\n      <td>1</td>\n      <td>1</td>\n    </tr>\n    <tr>\n      <th>1</th>\n      <td>2020-12-10 08:23:22.242</td>\n      <td>145000.0</td>\n      <td>76063</td>\n      <td>15</td>\n      <td>No</td>\n      <td>25</td>\n      <td>None</td>\n      <td>74</td>\n      <td>Not Asked</td>\n      <td>Not Asked</td>\n      <td>...</td>\n      <td>1</td>\n      <td>1</td>\n      <td>2</td>\n      <td>1</td>\n      <td>1</td>\n      <td>2</td>\n      <td>2</td>\n      <td>1</td>\n      <td>1</td>\n      <td>2</td>\n    </tr>\n    <tr>\n      <th>2</th>\n      <td>2020-12-10 08:23:37.909</td>\n      <td>105000.0</td>\n      <td>43240</td>\n      <td>12</td>\n      <td>Yes</td>\n      <td>6</td>\n      <td>1</td>\n      <td>500</td>\n      <td>Not Asked</td>\n      <td>Not Asked</td>\n      <td>...</td>\n      <td>1</td>\n      <td>1</td>\n      <td>2</td>\n      <td>1</td>\n      <td>1</td>\n      <td>3</td>\n      <td>3</td>\n      <td>1</td>\n      <td>1</td>\n      <td>3</td>\n    </tr>\n    <tr>\n      <th>3</th>\n      <td>2020-12-10 08:23:48.152</td>\n      <td>46482.0</td>\n      <td>NaN</td>\n      <td>10</td>\n      <td>No</td>\n      <td>5</td>\n      <td>None</td>\n      <td>35</td>\n      <td>Not Asked</td>\n      <td>Not Asked</td>\n      <td>...</td>\n      <td>1</td>\n      <td>1</td>\n      <td>3</td>\n      <td>1</td>\n      <td>2</td>\n      <td>4</td>\n      <td>3</td>\n      <td>1</td>\n      <td>1</td>\n      <td>2</td>\n    </tr>\n    <tr>\n      <th>4</th>\n      <td>2020-12-10 08:24:03.600</td>\n      <td>98800.0</td>\n      <td>468</td>\n      <td>5</td>\n      <td>No</td>\n      <td>5</td>\n      <td>None</td>\n      <td>50</td>\n      <td>Not Asked</td>\n      <td>Not Asked</td>\n      <td>...</td>\n      <td>1</td>\n      <td>1</td>\n      <td>2</td>\n      <td>1</td>\n      <td>1</td>\n      <td>1</td>\n      <td>4</td>\n      <td>1</td>\n      <td>1</td>\n      <td>1</td>\n    </tr>\n    <tr>\n      <th>...</th>\n      <td>...</td>\n      <td>...</td>\n      <td>...</td>\n      <td>...</td>\n      <td>...</td>\n      <td>...</td>\n      <td>...</td>\n      <td>...</td>\n      <td>...</td>\n      <td>...</td>\n      <td>...</td>\n      <td>...</td>\n      <td>...</td>\n      <td>...</td>\n      <td>...</td>\n      <td>...</td>\n      <td>...</td>\n      <td>...</td>\n      <td>...</td>\n      <td>...</td>\n      <td>...</td>\n    </tr>\n    <tr>\n      <th>10336</th>\n      <td>2017-01-14 15:50:23.936</td>\n      <td>36549.0</td>\n      <td>Not Asked</td>\n      <td>3</td>\n      <td>No</td>\n      <td>1</td>\n      <td>1</td>\n      <td>Not Asked</td>\n      <td>42</td>\n      <td>NaN</td>\n      <td>...</td>\n      <td>6</td>\n      <td>2</td>\n      <td>3</td>\n      <td>3</td>\n      <td>1</td>\n      <td>7</td>\n      <td>6</td>\n      <td>2</td>\n      <td>5</td>\n      <td>13</td>\n    </tr>\n    <tr>\n      <th>10337</th>\n      <td>2017-01-15 01:01:21.212</td>\n      <td>65000.0</td>\n      <td>Not Asked</td>\n      <td>7</td>\n      <td>Yes</td>\n      <td>3</td>\n      <td>5</td>\n      <td>Not Asked</td>\n      <td>40</td>\n      <td>Yes</td>\n      <td>...</td>\n      <td>6</td>\n      <td>2</td>\n      <td>73</td>\n      <td>2</td>\n      <td>1</td>\n      <td>7</td>\n      <td>6</td>\n      <td>3</td>\n      <td>5</td>\n      <td>13</td>\n    </tr>\n    <tr>\n      <th>10338</th>\n      <td>2017-01-15 03:25:47.422</td>\n      <td>85000.0</td>\n      <td>Not Asked</td>\n      <td>17</td>\n      <td>No</td>\n      <td>17</td>\n      <td>1</td>\n      <td>Not Asked</td>\n      <td>200</td>\n      <td>No</td>\n      <td>...</td>\n      <td>6</td>\n      <td>2</td>\n      <td>28</td>\n      <td>2</td>\n      <td>1</td>\n      <td>7</td>\n      <td>6</td>\n      <td>3</td>\n      <td>5</td>\n      <td>11</td>\n    </tr>\n    <tr>\n      <th>10339</th>\n      <td>2017-01-15 03:37:35.305</td>\n      <td>90000.0</td>\n      <td>Not Asked</td>\n      <td>8</td>\n      <td>No</td>\n      <td>3</td>\n      <td>1</td>\n      <td>Not Asked</td>\n      <td>80</td>\n      <td>Yes</td>\n      <td>...</td>\n      <td>6</td>\n      <td>3</td>\n      <td>2</td>\n      <td>4</td>\n      <td>1</td>\n      <td>7</td>\n      <td>6</td>\n      <td>4</td>\n      <td>5</td>\n      <td>13</td>\n    </tr>\n    <tr>\n      <th>10340</th>\n      <td>2017-01-15 03:37:59.149</td>\n      <td>23000.0</td>\n      <td>Not Asked</td>\n      <td>4</td>\n      <td>No</td>\n      <td>9</td>\n      <td>3</td>\n      <td>Not Asked</td>\n      <td>10</td>\n      <td>Yes</td>\n      <td>...</td>\n      <td>6</td>\n      <td>3</td>\n      <td>18</td>\n      <td>3</td>\n      <td>1</td>\n      <td>7</td>\n      <td>6</td>\n      <td>3</td>\n      <td>5</td>\n      <td>7</td>\n    </tr>\n  </tbody>\n</table>\n<p>10341 rows × 26 columns</p>\n</div>"
     },
     "metadata": {},
     "execution_count": 37
    }
   ],
   "source": [
    "id_jobtitle = survey_data[\"JobTitle\"].apply(lambda x: job_df[job_df[\"job_name\"] == x].index[0])\n",
    "\n",
    "sondage_item_df[\"job_id\"] = id_jobtitle.astype(pd.Int64Dtype())\n",
    "sondage_item_df"
   ]
  },
  {
   "source": [
    "# DataFrame other_duties"
   ],
   "cell_type": "markdown",
   "metadata": {}
  },
  {
   "cell_type": "code",
   "execution_count": 67,
   "metadata": {},
   "outputs": [],
   "source": [
    "other_duties_columns = pd.read_sql_query(\"select * from other_duties;\", engine).columns\n",
    "other_duties_columns\n",
    "other_duties_df = pd.DataFrame(columns=other_duties_columns)"
   ]
  },
  {
   "cell_type": "code",
   "execution_count": 68,
   "metadata": {},
   "outputs": [
    {
     "output_type": "execute_result",
     "data": {
      "text/plain": [
       "                                             job_name  job_id\n",
       "0   DBA (General - splits time evenly between writ...       3\n",
       "1   DBA (Development Focus - tunes queries, indexe...       8\n",
       "2   DBA (Production Focus - build & troubleshoot s...       2\n",
       "3   Developer: Business Intelligence (SSRS, PowerB...       1\n",
       "4                   Developer: App code (C#, JS, etc)       5\n",
       "5                    DevOps, Sr Software Engineer DBA      15\n",
       "6                         Principal database engineer      14\n",
       "7                               Systems Administrator      19\n",
       "8                                Analytics consultant      23\n",
       "9                                 Database Specialist      17\n",
       "10                                 DBA / BI Developer      21\n",
       "11                                   Developer: T-SQL       6\n",
       "12                                     Sr Consultant       22\n",
       "13                                     Data Scientist      12\n",
       "14                                        Technician       16\n",
       "15                                         Consultant      18\n",
       "16                                          Architect       7\n",
       "17                                           Engineer       9\n",
       "18                                            Analyst      10\n",
       "19                                            Manager       4\n",
       "20                                              Other      11\n",
       "21                                              Sales      20\n",
       "22                                                DBA      13"
      ],
      "text/html": "<div>\n<style scoped>\n    .dataframe tbody tr th:only-of-type {\n        vertical-align: middle;\n    }\n\n    .dataframe tbody tr th {\n        vertical-align: top;\n    }\n\n    .dataframe thead th {\n        text-align: right;\n    }\n</style>\n<table border=\"1\" class=\"dataframe\">\n  <thead>\n    <tr style=\"text-align: right;\">\n      <th></th>\n      <th>job_name</th>\n      <th>job_id</th>\n    </tr>\n  </thead>\n  <tbody>\n    <tr>\n      <th>0</th>\n      <td>DBA (General - splits time evenly between writ...</td>\n      <td>3</td>\n    </tr>\n    <tr>\n      <th>1</th>\n      <td>DBA (Development Focus - tunes queries, indexe...</td>\n      <td>8</td>\n    </tr>\n    <tr>\n      <th>2</th>\n      <td>DBA (Production Focus - build &amp; troubleshoot s...</td>\n      <td>2</td>\n    </tr>\n    <tr>\n      <th>3</th>\n      <td>Developer: Business Intelligence (SSRS, PowerB...</td>\n      <td>1</td>\n    </tr>\n    <tr>\n      <th>4</th>\n      <td>Developer: App code (C#, JS, etc)</td>\n      <td>5</td>\n    </tr>\n    <tr>\n      <th>5</th>\n      <td>DevOps, Sr Software Engineer DBA</td>\n      <td>15</td>\n    </tr>\n    <tr>\n      <th>6</th>\n      <td>Principal database engineer</td>\n      <td>14</td>\n    </tr>\n    <tr>\n      <th>7</th>\n      <td>Systems Administrator</td>\n      <td>19</td>\n    </tr>\n    <tr>\n      <th>8</th>\n      <td>Analytics consultant</td>\n      <td>23</td>\n    </tr>\n    <tr>\n      <th>9</th>\n      <td>Database Specialist</td>\n      <td>17</td>\n    </tr>\n    <tr>\n      <th>10</th>\n      <td>DBA / BI Developer</td>\n      <td>21</td>\n    </tr>\n    <tr>\n      <th>11</th>\n      <td>Developer: T-SQL</td>\n      <td>6</td>\n    </tr>\n    <tr>\n      <th>12</th>\n      <td>Sr Consultant</td>\n      <td>22</td>\n    </tr>\n    <tr>\n      <th>13</th>\n      <td>Data Scientist</td>\n      <td>12</td>\n    </tr>\n    <tr>\n      <th>14</th>\n      <td>Technician</td>\n      <td>16</td>\n    </tr>\n    <tr>\n      <th>15</th>\n      <td>Consultant</td>\n      <td>18</td>\n    </tr>\n    <tr>\n      <th>16</th>\n      <td>Architect</td>\n      <td>7</td>\n    </tr>\n    <tr>\n      <th>17</th>\n      <td>Engineer</td>\n      <td>9</td>\n    </tr>\n    <tr>\n      <th>18</th>\n      <td>Analyst</td>\n      <td>10</td>\n    </tr>\n    <tr>\n      <th>19</th>\n      <td>Manager</td>\n      <td>4</td>\n    </tr>\n    <tr>\n      <th>20</th>\n      <td>Other</td>\n      <td>11</td>\n    </tr>\n    <tr>\n      <th>21</th>\n      <td>Sales</td>\n      <td>20</td>\n    </tr>\n    <tr>\n      <th>22</th>\n      <td>DBA</td>\n      <td>13</td>\n    </tr>\n  </tbody>\n</table>\n</div>"
     },
     "metadata": {},
     "execution_count": 68
    }
   ],
   "source": [
    "job_df.index = job_df['job_name'].str.len()\n",
    "job_df = job_df.sort_index(ascending=False).reset_index(drop=True)\n",
    "job_df"
   ]
  },
  {
   "cell_type": "code",
   "execution_count": 69,
   "metadata": {},
   "outputs": [],
   "source": [
    "def other_job(x):\n",
    "\n",
    "    if isinstance(x,float):\n",
    "        return x\n",
    "\n",
    "    for key in range(job_df.shape[0]):\n",
    "        job = job_df.iloc[key]\n",
    "        x = str(x).replace(job[\"job_name\"],str(job[\"job_id\"]))\n",
    "    return x\n",
    "\n",
    "other_duties_df[\"job_id\"] = survey_data['OtherJobDuties'].apply(other_job)"
   ]
  },
  {
   "cell_type": "code",
   "execution_count": 70,
   "metadata": {},
   "outputs": [],
   "source": [
    "other_duties_df[\"sgi_id\"] = other_duties_df.index + 1"
   ]
  },
  {
   "cell_type": "code",
   "execution_count": 71,
   "metadata": {},
   "outputs": [
    {
     "output_type": "stream",
     "name": "stderr",
     "text": [
      "<ipython-input-71-4404d8a790c2>:1: SettingWithCopyWarning: \nA value is trying to be set on a copy of a slice from a DataFrame\n\nSee the caveats in the documentation: https://pandas.pydata.org/pandas-docs/stable/user_guide/indexing.html#returning-a-view-versus-a-copy\n  other_duties_df[\"job_id\"][other_duties_df[\"job_id\"] == \"Not Asked\"] = None\n"
     ]
    }
   ],
   "source": [
    "#other_duties_df[\"job_id\"][other_duties_df[\"job_id\"] == \"Not Asked\"] = None"
   ]
  },
  {
   "cell_type": "code",
   "execution_count": 77,
   "metadata": {},
   "outputs": [
    {
     "output_type": "execute_result",
     "data": {
      "text/plain": [
       "          job_id  sgi_id\n",
       "3470     8, 2, 6    3471\n",
       "3471           4    3472\n",
       "3472           2    3473\n",
       "3473     7, 8, 3    3474\n",
       "3474           8    3475\n",
       "...          ...     ...\n",
       "7438           6    7439\n",
       "7439           7    7440\n",
       "7440  7, 1, 6, 4    7441\n",
       "7441  8, 3, 6, 4    7442\n",
       "7442        7, 3    7443\n",
       "\n",
       "[3355 rows x 2 columns]"
      ],
      "text/html": "<div>\n<style scoped>\n    .dataframe tbody tr th:only-of-type {\n        vertical-align: middle;\n    }\n\n    .dataframe tbody tr th {\n        vertical-align: top;\n    }\n\n    .dataframe thead th {\n        text-align: right;\n    }\n</style>\n<table border=\"1\" class=\"dataframe\">\n  <thead>\n    <tr style=\"text-align: right;\">\n      <th></th>\n      <th>job_id</th>\n      <th>sgi_id</th>\n    </tr>\n  </thead>\n  <tbody>\n    <tr>\n      <th>3470</th>\n      <td>8, 2, 6</td>\n      <td>3471</td>\n    </tr>\n    <tr>\n      <th>3471</th>\n      <td>4</td>\n      <td>3472</td>\n    </tr>\n    <tr>\n      <th>3472</th>\n      <td>2</td>\n      <td>3473</td>\n    </tr>\n    <tr>\n      <th>3473</th>\n      <td>7, 8, 3</td>\n      <td>3474</td>\n    </tr>\n    <tr>\n      <th>3474</th>\n      <td>8</td>\n      <td>3475</td>\n    </tr>\n    <tr>\n      <th>...</th>\n      <td>...</td>\n      <td>...</td>\n    </tr>\n    <tr>\n      <th>7438</th>\n      <td>6</td>\n      <td>7439</td>\n    </tr>\n    <tr>\n      <th>7439</th>\n      <td>7</td>\n      <td>7440</td>\n    </tr>\n    <tr>\n      <th>7440</th>\n      <td>7, 1, 6, 4</td>\n      <td>7441</td>\n    </tr>\n    <tr>\n      <th>7441</th>\n      <td>8, 3, 6, 4</td>\n      <td>7442</td>\n    </tr>\n    <tr>\n      <th>7442</th>\n      <td>7, 3</td>\n      <td>7443</td>\n    </tr>\n  </tbody>\n</table>\n<p>3355 rows × 2 columns</p>\n</div>"
     },
     "metadata": {},
     "execution_count": 77
    }
   ],
   "source": [
    "other_duties_df = other_duties_df[other_duties_df[\"job_id\"].isna() != True]\n",
    "other_duties_df"
   ]
  },
  {
   "source": [
    "# DataFrame task"
   ],
   "cell_type": "markdown",
   "metadata": {}
  },
  {
   "cell_type": "code",
   "execution_count": 42,
   "metadata": {},
   "outputs": [
    {
     "output_type": "execute_result",
     "data": {
      "text/plain": [
       "Index(['tas_id', 'tas_name'], dtype='object')"
      ]
     },
     "metadata": {},
     "execution_count": 42
    }
   ],
   "source": [
    "task_columns = pd.read_sql_query(\"select * from task;\", engine).columns\n",
    "task_columns"
   ]
  },
  {
   "cell_type": "code",
   "execution_count": 43,
   "metadata": {},
   "outputs": [
    {
     "output_type": "execute_result",
     "data": {
      "text/plain": [
       "                           tas_name  tas_id\n",
       "0  Build scripts & automation tools       0\n",
       "1                      Manual tasks       1\n",
       "2             Meetings & management       2\n",
       "3                         Not Asked       3\n",
       "4                  On-call 24/7/365       4\n",
       "5     On-call as part of a rotation       5\n",
       "6                          Projects       6\n",
       "7                               R&D       7\n",
       "8                 Training/teaching       8"
      ],
      "text/html": "<div>\n<style scoped>\n    .dataframe tbody tr th:only-of-type {\n        vertical-align: middle;\n    }\n\n    .dataframe tbody tr th {\n        vertical-align: top;\n    }\n\n    .dataframe thead th {\n        text-align: right;\n    }\n</style>\n<table border=\"1\" class=\"dataframe\">\n  <thead>\n    <tr style=\"text-align: right;\">\n      <th></th>\n      <th>tas_name</th>\n      <th>tas_id</th>\n    </tr>\n  </thead>\n  <tbody>\n    <tr>\n      <th>0</th>\n      <td>Build scripts &amp; automation tools</td>\n      <td>0</td>\n    </tr>\n    <tr>\n      <th>1</th>\n      <td>Manual tasks</td>\n      <td>1</td>\n    </tr>\n    <tr>\n      <th>2</th>\n      <td>Meetings &amp; management</td>\n      <td>2</td>\n    </tr>\n    <tr>\n      <th>3</th>\n      <td>Not Asked</td>\n      <td>3</td>\n    </tr>\n    <tr>\n      <th>4</th>\n      <td>On-call 24/7/365</td>\n      <td>4</td>\n    </tr>\n    <tr>\n      <th>5</th>\n      <td>On-call as part of a rotation</td>\n      <td>5</td>\n    </tr>\n    <tr>\n      <th>6</th>\n      <td>Projects</td>\n      <td>6</td>\n    </tr>\n    <tr>\n      <th>7</th>\n      <td>R&amp;D</td>\n      <td>7</td>\n    </tr>\n    <tr>\n      <th>8</th>\n      <td>Training/teaching</td>\n      <td>8</td>\n    </tr>\n  </tbody>\n</table>\n</div>"
     },
     "metadata": {},
     "execution_count": 43
    }
   ],
   "source": [
    "task_liste = [\"Build scripts & automation tools\", \"Manual tasks\", \"Meetings & management\", \"Not Asked\", \"On-call 24/7/365\", \"On-call as part of a rotation\", \"Projects\", \"R&D\", \"Training/teaching\"]\n",
    "\n",
    "task_df = pd.DataFrame({\"tas_name\" : task_liste})\n",
    "#task_df.rename_axis(index=\"tas_id\", inplace=True)\n",
    "task_df[\"tas_id\"] = task_df.index\n",
    "task_df"
   ]
  },
  {
   "source": [
    "# DataFrame task_performed"
   ],
   "cell_type": "markdown",
   "metadata": {}
  },
  {
   "cell_type": "code",
   "execution_count": 44,
   "metadata": {},
   "outputs": [
    {
     "output_type": "execute_result",
     "data": {
      "text/plain": [
       "Index(['tas_id', 'tas_name'], dtype='object')"
      ]
     },
     "metadata": {},
     "execution_count": 44
    }
   ],
   "source": [
    "task_columns = pd.read_sql_query(\"select * from task;\", engine).columns\n",
    "task_columns    "
   ]
  },
  {
   "cell_type": "code",
   "execution_count": 71,
   "metadata": {},
   "outputs": [
    {
     "output_type": "execute_result",
     "data": {
      "text/plain": [
       "[]"
      ]
     },
     "metadata": {},
     "execution_count": 71
    }
   ],
   "source": []
  },
  {
   "source": [
    "# DataFrame database_used"
   ],
   "cell_type": "markdown",
   "metadata": {}
  },
  {
   "cell_type": "code",
   "execution_count": 45,
   "metadata": {},
   "outputs": [
    {
     "output_type": "error",
     "ename": "ProgrammingError",
     "evalue": "(pymysql.err.ProgrammingError) (1146, \"Table 'survey.database_used' doesn't exist\")\n[SQL: select * from database_used;]\n(Background on this error at: http://sqlalche.me/e/13/f405)",
     "traceback": [
      "\u001b[0;31m---------------------------------------------------------------------------\u001b[0m",
      "\u001b[0;31mProgrammingError\u001b[0m                          Traceback (most recent call last)",
      "\u001b[0;32m~/anaconda3/lib/python3.8/site-packages/sqlalchemy/engine/base.py\u001b[0m in \u001b[0;36m_execute_context\u001b[0;34m(self, dialect, constructor, statement, parameters, *args)\u001b[0m\n\u001b[1;32m   1265\u001b[0m                 \u001b[0;32mif\u001b[0m \u001b[0;32mnot\u001b[0m \u001b[0mevt_handled\u001b[0m\u001b[0;34m:\u001b[0m\u001b[0;34m\u001b[0m\u001b[0;34m\u001b[0m\u001b[0m\n\u001b[0;32m-> 1266\u001b[0;31m                     self.dialect.do_execute_no_params(\n\u001b[0m\u001b[1;32m   1267\u001b[0m                         \u001b[0mcursor\u001b[0m\u001b[0;34m,\u001b[0m \u001b[0mstatement\u001b[0m\u001b[0;34m,\u001b[0m \u001b[0mcontext\u001b[0m\u001b[0;34m\u001b[0m\u001b[0;34m\u001b[0m\u001b[0m\n",
      "\u001b[0;32m~/anaconda3/lib/python3.8/site-packages/sqlalchemy/engine/default.py\u001b[0m in \u001b[0;36mdo_execute_no_params\u001b[0;34m(self, cursor, statement, context)\u001b[0m\n\u001b[1;32m    595\u001b[0m     \u001b[0;32mdef\u001b[0m \u001b[0mdo_execute_no_params\u001b[0m\u001b[0;34m(\u001b[0m\u001b[0mself\u001b[0m\u001b[0;34m,\u001b[0m \u001b[0mcursor\u001b[0m\u001b[0;34m,\u001b[0m \u001b[0mstatement\u001b[0m\u001b[0;34m,\u001b[0m \u001b[0mcontext\u001b[0m\u001b[0;34m=\u001b[0m\u001b[0;32mNone\u001b[0m\u001b[0;34m)\u001b[0m\u001b[0;34m:\u001b[0m\u001b[0;34m\u001b[0m\u001b[0;34m\u001b[0m\u001b[0m\n\u001b[0;32m--> 596\u001b[0;31m         \u001b[0mcursor\u001b[0m\u001b[0;34m.\u001b[0m\u001b[0mexecute\u001b[0m\u001b[0;34m(\u001b[0m\u001b[0mstatement\u001b[0m\u001b[0;34m)\u001b[0m\u001b[0;34m\u001b[0m\u001b[0;34m\u001b[0m\u001b[0m\n\u001b[0m\u001b[1;32m    597\u001b[0m \u001b[0;34m\u001b[0m\u001b[0m\n",
      "\u001b[0;32m~/anaconda3/lib/python3.8/site-packages/pymysql/cursors.py\u001b[0m in \u001b[0;36mexecute\u001b[0;34m(self, query, args)\u001b[0m\n\u001b[1;32m    147\u001b[0m \u001b[0;34m\u001b[0m\u001b[0m\n\u001b[0;32m--> 148\u001b[0;31m         \u001b[0mresult\u001b[0m \u001b[0;34m=\u001b[0m \u001b[0mself\u001b[0m\u001b[0;34m.\u001b[0m\u001b[0m_query\u001b[0m\u001b[0;34m(\u001b[0m\u001b[0mquery\u001b[0m\u001b[0;34m)\u001b[0m\u001b[0;34m\u001b[0m\u001b[0;34m\u001b[0m\u001b[0m\n\u001b[0m\u001b[1;32m    149\u001b[0m         \u001b[0mself\u001b[0m\u001b[0;34m.\u001b[0m\u001b[0m_executed\u001b[0m \u001b[0;34m=\u001b[0m \u001b[0mquery\u001b[0m\u001b[0;34m\u001b[0m\u001b[0;34m\u001b[0m\u001b[0m\n",
      "\u001b[0;32m~/anaconda3/lib/python3.8/site-packages/pymysql/cursors.py\u001b[0m in \u001b[0;36m_query\u001b[0;34m(self, q)\u001b[0m\n\u001b[1;32m    309\u001b[0m         \u001b[0mself\u001b[0m\u001b[0;34m.\u001b[0m\u001b[0m_clear_result\u001b[0m\u001b[0;34m(\u001b[0m\u001b[0;34m)\u001b[0m\u001b[0;34m\u001b[0m\u001b[0;34m\u001b[0m\u001b[0m\n\u001b[0;32m--> 310\u001b[0;31m         \u001b[0mconn\u001b[0m\u001b[0;34m.\u001b[0m\u001b[0mquery\u001b[0m\u001b[0;34m(\u001b[0m\u001b[0mq\u001b[0m\u001b[0;34m)\u001b[0m\u001b[0;34m\u001b[0m\u001b[0;34m\u001b[0m\u001b[0m\n\u001b[0m\u001b[1;32m    311\u001b[0m         \u001b[0mself\u001b[0m\u001b[0;34m.\u001b[0m\u001b[0m_do_get_result\u001b[0m\u001b[0;34m(\u001b[0m\u001b[0;34m)\u001b[0m\u001b[0;34m\u001b[0m\u001b[0;34m\u001b[0m\u001b[0m\n",
      "\u001b[0;32m~/anaconda3/lib/python3.8/site-packages/pymysql/connections.py\u001b[0m in \u001b[0;36mquery\u001b[0;34m(self, sql, unbuffered)\u001b[0m\n\u001b[1;32m    547\u001b[0m         \u001b[0mself\u001b[0m\u001b[0;34m.\u001b[0m\u001b[0m_execute_command\u001b[0m\u001b[0;34m(\u001b[0m\u001b[0mCOMMAND\u001b[0m\u001b[0;34m.\u001b[0m\u001b[0mCOM_QUERY\u001b[0m\u001b[0;34m,\u001b[0m \u001b[0msql\u001b[0m\u001b[0;34m)\u001b[0m\u001b[0;34m\u001b[0m\u001b[0;34m\u001b[0m\u001b[0m\n\u001b[0;32m--> 548\u001b[0;31m         \u001b[0mself\u001b[0m\u001b[0;34m.\u001b[0m\u001b[0m_affected_rows\u001b[0m \u001b[0;34m=\u001b[0m \u001b[0mself\u001b[0m\u001b[0;34m.\u001b[0m\u001b[0m_read_query_result\u001b[0m\u001b[0;34m(\u001b[0m\u001b[0munbuffered\u001b[0m\u001b[0;34m=\u001b[0m\u001b[0munbuffered\u001b[0m\u001b[0;34m)\u001b[0m\u001b[0;34m\u001b[0m\u001b[0;34m\u001b[0m\u001b[0m\n\u001b[0m\u001b[1;32m    549\u001b[0m         \u001b[0;32mreturn\u001b[0m \u001b[0mself\u001b[0m\u001b[0;34m.\u001b[0m\u001b[0m_affected_rows\u001b[0m\u001b[0;34m\u001b[0m\u001b[0;34m\u001b[0m\u001b[0m\n",
      "\u001b[0;32m~/anaconda3/lib/python3.8/site-packages/pymysql/connections.py\u001b[0m in \u001b[0;36m_read_query_result\u001b[0;34m(self, unbuffered)\u001b[0m\n\u001b[1;32m    774\u001b[0m             \u001b[0mresult\u001b[0m \u001b[0;34m=\u001b[0m \u001b[0mMySQLResult\u001b[0m\u001b[0;34m(\u001b[0m\u001b[0mself\u001b[0m\u001b[0;34m)\u001b[0m\u001b[0;34m\u001b[0m\u001b[0;34m\u001b[0m\u001b[0m\n\u001b[0;32m--> 775\u001b[0;31m             \u001b[0mresult\u001b[0m\u001b[0;34m.\u001b[0m\u001b[0mread\u001b[0m\u001b[0;34m(\u001b[0m\u001b[0;34m)\u001b[0m\u001b[0;34m\u001b[0m\u001b[0;34m\u001b[0m\u001b[0m\n\u001b[0m\u001b[1;32m    776\u001b[0m         \u001b[0mself\u001b[0m\u001b[0;34m.\u001b[0m\u001b[0m_result\u001b[0m \u001b[0;34m=\u001b[0m \u001b[0mresult\u001b[0m\u001b[0;34m\u001b[0m\u001b[0;34m\u001b[0m\u001b[0m\n",
      "\u001b[0;32m~/anaconda3/lib/python3.8/site-packages/pymysql/connections.py\u001b[0m in \u001b[0;36mread\u001b[0;34m(self)\u001b[0m\n\u001b[1;32m   1155\u001b[0m         \u001b[0;32mtry\u001b[0m\u001b[0;34m:\u001b[0m\u001b[0;34m\u001b[0m\u001b[0;34m\u001b[0m\u001b[0m\n\u001b[0;32m-> 1156\u001b[0;31m             \u001b[0mfirst_packet\u001b[0m \u001b[0;34m=\u001b[0m \u001b[0mself\u001b[0m\u001b[0;34m.\u001b[0m\u001b[0mconnection\u001b[0m\u001b[0;34m.\u001b[0m\u001b[0m_read_packet\u001b[0m\u001b[0;34m(\u001b[0m\u001b[0;34m)\u001b[0m\u001b[0;34m\u001b[0m\u001b[0;34m\u001b[0m\u001b[0m\n\u001b[0m\u001b[1;32m   1157\u001b[0m \u001b[0;34m\u001b[0m\u001b[0m\n",
      "\u001b[0;32m~/anaconda3/lib/python3.8/site-packages/pymysql/connections.py\u001b[0m in \u001b[0;36m_read_packet\u001b[0;34m(self, packet_type)\u001b[0m\n\u001b[1;32m    724\u001b[0m                 \u001b[0mself\u001b[0m\u001b[0;34m.\u001b[0m\u001b[0m_result\u001b[0m\u001b[0;34m.\u001b[0m\u001b[0munbuffered_active\u001b[0m \u001b[0;34m=\u001b[0m \u001b[0;32mFalse\u001b[0m\u001b[0;34m\u001b[0m\u001b[0;34m\u001b[0m\u001b[0m\n\u001b[0;32m--> 725\u001b[0;31m             \u001b[0mpacket\u001b[0m\u001b[0;34m.\u001b[0m\u001b[0mraise_for_error\u001b[0m\u001b[0;34m(\u001b[0m\u001b[0;34m)\u001b[0m\u001b[0;34m\u001b[0m\u001b[0;34m\u001b[0m\u001b[0m\n\u001b[0m\u001b[1;32m    726\u001b[0m         \u001b[0;32mreturn\u001b[0m \u001b[0mpacket\u001b[0m\u001b[0;34m\u001b[0m\u001b[0;34m\u001b[0m\u001b[0m\n",
      "\u001b[0;32m~/anaconda3/lib/python3.8/site-packages/pymysql/protocol.py\u001b[0m in \u001b[0;36mraise_for_error\u001b[0;34m(self)\u001b[0m\n\u001b[1;32m    220\u001b[0m             \u001b[0mprint\u001b[0m\u001b[0;34m(\u001b[0m\u001b[0;34m\"errno =\"\u001b[0m\u001b[0;34m,\u001b[0m \u001b[0merrno\u001b[0m\u001b[0;34m)\u001b[0m\u001b[0;34m\u001b[0m\u001b[0;34m\u001b[0m\u001b[0m\n\u001b[0;32m--> 221\u001b[0;31m         \u001b[0merr\u001b[0m\u001b[0;34m.\u001b[0m\u001b[0mraise_mysql_exception\u001b[0m\u001b[0;34m(\u001b[0m\u001b[0mself\u001b[0m\u001b[0;34m.\u001b[0m\u001b[0m_data\u001b[0m\u001b[0;34m)\u001b[0m\u001b[0;34m\u001b[0m\u001b[0;34m\u001b[0m\u001b[0m\n\u001b[0m\u001b[1;32m    222\u001b[0m \u001b[0;34m\u001b[0m\u001b[0m\n",
      "\u001b[0;32m~/anaconda3/lib/python3.8/site-packages/pymysql/err.py\u001b[0m in \u001b[0;36mraise_mysql_exception\u001b[0;34m(data)\u001b[0m\n\u001b[1;32m    142\u001b[0m         \u001b[0merrorclass\u001b[0m \u001b[0;34m=\u001b[0m \u001b[0mInternalError\u001b[0m \u001b[0;32mif\u001b[0m \u001b[0merrno\u001b[0m \u001b[0;34m<\u001b[0m \u001b[0;36m1000\u001b[0m \u001b[0;32melse\u001b[0m \u001b[0mOperationalError\u001b[0m\u001b[0;34m\u001b[0m\u001b[0;34m\u001b[0m\u001b[0m\n\u001b[0;32m--> 143\u001b[0;31m     \u001b[0;32mraise\u001b[0m \u001b[0merrorclass\u001b[0m\u001b[0;34m(\u001b[0m\u001b[0merrno\u001b[0m\u001b[0;34m,\u001b[0m \u001b[0merrval\u001b[0m\u001b[0;34m)\u001b[0m\u001b[0;34m\u001b[0m\u001b[0;34m\u001b[0m\u001b[0m\n\u001b[0m",
      "\u001b[0;31mProgrammingError\u001b[0m: (1146, \"Table 'survey.database_used' doesn't exist\")",
      "\nThe above exception was the direct cause of the following exception:\n",
      "\u001b[0;31mProgrammingError\u001b[0m                          Traceback (most recent call last)",
      "\u001b[0;32m<ipython-input-45-232894e6115a>\u001b[0m in \u001b[0;36m<module>\u001b[0;34m\u001b[0m\n\u001b[0;32m----> 1\u001b[0;31m \u001b[0mdatabase_columns\u001b[0m \u001b[0;34m=\u001b[0m \u001b[0mpd\u001b[0m\u001b[0;34m.\u001b[0m\u001b[0mread_sql_query\u001b[0m\u001b[0;34m(\u001b[0m\u001b[0;34m\"select * from database_used;\"\u001b[0m\u001b[0;34m,\u001b[0m \u001b[0mengine\u001b[0m\u001b[0;34m)\u001b[0m\u001b[0;34m.\u001b[0m\u001b[0mcolumns\u001b[0m\u001b[0;34m\u001b[0m\u001b[0;34m\u001b[0m\u001b[0m\n\u001b[0m\u001b[1;32m      2\u001b[0m \u001b[0mdatabase_columns\u001b[0m\u001b[0;34m\u001b[0m\u001b[0;34m\u001b[0m\u001b[0m\n",
      "\u001b[0;32m~/anaconda3/lib/python3.8/site-packages/pandas/io/sql.py\u001b[0m in \u001b[0;36mread_sql_query\u001b[0;34m(sql, con, index_col, coerce_float, params, parse_dates, chunksize)\u001b[0m\n\u001b[1;32m    375\u001b[0m     \"\"\"\n\u001b[1;32m    376\u001b[0m     \u001b[0mpandas_sql\u001b[0m \u001b[0;34m=\u001b[0m \u001b[0mpandasSQL_builder\u001b[0m\u001b[0;34m(\u001b[0m\u001b[0mcon\u001b[0m\u001b[0;34m)\u001b[0m\u001b[0;34m\u001b[0m\u001b[0;34m\u001b[0m\u001b[0m\n\u001b[0;32m--> 377\u001b[0;31m     return pandas_sql.read_query(\n\u001b[0m\u001b[1;32m    378\u001b[0m         \u001b[0msql\u001b[0m\u001b[0;34m,\u001b[0m\u001b[0;34m\u001b[0m\u001b[0;34m\u001b[0m\u001b[0m\n\u001b[1;32m    379\u001b[0m         \u001b[0mindex_col\u001b[0m\u001b[0;34m=\u001b[0m\u001b[0mindex_col\u001b[0m\u001b[0;34m,\u001b[0m\u001b[0;34m\u001b[0m\u001b[0;34m\u001b[0m\u001b[0m\n",
      "\u001b[0;32m~/anaconda3/lib/python3.8/site-packages/pandas/io/sql.py\u001b[0m in \u001b[0;36mread_query\u001b[0;34m(self, sql, index_col, coerce_float, parse_dates, params, chunksize)\u001b[0m\n\u001b[1;32m   1293\u001b[0m         \u001b[0margs\u001b[0m \u001b[0;34m=\u001b[0m \u001b[0m_convert_params\u001b[0m\u001b[0;34m(\u001b[0m\u001b[0msql\u001b[0m\u001b[0;34m,\u001b[0m \u001b[0mparams\u001b[0m\u001b[0;34m)\u001b[0m\u001b[0;34m\u001b[0m\u001b[0;34m\u001b[0m\u001b[0m\n\u001b[1;32m   1294\u001b[0m \u001b[0;34m\u001b[0m\u001b[0m\n\u001b[0;32m-> 1295\u001b[0;31m         \u001b[0mresult\u001b[0m \u001b[0;34m=\u001b[0m \u001b[0mself\u001b[0m\u001b[0;34m.\u001b[0m\u001b[0mexecute\u001b[0m\u001b[0;34m(\u001b[0m\u001b[0;34m*\u001b[0m\u001b[0margs\u001b[0m\u001b[0;34m)\u001b[0m\u001b[0;34m\u001b[0m\u001b[0;34m\u001b[0m\u001b[0m\n\u001b[0m\u001b[1;32m   1296\u001b[0m         \u001b[0mcolumns\u001b[0m \u001b[0;34m=\u001b[0m \u001b[0mresult\u001b[0m\u001b[0;34m.\u001b[0m\u001b[0mkeys\u001b[0m\u001b[0;34m(\u001b[0m\u001b[0;34m)\u001b[0m\u001b[0;34m\u001b[0m\u001b[0;34m\u001b[0m\u001b[0m\n\u001b[1;32m   1297\u001b[0m \u001b[0;34m\u001b[0m\u001b[0m\n",
      "\u001b[0;32m~/anaconda3/lib/python3.8/site-packages/pandas/io/sql.py\u001b[0m in \u001b[0;36mexecute\u001b[0;34m(self, *args, **kwargs)\u001b[0m\n\u001b[1;32m   1159\u001b[0m     \u001b[0;32mdef\u001b[0m \u001b[0mexecute\u001b[0m\u001b[0;34m(\u001b[0m\u001b[0mself\u001b[0m\u001b[0;34m,\u001b[0m \u001b[0;34m*\u001b[0m\u001b[0margs\u001b[0m\u001b[0;34m,\u001b[0m \u001b[0;34m**\u001b[0m\u001b[0mkwargs\u001b[0m\u001b[0;34m)\u001b[0m\u001b[0;34m:\u001b[0m\u001b[0;34m\u001b[0m\u001b[0;34m\u001b[0m\u001b[0m\n\u001b[1;32m   1160\u001b[0m         \u001b[0;34m\"\"\"Simple passthrough to SQLAlchemy connectable\"\"\"\u001b[0m\u001b[0;34m\u001b[0m\u001b[0;34m\u001b[0m\u001b[0m\n\u001b[0;32m-> 1161\u001b[0;31m         return self.connectable.execution_options(no_parameters=True).execute(\n\u001b[0m\u001b[1;32m   1162\u001b[0m             \u001b[0;34m*\u001b[0m\u001b[0margs\u001b[0m\u001b[0;34m,\u001b[0m \u001b[0;34m**\u001b[0m\u001b[0mkwargs\u001b[0m\u001b[0;34m\u001b[0m\u001b[0;34m\u001b[0m\u001b[0m\n\u001b[1;32m   1163\u001b[0m         )\n",
      "\u001b[0;32m~/anaconda3/lib/python3.8/site-packages/sqlalchemy/engine/base.py\u001b[0m in \u001b[0;36mexecute\u001b[0;34m(self, statement, *multiparams, **params)\u001b[0m\n\u001b[1;32m   2233\u001b[0m \u001b[0;34m\u001b[0m\u001b[0m\n\u001b[1;32m   2234\u001b[0m         \u001b[0mconnection\u001b[0m \u001b[0;34m=\u001b[0m \u001b[0mself\u001b[0m\u001b[0;34m.\u001b[0m\u001b[0m_contextual_connect\u001b[0m\u001b[0;34m(\u001b[0m\u001b[0mclose_with_result\u001b[0m\u001b[0;34m=\u001b[0m\u001b[0;32mTrue\u001b[0m\u001b[0;34m)\u001b[0m\u001b[0;34m\u001b[0m\u001b[0;34m\u001b[0m\u001b[0m\n\u001b[0;32m-> 2235\u001b[0;31m         \u001b[0;32mreturn\u001b[0m \u001b[0mconnection\u001b[0m\u001b[0;34m.\u001b[0m\u001b[0mexecute\u001b[0m\u001b[0;34m(\u001b[0m\u001b[0mstatement\u001b[0m\u001b[0;34m,\u001b[0m \u001b[0;34m*\u001b[0m\u001b[0mmultiparams\u001b[0m\u001b[0;34m,\u001b[0m \u001b[0;34m**\u001b[0m\u001b[0mparams\u001b[0m\u001b[0;34m)\u001b[0m\u001b[0;34m\u001b[0m\u001b[0;34m\u001b[0m\u001b[0m\n\u001b[0m\u001b[1;32m   2236\u001b[0m \u001b[0;34m\u001b[0m\u001b[0m\n\u001b[1;32m   2237\u001b[0m     \u001b[0;32mdef\u001b[0m \u001b[0mscalar\u001b[0m\u001b[0;34m(\u001b[0m\u001b[0mself\u001b[0m\u001b[0;34m,\u001b[0m \u001b[0mstatement\u001b[0m\u001b[0;34m,\u001b[0m \u001b[0;34m*\u001b[0m\u001b[0mmultiparams\u001b[0m\u001b[0;34m,\u001b[0m \u001b[0;34m**\u001b[0m\u001b[0mparams\u001b[0m\u001b[0;34m)\u001b[0m\u001b[0;34m:\u001b[0m\u001b[0;34m\u001b[0m\u001b[0;34m\u001b[0m\u001b[0m\n",
      "\u001b[0;32m~/anaconda3/lib/python3.8/site-packages/sqlalchemy/engine/base.py\u001b[0m in \u001b[0;36mexecute\u001b[0;34m(self, object_, *multiparams, **params)\u001b[0m\n\u001b[1;32m   1001\u001b[0m         \"\"\"\n\u001b[1;32m   1002\u001b[0m         \u001b[0;32mif\u001b[0m \u001b[0misinstance\u001b[0m\u001b[0;34m(\u001b[0m\u001b[0mobject_\u001b[0m\u001b[0;34m,\u001b[0m \u001b[0mutil\u001b[0m\u001b[0;34m.\u001b[0m\u001b[0mstring_types\u001b[0m\u001b[0;34m[\u001b[0m\u001b[0;36m0\u001b[0m\u001b[0;34m]\u001b[0m\u001b[0;34m)\u001b[0m\u001b[0;34m:\u001b[0m\u001b[0;34m\u001b[0m\u001b[0;34m\u001b[0m\u001b[0m\n\u001b[0;32m-> 1003\u001b[0;31m             \u001b[0;32mreturn\u001b[0m \u001b[0mself\u001b[0m\u001b[0;34m.\u001b[0m\u001b[0m_execute_text\u001b[0m\u001b[0;34m(\u001b[0m\u001b[0mobject_\u001b[0m\u001b[0;34m,\u001b[0m \u001b[0mmultiparams\u001b[0m\u001b[0;34m,\u001b[0m \u001b[0mparams\u001b[0m\u001b[0;34m)\u001b[0m\u001b[0;34m\u001b[0m\u001b[0;34m\u001b[0m\u001b[0m\n\u001b[0m\u001b[1;32m   1004\u001b[0m         \u001b[0;32mtry\u001b[0m\u001b[0;34m:\u001b[0m\u001b[0;34m\u001b[0m\u001b[0;34m\u001b[0m\u001b[0m\n\u001b[1;32m   1005\u001b[0m             \u001b[0mmeth\u001b[0m \u001b[0;34m=\u001b[0m \u001b[0mobject_\u001b[0m\u001b[0;34m.\u001b[0m\u001b[0m_execute_on_connection\u001b[0m\u001b[0;34m\u001b[0m\u001b[0;34m\u001b[0m\u001b[0m\n",
      "\u001b[0;32m~/anaconda3/lib/python3.8/site-packages/sqlalchemy/engine/base.py\u001b[0m in \u001b[0;36m_execute_text\u001b[0;34m(self, statement, multiparams, params)\u001b[0m\n\u001b[1;32m   1170\u001b[0m         \u001b[0mdialect\u001b[0m \u001b[0;34m=\u001b[0m \u001b[0mself\u001b[0m\u001b[0;34m.\u001b[0m\u001b[0mdialect\u001b[0m\u001b[0;34m\u001b[0m\u001b[0;34m\u001b[0m\u001b[0m\n\u001b[1;32m   1171\u001b[0m         \u001b[0mparameters\u001b[0m \u001b[0;34m=\u001b[0m \u001b[0m_distill_params\u001b[0m\u001b[0;34m(\u001b[0m\u001b[0mmultiparams\u001b[0m\u001b[0;34m,\u001b[0m \u001b[0mparams\u001b[0m\u001b[0;34m)\u001b[0m\u001b[0;34m\u001b[0m\u001b[0;34m\u001b[0m\u001b[0m\n\u001b[0;32m-> 1172\u001b[0;31m         ret = self._execute_context(\n\u001b[0m\u001b[1;32m   1173\u001b[0m             \u001b[0mdialect\u001b[0m\u001b[0;34m,\u001b[0m\u001b[0;34m\u001b[0m\u001b[0;34m\u001b[0m\u001b[0m\n\u001b[1;32m   1174\u001b[0m             \u001b[0mdialect\u001b[0m\u001b[0;34m.\u001b[0m\u001b[0mexecution_ctx_cls\u001b[0m\u001b[0;34m.\u001b[0m\u001b[0m_init_statement\u001b[0m\u001b[0;34m,\u001b[0m\u001b[0;34m\u001b[0m\u001b[0;34m\u001b[0m\u001b[0m\n",
      "\u001b[0;32m~/anaconda3/lib/python3.8/site-packages/sqlalchemy/engine/base.py\u001b[0m in \u001b[0;36m_execute_context\u001b[0;34m(self, dialect, constructor, statement, parameters, *args)\u001b[0m\n\u001b[1;32m   1314\u001b[0m \u001b[0;34m\u001b[0m\u001b[0m\n\u001b[1;32m   1315\u001b[0m         \u001b[0;32mexcept\u001b[0m \u001b[0mBaseException\u001b[0m \u001b[0;32mas\u001b[0m \u001b[0me\u001b[0m\u001b[0;34m:\u001b[0m\u001b[0;34m\u001b[0m\u001b[0;34m\u001b[0m\u001b[0m\n\u001b[0;32m-> 1316\u001b[0;31m             self._handle_dbapi_exception(\n\u001b[0m\u001b[1;32m   1317\u001b[0m                 \u001b[0me\u001b[0m\u001b[0;34m,\u001b[0m \u001b[0mstatement\u001b[0m\u001b[0;34m,\u001b[0m \u001b[0mparameters\u001b[0m\u001b[0;34m,\u001b[0m \u001b[0mcursor\u001b[0m\u001b[0;34m,\u001b[0m \u001b[0mcontext\u001b[0m\u001b[0;34m\u001b[0m\u001b[0;34m\u001b[0m\u001b[0m\n\u001b[1;32m   1318\u001b[0m             )\n",
      "\u001b[0;32m~/anaconda3/lib/python3.8/site-packages/sqlalchemy/engine/base.py\u001b[0m in \u001b[0;36m_handle_dbapi_exception\u001b[0;34m(self, e, statement, parameters, cursor, context)\u001b[0m\n\u001b[1;32m   1508\u001b[0m                 \u001b[0mutil\u001b[0m\u001b[0;34m.\u001b[0m\u001b[0mraise_\u001b[0m\u001b[0;34m(\u001b[0m\u001b[0mnewraise\u001b[0m\u001b[0;34m,\u001b[0m \u001b[0mwith_traceback\u001b[0m\u001b[0;34m=\u001b[0m\u001b[0mexc_info\u001b[0m\u001b[0;34m[\u001b[0m\u001b[0;36m2\u001b[0m\u001b[0;34m]\u001b[0m\u001b[0;34m,\u001b[0m \u001b[0mfrom_\u001b[0m\u001b[0;34m=\u001b[0m\u001b[0me\u001b[0m\u001b[0;34m)\u001b[0m\u001b[0;34m\u001b[0m\u001b[0;34m\u001b[0m\u001b[0m\n\u001b[1;32m   1509\u001b[0m             \u001b[0;32melif\u001b[0m \u001b[0mshould_wrap\u001b[0m\u001b[0;34m:\u001b[0m\u001b[0;34m\u001b[0m\u001b[0;34m\u001b[0m\u001b[0m\n\u001b[0;32m-> 1510\u001b[0;31m                 util.raise_(\n\u001b[0m\u001b[1;32m   1511\u001b[0m                     \u001b[0msqlalchemy_exception\u001b[0m\u001b[0;34m,\u001b[0m \u001b[0mwith_traceback\u001b[0m\u001b[0;34m=\u001b[0m\u001b[0mexc_info\u001b[0m\u001b[0;34m[\u001b[0m\u001b[0;36m2\u001b[0m\u001b[0;34m]\u001b[0m\u001b[0;34m,\u001b[0m \u001b[0mfrom_\u001b[0m\u001b[0;34m=\u001b[0m\u001b[0me\u001b[0m\u001b[0;34m\u001b[0m\u001b[0;34m\u001b[0m\u001b[0m\n\u001b[1;32m   1512\u001b[0m                 )\n",
      "\u001b[0;32m~/anaconda3/lib/python3.8/site-packages/sqlalchemy/util/compat.py\u001b[0m in \u001b[0;36mraise_\u001b[0;34m(***failed resolving arguments***)\u001b[0m\n\u001b[1;32m    180\u001b[0m \u001b[0;34m\u001b[0m\u001b[0m\n\u001b[1;32m    181\u001b[0m         \u001b[0;32mtry\u001b[0m\u001b[0;34m:\u001b[0m\u001b[0;34m\u001b[0m\u001b[0;34m\u001b[0m\u001b[0m\n\u001b[0;32m--> 182\u001b[0;31m             \u001b[0;32mraise\u001b[0m \u001b[0mexception\u001b[0m\u001b[0;34m\u001b[0m\u001b[0;34m\u001b[0m\u001b[0m\n\u001b[0m\u001b[1;32m    183\u001b[0m         \u001b[0;32mfinally\u001b[0m\u001b[0;34m:\u001b[0m\u001b[0;34m\u001b[0m\u001b[0;34m\u001b[0m\u001b[0m\n\u001b[1;32m    184\u001b[0m             \u001b[0;31m# credit to\u001b[0m\u001b[0;34m\u001b[0m\u001b[0;34m\u001b[0m\u001b[0;34m\u001b[0m\u001b[0m\n",
      "\u001b[0;32m~/anaconda3/lib/python3.8/site-packages/sqlalchemy/engine/base.py\u001b[0m in \u001b[0;36m_execute_context\u001b[0;34m(self, dialect, constructor, statement, parameters, *args)\u001b[0m\n\u001b[1;32m   1264\u001b[0m                             \u001b[0;32mbreak\u001b[0m\u001b[0;34m\u001b[0m\u001b[0;34m\u001b[0m\u001b[0m\n\u001b[1;32m   1265\u001b[0m                 \u001b[0;32mif\u001b[0m \u001b[0;32mnot\u001b[0m \u001b[0mevt_handled\u001b[0m\u001b[0;34m:\u001b[0m\u001b[0;34m\u001b[0m\u001b[0;34m\u001b[0m\u001b[0m\n\u001b[0;32m-> 1266\u001b[0;31m                     self.dialect.do_execute_no_params(\n\u001b[0m\u001b[1;32m   1267\u001b[0m                         \u001b[0mcursor\u001b[0m\u001b[0;34m,\u001b[0m \u001b[0mstatement\u001b[0m\u001b[0;34m,\u001b[0m \u001b[0mcontext\u001b[0m\u001b[0;34m\u001b[0m\u001b[0;34m\u001b[0m\u001b[0m\n\u001b[1;32m   1268\u001b[0m                     )\n",
      "\u001b[0;32m~/anaconda3/lib/python3.8/site-packages/sqlalchemy/engine/default.py\u001b[0m in \u001b[0;36mdo_execute_no_params\u001b[0;34m(self, cursor, statement, context)\u001b[0m\n\u001b[1;32m    594\u001b[0m \u001b[0;34m\u001b[0m\u001b[0m\n\u001b[1;32m    595\u001b[0m     \u001b[0;32mdef\u001b[0m \u001b[0mdo_execute_no_params\u001b[0m\u001b[0;34m(\u001b[0m\u001b[0mself\u001b[0m\u001b[0;34m,\u001b[0m \u001b[0mcursor\u001b[0m\u001b[0;34m,\u001b[0m \u001b[0mstatement\u001b[0m\u001b[0;34m,\u001b[0m \u001b[0mcontext\u001b[0m\u001b[0;34m=\u001b[0m\u001b[0;32mNone\u001b[0m\u001b[0;34m)\u001b[0m\u001b[0;34m:\u001b[0m\u001b[0;34m\u001b[0m\u001b[0;34m\u001b[0m\u001b[0m\n\u001b[0;32m--> 596\u001b[0;31m         \u001b[0mcursor\u001b[0m\u001b[0;34m.\u001b[0m\u001b[0mexecute\u001b[0m\u001b[0;34m(\u001b[0m\u001b[0mstatement\u001b[0m\u001b[0;34m)\u001b[0m\u001b[0;34m\u001b[0m\u001b[0;34m\u001b[0m\u001b[0m\n\u001b[0m\u001b[1;32m    597\u001b[0m \u001b[0;34m\u001b[0m\u001b[0m\n\u001b[1;32m    598\u001b[0m     \u001b[0;32mdef\u001b[0m \u001b[0mis_disconnect\u001b[0m\u001b[0;34m(\u001b[0m\u001b[0mself\u001b[0m\u001b[0;34m,\u001b[0m \u001b[0me\u001b[0m\u001b[0;34m,\u001b[0m \u001b[0mconnection\u001b[0m\u001b[0;34m,\u001b[0m \u001b[0mcursor\u001b[0m\u001b[0;34m)\u001b[0m\u001b[0;34m:\u001b[0m\u001b[0;34m\u001b[0m\u001b[0;34m\u001b[0m\u001b[0m\n",
      "\u001b[0;32m~/anaconda3/lib/python3.8/site-packages/pymysql/cursors.py\u001b[0m in \u001b[0;36mexecute\u001b[0;34m(self, query, args)\u001b[0m\n\u001b[1;32m    146\u001b[0m         \u001b[0mquery\u001b[0m \u001b[0;34m=\u001b[0m \u001b[0mself\u001b[0m\u001b[0;34m.\u001b[0m\u001b[0mmogrify\u001b[0m\u001b[0;34m(\u001b[0m\u001b[0mquery\u001b[0m\u001b[0;34m,\u001b[0m \u001b[0margs\u001b[0m\u001b[0;34m)\u001b[0m\u001b[0;34m\u001b[0m\u001b[0;34m\u001b[0m\u001b[0m\n\u001b[1;32m    147\u001b[0m \u001b[0;34m\u001b[0m\u001b[0m\n\u001b[0;32m--> 148\u001b[0;31m         \u001b[0mresult\u001b[0m \u001b[0;34m=\u001b[0m \u001b[0mself\u001b[0m\u001b[0;34m.\u001b[0m\u001b[0m_query\u001b[0m\u001b[0;34m(\u001b[0m\u001b[0mquery\u001b[0m\u001b[0;34m)\u001b[0m\u001b[0;34m\u001b[0m\u001b[0;34m\u001b[0m\u001b[0m\n\u001b[0m\u001b[1;32m    149\u001b[0m         \u001b[0mself\u001b[0m\u001b[0;34m.\u001b[0m\u001b[0m_executed\u001b[0m \u001b[0;34m=\u001b[0m \u001b[0mquery\u001b[0m\u001b[0;34m\u001b[0m\u001b[0;34m\u001b[0m\u001b[0m\n\u001b[1;32m    150\u001b[0m         \u001b[0;32mreturn\u001b[0m \u001b[0mresult\u001b[0m\u001b[0;34m\u001b[0m\u001b[0;34m\u001b[0m\u001b[0m\n",
      "\u001b[0;32m~/anaconda3/lib/python3.8/site-packages/pymysql/cursors.py\u001b[0m in \u001b[0;36m_query\u001b[0;34m(self, q)\u001b[0m\n\u001b[1;32m    308\u001b[0m         \u001b[0mself\u001b[0m\u001b[0;34m.\u001b[0m\u001b[0m_last_executed\u001b[0m \u001b[0;34m=\u001b[0m \u001b[0mq\u001b[0m\u001b[0;34m\u001b[0m\u001b[0;34m\u001b[0m\u001b[0m\n\u001b[1;32m    309\u001b[0m         \u001b[0mself\u001b[0m\u001b[0;34m.\u001b[0m\u001b[0m_clear_result\u001b[0m\u001b[0;34m(\u001b[0m\u001b[0;34m)\u001b[0m\u001b[0;34m\u001b[0m\u001b[0;34m\u001b[0m\u001b[0m\n\u001b[0;32m--> 310\u001b[0;31m         \u001b[0mconn\u001b[0m\u001b[0;34m.\u001b[0m\u001b[0mquery\u001b[0m\u001b[0;34m(\u001b[0m\u001b[0mq\u001b[0m\u001b[0;34m)\u001b[0m\u001b[0;34m\u001b[0m\u001b[0;34m\u001b[0m\u001b[0m\n\u001b[0m\u001b[1;32m    311\u001b[0m         \u001b[0mself\u001b[0m\u001b[0;34m.\u001b[0m\u001b[0m_do_get_result\u001b[0m\u001b[0;34m(\u001b[0m\u001b[0;34m)\u001b[0m\u001b[0;34m\u001b[0m\u001b[0;34m\u001b[0m\u001b[0m\n\u001b[1;32m    312\u001b[0m         \u001b[0;32mreturn\u001b[0m \u001b[0mself\u001b[0m\u001b[0;34m.\u001b[0m\u001b[0mrowcount\u001b[0m\u001b[0;34m\u001b[0m\u001b[0;34m\u001b[0m\u001b[0m\n",
      "\u001b[0;32m~/anaconda3/lib/python3.8/site-packages/pymysql/connections.py\u001b[0m in \u001b[0;36mquery\u001b[0;34m(self, sql, unbuffered)\u001b[0m\n\u001b[1;32m    546\u001b[0m             \u001b[0msql\u001b[0m \u001b[0;34m=\u001b[0m \u001b[0msql\u001b[0m\u001b[0;34m.\u001b[0m\u001b[0mencode\u001b[0m\u001b[0;34m(\u001b[0m\u001b[0mself\u001b[0m\u001b[0;34m.\u001b[0m\u001b[0mencoding\u001b[0m\u001b[0;34m,\u001b[0m \u001b[0;34m\"surrogateescape\"\u001b[0m\u001b[0;34m)\u001b[0m\u001b[0;34m\u001b[0m\u001b[0;34m\u001b[0m\u001b[0m\n\u001b[1;32m    547\u001b[0m         \u001b[0mself\u001b[0m\u001b[0;34m.\u001b[0m\u001b[0m_execute_command\u001b[0m\u001b[0;34m(\u001b[0m\u001b[0mCOMMAND\u001b[0m\u001b[0;34m.\u001b[0m\u001b[0mCOM_QUERY\u001b[0m\u001b[0;34m,\u001b[0m \u001b[0msql\u001b[0m\u001b[0;34m)\u001b[0m\u001b[0;34m\u001b[0m\u001b[0;34m\u001b[0m\u001b[0m\n\u001b[0;32m--> 548\u001b[0;31m         \u001b[0mself\u001b[0m\u001b[0;34m.\u001b[0m\u001b[0m_affected_rows\u001b[0m \u001b[0;34m=\u001b[0m \u001b[0mself\u001b[0m\u001b[0;34m.\u001b[0m\u001b[0m_read_query_result\u001b[0m\u001b[0;34m(\u001b[0m\u001b[0munbuffered\u001b[0m\u001b[0;34m=\u001b[0m\u001b[0munbuffered\u001b[0m\u001b[0;34m)\u001b[0m\u001b[0;34m\u001b[0m\u001b[0;34m\u001b[0m\u001b[0m\n\u001b[0m\u001b[1;32m    549\u001b[0m         \u001b[0;32mreturn\u001b[0m \u001b[0mself\u001b[0m\u001b[0;34m.\u001b[0m\u001b[0m_affected_rows\u001b[0m\u001b[0;34m\u001b[0m\u001b[0;34m\u001b[0m\u001b[0m\n\u001b[1;32m    550\u001b[0m \u001b[0;34m\u001b[0m\u001b[0m\n",
      "\u001b[0;32m~/anaconda3/lib/python3.8/site-packages/pymysql/connections.py\u001b[0m in \u001b[0;36m_read_query_result\u001b[0;34m(self, unbuffered)\u001b[0m\n\u001b[1;32m    773\u001b[0m         \u001b[0;32melse\u001b[0m\u001b[0;34m:\u001b[0m\u001b[0;34m\u001b[0m\u001b[0;34m\u001b[0m\u001b[0m\n\u001b[1;32m    774\u001b[0m             \u001b[0mresult\u001b[0m \u001b[0;34m=\u001b[0m \u001b[0mMySQLResult\u001b[0m\u001b[0;34m(\u001b[0m\u001b[0mself\u001b[0m\u001b[0;34m)\u001b[0m\u001b[0;34m\u001b[0m\u001b[0;34m\u001b[0m\u001b[0m\n\u001b[0;32m--> 775\u001b[0;31m             \u001b[0mresult\u001b[0m\u001b[0;34m.\u001b[0m\u001b[0mread\u001b[0m\u001b[0;34m(\u001b[0m\u001b[0;34m)\u001b[0m\u001b[0;34m\u001b[0m\u001b[0;34m\u001b[0m\u001b[0m\n\u001b[0m\u001b[1;32m    776\u001b[0m         \u001b[0mself\u001b[0m\u001b[0;34m.\u001b[0m\u001b[0m_result\u001b[0m \u001b[0;34m=\u001b[0m \u001b[0mresult\u001b[0m\u001b[0;34m\u001b[0m\u001b[0;34m\u001b[0m\u001b[0m\n\u001b[1;32m    777\u001b[0m         \u001b[0;32mif\u001b[0m \u001b[0mresult\u001b[0m\u001b[0;34m.\u001b[0m\u001b[0mserver_status\u001b[0m \u001b[0;32mis\u001b[0m \u001b[0;32mnot\u001b[0m \u001b[0;32mNone\u001b[0m\u001b[0;34m:\u001b[0m\u001b[0;34m\u001b[0m\u001b[0;34m\u001b[0m\u001b[0m\n",
      "\u001b[0;32m~/anaconda3/lib/python3.8/site-packages/pymysql/connections.py\u001b[0m in \u001b[0;36mread\u001b[0;34m(self)\u001b[0m\n\u001b[1;32m   1154\u001b[0m     \u001b[0;32mdef\u001b[0m \u001b[0mread\u001b[0m\u001b[0;34m(\u001b[0m\u001b[0mself\u001b[0m\u001b[0;34m)\u001b[0m\u001b[0;34m:\u001b[0m\u001b[0;34m\u001b[0m\u001b[0;34m\u001b[0m\u001b[0m\n\u001b[1;32m   1155\u001b[0m         \u001b[0;32mtry\u001b[0m\u001b[0;34m:\u001b[0m\u001b[0;34m\u001b[0m\u001b[0;34m\u001b[0m\u001b[0m\n\u001b[0;32m-> 1156\u001b[0;31m             \u001b[0mfirst_packet\u001b[0m \u001b[0;34m=\u001b[0m \u001b[0mself\u001b[0m\u001b[0;34m.\u001b[0m\u001b[0mconnection\u001b[0m\u001b[0;34m.\u001b[0m\u001b[0m_read_packet\u001b[0m\u001b[0;34m(\u001b[0m\u001b[0;34m)\u001b[0m\u001b[0;34m\u001b[0m\u001b[0;34m\u001b[0m\u001b[0m\n\u001b[0m\u001b[1;32m   1157\u001b[0m \u001b[0;34m\u001b[0m\u001b[0m\n\u001b[1;32m   1158\u001b[0m             \u001b[0;32mif\u001b[0m \u001b[0mfirst_packet\u001b[0m\u001b[0;34m.\u001b[0m\u001b[0mis_ok_packet\u001b[0m\u001b[0;34m(\u001b[0m\u001b[0;34m)\u001b[0m\u001b[0;34m:\u001b[0m\u001b[0;34m\u001b[0m\u001b[0;34m\u001b[0m\u001b[0m\n",
      "\u001b[0;32m~/anaconda3/lib/python3.8/site-packages/pymysql/connections.py\u001b[0m in \u001b[0;36m_read_packet\u001b[0;34m(self, packet_type)\u001b[0m\n\u001b[1;32m    723\u001b[0m             \u001b[0;32mif\u001b[0m \u001b[0mself\u001b[0m\u001b[0;34m.\u001b[0m\u001b[0m_result\u001b[0m \u001b[0;32mis\u001b[0m \u001b[0;32mnot\u001b[0m \u001b[0;32mNone\u001b[0m \u001b[0;32mand\u001b[0m \u001b[0mself\u001b[0m\u001b[0;34m.\u001b[0m\u001b[0m_result\u001b[0m\u001b[0;34m.\u001b[0m\u001b[0munbuffered_active\u001b[0m \u001b[0;32mis\u001b[0m \u001b[0;32mTrue\u001b[0m\u001b[0;34m:\u001b[0m\u001b[0;34m\u001b[0m\u001b[0;34m\u001b[0m\u001b[0m\n\u001b[1;32m    724\u001b[0m                 \u001b[0mself\u001b[0m\u001b[0;34m.\u001b[0m\u001b[0m_result\u001b[0m\u001b[0;34m.\u001b[0m\u001b[0munbuffered_active\u001b[0m \u001b[0;34m=\u001b[0m \u001b[0;32mFalse\u001b[0m\u001b[0;34m\u001b[0m\u001b[0;34m\u001b[0m\u001b[0m\n\u001b[0;32m--> 725\u001b[0;31m             \u001b[0mpacket\u001b[0m\u001b[0;34m.\u001b[0m\u001b[0mraise_for_error\u001b[0m\u001b[0;34m(\u001b[0m\u001b[0;34m)\u001b[0m\u001b[0;34m\u001b[0m\u001b[0;34m\u001b[0m\u001b[0m\n\u001b[0m\u001b[1;32m    726\u001b[0m         \u001b[0;32mreturn\u001b[0m \u001b[0mpacket\u001b[0m\u001b[0;34m\u001b[0m\u001b[0;34m\u001b[0m\u001b[0m\n\u001b[1;32m    727\u001b[0m \u001b[0;34m\u001b[0m\u001b[0m\n",
      "\u001b[0;32m~/anaconda3/lib/python3.8/site-packages/pymysql/protocol.py\u001b[0m in \u001b[0;36mraise_for_error\u001b[0;34m(self)\u001b[0m\n\u001b[1;32m    219\u001b[0m         \u001b[0;32mif\u001b[0m \u001b[0mDEBUG\u001b[0m\u001b[0;34m:\u001b[0m\u001b[0;34m\u001b[0m\u001b[0;34m\u001b[0m\u001b[0m\n\u001b[1;32m    220\u001b[0m             \u001b[0mprint\u001b[0m\u001b[0;34m(\u001b[0m\u001b[0;34m\"errno =\"\u001b[0m\u001b[0;34m,\u001b[0m \u001b[0merrno\u001b[0m\u001b[0;34m)\u001b[0m\u001b[0;34m\u001b[0m\u001b[0;34m\u001b[0m\u001b[0m\n\u001b[0;32m--> 221\u001b[0;31m         \u001b[0merr\u001b[0m\u001b[0;34m.\u001b[0m\u001b[0mraise_mysql_exception\u001b[0m\u001b[0;34m(\u001b[0m\u001b[0mself\u001b[0m\u001b[0;34m.\u001b[0m\u001b[0m_data\u001b[0m\u001b[0;34m)\u001b[0m\u001b[0;34m\u001b[0m\u001b[0;34m\u001b[0m\u001b[0m\n\u001b[0m\u001b[1;32m    222\u001b[0m \u001b[0;34m\u001b[0m\u001b[0m\n\u001b[1;32m    223\u001b[0m     \u001b[0;32mdef\u001b[0m \u001b[0mdump\u001b[0m\u001b[0;34m(\u001b[0m\u001b[0mself\u001b[0m\u001b[0;34m)\u001b[0m\u001b[0;34m:\u001b[0m\u001b[0;34m\u001b[0m\u001b[0;34m\u001b[0m\u001b[0m\n",
      "\u001b[0;32m~/anaconda3/lib/python3.8/site-packages/pymysql/err.py\u001b[0m in \u001b[0;36mraise_mysql_exception\u001b[0;34m(data)\u001b[0m\n\u001b[1;32m    141\u001b[0m     \u001b[0;32mif\u001b[0m \u001b[0merrorclass\u001b[0m \u001b[0;32mis\u001b[0m \u001b[0;32mNone\u001b[0m\u001b[0;34m:\u001b[0m\u001b[0;34m\u001b[0m\u001b[0;34m\u001b[0m\u001b[0m\n\u001b[1;32m    142\u001b[0m         \u001b[0merrorclass\u001b[0m \u001b[0;34m=\u001b[0m \u001b[0mInternalError\u001b[0m \u001b[0;32mif\u001b[0m \u001b[0merrno\u001b[0m \u001b[0;34m<\u001b[0m \u001b[0;36m1000\u001b[0m \u001b[0;32melse\u001b[0m \u001b[0mOperationalError\u001b[0m\u001b[0;34m\u001b[0m\u001b[0;34m\u001b[0m\u001b[0m\n\u001b[0;32m--> 143\u001b[0;31m     \u001b[0;32mraise\u001b[0m \u001b[0merrorclass\u001b[0m\u001b[0;34m(\u001b[0m\u001b[0merrno\u001b[0m\u001b[0;34m,\u001b[0m \u001b[0merrval\u001b[0m\u001b[0;34m)\u001b[0m\u001b[0;34m\u001b[0m\u001b[0;34m\u001b[0m\u001b[0m\n\u001b[0m",
      "\u001b[0;31mProgrammingError\u001b[0m: (pymysql.err.ProgrammingError) (1146, \"Table 'survey.database_used' doesn't exist\")\n[SQL: select * from database_used;]\n(Background on this error at: http://sqlalche.me/e/13/f405)"
     ]
    }
   ],
   "source": [
    "database_columns = pd.read_sql_query(\"select * from database_used;\", engine).columns\n",
    "database_columns"
   ]
  },
  {
   "cell_type": "code",
   "execution_count": null,
   "metadata": {},
   "outputs": [],
   "source": []
  },
  {
   "cell_type": "code",
   "execution_count": null,
   "metadata": {},
   "outputs": [],
   "source": []
  },
  {
   "source": [
    "# DataFrame other_database"
   ],
   "cell_type": "markdown",
   "metadata": {}
  },
  {
   "cell_type": "code",
   "execution_count": 46,
   "metadata": {},
   "outputs": [
    {
     "output_type": "error",
     "ename": "NameError",
     "evalue": "name 'Enum' is not defined",
     "traceback": [
      "\u001b[0;31m---------------------------------------------------------------------------\u001b[0m",
      "\u001b[0;31mNameError\u001b[0m                                 Traceback (most recent call last)",
      "\u001b[0;32m<ipython-input-46-e348548cc0a4>\u001b[0m in \u001b[0;36m<module>\u001b[0;34m\u001b[0m\n\u001b[1;32m      2\u001b[0m \u001b[0;31m# par des valeurs uniformizé (le nom de l'enum)\u001b[0m\u001b[0;34m\u001b[0m\u001b[0;34m\u001b[0m\u001b[0;34m\u001b[0m\u001b[0m\n\u001b[1;32m      3\u001b[0m \u001b[0;31m# la valeur de l'enum étant un pattern regex pour le remplacement\u001b[0m\u001b[0;34m\u001b[0m\u001b[0;34m\u001b[0m\u001b[0;34m\u001b[0m\u001b[0m\n\u001b[0;32m----> 4\u001b[0;31m \u001b[0;32mclass\u001b[0m \u001b[0mEnumDatabases\u001b[0m\u001b[0;34m(\u001b[0m\u001b[0mEnum\u001b[0m\u001b[0;34m)\u001b[0m\u001b[0;34m:\u001b[0m\u001b[0;34m\u001b[0m\u001b[0;34m\u001b[0m\u001b[0m\n\u001b[0m\u001b[1;32m      5\u001b[0m     \u001b[0mMS_SQL_SERVER\u001b[0m \u001b[0;34m=\u001b[0m \u001b[0;34m'microsoft sql server|ms sql server|ssrs'\u001b[0m\u001b[0;34m\u001b[0m\u001b[0;34m\u001b[0m\u001b[0m\n\u001b[1;32m      6\u001b[0m     \u001b[0mMS_APS\u001b[0m \u001b[0;34m=\u001b[0m \u001b[0;34m'parallel data ?warehouse|pdw|aps|azure dw|azure data ?warehouse'\u001b[0m\u001b[0;34m\u001b[0m\u001b[0;34m\u001b[0m\u001b[0m\n",
      "\u001b[0;31mNameError\u001b[0m: name 'Enum' is not defined"
     ]
    }
   ],
   "source": [
    "# Enumeration servant à remplacer les valeurs dans OtherDatabase et PrimaryDatabase\n",
    "# par des valeurs uniformizé (le nom de l'enum)\n",
    "# la valeur de l'enum étant un pattern regex pour le remplacement\n",
    "class EnumDatabases(Enum):\n",
    "    MS_SQL_SERVER = 'microsoft sql server|ms sql server|ssrs'\n",
    "    MS_APS = 'parallel data ?warehouse|pdw|aps|azure dw|azure data ?warehouse'\n",
    "    POSTGRE_SQL = 'postgresql|enterprisedb'\n",
    "    AZURE_DATA_LAKE = 'data lake'\n",
    "    AZURE_SQL_DB = 'azure'\n",
    "    MICROSOFT_ACCESS = 'microsoft access'\n",
    "    ORACLE = 'oracle'\n",
    "    MYSQL = 'mysql/mariadb'\n",
    "    AMAZON_RDS = 'amazon rds'\n",
    "    MONGO_DB = 'mongodb'\n",
    "    IBM_DB2 = 'db2|udb|as ?400'\n",
    "    IBM_NETEZZA = 'netezza'\n",
    "    CASSANDRA = 'cassandra'\n",
    "    SQLITE = 'sqlite|db3'\n",
    "    SAP = 'sap'\n",
    "    TERADATA = 'teradata'\n",
    "    ELASTIC_SEARCH = 'elasticsearch'\n",
    "    COSMO_DB = 'cosmosdb'\n",
    "    RAVEN_DB = 'raven ?db'\n",
    "    SNOWFLAKE = 'snowflake'\n",
    "    HADOOP = 'hadoop|hdfs'\n",
    "    FIREBIRD = 'firebird'\n",
    "    FIREBOLT = 'firebolt'\n",
    "    BIGQUERY = 'big ?query|gbq'\n",
    "    REDIS = 'redis'\n",
    "    AMAZON_REDSHIFT = 'redshift'\n",
    "    AMAZON_AURORA = 'aurora|aws'\n",
    "    COUCH_DB = 'co[a|u]chdb'\n",
    "    INFORMIX = 'informix'\n",
    "    PROGRESS = 'progress|4gl|open ?edge'\n",
    "    SYBASE = 'sybase'\n",
    "    INGRES = 'ingres|actian'\n",
    "    PROVIDEX = 'providex'\n",
    "    APACHE_MAPR = 'mapr'\n",
    "    TIBCO_GRAPH_DB = 'tibco'\n",
    "    VECTOR_WISE = 'informatica'\n",
    "    ORACLE_BERKELEY = 'berkeley'\n",
    "    QLIK_SENSE = 'qix'\n",
    "    ADABAS = 'adabas'\n",
    "    COUCHBASE = 'couch ?base'\n",
    "    FOXPRO = 'foxpro'\n",
    "    EXASOL = 'exasol'\n",
    "    INTERBASE = 'interbase'\n",
    "    PERVASIVE = 'pervasive'\n",
    "    RIAK = 'riak'\n",
    "    DATACOM = 'datacom'\n",
    "    GREENPLUM = 'greenplum'\n",
    "    VERTICA = 'vertica'\n",
    "    SAP_HANA = 'hana'\n",
    "    PARADOX = 'paradox'\n",
    "    GRUPTA_SQLBASE = 'sql ?base'\n",
    "    DYNAMO_DB = 'dynamo'\n",
    "    MULTICS_RDS = 'multics'\n",
    "    CITRIX = 'citrix'\n",
    "    ALPHAFOUR = 'alpha ?four'\n",
    "    ROCKET_UNIDATA = 'unidata'\n",
    "    ROCKET_UNIVERSE = 'universe'\n",
    "    RAIMA_DBVISTA = 'raima|dbvista'\n",
    "    AMAZON_DOCUMENT_DB = 'documentdb'\n",
    "    NEO4J = 'neo4j'\n",
    "    PICK_OS = 'pick'\n",
    "    ADS_DB = 'advantage|ads'\n",
    "    IBM_NOTES_DOMINO = 'domino'\n",
    "    IBM_IMS = 'ims'\n",
    "    H2_DB = 'h2'\n",
    "    FOURD_DB = '4d'\n",
    "    DATAEASE = 'dataease'\n",
    "    GRAPH_DB = 'graphdb'\n",
    "    MONET_DB = 'monetdb'\n",
    "    MARKLOGIC = 'marklogic'\n",
    "    KYLIN = 'kylin'\n",
    "    HPCC = 'hpcc'\n",
    "    LITE_DB = 'litedb'\n",
    "    APACHE_IMPALA = 'impala'\n",
    "    PERVASIVE_BTRIEVE = 'btrieve'\n",
    "    MEMSQL = 'memsql|singlestore'\n",
    "    UNISYS = 'unisys'\n",
    "    INFLUX_DB = 'i[n|m]flux'\n",
    "    SQL_ANYWHERE = 'sql ?anywhere'\n",
    "    SPARK = 'spark'\n",
    "    COCKROACH = 'cockroach'\n",
    "    GOOGLE_SPANNER = 'spanner'\n",
    "    GOOGLE_CLOUD_SQL = 'google|gcp'\n",
    "    SCADA = 'scada'\n",
    "    GPU_DB = 'kinetica'\n",
    "    EXTREME_DB = 'extremedb'\n",
    "    ARANGO_DB = 'arango'\n",
    "    ROCKS_DB = 'rocks'\n",
    "    CLIPPER = 'clipper'\n",
    "    DRUID = 'druid'\n",
    "    PRESTO_DB = 'presto'\n",
    "    CLOUDERA_OP_DB = 'cloudera'\n",
    "    FILEMAKER = 'filemaker'\n",
    "    APACHE_SOLR = 'solr'\n",
    "    APACHE_KAFKA = 'kafka'\n",
    "    APACHE_IGNITE = 'ignite'\n",
    "    APACHE_HBASE = 'hbase'\n",
    "    APACHE_PARQUET = 'parquet'\n",
    "    APACHE_KUDU = 'kudu'\n",
    "    ALTIBASE = 'altibase'\n",
    "    SPLUNK = 'splunk'\n",
    "    SALESFORCE = 'salesforce'\n",
    "    APACHE_DELTA = 'delta lake'\n",
    "    APACHE_DERBY = 'derby'\n",
    "    DATABRICKS = 'databricks'\n",
    "    CLICKHOUSE = 'clickhouse'\n",
    "    ORACLE_ESSBASE = 'essbase|hyperion'\n",
    "    ORIENT_DB = 'orientdb'\n",
    "    INTERSYSTEMS_CACHE = 'intersystems|cach.'\n",
    "    IBM_COGNOS = 'tm1'\n",
    "    IBM_REDBRICK = 'red ?brick'\n",
    "    IBM_FOCUS = 'focus'\n",
    "    DB4O = 'db4'\n",
    "    MUMPS = 'mumps'\n",
    "    HIVE = 'hive|llap|hdinsight'\n",
    "    NONSTOP_SQL = 'hp tandem'\n",
    "    CISCO = 'cisco'\n",
    "    JADE = 'jade'\n",
    "    CLUSTRIX = 'clustrix'\n",
    "    RDB = 'rdb'\n",
    "    MS_COSMOS_DB = 'cosmo'\n",
    "    IDMS = 'idms'\n",
    "    SAS = 'sas'\n",
    "    DBASE = 'dbase'\n",
    "    POWER_BI = 'power'\n",
    "    OTHER = 'other'\n",
    "\n",
    "\n",
    "def uniformize_database(db: str):\n",
    "    \"\"\"Fonction qui retourne pour un nom de base de données, un index (int) correspondant à l'enum\n",
    "\n",
    "    Args:\n",
    "        db (str): Nom d'une base de données\n",
    "\n",
    "    Returns:\n",
    "        int: Index de l'enum\n",
    "    \"\"\"\n",
    "    for key, database in enumerate(EnumDatabases):\n",
    "        if re.search('(?:' + database.value + ')',\n",
    "                     db, flags=re.IGNORECASE) or database.value.find(db) != -1:\n",
    "            return key + 1\n",
    "    # to check what was missed\n",
    "    # print(db)\n",
    "    return len(EnumDatabases)"
   ]
  },
  {
   "cell_type": "code",
   "execution_count": null,
   "metadata": {},
   "outputs": [],
   "source": []
  },
  {
   "cell_type": "code",
   "execution_count": null,
   "metadata": {},
   "outputs": [],
   "source": []
  },
  {
   "cell_type": "code",
   "execution_count": null,
   "metadata": {},
   "outputs": [],
   "source": []
  },
  {
   "cell_type": "code",
   "execution_count": null,
   "metadata": {},
   "outputs": [],
   "source": [
    "# manage_staff\n",
    "for i in range(sondage_item_df.shape[0]):\n",
    "    if sondage_item_df[\"manage_staff\"].iloc[i] == \"Yes\":\n",
    "        sondage_item_df[\"manage_staff\"].iloc[i] = True\n",
    "    else:\n",
    "        sondage_item_df[\"manage_staff\"].iloc[i] = False"
   ]
  },
  {
   "cell_type": "code",
   "execution_count": null,
   "metadata": {},
   "outputs": [],
   "source": [
    "# other people\n",
    "for i in range(sondage_item_df.shape[0]):\n",
    "    if sondage_item_df[\"other_people\"].iloc[i] == \"None\":\n",
    "        sondage_item_df[\"other_people\"].iloc[i] = None\n",
    "    elif sondage_item_df[\"other_people\"].iloc[i] == \"More than 5\":\n",
    "        sondage_item_df[\"other_people\"].iloc[i] = 5\n",
    "    else:\n",
    "        None"
   ]
  },
  {
   "cell_type": "code",
   "execution_count": null,
   "metadata": {},
   "outputs": [],
   "source": [
    "#database database_servers\n",
    "for i in range(sondage_item_df.shape[0]):\n",
    "    if sondage_item_df[\"database_servers\"].iloc[i] == \"Not Asked\":\n",
    "        sondage_item_df[\"database_servers\"].iloc[i] = None\n",
    "    else:\n",
    "        None"
   ]
  },
  {
   "cell_type": "code",
   "execution_count": null,
   "metadata": {},
   "outputs": [],
   "source": [
    "#database hours_worked\n",
    "for i in range(sondage_item_df.shape[0]):\n",
    "    if sondage_item_df[\"hours_worked\"].iloc[i] == \"Not Asked\":\n",
    "        sondage_item_df[\"hours_worked\"].iloc[i] = None\n",
    "    else:\n",
    "        None"
   ]
  },
  {
   "cell_type": "code",
   "execution_count": null,
   "metadata": {},
   "outputs": [],
   "source": [
    "#database eduction_computer\n",
    "for i in range(sondage_item_df.shape[0]):\n",
    "    if sondage_item_df[\"education_computer\"].iloc[i] == \"Not Asked\":\n",
    "        sondage_item_df[\"education_computer\"].iloc[i] = None\n",
    "    elif sondage_item_df[\"education_computer\"].iloc[i] == \"N/A\":\n",
    "        sondage_item_df[\"education_computer\"].iloc[i] = None\n",
    "    elif sondage_item_df[\"education_computer\"].iloc[i] == \"Yes\":\n",
    "        sondage_item_df[\"education_computer\"].iloc[i] = True\n",
    "    else:\n",
    "        sondage_item_df[\"education_computer\"].iloc[i] = False"
   ]
  },
  {
   "cell_type": "code",
   "execution_count": null,
   "metadata": {},
   "outputs": [],
   "source": [
    "# Education telecommute\n",
    "for i in range(sondage_item_df.shape[0]):\n",
    "    if sondage_item_df[\"telecommute\"].iloc[i] == \"Not Asked\":\n",
    "        sondage_item_df[\"telecommute\"].iloc[i] = None\n",
    "    elif sondage_item_df[\"telecommute\"].iloc[i] == \"5 or more\":\n",
    "        sondage_item_df[\"telecommute\"].iloc[i] = 5\n",
    "    elif sondage_item_df[\"telecommute\"].iloc[i] == \"None, or less than 1 day per week\":\n",
    "        sondage_item_df[\"telecommute\"].iloc[i] = 1"
   ]
  },
  {
   "cell_type": "code",
   "execution_count": null,
   "metadata": {},
   "outputs": [],
   "source": [
    "# Education company_employee\n",
    "#for i in range(sondage_item_df.shape[0]):\n",
    "#   if sondage_item_df[\"company_employee\"].iloc[i] == \"Not Asked\":\n",
    "  #      sondage_item_df[\"company_employee\"].iloc[i] = None"
   ]
  },
  {
   "cell_type": "code",
   "execution_count": 178,
   "metadata": {},
   "outputs": [
    {
     "output_type": "stream",
     "name": "stderr",
     "text": [
      "<ipython-input-178-79ab133f33ca>:1: SettingWithCopyWarning: \nA value is trying to be set on a copy of a slice from a DataFrame\n\nSee the caveats in the documentation: https://pandas.pydata.org/pandas-docs/stable/user_guide/indexing.html#returning-a-view-versus-a-copy\n  sondage_item_df[\"database_servers\"][sondage_item_df[\"database_servers\"] == \"Not Asked\"] = None\n"
     ]
    }
   ],
   "source": [
    "sondage_item_df[\"database_servers\"][sondage_item_df[\"database_servers\"] == \"Not Asked\"] = None"
   ]
  },
  {
   "cell_type": "code",
   "execution_count": null,
   "metadata": {},
   "outputs": [],
   "source": [
    "#database gender\n",
    "for i in range(sondage_item_df.shape[0]):\n",
    "    if sondage_item_df[\"gender\"].iloc[i] == \"Not Asked\":\n",
    "        sondage_item_df[\"gender\"].iloc[i] = None\n",
    "    elif sondage_item_df[\"gender\"].iloc[i] == \"Female\":\n",
    "        sondage_item_df[\"gender\"].iloc[i] = \"female\"\n",
    "    elif sondage_item_df[\"gender\"].iloc[i] == \"Male\":\n",
    "        sondage_item_df[\"gender\"].iloc[i] = \"male\"\n",
    "    elif sondage_item_df[\"gender\"].iloc[i] == \"Non_binary/third gender\":\n",
    "        sondage_item_df[\"gender\"].iloc[i] = \"other\"\n",
    "    elif sondage_item_df[\"gender\"].iloc[i] == \"None\":\n",
    "        sondage_item_df[\"gender\"].iloc[i] = None\n",
    "    else:\n",
    "        sondage_item_df[\"gender\"].iloc[i] = \"na\""
   ]
  },
  {
   "source": [
    "# Chargement des données dans la base de données"
   ],
   "cell_type": "markdown",
   "metadata": {}
  },
  {
   "cell_type": "code",
   "execution_count": 91,
   "metadata": {},
   "outputs": [],
   "source": [
    "#employment_status_df.to_sql(\"employment_status\",if_exists=\"append\", con=engine, index=False)\n"
   ]
  },
  {
   "cell_type": "code",
   "execution_count": 197,
   "metadata": {},
   "outputs": [],
   "source": [
    "#carrer_df.to_sql(\"career_plan\",if_exists=\"append\", con=engine, index=False)"
   ]
  },
  {
   "cell_type": "code",
   "execution_count": 185,
   "metadata": {},
   "outputs": [],
   "source": [
    "#hmc_df.to_sql(\"how_many_companies\",if_exists=\"append\", con=engine, index=False)"
   ]
  },
  {
   "cell_type": "code",
   "execution_count": 189,
   "metadata": {},
   "outputs": [],
   "source": [
    "#certification_df.to_sql(\"certification\",if_exists=\"append\", con=engine, index=False)"
   ]
  },
  {
   "cell_type": "code",
   "execution_count": 181,
   "metadata": {},
   "outputs": [],
   "source": [
    "#country_df.to_sql(\"country\",if_exists=\"append\", con=engine, index=False)"
   ]
  },
  {
   "cell_type": "code",
   "execution_count": 195,
   "metadata": {},
   "outputs": [],
   "source": [
    "#looking_job_df.to_sql(\"looking_job\",if_exists=\"append\", con=engine, index=False)"
   ]
  },
  {
   "cell_type": "code",
   "execution_count": 193,
   "metadata": {},
   "outputs": [],
   "source": [
    "#employment_sector_df.to_sql(\"employment_sector\",if_exists=\"append\", con=engine, index=False)"
   ]
  },
  {
   "cell_type": "code",
   "execution_count": 145,
   "metadata": {},
   "outputs": [],
   "source": [
    "#sondage_df.to_sql(\"sondage\",if_exists=\"append\", con=engine, index=False)"
   ]
  },
  {
   "cell_type": "code",
   "execution_count": 187,
   "metadata": {},
   "outputs": [],
   "source": [
    "#education_df.to_sql(\"education\",if_exists=\"append\", con=engine, index=False)"
   ]
  },
  {
   "cell_type": "code",
   "execution_count": 191,
   "metadata": {},
   "outputs": [],
   "source": [
    "#largest_city_df.to_sql(\"largest_city\",if_exists=\"append\", con=engine, index=False)"
   ]
  },
  {
   "cell_type": "code",
   "execution_count": 183,
   "metadata": {},
   "outputs": [],
   "source": [
    "#job_df.to_sql(\"job\",if_exists=\"append\", con=engine, index=False)"
   ]
  },
  {
   "cell_type": "code",
   "execution_count": 112,
   "metadata": {},
   "outputs": [],
   "source": [
    "#task_df.to_sql(\"task\",if_exists=\"append\", con=engine, index=False)"
   ]
  },
  {
   "cell_type": "code",
   "execution_count": 114,
   "metadata": {},
   "outputs": [],
   "source": [
    "#database_used_df.to_sql(\"database\",if_exists=\"append\", con=engine, index=False)"
   ]
  },
  {
   "cell_type": "code",
   "execution_count": 198,
   "metadata": {},
   "outputs": [],
   "source": [
    "#sondage_item_df.to_sql(\"sondage_item\",if_exists=\"append\", con=engine, index=False)"
   ]
  },
  {
   "cell_type": "code",
   "execution_count": null,
   "metadata": {},
   "outputs": [],
   "source": [
    "#other_duties_liste_id = sondage_item_df.to_dict(orient=\"split\")[\"index\"]"
   ]
  },
  {
   "cell_type": "code",
   "execution_count": null,
   "metadata": {},
   "outputs": [],
   "source": [
    ".to_sql(\"sondage_item\",if_exists=\"append\", con=engine, index=False)"
   ]
  },
  {
   "cell_type": "code",
   "execution_count": null,
   "metadata": {},
   "outputs": [],
   "source": [
    ".to_sql(\"sondage_item\",if_exists=\"append\", con=engine, index=False)"
   ]
  },
  {
   "cell_type": "code",
   "execution_count": null,
   "metadata": {},
   "outputs": [],
   "source": [
    "a = pd.read_sql_query(\"select * from sondage;\", engine)\n"
   ]
  },
  {
   "cell_type": "code",
   "execution_count": 159,
   "metadata": {},
   "outputs": [
    {
     "output_type": "execute_result",
     "data": {
      "text/plain": [
       "['career_plan',\n",
       " 'certification',\n",
       " 'country',\n",
       " 'database',\n",
       " 'education',\n",
       " 'employment_sector',\n",
       " 'employment_status',\n",
       " 'how_many_companies',\n",
       " 'job',\n",
       " 'largest_city',\n",
       " 'looking_job',\n",
       " 'other_database',\n",
       " 'other_duties',\n",
       " 'sondage',\n",
       " 'sondage_item',\n",
       " 'task',\n",
       " 'task_performed']"
      ]
     },
     "metadata": {},
     "execution_count": 159
    }
   ],
   "source": [
    "liste_table = pd.read_sql_query(\"show tables;\", engine)\n",
    "liste_table = list(liste_table[\"Tables_in_survey\"])\n",
    "liste_table"
   ]
  }
 ]
}