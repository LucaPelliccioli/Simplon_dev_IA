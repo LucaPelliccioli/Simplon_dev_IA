{
 "metadata": {
  "language_info": {
   "codemirror_mode": {
    "name": "ipython",
    "version": 3
   },
   "file_extension": ".py",
   "mimetype": "text/x-python",
   "name": "python",
   "nbconvert_exporter": "python",
   "pygments_lexer": "ipython3",
   "version": "3.8.5-final"
  },
  "orig_nbformat": 2,
  "kernelspec": {
   "name": "python3",
   "display_name": "Python 3.8.5 64-bit ('base': conda)",
   "metadata": {
    "interpreter": {
     "hash": "64b474f71659f9be32f34132c3eef93d33d176ead871b80ca6db3fa26bc83f65"
    }
   }
  }
 },
 "nbformat": 4,
 "nbformat_minor": 2,
 "cells": [
  {
   "cell_type": "code",
   "execution_count": 1,
   "metadata": {},
   "outputs": [
    {
     "output_type": "stream",
     "name": "stdout",
     "text": [
      "CLIENT\n"
     ]
    }
   ],
   "source": [
    "import random\n",
    "\n",
    "Liste_Mot = [\"ACTEUR\", \"AVIRON\", \"BOXEUR\", \"BRONZE\", \"BUDGET\", \n",
    "             \"CARTON\", \"CHAQUE\", \"CHEVAL\", \"CIMENT\", \"CLIENT\", \n",
    "             \"COMPTE\", \"CONTRE\", \"CUPIDE\", \"DESIGN\", \"DICTER\", \n",
    "             \"DOSAGE\", \"DOUCHE\", \"DROITE\", \"EXPORT\", \"FLAQUE\", \n",
    "             \"FORAGE\", \"GLAIVE\", \"GRAINE\", \"GROUPE\", \"JARDIN\", \n",
    "             \"JUNGLE\", \"LUCIDE\", \"MANCHE\", \"MARQUE\", \"MIRAGE\", \n",
    "             \"MOUCHE\", \"NIVEAU\", \"NOVICE\", \"OISEAU\", \"PAQUET\", \n",
    "             \"PILOTE\", \"PLANTE\", \"POTEAU\", \"PROJET\", \"PUBLIC\", \n",
    "             \"REGAIN\", \"RYTHME\", \"SATIRE\", \"SENTIR\", \"SIMPLE\", \n",
    "             \"SONGER\", \"SOUPLE\", \"SQUARE\"]\n",
    "Mot_a_Trouver = random.choice(Liste_Mot)\n",
    "\n",
    "print(Mot_a_Trouver)"
   ]
  },
  {
   "cell_type": "code",
   "execution_count": null,
   "metadata": {},
   "outputs": [],
   "source": [
    " >  < "
   ]
  },
  {
   "cell_type": "code",
   "execution_count": null,
   "metadata": {},
   "outputs": [],
   "source": [
    "Mot_a_Trouver = random.choice(Liste_Mot)\n",
    "compteur_motatrouver = len(Mot_a_Trouver)\n",
    "nbre_essais = 0\n",
    "\n",
    "while nbre_essais <= 8:\n",
    "    nbre_essais + 1\n",
    "    mot_user = input(\"Entrez votre mot\").upper()\n",
    "    # Tant que le mot_user n'est pas egal à la longueur du mot à trouver on repete la boucle\n",
    "    if len(mot_user) != compteur_motatrouver: \n",
    "        print(\"..............\") \n",
    "    else:\n",
    "        for i in range(len(Mot_a_Trouver)):\n",
    "            if mot_user[i] == Mot_a_Trouver[i]:\n",
    "                print(Mot_a_Trouver[i] + '#', end=\"\")\n",
    "            elif mot_user[i] in Mot_a_Trouver:\n",
    "                print(mot_user[i] + '?', end=\"\")\n",
    "            else:\n",
    "                print(mot_user[i].lower() + ' ', end=\"\")\n",
    "    print()\n",
    "    if mot_user == Mot_a_Trouver:\n",
    "        print('Vous avez gagnez !')"
   ]
  },
  {
   "cell_type": "code",
   "execution_count": 1,
   "metadata": {},
   "outputs": [
    {
     "output_type": "stream",
     "name": "stdout",
     "text": [
      "8\n"
     ]
    }
   ],
   "source": [
    "print(2**3)"
   ]
  },
  {
   "cell_type": "code",
   "execution_count": null,
   "metadata": {},
   "outputs": [],
   "source": []
  }
 ]
}