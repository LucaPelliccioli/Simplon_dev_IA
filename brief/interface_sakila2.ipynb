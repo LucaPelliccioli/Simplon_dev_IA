{
 "metadata": {
  "language_info": {
   "codemirror_mode": {
    "name": "ipython",
    "version": 3
   },
   "file_extension": ".py",
   "mimetype": "text/x-python",
   "name": "python",
   "nbconvert_exporter": "python",
   "pygments_lexer": "ipython3",
   "version": 3
  },
  "orig_nbformat": 2
 },
 "nbformat": 4,
 "nbformat_minor": 2,
 "cells": [
  {
   "cell_type": "code",
   "execution_count": null,
   "metadata": {},
   "outputs": [],
   "source": []
  },
  {
   "cell_type": "code",
   "execution_count": null,
   "metadata": {},
   "outputs": [],
   "source": []
  },
  {
   "cell_type": "code",
   "execution_count": null,
   "metadata": {},
   "outputs": [],
   "source": [
    "def new_customer(engine):\n",
    "\n",
    "    country = input(\"Pays: \")\n",
    "    country_df = pd.read_sql_query(\"select country_id from country where country = '%s';\" %(country), engine)\n",
    "    if country_df.empty:\n",
    "        engine.execute('insert into country (country) values (\"%s\");' %(country))\n",
    "        country_df = pd.read_sql_query(\"select country_id from country where country = '%s';\" %(country), engine)\n",
    "\n",
    "    city = input(\"Ville: \")\n",
    "    city_df = pd.read_sql_query(\"select city_id from city where city = '%s';\" %(city), engine)\n",
    "    if city_df.empty:\n",
    "        engine.execute('insert into city (city, country_id) values (\"%s\",%s);' %(city, int(country_df[\"country_id\"][0])))\n",
    "        city_df = pd.read_sql_query(\"select city_id from city where city = '%s';\" %(city), engine)\n",
    "address = input(\"Adresse: \")\n",
    "    address2 = input(\"Adresse 2: \")\n",
    "    district = input(\"District: \")\n",
    "    postal_code = input(\"Code Postal: \")\n",
    "    phone = input(\"Numéro de téléphone: \")\n",
    "    location = \"ST_GeomFromWKB(X'0101000000000000000000F03F000000000000F03F')\"\n",
    "    address_df = pd.read_sql_query(\"select address_id from address where address = '%s';\" %(address), engine)\n",
    "    if address_df.empty:\n",
    "        engine.execute('insert into address (address, address2, district, city_id, postal_code, phone) values (\"%s\",\"%s\",\"%s\",%s,\"%s\",\"%s\",%s);' %(address, address2, district, int(city_df[\"city_id\"][0]), postal_code, phone, location))\n",
    "    address_df = pd.read_sql_query(\"select address_id from address where address = '%s';\" %(address), engine)\n",
    "\n",
    "    store = int(input(\"Store (1 ou 2): \"))\n",
    "    first_name = input(\"Prénom: \")\n",
    "    last_name = input(\"Nom: \")\n",
    "    email = input(\"Email: \")\n",
    "    customer_df = pd.read_sql_query(\"select customer_id from customer where email= '%s';\" %(email), engine)\n",
    "    if customer_df.empty:\n",
    "        engine.execute('insert into customer (store_id, first_name, last_name, email, address_id) values (%s,\"%s\",\"%s\",\"%s\",%s);' %(store, first_name, last_name, email, int(address_df[\"address_id\"][0])))\n",
    "        customer_df = pd.read_sql_query(\"select customer_id from customer where email= '%s';\" %(email), engine)\n",
    "\n",
    "new_customer(engine)"
   ]
  },
  {
   "cell_type": "code",
   "execution_count": null,
   "metadata": {},
   "outputs": [],
   "source": []
  }
 ]
}