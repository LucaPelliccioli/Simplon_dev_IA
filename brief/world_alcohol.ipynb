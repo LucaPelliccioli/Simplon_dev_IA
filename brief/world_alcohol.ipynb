{
 "metadata": {
  "language_info": {
   "codemirror_mode": {
    "name": "ipython",
    "version": 3
   },
   "file_extension": ".py",
   "mimetype": "text/x-python",
   "name": "python",
   "nbconvert_exporter": "python",
   "pygments_lexer": "ipython3",
   "version": "3.8.5-final"
  },
  "orig_nbformat": 2,
  "kernelspec": {
   "name": "python3",
   "display_name": "Python 3.8.5 64-bit ('base': conda)",
   "metadata": {
    "interpreter": {
     "hash": "64b474f71659f9be32f34132c3eef93d33d176ead871b80ca6db3fa26bc83f65"
    }
   }
  }
 },
 "nbformat": 4,
 "nbformat_minor": 2,
 "cells": [
  {
   "cell_type": "code",
   "execution_count": 20,
   "metadata": {},
   "outputs": [
    {
     "output_type": "stream",
     "name": "stdout",
     "text": [
      "[['1986' 'Western Pacific' 'Viet Nam' 'Wine' '0']\n ['1986' 'Americas' 'Uruguay' 'Other' '0.5']\n ['1985' 'Africa' \"Cte d'Ivoire\" 'Wine' '1.62']\n ...\n ['1986' 'Europe' 'Switzerland' 'Spirits' '2.54']\n ['1987' 'Western Pacific' 'Papua New Guinea' 'Other' '0']\n ['1986' 'Africa' 'Swaziland' 'Other' '5.15']]\n"
     ]
    }
   ],
   "source": [
    "import numpy as np\n",
    "\n",
    "world_alcohol = np.genfromtxt(\"/home/simplon/Documents/world_alcohol.csv\", delimiter=\",\", dtype=\"str\", skip_header=1)\n",
    "print(world_alcohol)"
   ]
  },
  {
   "cell_type": "code",
   "execution_count": 21,
   "metadata": {},
   "outputs": [
    {
     "output_type": "execute_result",
     "data": {
      "text/plain": [
       "array([False, False, False, ..., False, False, False])"
      ]
     },
     "metadata": {},
     "execution_count": 21
    }
   ],
   "source": [
    "country_is_canada = world_alcohol[:,2] == 'Canada'\n",
    "country_is_canada"
   ]
  },
  {
   "cell_type": "code",
   "execution_count": 22,
   "metadata": {},
   "outputs": [
    {
     "output_type": "stream",
     "name": "stdout",
     "text": [
      "[['1984' 'Americas' 'Canada' 'Spirits' '3.35']\n ['1989' 'Americas' 'Canada' 'Wine' '1.27']\n ['1984' 'Americas' 'Canada' 'Beer' '5']\n ['1985' 'Americas' 'Canada' 'Beer' '4.94']\n ['1987' 'Americas' 'Canada' 'Wine' '1.3']\n ['1987' 'Americas' 'Canada' 'Beer' '4.83']\n ['1986' 'Americas' 'Canada' 'Other' '']\n ['1986' 'Americas' 'Canada' 'Spirits' '3.11']\n ['1985' 'Americas' 'Canada' 'Spirits' '3.21']\n ['1985' 'Americas' 'Canada' 'Other' '']\n ['1986' 'Americas' 'Canada' 'Beer' '4.87']\n ['1984' 'Americas' 'Canada' 'Wine' '1.24']\n ['1989' 'Americas' 'Canada' 'Spirits' '2.91']\n ['1984' 'Americas' 'Canada' 'Other' '']\n ['1985' 'Americas' 'Canada' 'Wine' '1.29']\n ['1987' 'Americas' 'Canada' 'Spirits' '2.99']\n ['1989' 'Americas' 'Canada' 'Beer' '4.82']\n ['1989' 'Americas' 'Canada' 'Other' '']\n ['1986' 'Americas' 'Canada' 'Wine' '1.33']\n ['1987' 'Americas' 'Canada' 'Other' '']]\n\n(20, 5)\n"
     ]
    }
   ],
   "source": [
    "country_canada = world_alcohol[world_alcohol[:,2] == 'Canada']\n",
    "# country_canada = world_alcohol[country_is_canada]\n",
    "print(country_canada)\n",
    "print()\n",
    "print(country_canada.shape)"
   ]
  },
  {
   "cell_type": "code",
   "execution_count": 23,
   "metadata": {},
   "outputs": [
    {
     "output_type": "stream",
     "name": "stdout",
     "text": [
      "[['1984' 'Africa' 'Algeria' 'Spirits' '0.01']\n ['1987' 'Africa' 'Algeria' 'Beer' '0.17']\n ['1987' 'Africa' 'Algeria' 'Spirits' '0.01']\n ['1986' 'Africa' 'Algeria' 'Wine' '0.1']\n ['1984' 'Africa' 'Algeria' 'Other' '0']\n ['1989' 'Africa' 'Algeria' 'Beer' '0.16']\n ['1989' 'Africa' 'Algeria' 'Spirits' '0.01']\n ['1989' 'Africa' 'Algeria' 'Wine' '0.23']\n ['1986' 'Africa' 'Algeria' 'Spirits' '0.01']\n ['1984' 'Africa' 'Algeria' 'Wine' '0.12']\n ['1985' 'Africa' 'Algeria' 'Beer' '0.19']\n ['1985' 'Africa' 'Algeria' 'Other' '0']\n ['1986' 'Africa' 'Algeria' 'Beer' '0.18']\n ['1985' 'Africa' 'Algeria' 'Wine' '0.11']\n ['1986' 'Africa' 'Algeria' 'Other' '0']\n ['1989' 'Africa' 'Algeria' 'Other' '0']\n ['1987' 'Africa' 'Algeria' 'Other' '0']\n ['1984' 'Africa' 'Algeria' 'Beer' '0.2']\n ['1985' 'Africa' 'Algeria' 'Spirits' '0.01']\n ['1987' 'Africa' 'Algeria' 'Wine' '0.1']]\n\n(20, 5)\n"
     ]
    }
   ],
   "source": [
    "country_algeria = world_alcohol[world_alcohol[:,2] == 'Algeria']\n",
    "# country_algeria = world_alcohol[country_is_algeria]\n",
    "print(country_algeria)\n",
    "print()\n",
    "print(country_algeria.shape)"
   ]
  },
  {
   "cell_type": "code",
   "execution_count": 24,
   "metadata": {},
   "outputs": [
    {
     "output_type": "stream",
     "name": "stdout",
     "text": [
      "[['1984' 'Africa' 'Nigeria' 'Other' '6.1']\n ['1984' 'Eastern Mediterranean' 'Afghanistan' 'Other' '0']\n ['1984' 'Americas' 'Costa Rica' 'Wine' '0.06']\n ...\n ['1984' 'Europe' 'Latvia' 'Spirits' '7.5']\n ['1984' 'Africa' 'Angola' 'Wine' '0.57']\n ['1984' 'Africa' 'Central African Republic' 'Wine' '0.46']]\n\n(646, 5)\n"
     ]
    }
   ],
   "source": [
    "annee_1984 = world_alcohol[world_alcohol[:,0] == '1984']\n",
    "# annee_1984 = world_alcohol[year_is_1984]\n",
    "print(annee_1984)\n",
    "print()\n",
    "print(annee_1984.shape)"
   ]
  },
  {
   "cell_type": "code",
   "execution_count": 25,
   "metadata": {},
   "outputs": [
    {
     "output_type": "stream",
     "name": "stdout",
     "text": [
      "[['1986' 'Africa' 'Algeria' 'Wine' '0.1']\n ['1986' 'Africa' 'Algeria' 'Spirits' '0.01']\n ['1986' 'Africa' 'Algeria' 'Beer' '0.18']\n ['1986' 'Africa' 'Algeria' 'Other' '0']]\n"
     ]
    }
   ],
   "source": [
    "algeria_1986 = (world_alcohol[:,2] == 'Algeria') & (world_alcohol[:,0] == '1986')\n",
    "row_algeria_1986 = world_alcohol[algeria_1986]\n",
    "print(row_algeria_1986)"
   ]
  },
  {
   "cell_type": "code",
   "execution_count": 26,
   "metadata": {},
   "outputs": [
    {
     "output_type": "stream",
     "name": "stdout",
     "text": [
      "(40, 5)\n"
     ]
    }
   ],
   "source": [
    "algeria_canada = (world_alcohol[:,2] == 'Algeria') | (world_alcohol[:,2] == 'Canada')\n",
    "row_algeria_canada = world_alcohol[algeria_canada, :]\n",
    "print(row_algeria_canada.shape)"
   ]
  },
  {
   "cell_type": "code",
   "execution_count": 27,
   "metadata": {},
   "outputs": [
    {
     "output_type": "stream",
     "name": "stdout",
     "text": [
      "['1986' '1986' '1985' ... '1986' '1987' '1986']\n"
     ]
    }
   ],
   "source": [
    "world_alcohol_2 = world_alcohol.copy()\n",
    "print(world_alcohol_2[:,0])"
   ]
  },
  {
   "cell_type": "code",
   "execution_count": 28,
   "metadata": {},
   "outputs": [
    {
     "output_type": "execute_result",
     "data": {
      "text/plain": [
       "array([['1986', 'Western Pacific', 'Viet Nam', 'Wine', '0'],\n",
       "       ['1986', 'Americas', 'Uruguay', 'Other', '0.5'],\n",
       "       ['1986', 'Americas', 'Colombia', 'Beer', '4.27'],\n",
       "       ...,\n",
       "       ['1986', 'Western Pacific', 'Fiji', 'Spirits', '0.05'],\n",
       "       ['1986', 'Europe', 'Switzerland', 'Spirits', '2.54'],\n",
       "       ['1986', 'Africa', 'Swaziland', 'Other', '5.15']], dtype='<U52')"
      ]
     },
     "metadata": {},
     "execution_count": 28
    }
   ],
   "source": [
    "world_alcohol_2[world_alcohol[:,0] == \"1986\"]"
   ]
  },
  {
   "cell_type": "code",
   "execution_count": 29,
   "metadata": {},
   "outputs": [
    {
     "output_type": "execute_result",
     "data": {
      "text/plain": [
       "array(['1986', '1986', '1986', '1986', '1986', '1986', '1986', '1986',\n",
       "       '1986', '1986', '1986', '1986', '1986', '1986', '1986', '1986',\n",
       "       '1986', '1986', '1986', '1986', '1986', '1986', '1986', '1986',\n",
       "       '1986', '1986', '1986', '1986', '1986', '1986', '1986', '1986',\n",
       "       '1986', '1986', '1986', '1986', '1986', '1986', '1986', '1986',\n",
       "       '1986', '1986', '1986', '1986', '1986', '1986', '1986', '1986',\n",
       "       '1986', '1986', '1986', '1986', '1986', '1986', '1986', '1986',\n",
       "       '1986', '1986', '1986', '1986', '1986', '1986', '1986', '1986',\n",
       "       '1986', '1986', '1986', '1986', '1986', '1986', '1986', '1986',\n",
       "       '1986', '1986', '1986', '1986', '1986', '1986', '1986', '1986',\n",
       "       '1986', '1986', '1986', '1986', '1986', '1986', '1986', '1986',\n",
       "       '1986', '1986', '1986', '1986', '1986', '1986', '1986', '1986',\n",
       "       '1986', '1986', '1986', '1986', '1986', '1986', '1986', '1986',\n",
       "       '1986', '1986', '1986', '1986', '1986', '1986', '1986', '1986',\n",
       "       '1986', '1986', '1986', '1986', '1986', '1986', '1986', '1986',\n",
       "       '1986', '1986', '1986', '1986', '1986', '1986', '1986', '1986',\n",
       "       '1986', '1986', '1986', '1986', '1986', '1986', '1986', '1986',\n",
       "       '1986', '1986', '1986', '1986', '1986', '1986', '1986', '1986',\n",
       "       '1986', '1986', '1986', '1986', '1986', '1986', '1986', '1986',\n",
       "       '1986', '1986', '1986', '1986', '1986', '1986', '1986', '1986',\n",
       "       '1986', '1986', '1986', '1986', '1986', '1986', '1986', '1986',\n",
       "       '1986', '1986', '1986', '1986', '1986', '1986', '1986', '1986',\n",
       "       '1986', '1986', '1986', '1986', '1986', '1986', '1986', '1986',\n",
       "       '1986', '1986', '1986', '1986', '1986', '1986', '1986', '1986',\n",
       "       '1986', '1986', '1986', '1986', '1986', '1986', '1986', '1986',\n",
       "       '1986', '1986', '1986', '1986', '1986', '1986', '1986', '1986',\n",
       "       '1986', '1986', '1986', '1986', '1986', '1986', '1986', '1986',\n",
       "       '1986', '1986', '1986', '1986', '1986', '1986', '1986', '1986',\n",
       "       '1986', '1986', '1986', '1986', '1986', '1986', '1986', '1986',\n",
       "       '1986', '1986', '1986', '1986', '1986', '1986', '1986', '1986',\n",
       "       '1986', '1986', '1986', '1986', '1986', '1986', '1986', '1986',\n",
       "       '1986', '1986', '1986', '1986', '1986', '1986', '1986', '1986',\n",
       "       '1986', '1986', '1986', '1986', '1986', '1986', '1986', '1986',\n",
       "       '1986', '1986', '1986', '1986', '1986', '1986', '1986', '1986',\n",
       "       '1986', '1986', '1986', '1986', '1986', '1986', '1986', '1986',\n",
       "       '1986', '1986', '1986', '1986', '1986', '1986', '1986', '1986',\n",
       "       '1986', '1986', '1986', '1986', '1986', '1986', '1986', '1986',\n",
       "       '1986', '1986', '1986', '1986', '1986', '1986', '1986', '1986',\n",
       "       '1986', '1986', '1986', '1986', '1986', '1986', '1986', '1986',\n",
       "       '1986', '1986', '1986', '1986', '1986', '1986', '1986', '1986',\n",
       "       '1986', '1986', '1986', '1986', '1986', '1986', '1986', '1986',\n",
       "       '1986', '1986', '1986', '1986', '1986', '1986', '1986', '1986',\n",
       "       '1986', '1986', '1986', '1986', '1986', '1986', '1986', '1986',\n",
       "       '1986', '1986', '1986', '1986', '1986', '1986', '1986', '1986',\n",
       "       '1986', '1986', '1986', '1986', '1986', '1986', '1986', '1986',\n",
       "       '1986', '1986', '1986', '1986', '1986', '1986', '1986', '1986',\n",
       "       '1986', '1986', '1986', '1986', '1986', '1986', '1986', '1986',\n",
       "       '1986', '1986', '1986', '1986', '1986', '1986', '1986', '1986',\n",
       "       '1986', '1986', '1986', '1986', '1986', '1986', '1986', '1986',\n",
       "       '1986', '1986', '1986', '1986', '1986', '1986', '1986', '1986',\n",
       "       '1986', '1986', '1986', '1986', '1986', '1986', '1986', '1986',\n",
       "       '1986', '1986', '1986', '1986', '1986', '1986', '1986', '1986',\n",
       "       '1986', '1986', '1986', '1986', '1986', '1986', '1986', '1986',\n",
       "       '1986', '1986', '1986', '1986', '1986', '1986', '1986', '1986',\n",
       "       '1986', '1986', '1986', '1986', '1986', '1986', '1986', '1986',\n",
       "       '1986', '1986', '1986', '1986', '1986', '1986', '1986', '1986',\n",
       "       '1986', '1986', '1986', '1986', '1986', '1986', '1986', '1986',\n",
       "       '1986', '1986', '1986', '1986', '1986', '1986', '1986', '1986',\n",
       "       '1986', '1986', '1986', '1986', '1986', '1986', '1986', '1986',\n",
       "       '1986', '1986', '1986', '1986', '1986', '1986', '1986', '1986',\n",
       "       '1986', '1986', '1986', '1986', '1986', '1986', '1986', '1986',\n",
       "       '1986', '1986', '1986', '1986', '1986', '1986', '1986', '1986',\n",
       "       '1986', '1986', '1986', '1986', '1986', '1986', '1986', '1986',\n",
       "       '1986', '1986', '1986', '1986', '1986', '1986', '1986', '1986',\n",
       "       '1986', '1986', '1986', '1986', '1986', '1986', '1986', '1986',\n",
       "       '1986', '1986', '1986', '1986', '1986', '1986', '1986', '1986',\n",
       "       '1986', '1986', '1986', '1986', '1986', '1986', '1986', '1986',\n",
       "       '1986', '1986', '1986', '1986', '1986', '1986', '1986', '1986',\n",
       "       '1986', '1986', '1986', '1986', '1986', '1986', '1986', '1986',\n",
       "       '1986', '1986', '1986', '1986', '1986', '1986', '1986', '1986',\n",
       "       '1986', '1986', '1986', '1986', '1986', '1986', '1986', '1986',\n",
       "       '1986', '1986', '1986', '1986', '1986', '1986', '1986', '1986',\n",
       "       '1986', '1986', '1986', '1986', '1986', '1986', '1986', '1986',\n",
       "       '1986', '1986', '1986', '1986', '1986', '1986', '1986', '1986',\n",
       "       '1986', '1986', '1986', '1986', '1986', '1986', '1986', '1986',\n",
       "       '1986', '1986', '1986', '1986', '1986', '1986', '1986', '1986',\n",
       "       '1986', '1986', '1986', '1986', '1986', '1986', '1986', '1986',\n",
       "       '1986', '1986', '1986', '1986', '1986', '1986', '1986', '1986',\n",
       "       '1986', '1986', '1986', '1986', '1986', '1986', '1986', '1986',\n",
       "       '1986', '1986', '1986', '1986', '1986', '1986', '1986', '1986',\n",
       "       '1986', '1986', '1986', '1986', '1986', '1986', '1986', '1986',\n",
       "       '1986', '1986', '1986'], dtype='<U52')"
      ]
     },
     "metadata": {},
     "execution_count": 29
    }
   ],
   "source": [
    "world_alcohol_2[:,0][world_alcohol_2[:,0] == \"1986\"]"
   ]
  },
  {
   "cell_type": "code",
   "execution_count": 30,
   "metadata": {},
   "outputs": [
    {
     "output_type": "execute_result",
     "data": {
      "text/plain": [
       "array([['2018', 'Western Pacific', 'Viet Nam', 'Wine', '0'],\n",
       "       ['2018', 'Americas', 'Uruguay', 'Other', '0.5'],\n",
       "       ['1985', 'Africa', \"Cte d'Ivoire\", 'Wine', '1.62'],\n",
       "       ...,\n",
       "       ['2018', 'Europe', 'Switzerland', 'Spirits', '2.54'],\n",
       "       ['1987', 'Western Pacific', 'Papua New Guinea', 'Other', '0'],\n",
       "       ['2018', 'Africa', 'Swaziland', 'Other', '5.15']], dtype='<U52')"
      ]
     },
     "metadata": {},
     "execution_count": 30
    }
   ],
   "source": [
    "masque = (world_alcohol_2[:,0] == '1986')\n",
    "world_alcohol_2[:,0][masque] = '2018'\n",
    "world_alcohol_2"
   ]
  },
  {
   "cell_type": "code",
   "execution_count": 31,
   "metadata": {},
   "outputs": [
    {
     "output_type": "execute_result",
     "data": {
      "text/plain": [
       "array([['2018', 'Western Pacific', 'Viet Nam', 'Beer', '0'],\n",
       "       ['2018', 'Americas', 'Uruguay', 'Other', '0.5'],\n",
       "       ['1985', 'Africa', \"Cte d'Ivoire\", 'Beer', '1.62'],\n",
       "       ...,\n",
       "       ['2018', 'Europe', 'Switzerland', 'Spirits', '2.54'],\n",
       "       ['1987', 'Western Pacific', 'Papua New Guinea', 'Other', '0'],\n",
       "       ['2018', 'Africa', 'Swaziland', 'Other', '5.15']], dtype='<U52')"
      ]
     },
     "metadata": {},
     "execution_count": 31
    }
   ],
   "source": [
    "world_alcohol_2[:,3][world_alcohol_2[:,3] == \"Wine\"] = 'Beer'\n",
    "world_alcohol_2"
   ]
  },
  {
   "cell_type": "code",
   "execution_count": 32,
   "metadata": {},
   "outputs": [
    {
     "output_type": "execute_result",
     "data": {
      "text/plain": [
       "array([False, False, False, ..., False, False, False])"
      ]
     },
     "metadata": {},
     "execution_count": 32
    }
   ],
   "source": [
    "is_value_empty = (world_alcohol[:,4] == \"\")\n",
    "is_value_empty"
   ]
  },
  {
   "cell_type": "code",
   "execution_count": 33,
   "metadata": {},
   "outputs": [
    {
     "output_type": "execute_result",
     "data": {
      "text/plain": [
       "array([['1986', 'Western Pacific', 'Viet Nam', 'Wine', '0'],\n",
       "       ['1986', 'Americas', 'Uruguay', 'Other', '0.5'],\n",
       "       ['1985', 'Africa', \"Cte d'Ivoire\", 'Wine', '1.62'],\n",
       "       ...,\n",
       "       ['1986', 'Europe', 'Switzerland', 'Spirits', '2.54'],\n",
       "       ['1987', 'Western Pacific', 'Papua New Guinea', 'Other', '0'],\n",
       "       ['1986', 'Africa', 'Swaziland', 'Other', '5.15']], dtype='<U52')"
      ]
     },
     "metadata": {},
     "execution_count": 33
    }
   ],
   "source": [
    "world_alcohol[is_value_empty,4] = '0'\n",
    "world_alcohol"
   ]
  },
  {
   "cell_type": "code",
   "execution_count": 34,
   "metadata": {},
   "outputs": [
    {
     "output_type": "execute_result",
     "data": {
      "text/plain": [
       "array([0.  , 0.5 , 1.62, ..., 2.54, 0.  , 5.15])"
      ]
     },
     "metadata": {},
     "execution_count": 34
    }
   ],
   "source": [
    "alcohol_consumption = world_alcohol[:,4]\n",
    "alcohol_consumption = alcohol_consumption.astype(float)\n",
    "alcohol_consumption"
   ]
  },
  {
   "cell_type": "code",
   "execution_count": 35,
   "metadata": {},
   "outputs": [
    {
     "output_type": "stream",
     "name": "stdout",
     "text": [
      "3908.96\n1.2001719373656738\n"
     ]
    }
   ],
   "source": [
    "total_alcohol = alcohol_consumption.sum()\n",
    "average_alcohol = alcohol_consumption.mean()\n",
    "print(total_alcohol)\n",
    "print(average_alcohol)"
   ]
  },
  {
   "cell_type": "code",
   "execution_count": 45,
   "metadata": {},
   "outputs": [
    {
     "output_type": "stream",
     "name": "stdout",
     "text": [
      "9.120000000000001\n2.2800000000000002\n"
     ]
    }
   ],
   "source": [
    "total_consuption_1987_canada = (world_alcohol[:,0] == \"1987\") & (world_alcohol[:,2] == 'Canada')\n",
    "row_total_consuption_1987_canada = world_alcohol[total_consuption_1987_canada]\n",
    "\n",
    "print(alcohol_consumption_canada1987.sum())\n",
    "print(alcohol_consumption_canada1987.mean())"
   ]
  },
  {
   "cell_type": "code",
   "execution_count": 50,
   "metadata": {},
   "outputs": [
    {
     "output_type": "stream",
     "name": "stdout",
     "text": [
      "310.02\n2.0001290322580645\n"
     ]
    }
   ],
   "source": [
    "#consommation moyenne de biere pour les USA\n",
    "\n",
    "consuption_mean_USA = (world_alcohol[:,1] == 'Americas') & (world_alcohol[:,3] == 'Beer')\n",
    "\n",
    "total_consuption_USA = alcohol_consumption[consuption_mean_USA].sum()\n",
    "average_consuption_USA = alcohol_consumption[consuption_mean_USA].mean()\n",
    "\n",
    "print(total_consuption_USA)\n",
    "print(average_consuption_USA)"
   ]
  },
  {
   "source": [
    "## Calculer la consommation pour chaque pays"
   ],
   "cell_type": "markdown",
   "metadata": {}
  },
  {
   "source": [
    "- Tout d'abord, on crée un dictionnaire vide qui va contenir tous les pays et leurs consommations d'alcool associées, on le nommera totals.\n",
    "- Sélectionner ensuite les lignes de world_alcohol correspondant à l'année donnée, disons 1989. Assigner le résultat à la variable year.\n",
    "- Sélectionner dans une liste qu'on nommera countries tous les pays.\n",
    "- Parcourir tous les pays de la liste à l'aide d'une boucle. Pour chaque pays:\n",
    "    >- Sélectionner les lignes de year correpondant à ce pays\n",
    "    >- Assigner le résultat à la variable country_consumption\n",
    "    >- Extraire la 5e colonne de country_consumption\n",
    "    >- Remplacer toute chaine de caractère vide dans cette colonne par 0\n",
    "    >- Convertir la colonne en décimal (float)\n",
    "    >- Calculer la somme de la colonne\n",
    "    >- Ajouter la somme au dictionnaire totals, avec comme clé le nom du pays et en valeur cette somme.\n",
    "- Afficher le dictionnaire totals."
   ],
   "cell_type": "markdown",
   "metadata": {}
  },
  {
   "cell_type": "code",
   "execution_count": 83,
   "metadata": {},
   "outputs": [
    {
     "output_type": "stream",
     "name": "stdout",
     "text": [
      "{'Haiti': 5.81, 'Thailand': 3.92, 'Madagascar': 1.38, 'Dominican Republic': 4.53, 'Qatar': 1.4500000000000002, 'Bolivia (Plurinational State of)': 3.05, 'Colombia': 6.960000000000001, 'Rwanda': 7.549999999999999, 'Indonesia': 0.07, 'Guatemala': 2.47, 'Togo': 2.2199999999999998, 'Australia': 12.09, 'Algeria': 0.4, 'Sweden': 7.47, 'Gambia': 1.6300000000000001, 'Japan': 7.74, 'Trinidad and Tobago': 4.68, 'Morocco': 0.7, 'Turkey': 0.72, 'Ukraine': 5.32, 'Djibouti': 0.87, 'Greece': 10.15, 'Albania': 1.73, 'Belize': 0.0, 'Myanmar': 0.16, 'Zimbabwe': 4.92, 'Ecuador': 2.54, 'Bahrain': 4.89, 'Panama': 4.6000000000000005, 'Kuwait': 0.0, 'Republic of Korea': 9.620000000000001, 'Paraguay': 6.51, 'Cuba': 4.37, 'Norway': 5.08, 'Egypt': 0.42000000000000004, 'Sierra Leone': 4.380000000000001, 'Sri Lanka': 0.14, 'Micronesia (Federated States of)': 0.0, 'Hungary': 16.29, 'France': 16.05, 'Israel': 2.0300000000000002, 'Sao Tome and Principe': 2.57, 'Niger': 0.11, 'Equatorial Guinea': 6.49, 'Luxembourg': 15.21, 'Afghanistan': 0.0, 'Eritrea': 0.29, 'Namibia': 0.24, 'Bangladesh': 0.0, 'Bhutan': 0.31, 'Mozambique': 0.39, 'Ghana': 1.8599999999999999, 'Argentina': 10.82, 'Sudan': 0.15, 'Antigua and Barbuda': 4.69, 'Comoros': 0.10999999999999999, 'Swaziland': 6.68, 'Kiribati': 0.48, 'Lithuania': 0.0, 'Saudi Arabia': 0.15, 'Italy': 10.899999999999999, 'Malawi': 1.02, 'United Arab Emirates': 4.43, 'Lesotho': 2.02, 'Lebanon': 3.94, 'Kyrgyzstan': 4.279999999999999, 'Kenya': 2.82, 'Costa Rica': 5.3999999999999995, 'Senegal': 0.6100000000000001, 'Seychelles': 3.3000000000000003, 'Poland': 9.33, 'Uganda': 7.8, 'Burundi': 8.159999999999998, 'Belarus': 7.9799999999999995, 'Uruguay': 7.4399999999999995, 'Croatia': 10.92, 'Venezuela (Bolivarian Republic of)': 7.87, 'Denmark': 11.649999999999999, 'Jordan': 0.19, 'United Republic of Tanzania': 5.9, 'Fiji': 1.9600000000000002, 'Pakistan': 0.02, 'Cameroon': 6.359999999999999, 'Mali': 0.6699999999999999, \"Democratic People's Republic of Korea\": 3.6799999999999997, 'Oman': 1.03, 'Viet Nam': 0.16, 'Malta': 7.13, 'Suriname': 3.67, 'Portugal': 15.350000000000001, 'Jamaica': 3.03, 'Cyprus': 9.29, 'Saint Lucia': 11.62, 'United Kingdom of Great Britain and Northern Ireland': 9.99, 'Singapore': 1.61, 'Nicaragua': 2.5, 'Latvia': 7.039999999999999, 'Germany': 14.64, 'Cabo Verde': 2.79, 'Czech Republic': 13.009999999999998, 'Libya': 0.0, 'Mongolia': 2.59, 'Gabon': 9.34, 'Solomon Islands': 0.5800000000000001, 'Netherlands': 10.030000000000001, 'Chile': 8.649999999999999, 'Iran (Islamic Republic of)': 0.0, 'India': 1.66, 'Guyana': 9.940000000000001, 'Austria': 13.9, 'Vanuatu': 1.74, 'Congo': 3.1500000000000004, 'Democratic Republic of the Congo': 1.92, 'Nigeria': 6.74, \"Cte d'Ivoire\": 2.2, 'United States of America': 9.16, 'Bulgaria': 11.43, 'Central African Republic': 2.5199999999999996, 'Romania': 8.41, 'Syrian Arab Republic': 0.54, 'Mexico': 5.1, 'Liberia': 5.61, 'Peru': 4.99, 'Zambia': 3.37, 'Chad': 0.30000000000000004, 'Malaysia': 0.68, 'Bahamas': 12.290000000000001, 'Botswana': 4.63, 'Slovenia': 12.969999999999999, 'Guinea': 0.21, 'Canada': 9.0, 'Mauritius': 3.54, 'Benin': 1.3800000000000001, 'Samoa': 2.63, 'Spain': 13.280000000000001, 'Tunisia': 0.95, 'New Zealand': 11.52, 'Cambodia': 0.33, 'Saint Kitts and Nevis': 4.65, 'South Africa': 9.21, 'Slovakia': 12.700000000000001, 'Burkina Faso': 3.99, 'Guinea-Bissau': 2.67, 'El Salvador': 1.77, \"Lao People's Democratic Republic\": 5.95, 'Ireland': 11.79, 'Switzerland': 13.849999999999998, 'Belgium': 11.61, 'Russian Federation': 5.35, 'China': 3.33, 'Honduras': 2.15, 'Iceland': 5.359999999999999, 'Somalia': 0.0, 'Brunei Darussalam': 2.7800000000000002, 'Yemen': 0.2, 'Nepal': 0.03, 'Angola': 2.28, 'Finland': 9.419999999999998, 'Ethiopia': 0.8600000000000001, 'Brazil': 5.52, 'Mauritania': 0.02, 'Iraq': 0.75, 'Papua New Guinea': 1.1099999999999999, 'Philippines': 3.78}\n"
     ]
    }
   ],
   "source": [
    "totals = {}\n",
    "\n",
    "countries = world_alcohol[:,2]\n",
    "countriesD = set(countries)\n",
    "countries = list(countriesD)\n",
    "\n",
    "for i in countries :\n",
    "    \n",
    "    masque = (world_alcohol[:,0] == \"1989\") & (world_alcohol[:,2] == i)\n",
    "    total_i = world_alcohol[masque,4].astype(float).sum()\n",
    "    totals[i] = total_i\n",
    "    \n",
    "print(totals)"
   ]
  },
  {
   "source": [
    "## Trouver le pays qui consomme le plus d'alcohol\n",
    "\n",
    "- Créer une variable highest_value qui gardera en mémoire la plus grande valeur du dictionnaire totals. On la fixe à 0 pour commencer.\n",
    "- Créer une variable similaire qu'on nommera highest_key qui gardera en mémoire le nom du pays associé à la plus grande valeur. On la fixe à la valeur None.\n",
    "- Parcourir chaque pays du dictionnaire totals:\n",
    ">- Si la valeur associée au pays est plus grande que highest_value, assigner la valeur en question à la variable highest_value et assigner la clé correspondante (nom du pays) à la variable highest_key.\n",
    "- Afficher le pays qui consomme le plus d'alcool (variable highest_key)"
   ],
   "cell_type": "markdown",
   "metadata": {}
  },
  {
   "cell_type": "code",
   "execution_count": 84,
   "metadata": {},
   "outputs": [
    {
     "output_type": "stream",
     "name": "stdout",
     "text": [
      "Hungary 16.29\n"
     ]
    }
   ],
   "source": [
    "highest_value = 0\n",
    "highest_key = None\n",
    "\n",
    "for (key,value) in totals.items():\n",
    "    if value >= highest_value:\n",
    "        highest_value = value\n",
    "        highest_key = key\n",
    "\n",
    "print(highest_key,highest_value)"
   ]
  },
  {
   "cell_type": "code",
   "execution_count": 91,
   "metadata": {},
   "outputs": [
    {
     "output_type": "stream",
     "name": "stdout",
     "text": [
      "16.29 Hungary\n"
     ]
    }
   ],
   "source": [
    "max = 0\n",
    "maxCle = ''\n",
    "\n",
    "for i in totals:\n",
    "    if totals[i] > max:\n",
    "        max = totals[i]\n",
    "        maxCle = i\n",
    "\n",
    "print(max,maxCle)"
   ]
  },
  {
   "source": [
    "## Puis ensuite créer une fonction qui aura pour argument d'entrée une année et retournera le dictionnaire contenant la consommation moyenne pour chaque pays"
   ],
   "cell_type": "markdown",
   "metadata": {}
  },
  {
   "cell_type": "code",
   "execution_count": 95,
   "metadata": {},
   "outputs": [
    {
     "output_type": "execute_result",
     "data": {
      "text/plain": [
       "{'Guatemala': 2.47,\n",
       " 'Seychelles': 3.3000000000000003,\n",
       " 'Costa Rica': 5.3999999999999995,\n",
       " 'Mauritius': 3.54,\n",
       " 'Zimbabwe': 4.92,\n",
       " 'Suriname': 3.67,\n",
       " 'Croatia': 10.92,\n",
       " 'Syrian Arab Republic': 0.54,\n",
       " 'Bolivia (Plurinational State of)': 3.05,\n",
       " 'Somalia': 0.0,\n",
       " 'Namibia': 0.24,\n",
       " 'Uganda': 7.8,\n",
       " 'Afghanistan': 0.0,\n",
       " 'Jamaica': 3.03,\n",
       " 'Finland': 9.419999999999998,\n",
       " 'Iraq': 0.75,\n",
       " 'Malawi': 1.02,\n",
       " 'Bulgaria': 11.43,\n",
       " 'Nicaragua': 2.5,\n",
       " 'Central African Republic': 2.5199999999999996,\n",
       " 'Burundi': 8.159999999999998,\n",
       " 'Sweden': 7.47,\n",
       " 'Greece': 10.15,\n",
       " 'Kyrgyzstan': 4.279999999999999,\n",
       " 'Belgium': 11.61,\n",
       " 'Angola': 2.28,\n",
       " 'Burkina Faso': 3.99,\n",
       " 'Czech Republic': 13.009999999999998,\n",
       " 'United Arab Emirates': 4.43,\n",
       " 'Peru': 4.99,\n",
       " 'Trinidad and Tobago': 4.68,\n",
       " 'Guyana': 9.940000000000001,\n",
       " 'Bahrain': 4.89,\n",
       " 'Benin': 1.3800000000000001,\n",
       " 'Liberia': 5.61,\n",
       " 'Viet Nam': 0.16,\n",
       " 'Belarus': 7.9799999999999995,\n",
       " 'Swaziland': 6.68,\n",
       " 'France': 16.05,\n",
       " 'United States of America': 9.16,\n",
       " 'Cabo Verde': 2.79,\n",
       " 'Saudi Arabia': 0.15,\n",
       " 'Poland': 9.33,\n",
       " 'Senegal': 0.6100000000000001,\n",
       " 'Slovenia': 12.969999999999999,\n",
       " 'Hungary': 16.29,\n",
       " 'Iran (Islamic Republic of)': 0.0,\n",
       " 'Lesotho': 2.02,\n",
       " 'Gabon': 9.34,\n",
       " 'Comoros': 0.10999999999999999,\n",
       " 'Italy': 10.899999999999999,\n",
       " 'Denmark': 11.649999999999999,\n",
       " 'Canada': 9.0,\n",
       " 'Zambia': 3.37,\n",
       " 'Botswana': 4.63,\n",
       " 'Kuwait': 0.0,\n",
       " 'Russian Federation': 5.35,\n",
       " 'New Zealand': 11.52,\n",
       " 'Uruguay': 7.4399999999999995,\n",
       " 'Fiji': 1.9600000000000002,\n",
       " 'Israel': 2.0300000000000002,\n",
       " \"Cte d'Ivoire\": 2.2,\n",
       " 'Spain': 13.280000000000001,\n",
       " 'South Africa': 9.21,\n",
       " 'Morocco': 0.7,\n",
       " 'Venezuela (Bolivarian Republic of)': 7.87,\n",
       " 'Egypt': 0.42000000000000004,\n",
       " 'Ethiopia': 0.8600000000000001,\n",
       " 'Bhutan': 0.31,\n",
       " 'Chile': 8.649999999999999,\n",
       " 'Cambodia': 0.33,\n",
       " 'Mali': 0.6699999999999999,\n",
       " 'Nepal': 0.03,\n",
       " 'Kiribati': 0.48,\n",
       " 'Dominican Republic': 4.53,\n",
       " 'Vanuatu': 1.74,\n",
       " 'Solomon Islands': 0.5800000000000001,\n",
       " 'Libya': 0.0,\n",
       " 'Ukraine': 5.32,\n",
       " 'Eritrea': 0.29,\n",
       " 'Switzerland': 13.849999999999998,\n",
       " 'Mexico': 5.1,\n",
       " 'Portugal': 15.350000000000001,\n",
       " 'El Salvador': 1.77,\n",
       " 'Philippines': 3.78,\n",
       " 'Netherlands': 10.030000000000001,\n",
       " 'Mozambique': 0.39,\n",
       " 'Togo': 2.2199999999999998,\n",
       " \"Democratic People's Republic of Korea\": 3.6799999999999997,\n",
       " 'Cuba': 4.37,\n",
       " 'Singapore': 1.61,\n",
       " 'Lithuania': 0.0,\n",
       " 'Ecuador': 2.54,\n",
       " 'Malaysia': 0.68,\n",
       " 'Niger': 0.11,\n",
       " 'Democratic Republic of the Congo': 1.92,\n",
       " 'Australia': 12.09,\n",
       " 'Cyprus': 9.29,\n",
       " 'Antigua and Barbuda': 4.69,\n",
       " 'Pakistan': 0.02,\n",
       " 'Colombia': 6.960000000000001,\n",
       " 'Saint Lucia': 11.62,\n",
       " 'Brazil': 5.52,\n",
       " 'Algeria': 0.4,\n",
       " 'Malta': 7.13,\n",
       " \"Lao People's Democratic Republic\": 5.95,\n",
       " 'Turkey': 0.72,\n",
       " 'Ghana': 1.8599999999999999,\n",
       " 'Mauritania': 0.02,\n",
       " 'Cameroon': 6.359999999999999,\n",
       " 'Bahamas': 12.290000000000001,\n",
       " 'Djibouti': 0.87,\n",
       " 'Equatorial Guinea': 6.49,\n",
       " 'Oman': 1.03,\n",
       " 'Micronesia (Federated States of)': 0.0,\n",
       " 'Myanmar': 0.16,\n",
       " 'Qatar': 1.4500000000000002,\n",
       " 'Rwanda': 7.549999999999999,\n",
       " 'Mongolia': 2.59,\n",
       " 'Latvia': 7.039999999999999,\n",
       " 'Kenya': 2.82,\n",
       " 'Saint Kitts and Nevis': 4.65,\n",
       " 'Japan': 7.74,\n",
       " 'Iceland': 5.359999999999999,\n",
       " 'Papua New Guinea': 1.1099999999999999,\n",
       " 'Guinea-Bissau': 2.67,\n",
       " 'Belize': 0.0,\n",
       " 'United Republic of Tanzania': 5.9,\n",
       " 'Paraguay': 6.51,\n",
       " 'Thailand': 3.92,\n",
       " 'Tunisia': 0.95,\n",
       " 'United Kingdom of Great Britain and Northern Ireland': 9.99,\n",
       " 'Lebanon': 3.94,\n",
       " 'Luxembourg': 15.21,\n",
       " 'Albania': 1.73,\n",
       " 'Bangladesh': 0.0,\n",
       " 'Sudan': 0.15,\n",
       " 'Congo': 3.1500000000000004,\n",
       " 'Indonesia': 0.07,\n",
       " 'Sierra Leone': 4.380000000000001,\n",
       " 'Guinea': 0.21,\n",
       " 'Panama': 4.6000000000000005,\n",
       " 'Honduras': 2.15,\n",
       " 'Samoa': 2.63,\n",
       " 'Brunei Darussalam': 2.7800000000000002,\n",
       " 'Germany': 14.64,\n",
       " 'Yemen': 0.2,\n",
       " 'Chad': 0.30000000000000004,\n",
       " 'Sri Lanka': 0.14,\n",
       " 'Republic of Korea': 9.620000000000001,\n",
       " 'Sao Tome and Principe': 2.57,\n",
       " 'Slovakia': 12.700000000000001,\n",
       " 'Haiti': 5.81,\n",
       " 'Jordan': 0.19,\n",
       " 'Madagascar': 1.38,\n",
       " 'Austria': 13.9,\n",
       " 'Norway': 5.08,\n",
       " 'Argentina': 10.82,\n",
       " 'Romania': 8.41,\n",
       " 'China': 3.33,\n",
       " 'Nigeria': 6.74,\n",
       " 'India': 1.66,\n",
       " 'Ireland': 11.79,\n",
       " 'Gambia': 1.6300000000000001}"
      ]
     },
     "metadata": {},
     "execution_count": 95
    }
   ],
   "source": [
    "def total_dic(year):\n",
    "\n",
    "    totals = {}\n",
    "\n",
    "    is_year = (world_alcohol[:,0] == year)\n",
    "    year_current = world_alcohol[is_year]\n",
    "    countries = year_current[:,2]\n",
    "\n",
    "    for country in countries:\n",
    "        is_country = (year_current[:,2] == country)\n",
    "        country_consumption = year_current[is_country]\n",
    "        alcohol_column = country_consumption[:,4]\n",
    "        is_empty_country_consumption = (alcohol_column == '')\n",
    "        alcohol_column[is_empty_country_consumption] = '0'\n",
    "        alcohol_column = alcohol_column.astype(float)\n",
    "        totals[country] = alcohol_column.sum()\n",
    "\n",
    "    return totals\n",
    "\n",
    "total_1989 = total_dic('1989')\n",
    "total_1989"
   ]
  },
  {
   "cell_type": "code",
   "execution_count": null,
   "metadata": {},
   "outputs": [],
   "source": []
  }
 ]
}