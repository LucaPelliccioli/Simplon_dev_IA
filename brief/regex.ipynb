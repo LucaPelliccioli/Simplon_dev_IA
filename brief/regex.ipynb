{
 "metadata": {
  "language_info": {
   "codemirror_mode": {
    "name": "ipython",
    "version": 3
   },
   "file_extension": ".py",
   "mimetype": "text/x-python",
   "name": "python",
   "nbconvert_exporter": "python",
   "pygments_lexer": "ipython3",
   "version": "3.8.5"
  },
  "orig_nbformat": 2,
  "kernelspec": {
   "name": "python3",
   "display_name": "Python 3.8.5 64-bit ('base': conda)",
   "metadata": {
    "interpreter": {
     "hash": "64b474f71659f9be32f34132c3eef93d33d176ead871b80ca6db3fa26bc83f65"
    }
   }
  }
 },
 "nbformat": 4,
 "nbformat_minor": 2,
 "cells": [
  {
   "source": [
    "## 1. Proposez une fonction balise2dico(t)qui renvoie un dictionnaire des balises issues d’une chaîne de caractères t, indexées par le numéro du 1ercaractère de la balise dans le texte."
   ],
   "cell_type": "markdown",
   "metadata": {}
  },
  {
   "cell_type": "code",
   "execution_count": 10,
   "metadata": {},
   "outputs": [
    {
     "output_type": "execute_result",
     "data": {
      "text/plain": [
       "{0: '<strong>', 10: '</strong>', 49: '<em>', 61: '</em>'}"
      ]
     },
     "metadata": {},
     "execution_count": 10
    }
   ],
   "source": [
    "import re\n",
    "from re import sub\n",
    "\n",
    "def balise2dico(t):\n",
    "\n",
    "    dictionnaire = {}\n",
    "\n",
    "    pattern = r\"<[^>]*>\"\n",
    "    balise = re.findall(pattern, t)\n",
    "\n",
    "    for i in range(len(balise)):\n",
    "\n",
    "        test = t.find(balise[i])\n",
    "        dictionnaire[test] = balise[i]\n",
    "\n",
    "    return dictionnaire\n",
    "\n",
    "balise2dico(\"<strong>Ne</strong> ho <strong>piene</strong> le <em>scatolle</em>\")"
   ]
  },
  {
   "cell_type": "code",
   "execution_count": 5,
   "metadata": {},
   "outputs": [
    {
     "output_type": "stream",
     "name": "stdout",
     "text": [
      "Ne</strong> ho <strong>piene</strong> le <em>scatolle</em>\nNe ho <strong>piene</strong> le <em>scatolle</em>\nNe ho piene</strong> le <em>scatolle</em>\nNe ho piene le <em>scatolle</em>\nNe ho piene le scatolle</em>\nNe ho piene le scatolle\n"
     ]
    },
    {
     "output_type": "execute_result",
     "data": {
      "text/plain": [
       "{0: '<strong>',\n",
       " 2: '</strong>',\n",
       " 6: '<strong>',\n",
       " 11: '</strong>',\n",
       " 15: '<em>',\n",
       " 23: '</em>'}"
      ]
     },
     "metadata": {},
     "execution_count": 5
    }
   ],
   "source": [
    "t = \"<strong>Ne</strong> ho <strong>piene</strong> le <em>scatolle</em>\"\n",
    "\n",
    "def balise2dico(t):\n",
    "\n",
    "    balise_dict = {}\n",
    "    balises = re.findall(r\"<[a-z\\\\/''=\\s]*>\", t)\n",
    "\n",
    "    for i in range (len(balises)):\n",
    "\n",
    "        emplacement = t.find(balises[i])\n",
    "        t = t.replace(balises[i], \"\", 1)\n",
    "        print(t)\n",
    "        balise_dict[emplacement] = balises[i]\n",
    "\n",
    "    return balise_dict\n",
    "\n",
    "balise2dico(t)"
   ]
  },
  {
   "cell_type": "code",
   "execution_count": 6,
   "metadata": {},
   "outputs": [
    {
     "output_type": "execute_result",
     "data": {
      "text/plain": [
       "{0: '<strong>',\n",
       " 10: '</strong>',\n",
       " 23: '<strong>',\n",
       " 36: '</strong>',\n",
       " 49: '<em>',\n",
       " 61: '</em>'}"
      ]
     },
     "metadata": {},
     "execution_count": 6
    }
   ],
   "source": [
    "s = \"<strong>Ne</strong> ho <strong>piene</strong> le <em>scatolle</em>\"\n",
    "\n",
    "tagRegex = re.compile(r'(<[-/\\w\\d]+>)')\n",
    "\n",
    "def balise2dico(s):\n",
    "\n",
    "    mondic = {}\n",
    "\n",
    "    for m in tagRegex.finditer(s):\n",
    "        mondic[m.start()] = m.group(1)\n",
    "\n",
    "    return mondic\n",
    "\n",
    "balise2dico(s)"
   ]
  },
  {
   "cell_type": "code",
   "execution_count": 7,
   "metadata": {},
   "outputs": [
    {
     "output_type": "execute_result",
     "data": {
      "text/plain": [
       "{0: '<strong>',\n",
       " 2: '</strong>',\n",
       " 6: '<strong>',\n",
       " 11: '</strong>',\n",
       " 15: '<em>',\n",
       " 23: '</em>'}"
      ]
     },
     "metadata": {},
     "execution_count": 7
    }
   ],
   "source": [
    "t = \"<strong>Ne</strong> ho <strong>piene</strong> le <em>scatolle</em>\"\n",
    "\n",
    "def balise2dico(t):\n",
    "\n",
    "    d={}\n",
    "\n",
    "    keydico = re.findall('<[^>]*>',t)\n",
    "\n",
    "    for e in keydico:\n",
    "        d[t.index(e)]=e\n",
    "        t=t.replace(e,'',1)\n",
    "        \n",
    "    return d\n",
    "\n",
    "balise2dico(t)"
   ]
  },
  {
   "source": [
    "## 2. Proposez une fonction interpreter(t) qui supprime les balises d’un texte mais, lorsqu'un bloc de texte est compris entre une balise <h*> (l’* représentant un chiffre), fait passer le bloc en majuscules."
   ],
   "cell_type": "markdown",
   "metadata": {}
  },
  {
   "cell_type": "code",
   "execution_count": 67,
   "metadata": {},
   "outputs": [
    {
     "output_type": "error",
     "ename": "IndentationError",
     "evalue": "expected an indented block (<ipython-input-67-b3f0f1c93347>, line 19)",
     "traceback": [
      "\u001b[0;36m  File \u001b[0;32m\"<ipython-input-67-b3f0f1c93347>\"\u001b[0;36m, line \u001b[0;32m19\u001b[0m\n\u001b[0;31m    def interpreter(t):\u001b[0m\n\u001b[0m                       ^\u001b[0m\n\u001b[0;31mIndentationError\u001b[0m\u001b[0;31m:\u001b[0m expected an indented block\n"
     ]
    }
   ],
   "source": [
    "from re import sub\n",
    "\n",
    "t = \"<h1>Ne</h1> ho <h2>piene</h2> le <h3>scatolle</h3>\"\n",
    "\n",
    "def interpreter(t):\n",
    "\n",
    "    pattern = r\"<[^>]*>\"\n",
    "    balise = re.findall(pattern, interpreter)\n",
    "    supprime = sub(pattern, \"\", interpreter)\n",
    "\n",
    "    pattern_h = r\"<[<\\/[h]\"\n",
    "    h = re.findall(pattern_h, interpreter)\n",
    "\n",
    "    for i in interpreter:\n",
    "\n",
    "        if i == h:\n",
    "\n",
    "\n",
    "        \n",
    "        \n",
    "\n",
    "\n",
    "\n"
   ]
  },
  {
   "cell_type": "code",
   "execution_count": 8,
   "metadata": {},
   "outputs": [
    {
     "output_type": "stream",
     "name": "stdout",
     "text": [
      "NE ho PIENE le SCATOLLE\n"
     ]
    }
   ],
   "source": [
    "t = \"<h1>Ne</h1> ho <h2>piene</h2> le <h3>scatolle</h3>\"\n",
    "\n",
    "def interpreter(t) :\n",
    "\n",
    "    list_title = re.findall('<h.>(.*?)</h.>',t)\n",
    "\n",
    "    for word in list_title: \n",
    "        \n",
    "        t = t.replace(word, word.upper(), 1)\n",
    "        no_balise = re.sub('</?[a-z]+[0-9]?>',\"\",t)\n",
    "\n",
    "    print(no_balise)\n",
    "\n",
    "interpreter(t)"
   ]
  },
  {
   "cell_type": "code",
   "execution_count": 11,
   "metadata": {},
   "outputs": [
    {
     "output_type": "stream",
     "name": "stdout",
     "text": [
      "Bonjour JE m'appelle LUCA\n"
     ]
    }
   ],
   "source": [
    "def interpreter(s):\n",
    "\n",
    "    maj = sub('<h[0-9]+>[^<]+', lambda x : x.group(0).upper(),s)\n",
    "    rets = sub('<[^>]*>', '', maj)\n",
    "\n",
    "    return rets\n",
    "    \n",
    "print(interpreter(\"Bonjour <h1>je</h1> m'appelle <h2>Luca</h2>\"))"
   ]
  },
  {
   "source": [
    "## 3. Proposez une fonction xml2csv(t) qui prend en argument des balises xml dont ont suppose connue la structure et renvoie un tableau de données sous format csv"
   ],
   "cell_type": "markdown",
   "metadata": {}
  },
  {
   "cell_type": "code",
   "execution_count": 12,
   "metadata": {},
   "outputs": [
    {
     "output_type": "execute_result",
     "data": {
      "text/plain": [
       "' 159,57; 168,71;'"
      ]
     },
     "metadata": {},
     "execution_count": 12
    }
   ],
   "source": [
    "def xml2csv(t):\n",
    "\n",
    "    data = t.split('<individu>')\n",
    "\n",
    "    for i, x in enumerate(data):\n",
    "\n",
    "        y = sub('</[^>]*></individu>',';',x)\n",
    "        y = sub('</[^>]*>', ',', y)\n",
    "        data[i] = sub('<[^>]*>', '', y)\n",
    "    t = \" \".join(data)\n",
    "\n",
    "    return t\n",
    "\n",
    "s2 = \"<individu><taille>159</taille><poids>57</poids></individu><individu><taille>168</taille><poids>71</poids></individu>\"\n",
    "\n",
    "xml2csv(s2)"
   ]
  },
  {
   "cell_type": "code",
   "execution_count": 13,
   "metadata": {},
   "outputs": [
    {
     "output_type": "stream",
     "name": "stdout",
     "text": [
      "<individu><taille>159</taille><poids>57</poids></individu><individu><taille>168</taille><poids>71</poids></individu><individu><taille>184</taille><poids>111</poids></individu>\n159,57\n168,71\n184,111\n\nindividu_taille,individu_poids\n159,57\n168,71\n184,111\n\n"
     ]
    }
   ],
   "source": [
    "# On connait la structure, le motif est strict\n",
    "def xml2csv(t,motif):\n",
    "    return sub(motif,r\"\\1,\\2\\n\",t)\n",
    "\n",
    "\n",
    "# On connait les balises, le motif est généré\n",
    "mesbalises=['individu','taille','poids']\n",
    "def xml2csv_v2(t):\n",
    "    result=\"\" # chaine résultat pour le return\n",
    "    # création des noms des colonnes\n",
    "    for i in range(len(mesbalises)):\n",
    "        if i==len(mesbalises)-1: # balise 0, utiliser comme préfix, cas du dernier\n",
    "            result+=mesbalises[0]+\"_\"+mesbalises[i]\n",
    "        elif i>0: # tous les cas sauf dernier et premier\n",
    "            result+=mesbalises[0]+\"_\"+mesbalises[i]+','\n",
    "            \n",
    "    result+='\\n' # traitement des colonnes fini avec retour à la ligne\n",
    "    \n",
    "    # traitement des données balisées\n",
    "    motif=\"</?\"+mesbalises[0]+\">\" # on supprime <individu> et </individu>\n",
    "    t = sub(motif,'',t)\n",
    "    \n",
    "    for i in range(len(mesbalises)):\n",
    "        if i==len(mesbalises)-1: # cas de la dernière balise\n",
    "            motif=\"<\"+mesbalises[i]+\">([a-zA-Z0-9]*)</\"+mesbalises[i]+\">\"\n",
    "            t = sub(motif,r\"\\1\\n\",t)\n",
    "        elif i>0: # cas des autres balises\n",
    "            motif=\"<\"+mesbalises[i]+\">([a-zA-Z0-9]*)</\"+mesbalises[i]+\">\"\n",
    "            t = sub(motif,r\"\\1,\",t)\n",
    "    return result+t\n",
    "        \n",
    "\n",
    "s = \"<individu><taille>159</taille><poids>57</poids></individu><individu><taille>168</taille><poids>71</poids></individu><individu><taille>184</taille><poids>111</poids></individu>\"\n",
    "\n",
    "motif = \"<individu><taille>([\\d]+)</taille><poids>([\\d]+)</poids></individu>\"\n",
    "print(s)\n",
    "print(xml2csv(s,motif))\n",
    "print(xml2csv_v2(s))"
   ]
  },
  {
   "cell_type": "code",
   "execution_count": 14,
   "metadata": {},
   "outputs": [
    {
     "output_type": "stream",
     "name": "stdout",
     "text": [
      "individu_nom_prenom;individu_nom_famille;individu_poids;individu_taille;individu_adresse_city\nYanice;Guigou;23,5;None;None\nNone;None;34,5;134.6;Mandelieu\n"
     ]
    }
   ],
   "source": [
    "# pas besoin de connaitre les balises ou la structure a l'avance tant que c'est des balises non encapsulées\n",
    "# remplace les valeurs manquantes par des none\n",
    "# recupere les en-têtes du csv\n",
    "# met en forme pour chaque ligne avec \\n\n",
    "# But: une seule boucle donc efficient\n",
    "def xml2csv(s: str, sep: str = \";\") -> str:\n",
    "    data: dict[str, list[str]] = {}\n",
    "    i_data = 0\n",
    "    tags: list[str] = []\n",
    "    in_tag = False\n",
    "    closing_tag = False\n",
    "    current_tag = \"\"\n",
    "    current_data = \"\"\n",
    "    for l in s:\n",
    "        if l == '<':\n",
    "            in_tag = True\n",
    "            if current_data != \"\":\n",
    "                key = \"_\".join(tags)\n",
    "                if key not in data:\n",
    "                    data[key] = [] if i_data == 0 else [\"None\" * i_data]\n",
    "                data[key].append(current_data)\n",
    "                current_data = \"\"\n",
    "        elif l == '>':\n",
    "            in_tag = False\n",
    "            closing_tag = False\n",
    "            if current_tag != \"\":\n",
    "                tags.append(current_tag)\n",
    "                current_tag = \"\"\n",
    "        elif in_tag and l == '/':\n",
    "            tags.pop()\n",
    "            if len(tags) == 0:\n",
    "                i_data += 1\n",
    "            closing_tag = True\n",
    "        elif in_tag and not closing_tag:\n",
    "            current_tag += l\n",
    "        elif not in_tag:\n",
    "            current_data += l\n",
    "    return sep.join(data.keys())+\"\\n\"+\"\\n\".join([sep.join([data[k][i] if i < len(data[k]) else \"None\" for k in data]) for i in range(0, i_data)])\n",
    "print(xml2csv(\"<individu><nom><prenom>Yanice</prenom><famille>Guigou</famille></nom><poids>23,5</poids></individu><individu><taille>134.6</taille><poids>34,5</poids><adresse><city>Mandelieu</city></adresse></individu>\"))"
   ]
  },
  {
   "cell_type": "code",
   "execution_count": null,
   "metadata": {},
   "outputs": [],
   "source": []
  }
 ]
}