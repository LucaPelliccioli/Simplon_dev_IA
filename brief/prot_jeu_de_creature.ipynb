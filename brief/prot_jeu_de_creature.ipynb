{
 "metadata": {
  "language_info": {
   "codemirror_mode": {
    "name": "ipython",
    "version": 3
   },
   "file_extension": ".py",
   "mimetype": "text/x-python",
   "name": "python",
   "nbconvert_exporter": "python",
   "pygments_lexer": "ipython3",
   "version": "3.8.5"
  },
  "orig_nbformat": 2,
  "kernelspec": {
   "name": "python3",
   "display_name": "Python 3.8.5 64-bit ('base': conda)",
   "metadata": {
    "interpreter": {
     "hash": "64b474f71659f9be32f34132c3eef93d33d176ead871b80ca6db3fa26bc83f65"
    }
   }
  },
  "metadata": {
   "interpreter": {
    "hash": "c5e56fbcdc31a633ac0299573016abf27dbdfacef16b1340a435c1336c93ab79"
   }
  }
 },
 "nbformat": 4,
 "nbformat_minor": 2,
 "cells": [
  {
   "cell_type": "code",
   "execution_count": 3,
   "metadata": {},
   "outputs": [],
   "source": [
    "\n",
    "import random\n",
    "\n",
    "\n",
    "class Case:\n",
    "    def __init__(self, x, y):\n",
    "        self.x = x\n",
    "        self.y = y\n",
    "    def __eq__(self,other):\n",
    "        \"Surchage de == pour comparer 2 cases en valeurs\"\n",
    "        # http://lptms.u-psud.fr/wiki-cours/index.php/Python:_Surcharge\n",
    "        return (self.x == other.x) and (self.y == other.y)\n",
    "    def __str__(self):\n",
    "        \"Affichage pour str()\"\n",
    "        return \"Case: x=\"+str(self.x)+\" , y=\"+str(self.y)\n",
    "    def __repr__(self):\n",
    "        \"Affichage pour repr()\"\n",
    "        return \"(\"+str(self.x)+\", \"+str(self.y)+\")\"\n",
    "    def casesAdjacentes(self,jeu):\n",
    "        \"Retourne une liste contenant les cases adjacentes possibles\"\n",
    "        l=[]\n",
    "        for i in range(-1,2):\n",
    "            for j in range(-1,2):\n",
    "                c=Case(self.x+i,self.y+j)\n",
    "                if jeu.surDamier(c):\n",
    "                    l.append(c)\n",
    "        l.remove(self)\n",
    "        return l\n",
    "\n",
    "\n",
    "class Créature:\n",
    "    def __init__(self,nom,c):\n",
    "        self.nom = nom\n",
    "        self.position = c # c est une Case\n",
    "    def __str__(self):\n",
    "        return self.nom+\" est sur \"+str(self.position)\n",
    "    def __repr__(self):\n",
    "        return self.nom+\" est sur \"+str(self.position)\n",
    "    def choisirCible(self,jeu):\n",
    "        lPosAdj = self.position.casesAdjacentes(j)\n",
    "        for i in lPosAdj:\n",
    "            if jeu.estOccupée(i): # caseAdjacente i est occupée, on la choisit\n",
    "                return i\n",
    "        return lPosAdj[random.randint(0,len(lPosAdj)-1)]\n",
    "    def initiale(self):\n",
    "        return self.nom[0]\n",
    "\n",
    "\n",
    "class Jeu:\n",
    "    def __init__(self, listeDesCréatures, dimensions):\n",
    "        self.x = dimensions[0]\n",
    "        self.y = dimensions[1]\n",
    "        self.listeDesCréatures = listeDesCréatures\n",
    "        self.tour = 0\n",
    "        self.actif = True\n",
    "\n",
    "    def __str__(self):\n",
    "        s = \"\"\n",
    "        for i in self.listeDesCréatures:\n",
    "            print(i)\n",
    "        s = \"Tour: \"+str(self.tour)+\" actif: \"+str(self.actif)\n",
    "        return s\n",
    "    def estOccupée(self,c):\n",
    "        for i in self.listeDesCréatures:\n",
    "            if i.position == c:\n",
    "                return True\n",
    "        return False\n",
    "    def surDamier(self,c):\n",
    "        return (0 <= c.x and c.x<=self.x) and (0 <= c.y and c.y<=self.y)\n",
    "    def deplacer(self,cr,c):\n",
    "        if self.estOccupée(c):\n",
    "            for i in self.listeDesCréatures:\n",
    "                if i.position == c:\n",
    "                    self.listeDesCréatures.remove(i)\n",
    "                    if len(self.listeDesCréatures) == 1:\n",
    "                        self.actif=False\n",
    "        cr.position = c\n",
    "        print(cr)\n",
    "    def afficherPositions(self):\n",
    "        for i in range(self.y+1):\n",
    "            line=\"\"\n",
    "            for j in range(self.x+1):\n",
    "                c,vide=Case(j,i),True\n",
    "                for cr in self.listeDesCréatures:\n",
    "                    if cr.position == c:\n",
    "                        line+=cr.initiale()+' '\n",
    "                        vide=False\n",
    "                if vide:\n",
    "                    line+=\". \"\n",
    "            print(line)"
   ]
  },
  {
   "cell_type": "code",
   "execution_count": 2,
   "metadata": {},
   "outputs": [
    {
     "output_type": "stream",
     "name": "stdout",
     "text": [
      "L . . . . \n. . . . . \n. . A . . \n. . . . . \n. . . . . \n. . . . M \nLucifer est sur Case: x=0 , y=1\n. . . . . \nL . . . . \n. . A . . \n. . . . . \n. . . . . \n. . . . M \nMichel est sur Case: x=4 , y=4\n. . . . . \nL . . . . \n. . A . . \n. . . . . \n. . . . M \n. . . . . \nAdam est sur Case: x=1 , y=3\n. . . . . \nL . . . . \n. . . . . \n. A . . . \n. . . . M \n. . . . . \nLucifer est sur Case: x=0 , y=0\nL . . . . \n. . . . . \n. . . . . \n. A . . . \n. . . . M \n. . . . . \nMichel est sur Case: x=4 , y=3\nL . . . . \n. . . . . \n. . . . . \n. A . . M \n. . . . . \n. . . . . \nAdam est sur Case: x=1 , y=4\nL . . . . \n. . . . . \n. . . . . \n. . . . M \n. A . . . \n. . . . . \nLucifer est sur Case: x=1 , y=1\n. . . . . \n. L . . . \n. . . . . \n. . . . M \n. A . . . \n. . . . . \nMichel est sur Case: x=3 , y=2\n. . . . . \n. L . . . \n. . . M . \n. . . . . \n. A . . . \n. . . . . \nAdam est sur Case: x=1 , y=3\n. . . . . \n. L . . . \n. . . M . \n. A . . . \n. . . . . \n. . . . . \nLucifer est sur Case: x=2 , y=1\n. . . . . \n. . L . . \n. . . M . \n. A . . . \n. . . . . \n. . . . . \nMichel est sur Case: x=2 , y=1\n. . . . . \n. . M . . \n. . . . . \n. A . . . \n. . . . . \n. . . . . \nMichel est sur Case: x=3 , y=0\n. . . M . \n. . . . . \n. . . . . \n. A . . . \n. . . . . \n. . . . . \nAdam est sur Case: x=2 , y=2\n. . . M . \n. . . . . \n. . A . . \n. . . . . \n. . . . . \n. . . . . \nMichel est sur Case: x=2 , y=1\n. . . . . \n. . M . . \n. . A . . \n. . . . . \n. . . . . \n. . . . . \nAdam est sur Case: x=2 , y=1\n. . . . . \n. . A . . \n. . . . . \n. . . . . \n. . . . . \n. . . . . \nAdam a gagné en 6 tours.\n"
     ]
    }
   ],
   "source": [
    "\n",
    "# initialisation\n",
    "damier = (4,5) # nb de cases pour le coté du damier 0-x et 0-y\n",
    "cr1 = Créature(\"Lucifer\",Case(0,0)) # positionner sur la case 1,1\n",
    "cr2 = Créature(\"Michel\",Case(damier[0],damier[1])) # positionner à l'opposé\n",
    "cr3 = Créature(\"Adam\", Case(damier[0]//2,damier[1]//2))\n",
    "l =[cr1,cr2,cr3]\n",
    "j = Jeu(l,damier) # création de l'objet j de type Jeu\n",
    "\n",
    "\n",
    "j.afficherPositions()\n",
    "while j.actif:\n",
    "    for i in j.listeDesCréatures:\n",
    "        j.deplacer(i,i.choisirCible(j))\n",
    "        j.afficherPositions()\n",
    "    j.tour+=1\n",
    "\n",
    "print(j.listeDesCréatures[0].nom+\" a gagné en \"+str(j.tour)+\" tours.\")"
   ]
  },
  {
   "cell_type": "code",
   "execution_count": null,
   "metadata": {},
   "outputs": [],
   "source": []
  }
 ]
}