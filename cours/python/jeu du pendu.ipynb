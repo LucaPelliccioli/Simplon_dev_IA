{
 "metadata": {
  "language_info": {
   "codemirror_mode": {
    "name": "ipython",
    "version": 3
   },
   "file_extension": ".py",
   "mimetype": "text/x-python",
   "name": "python",
   "nbconvert_exporter": "python",
   "pygments_lexer": "ipython3",
   "version": "3.8.5-final"
  },
  "orig_nbformat": 2,
  "kernelspec": {
   "name": "python3",
   "display_name": "Python 3.8.5 64-bit ('base': conda)",
   "metadata": {
    "interpreter": {
     "hash": "64b474f71659f9be32f34132c3eef93d33d176ead871b80ca6db3fa26bc83f65"
    }
   }
  }
 },
 "nbformat": 4,
 "nbformat_minor": 2,
 "cells": [
  {
   "cell_type": "code",
   "execution_count": 7,
   "metadata": {},
   "outputs": [
    {
     "output_type": "stream",
     "name": "stdout",
     "text": [
      "Salut et bienvenue dans le jeu du pendu !\nVous avez jusqu'à 6 essais pour deviner les lettres avant de nous donner la réponse finale.\n"
     ]
    },
    {
     "output_type": "error",
     "ename": "NameError",
     "evalue": "name 'randrange' is not defined",
     "traceback": [
      "\u001b[0;31m---------------------------------------------------------------------------\u001b[0m",
      "\u001b[0;31mNameError\u001b[0m                                 Traceback (most recent call last)",
      "\u001b[0;32m<ipython-input-7-45781bbf55b1>\u001b[0m in \u001b[0;36m<module>\u001b[0;34m\u001b[0m\n\u001b[1;32m      6\u001b[0m \u001b[0;34m\u001b[0m\u001b[0m\n\u001b[1;32m      7\u001b[0m \u001b[0mMAX_TRIES\u001b[0m \u001b[0;34m=\u001b[0m \u001b[0;36m6\u001b[0m\u001b[0;34m\u001b[0m\u001b[0;34m\u001b[0m\u001b[0m\n\u001b[0;32m----> 8\u001b[0;31m \u001b[0mrand\u001b[0m \u001b[0;34m=\u001b[0m \u001b[0mrandrange\u001b[0m\u001b[0;34m(\u001b[0m\u001b[0;36m0\u001b[0m\u001b[0;34m,\u001b[0m \u001b[0mlen\u001b[0m\u001b[0;34m(\u001b[0m\u001b[0mword_to_guess\u001b[0m\u001b[0;34m)\u001b[0m\u001b[0;34m)\u001b[0m\u001b[0;34m\u001b[0m\u001b[0;34m\u001b[0m\u001b[0m\n\u001b[0m\u001b[1;32m      9\u001b[0m \u001b[0;34m\u001b[0m\u001b[0m\n\u001b[1;32m     10\u001b[0m \u001b[0;31m# mot à trouver\u001b[0m\u001b[0;34m\u001b[0m\u001b[0;34m\u001b[0m\u001b[0;34m\u001b[0m\u001b[0m\n",
      "\u001b[0;31mNameError\u001b[0m: name 'randrange' is not defined"
     ]
    }
   ],
   "source": [
    "word_to_guess = ['ECOLE','VISUAL','STUDIO','CODE','DOCUMENT']\n",
    "\n",
    "print(\"Salut et bienvenue dans le jeu du pendu !\")\n",
    "print(\"Vous avez jusqu'à 6 essais pour deviner les lettres avant de nous donner la réponse finale.\")\n",
    "input(\"Dès que vous êtes prêts, appuyez sur entrée...\")\n",
    "\n",
    "MAX_TRIES = 6\n",
    "rand = randrange(0, len(word_to_guess))\n",
    "\n",
    "# mot à trouver\n",
    "mot = word_to_guess[rand]\n",
    "# lettres dans le mots à trouver\n",
    "liste_lettre = list(set(letter))\n",
    "# liste des lettres devinees\n",
    "guessed_letters = []\n",
    "\n",
    "i = 0\n",
    "\n",
    "# Une boucle tant que le nombre d'essaie (i) est inférieur à 0 et qu'il reste toujours des lettres à deviner\n",
    "while i < MAX_TRIES and len(liste_lettre) > 0:\n",
    "    #variable contenant la lettre que l'utilisateur veut deviner ce tour\n",
    "    lettre = \"\"\n",
    "    #Tant que l'utilisateur n'envoie pas une seule lettre ou que cette lettre a été envoyé, on continue à lui demander de taper une lettre\n",
    "    while len(letter) != 1 or letter in guessed_letters:\n",
    "        letter = input(\"Tapez une lettre : \").upper()\n",
    "        # On affiche un message d'erreur pour les deux cas (plusieurs lettres ou lettre déja deviné)\n",
    "        if letter in guessed_letters:\n",
    "            print('Attention vous avez déjà devinez cette lettre !\\n')\n",
    "        elif len (letter) != 1:\n",
    "                print(\"Erreur : vous ne devez taper qu'une seule lettre !\\n\")\n",
    "    # Une fois que les vérifications sont faites, on ajoute la lettre aux lettres devinés\n",
    "    guessed_letters.append(letter)\n",
    "    # si la lettre est présente dans le mot à trouver\n",
    "    if letter in liste_lettre:\n",
    "        #on enlève la lettre de la liste des lettres dans le mot à trouver\n",
    "        liste_lettre.remove(letter)\n",
    "    # On boucle sur les lettres du mot afiin d'afficher le mot (Ex : # # # # X #)\n",
    "    for l in word_to_guess:\n",
    "        # si la lettre du mot à devnier est présente dans la liste des lettres qui nous reste à deviner \n",
    "        if l in liste_lettre:\n",
    "            # on affiche \"# \"\n",
    "            print(\"# \", end=\"\")\n",
    "        else:\n",
    "            #sinon, ca veut dire que la lettre a été deviné donc on l'affiche\n",
    "            print(f\"{l} \", end=\"\")\n",
    "        # On affiche le nombre d'essai qu'il reste à l'utilisateur\n",
    "        print(f\"\\n Il vous reste {MAX_TRIES - i - 1} essais... \\n\")\n",
    "        # Puis on incrémente le tour de 1\n",
    "        i += 1\n",
    "    # A la fin, lorsque l'utilisateur n'a plus d'essaie ou lorsqu'il ne lui reste plus de lettres à deviner, on lui demande de nous proposer le mot entier\n",
    "    guessed = input('Devniez maintenant le mot : ').upper()\n",
    "    # Si le mot correspond à celui qu'il fallait deviner\n",
    "    if guessed == word_to_guess:\n",
    "        print(\"GAGNÉ !\")\n",
    "    else:\n",
    "        # Sinon on affiche perdu\n",
    "        print(\"PERDU !\")\n",
    "    print(\"Le mot était '{word_to_guess}' !\")"
   ]
  },
  {
   "cell_type": "code",
   "execution_count": null,
   "metadata": {},
   "outputs": [],
   "source": []
  }
 ]
}