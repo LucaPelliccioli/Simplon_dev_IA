{
 "metadata": {
  "language_info": {
   "codemirror_mode": {
    "name": "ipython",
    "version": 3
   },
   "file_extension": ".py",
   "mimetype": "text/x-python",
   "name": "python",
   "nbconvert_exporter": "python",
   "pygments_lexer": "ipython3",
   "version": "3.8.5"
  },
  "orig_nbformat": 2,
  "kernelspec": {
   "name": "python3",
   "display_name": "Python 3.8.5 64-bit ('base': conda)",
   "metadata": {
    "interpreter": {
     "hash": "64b474f71659f9be32f34132c3eef93d33d176ead871b80ca6db3fa26bc83f65"
    }
   }
  }
 },
 "nbformat": 4,
 "nbformat_minor": 2,
 "cells": [
  {
   "cell_type": "code",
   "execution_count": 1,
   "metadata": {},
   "outputs": [
    {
     "output_type": "stream",
     "name": "stdout",
     "text": [
      "Bonjour Luca.\n"
     ]
    }
   ],
   "source": [
    "from jinja2 import Template\n",
    "\n",
    "reponse = input(\"Votre nom: \")\n",
    "\n",
    "tm = Template(\"Bonjour {{ nom }}.\")\n",
    "texte = tm.render(nom=reponse)\n",
    "\n",
    "print(texte)"
   ]
  },
  {
   "cell_type": "code",
   "execution_count": 7,
   "metadata": {},
   "outputs": [
    {
     "output_type": "stream",
     "name": "stdout",
     "text": [
      "<!DOCTYPE html>\n<html lang=\"en\">\n<head>\n    <title>My Webpage</title>\n</head>\n<body>\n    <ul id=\"navigation\">\n        <li><a href=\"\">Luca</a></li>\n    </ul>\n\n    <h1>My Webpage</h1>\n    06/14/21 15:56:27\n\n    \n</body>\n</html>\n"
     ]
    }
   ],
   "source": [
    "from jinja2 import Environment, FileSystemLoader\n",
    "\n",
    "## Necessaire pour les dates en francais\n",
    "import datetime\n",
    "\n",
    "TMPL_DIR = \"tmpl\"\n",
    "fichier = \"base.jinja\"\n",
    "\n",
    "reponse = input(\"Votre nom: \")\n",
    "\n",
    "templateLoader = FileSystemLoader(searchpath=TMPL_DIR)\n",
    "templateEnv = Environment(loader=templateLoader)\n",
    "template = templateEnv.get_template(fichier)\n",
    "\n",
    "data = {\n",
    "    \"nom\" : reponse,\n",
    "    \"time_stamp\" : datetime.datetime.now().strftime(\"%x %X\")\n",
    "}\n",
    "\n",
    "print(template.render(data))"
   ]
  },
  {
   "cell_type": "code",
   "execution_count": 8,
   "metadata": {},
   "outputs": [],
   "source": [
    "outputText = template.render(data)\n",
    "html_file = open(\"index.html\", \"w\")\n",
    "html_file.write(outputText)\n",
    "html_file.close()"
   ]
  },
  {
   "cell_type": "code",
   "execution_count": 9,
   "metadata": {},
   "outputs": [],
   "source": [
    "from sqlalchemy import create_engine\n",
    "import pandas as pd\n",
    "import re \n",
    "\n",
    "def connect_db(dico):\n",
    "\n",
    "    str_engine = \"mysql+\" + dico[\"connector\"] + \"://\" + dico[\"user\"] + \":\" + dico[\"pwd\"] + \"@\" + dico[\"host\"] + \":\" + dico[\"port\"] + \"/\" + dico[\"bdd\"]\n",
    "    connect = create_engine(str_engine)\n",
    "    return connect\n",
    "\n",
    "d = {\n",
    "    \"connector\": \"pymysql\",\n",
    "    \"user\" : \"simplon\",\n",
    "    \"pwd\" : \"fidelio\",\n",
    "    \"host\" : \"localhost\",\n",
    "    \"port\": \"3306\",\n",
    "    \"bdd\" : \"survey\"\n",
    "}\n",
    "\n",
    "engine = connect_db(d)"
   ]
  },
  {
   "cell_type": "code",
   "execution_count": 10,
   "metadata": {},
   "outputs": [
    {
     "output_type": "error",
     "ename": "TemplateNotFound",
     "evalue": "base.jinja",
     "traceback": [
      "\u001b[0;31m---------------------------------------------------------------------------\u001b[0m",
      "\u001b[0;31mTemplateNotFound\u001b[0m                          Traceback (most recent call last)",
      "\u001b[0;32m<ipython-input-10-d7aa3d421e2a>\u001b[0m in \u001b[0;36m<module>\u001b[0;34m\u001b[0m\n\u001b[1;32m      6\u001b[0m \u001b[0mtemplateLoader\u001b[0m \u001b[0;34m=\u001b[0m \u001b[0mFileSystemLoader\u001b[0m\u001b[0;34m(\u001b[0m\u001b[0msearchpath\u001b[0m\u001b[0;34m=\u001b[0m\u001b[0mTMPL_DIR\u001b[0m\u001b[0;34m)\u001b[0m\u001b[0;34m\u001b[0m\u001b[0;34m\u001b[0m\u001b[0m\n\u001b[1;32m      7\u001b[0m \u001b[0mtemplateEnv\u001b[0m \u001b[0;34m=\u001b[0m \u001b[0mEnvironment\u001b[0m\u001b[0;34m(\u001b[0m\u001b[0mloader\u001b[0m\u001b[0;34m=\u001b[0m\u001b[0mtemplateLoader\u001b[0m\u001b[0;34m)\u001b[0m\u001b[0;34m\u001b[0m\u001b[0;34m\u001b[0m\u001b[0m\n\u001b[0;32m----> 8\u001b[0;31m \u001b[0mtemplate\u001b[0m \u001b[0;34m=\u001b[0m \u001b[0mtemplateEnv\u001b[0m\u001b[0;34m.\u001b[0m\u001b[0mget_template\u001b[0m\u001b[0;34m(\u001b[0m\u001b[0mfichier\u001b[0m\u001b[0;34m)\u001b[0m\u001b[0;34m\u001b[0m\u001b[0;34m\u001b[0m\u001b[0m\n\u001b[0m\u001b[1;32m      9\u001b[0m \u001b[0;34m\u001b[0m\u001b[0m\n\u001b[1;32m     10\u001b[0m data = {\n",
      "\u001b[0;32m~/anaconda3/lib/python3.8/site-packages/jinja2/environment.py\u001b[0m in \u001b[0;36mget_template\u001b[0;34m(self, name, parent, globals)\u001b[0m\n\u001b[1;32m    881\u001b[0m         \u001b[0;32mif\u001b[0m \u001b[0mparent\u001b[0m \u001b[0;32mis\u001b[0m \u001b[0;32mnot\u001b[0m \u001b[0;32mNone\u001b[0m\u001b[0;34m:\u001b[0m\u001b[0;34m\u001b[0m\u001b[0;34m\u001b[0m\u001b[0m\n\u001b[1;32m    882\u001b[0m             \u001b[0mname\u001b[0m \u001b[0;34m=\u001b[0m \u001b[0mself\u001b[0m\u001b[0;34m.\u001b[0m\u001b[0mjoin_path\u001b[0m\u001b[0;34m(\u001b[0m\u001b[0mname\u001b[0m\u001b[0;34m,\u001b[0m \u001b[0mparent\u001b[0m\u001b[0;34m)\u001b[0m\u001b[0;34m\u001b[0m\u001b[0;34m\u001b[0m\u001b[0m\n\u001b[0;32m--> 883\u001b[0;31m         \u001b[0;32mreturn\u001b[0m \u001b[0mself\u001b[0m\u001b[0;34m.\u001b[0m\u001b[0m_load_template\u001b[0m\u001b[0;34m(\u001b[0m\u001b[0mname\u001b[0m\u001b[0;34m,\u001b[0m \u001b[0mself\u001b[0m\u001b[0;34m.\u001b[0m\u001b[0mmake_globals\u001b[0m\u001b[0;34m(\u001b[0m\u001b[0mglobals\u001b[0m\u001b[0;34m)\u001b[0m\u001b[0;34m)\u001b[0m\u001b[0;34m\u001b[0m\u001b[0;34m\u001b[0m\u001b[0m\n\u001b[0m\u001b[1;32m    884\u001b[0m \u001b[0;34m\u001b[0m\u001b[0m\n\u001b[1;32m    885\u001b[0m     \u001b[0;34m@\u001b[0m\u001b[0minternalcode\u001b[0m\u001b[0;34m\u001b[0m\u001b[0;34m\u001b[0m\u001b[0m\n",
      "\u001b[0;32m~/anaconda3/lib/python3.8/site-packages/jinja2/environment.py\u001b[0m in \u001b[0;36m_load_template\u001b[0;34m(self, name, globals)\u001b[0m\n\u001b[1;32m    855\u001b[0m             ):\n\u001b[1;32m    856\u001b[0m                 \u001b[0;32mreturn\u001b[0m \u001b[0mtemplate\u001b[0m\u001b[0;34m\u001b[0m\u001b[0;34m\u001b[0m\u001b[0m\n\u001b[0;32m--> 857\u001b[0;31m         \u001b[0mtemplate\u001b[0m \u001b[0;34m=\u001b[0m \u001b[0mself\u001b[0m\u001b[0;34m.\u001b[0m\u001b[0mloader\u001b[0m\u001b[0;34m.\u001b[0m\u001b[0mload\u001b[0m\u001b[0;34m(\u001b[0m\u001b[0mself\u001b[0m\u001b[0;34m,\u001b[0m \u001b[0mname\u001b[0m\u001b[0;34m,\u001b[0m \u001b[0mglobals\u001b[0m\u001b[0;34m)\u001b[0m\u001b[0;34m\u001b[0m\u001b[0;34m\u001b[0m\u001b[0m\n\u001b[0m\u001b[1;32m    858\u001b[0m         \u001b[0;32mif\u001b[0m \u001b[0mself\u001b[0m\u001b[0;34m.\u001b[0m\u001b[0mcache\u001b[0m \u001b[0;32mis\u001b[0m \u001b[0;32mnot\u001b[0m \u001b[0;32mNone\u001b[0m\u001b[0;34m:\u001b[0m\u001b[0;34m\u001b[0m\u001b[0;34m\u001b[0m\u001b[0m\n\u001b[1;32m    859\u001b[0m             \u001b[0mself\u001b[0m\u001b[0;34m.\u001b[0m\u001b[0mcache\u001b[0m\u001b[0;34m[\u001b[0m\u001b[0mcache_key\u001b[0m\u001b[0;34m]\u001b[0m \u001b[0;34m=\u001b[0m \u001b[0mtemplate\u001b[0m\u001b[0;34m\u001b[0m\u001b[0;34m\u001b[0m\u001b[0m\n",
      "\u001b[0;32m~/anaconda3/lib/python3.8/site-packages/jinja2/loaders.py\u001b[0m in \u001b[0;36mload\u001b[0;34m(self, environment, name, globals)\u001b[0m\n\u001b[1;32m    113\u001b[0m         \u001b[0;31m# first we try to get the source for this template together\u001b[0m\u001b[0;34m\u001b[0m\u001b[0;34m\u001b[0m\u001b[0;34m\u001b[0m\u001b[0m\n\u001b[1;32m    114\u001b[0m         \u001b[0;31m# with the filename and the uptodate function.\u001b[0m\u001b[0;34m\u001b[0m\u001b[0;34m\u001b[0m\u001b[0;34m\u001b[0m\u001b[0m\n\u001b[0;32m--> 115\u001b[0;31m         \u001b[0msource\u001b[0m\u001b[0;34m,\u001b[0m \u001b[0mfilename\u001b[0m\u001b[0;34m,\u001b[0m \u001b[0muptodate\u001b[0m \u001b[0;34m=\u001b[0m \u001b[0mself\u001b[0m\u001b[0;34m.\u001b[0m\u001b[0mget_source\u001b[0m\u001b[0;34m(\u001b[0m\u001b[0menvironment\u001b[0m\u001b[0;34m,\u001b[0m \u001b[0mname\u001b[0m\u001b[0;34m)\u001b[0m\u001b[0;34m\u001b[0m\u001b[0;34m\u001b[0m\u001b[0m\n\u001b[0m\u001b[1;32m    116\u001b[0m \u001b[0;34m\u001b[0m\u001b[0m\n\u001b[1;32m    117\u001b[0m         \u001b[0;31m# try to load the code from the bytecode cache if there is a\u001b[0m\u001b[0;34m\u001b[0m\u001b[0;34m\u001b[0m\u001b[0;34m\u001b[0m\u001b[0m\n",
      "\u001b[0;32m~/anaconda3/lib/python3.8/site-packages/jinja2/loaders.py\u001b[0m in \u001b[0;36mget_source\u001b[0;34m(self, environment, template)\u001b[0m\n\u001b[1;32m    195\u001b[0m \u001b[0;34m\u001b[0m\u001b[0m\n\u001b[1;32m    196\u001b[0m             \u001b[0;32mreturn\u001b[0m \u001b[0mcontents\u001b[0m\u001b[0;34m,\u001b[0m \u001b[0mfilename\u001b[0m\u001b[0;34m,\u001b[0m \u001b[0muptodate\u001b[0m\u001b[0;34m\u001b[0m\u001b[0;34m\u001b[0m\u001b[0m\n\u001b[0;32m--> 197\u001b[0;31m         \u001b[0;32mraise\u001b[0m \u001b[0mTemplateNotFound\u001b[0m\u001b[0;34m(\u001b[0m\u001b[0mtemplate\u001b[0m\u001b[0;34m)\u001b[0m\u001b[0;34m\u001b[0m\u001b[0;34m\u001b[0m\u001b[0m\n\u001b[0m\u001b[1;32m    198\u001b[0m \u001b[0;34m\u001b[0m\u001b[0m\n\u001b[1;32m    199\u001b[0m     \u001b[0;32mdef\u001b[0m \u001b[0mlist_templates\u001b[0m\u001b[0;34m(\u001b[0m\u001b[0mself\u001b[0m\u001b[0;34m)\u001b[0m\u001b[0;34m:\u001b[0m\u001b[0;34m\u001b[0m\u001b[0;34m\u001b[0m\u001b[0m\n",
      "\u001b[0;31mTemplateNotFound\u001b[0m: base.jinja"
     ]
    }
   ],
   "source": [
    "TMPL_DIR = \"tmpl\"\n",
    "fichier = \"base.jinja\"\n",
    "\n",
    "reponse = input(\"Votre nom: \")\n",
    "\n",
    "templateLoader = FileSystemLoader(searchpath=TMPL_DIR)\n",
    "templateEnv = Environment(loader=templateLoader)\n",
    "template = templateEnv.get_template(fichier)\n",
    "\n",
    "data = {\n",
    "    \"nom\" : reponse,\n",
    "    \"time_stamp\" : datetime.datetime.now().strftime(\"%x %X\"),\n",
    "    \"country\" : pd.read_sql_query(\"select * from country;\", engine)\n",
    "\n",
    "}\n",
    "\n",
    "print(template.render(data))"
   ]
  },
  {
   "cell_type": "code",
   "execution_count": null,
   "metadata": {},
   "outputs": [],
   "source": []
  }
 ]
}