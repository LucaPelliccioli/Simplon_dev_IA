{
 "metadata": {
  "language_info": {
   "codemirror_mode": {
    "name": "ipython",
    "version": 3
   },
   "file_extension": ".py",
   "mimetype": "text/x-python",
   "name": "python",
   "nbconvert_exporter": "python",
   "pygments_lexer": "ipython3",
   "version": "3.8.5"
  },
  "orig_nbformat": 2,
  "kernelspec": {
   "name": "python3",
   "display_name": "Python 3.8.5 64-bit ('base': conda)",
   "metadata": {
    "interpreter": {
     "hash": "64b474f71659f9be32f34132c3eef93d33d176ead871b80ca6db3fa26bc83f65"
    }
   }
  }
 },
 "nbformat": 4,
 "nbformat_minor": 2,
 "cells": [
  {
   "source": [
    "# L'héritage"
   ],
   "cell_type": "markdown",
   "metadata": {}
  },
  {
   "cell_type": "code",
   "execution_count": 21,
   "metadata": {},
   "outputs": [
    {
     "output_type": "stream",
     "name": "stdout",
     "text": [
      "33\n40\n19\n"
     ]
    }
   ],
   "source": [
    "class Formulaire: \n",
    "\n",
    "    def __init__(self, nom, prenom, naissance):\n",
    "        self.nom = str(nom).upper()\n",
    "        self.prenom = str(prenom).upper()\n",
    "        self.naissance = naissance\n",
    "\n",
    "    def set_naissance(self, naissance):\n",
    "        na = str(naissance)\n",
    "\n",
    "        if na.isnumeric():\n",
    "            self._naissance = int(na)\n",
    "        else:\n",
    "            self._naissance = 1900\n",
    "\n",
    "    def get_naissance(self):\n",
    "        return self._naissance\n",
    "    naissance = property(get_naissance, set_naissance)\n",
    "\n",
    "    def _get_nom(self):\n",
    "        return str(self._nom).upper()\n",
    "    def _set_nom(self, n):\n",
    "        self._nom = str(n).upper()\n",
    "    nom = property(_get_nom, _set_nom)\n",
    "\n",
    "    def _get_prenom(self):\n",
    "        return str(self._prenom).upper()\n",
    "    def _set_prenom(self, p):\n",
    "        self._prenom = str(p).upper()\n",
    "    prenom = property(_get_prenom, _set_prenom)\n",
    "\n",
    "    def age(self):\n",
    "        return 2021 - self.naissance\n",
    "    \n",
    "    def majeur(self):\n",
    "        return self.age() >= 18\n",
    "\n",
    "    def memeFamille(self,Formulaire):\n",
    "        return self.nom == formulaire.nom\n",
    "\n",
    "    def __str__(self):\n",
    "        return \"Nom : \" + self.nom + \" Prénom : \" + self.prenom + \" Age : \" + str(self.age())\n",
    "\n",
    "nd = Formulaire(\"Novak\",\"Djokovic\",1988)\n",
    "rf = Formulaire(\"Roger\",\"Federer\",1981)\n",
    "js = Formulaire(\"Jannik\",\"Sinner\",2002)\n",
    "\n",
    "print(nd.age())\n",
    "print(rf.age())\n",
    "print(js.age())"
   ]
  },
  {
   "cell_type": "code",
   "execution_count": 15,
   "metadata": {},
   "outputs": [
    {
     "output_type": "stream",
     "name": "stdout",
     "text": [
      "CIASOS\n"
     ]
    }
   ],
   "source": [
    "class Superstring(list):\n",
    "\n",
    "    def __init__(self,chaine):\n",
    "        list.__init__(self,chaine)\n",
    "\n",
    "    def upper(self):\n",
    "        for (i,c) in enumerate(self):\n",
    "            self[i] = c.upper()\n",
    "\n",
    "    def __str__(self):\n",
    "        return \"\".join(self)\n",
    "\n",
    "s1 = Superstring(\"Ciao\")\n",
    "s1.append(\"s\")\n",
    "s1.insert(3,\"s\")\n",
    "s1.upper()\n",
    "print(s1)"
   ]
  },
  {
   "cell_type": "code",
   "execution_count": 16,
   "metadata": {},
   "outputs": [
    {
     "output_type": "stream",
     "name": "stdout",
     "text": [
      "NARA35\nDJNO33\n"
     ]
    }
   ],
   "source": [
    "class Data(Formulaire):\n",
    "\n",
    "    def __init__(self,nom,prenom,naissance):\n",
    "        Formulaire.__init__(self,nom,prenom,naissance)\n",
    "        # si on veut récupérer tout les attributs de deux classes\n",
    "        # super().__init__(nom,prenom,naissance)\n",
    "        self.id = \"\"\n",
    "\n",
    "    def buildID(self):\n",
    "        self.id = self.nom[:2] + self.prenom[:2] + str(self.age())\n",
    "\n",
    "\n",
    "rn = Data(\"Nadal\",\"Rafael\",1986)\n",
    "nd = Data(\"Djokovic\",\"Novak\",1988)\n",
    "\n",
    "rn.buildID()\n",
    "nd.buildID()\n",
    "print(rn.id)\n",
    "print(nd.id)"
   ]
  },
  {
   "source": [
    "## 2. Recensement est une classe qui prend pour entrée 3 listes de formulaire et qui à pour méthode permanents() qui retoune la liste des individus présent dans ces 3 listes.\n",
    "\n",
    "Créer une class listeElectorale qui hérite de recensement et possède une méthode renvoyant tout les formulaires présents dans les trois listes et correspondants à des personnes majeurs\n"
   ],
   "cell_type": "markdown",
   "metadata": {}
  },
  {
   "cell_type": "code",
   "execution_count": 17,
   "metadata": {},
   "outputs": [],
   "source": [
    "class Recensement:\n",
    "\n",
    "    def __init__(self,l1,l2,l3):\n",
    "        self.f2020 = l3\n",
    "        self.f2019 = l2\n",
    "        self.f2018 = l1\n",
    "\n",
    "    def permanents(self):\n",
    "        return [f for f in self.f2020 if f in self.f2019 and f in self.f2018]\n",
    "\n",
    "class ListeElectorale(Recensement):\n",
    "\n",
    "    def __init__(self,l1,l2,l3):\n",
    "        Recensement.__init__(self,l1,l2,l3)\n",
    "    \n",
    "    def listeElecteurs(self):\n",
    "        return [f for f in self.permanents() if f.majeur()]"
   ]
  },
  {
   "cell_type": "code",
   "execution_count": 22,
   "metadata": {},
   "outputs": [
    {
     "output_type": "stream",
     "name": "stdout",
     "text": [
      "Joueurs permanents / Nom : SINNER Prénom : JANIK Age : 4\nJoueurs permanents / Nom : NADAL Prénom : RAFAEL Age : 35\nJoueur majeur / Nom : NADAL Prénom : RAFAEL Age : 35\n"
     ]
    }
   ],
   "source": [
    "nr = Formulaire(\"Nadal\",\"Rafael\",1986)\n",
    "df = Formulaire(\"Ferrer\",\"David\",1984)\n",
    "ji = Formulaire(\"Isner\",\"John\",1985)\n",
    "dm = Formulaire(\"Medvedev\",\"Danil\",1991)\n",
    "za = Formulaire(\"Zverev\",\"Alexander\",1995)\n",
    "sj = Formulaire(\"Sinner\",\"Janik\",2017)\n",
    "ts = Formulaire(\"Tsitsipas\",\"Stefanos\",2009)\n",
    "\n",
    "l1 = [nr,df,sj]\n",
    "l2 = [dm,nr,sj]\n",
    "l3 = [sj,ts,nr]\n",
    "le = ListeElectorale(l1,l2,l3)\n",
    "\n",
    "for i in le.permanents():\n",
    "    print(\"Joueurs permanents /\", i)\n",
    "for i in le.listeElecteurs():\n",
    "    print(\"Joueur majeur /\", i)"
   ]
  },
  {
   "cell_type": "code",
   "execution_count": null,
   "metadata": {},
   "outputs": [],
   "source": []
  }
 ]
}