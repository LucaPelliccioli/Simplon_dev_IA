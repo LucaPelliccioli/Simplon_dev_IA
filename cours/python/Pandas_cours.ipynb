{
 "metadata": {
  "language_info": {
   "codemirror_mode": {
    "name": "ipython",
    "version": 3
   },
   "file_extension": ".py",
   "mimetype": "text/x-python",
   "name": "python",
   "nbconvert_exporter": "python",
   "pygments_lexer": "ipython3",
   "version": "3.8.5"
  },
  "orig_nbformat": 2,
  "kernelspec": {
   "name": "python3",
   "display_name": "Python 3.8.5 64-bit ('base': conda)",
   "metadata": {
    "interpreter": {
     "hash": "64b474f71659f9be32f34132c3eef93d33d176ead871b80ca6db3fa26bc83f65"
    }
   }
  }
 },
 "nbformat": 4,
 "nbformat_minor": 2,
 "cells": [
  {
   "cell_type": "code",
   "execution_count": 1,
   "metadata": {},
   "outputs": [
    {
     "output_type": "stream",
     "name": "stdout",
     "text": [
      "[[ 1.1  2.   3.3  4. ]\n [ 2.7 10.   5.4  7. ]\n [ 5.3  9.   1.5 15. ]]\n\n      A     B    C     D\na1  1.1   2.0  3.3   4.0\na2  2.7  10.0  5.4   7.0\na3  5.3   9.0  1.5  15.0\n"
     ]
    }
   ],
   "source": [
    "import pandas as pd\n",
    "import numpy as np\n",
    "\n",
    "ar = np.array([[1.1,2,3.3,4],[2.7,10,5.4,7],[5.3,9,1.5,15]])\n",
    "print(ar)\n",
    "print()\n",
    "df = pd.DataFrame(ar,index = ['a1','a2','a3'], columns = ['A','B','C','D'])\n",
    "print(df)"
   ]
  },
  {
   "cell_type": "code",
   "execution_count": 2,
   "metadata": {},
   "outputs": [
    {
     "output_type": "execute_result",
     "data": {
      "text/plain": [
       "      A   B    C  D\n",
       "a1  1.1   2  3.3  a\n",
       "a2  2.7  10  5.4  b\n",
       "a3  5.3   9  1.1  c"
      ],
      "text/html": "<div>\n<style scoped>\n    .dataframe tbody tr th:only-of-type {\n        vertical-align: middle;\n    }\n\n    .dataframe tbody tr th {\n        vertical-align: top;\n    }\n\n    .dataframe thead th {\n        text-align: right;\n    }\n</style>\n<table border=\"1\" class=\"dataframe\">\n  <thead>\n    <tr style=\"text-align: right;\">\n      <th></th>\n      <th>A</th>\n      <th>B</th>\n      <th>C</th>\n      <th>D</th>\n    </tr>\n  </thead>\n  <tbody>\n    <tr>\n      <th>a1</th>\n      <td>1.1</td>\n      <td>2</td>\n      <td>3.3</td>\n      <td>a</td>\n    </tr>\n    <tr>\n      <th>a2</th>\n      <td>2.7</td>\n      <td>10</td>\n      <td>5.4</td>\n      <td>b</td>\n    </tr>\n    <tr>\n      <th>a3</th>\n      <td>5.3</td>\n      <td>9</td>\n      <td>1.1</td>\n      <td>c</td>\n    </tr>\n  </tbody>\n</table>\n</div>"
     },
     "metadata": {},
     "execution_count": 2
    }
   ],
   "source": [
    "dic = {'A' : [1.1,2.7,5.3], 'B':[2,10,9],'C':[3.3,5.4,1.1], 'D': ['a','b','c']}\n",
    "df = pd.DataFrame(dic, index = ['a1','a2','a3'])\n",
    "df"
   ]
  },
  {
   "cell_type": "code",
   "execution_count": 34,
   "metadata": {},
   "outputs": [
    {
     "output_type": "stream",
     "name": "stdout",
     "text": [
      "\n      NDB_No                   Shrt_Desc  Water_(g)  Energ_Kcal  Protein_(g)  \\\n0       1001            BUTTER WITH SALT      15.87         717         0.85   \n1       1002    BUTTER WHIPPED WITH SALT      15.87         717         0.85   \n2       1003        BUTTER OIL ANHYDROUS       0.24         876         0.28   \n3       1004                 CHEESE BLUE      42.41         353        21.40   \n4       1005                CHEESE BRICK      41.11         371        23.24   \n...      ...                         ...        ...         ...          ...   \n8613   83110             MACKEREL SALTED      43.00         305        18.50   \n8614   90240  SCALLOP (BAY&SEA) CKD STMD      70.25         111        20.54   \n8615   90480                  SYRUP CANE      26.00         269         0.00   \n8616   90560                   SNAIL RAW      79.20          90        16.10   \n8617   93600            TURTLE GREEN RAW      78.50          89        19.80   \n\n      Lipid_Tot_(g)  Ash_(g)  Carbohydrt_(g)  Fiber_TD_(g)  Sugar_Tot_(g)  \\\n0             81.11     2.11            0.06           0.0           0.06   \n1             81.11     2.11            0.06           0.0           0.06   \n2             99.48     0.00            0.00           0.0           0.00   \n3             28.74     5.11            2.34           0.0           0.50   \n4             29.68     3.18            2.79           0.0           0.51   \n...             ...      ...             ...           ...            ...   \n8613          25.10    13.40            0.00           0.0           0.00   \n8614           0.84     2.97            5.41           0.0           0.00   \n8615           0.00     0.86           73.14           0.0          73.20   \n8616           1.40     1.30            2.00           0.0           0.00   \n8617           0.50     1.20            0.00           0.0           0.00   \n\n      ...  Vit_A_IU  Vit_A_RAE  Vit_E_(mg)  Vit_D_mcg  Vit_D_IU  Vit_K_(mcg)  \\\n0     ...    2499.0      684.0        2.32        1.5      60.0          7.0   \n1     ...    2499.0      684.0        2.32        1.5      60.0          7.0   \n2     ...    3069.0      840.0        2.80        1.8      73.0          8.6   \n3     ...     721.0      198.0        0.25        0.5      21.0          2.4   \n4     ...    1080.0      292.0        0.26        0.5      22.0          2.5   \n...   ...       ...        ...         ...        ...       ...          ...   \n8613  ...     157.0       47.0        2.38       25.2    1006.0          7.8   \n8614  ...       5.0        2.0        0.00        0.0       2.0          0.0   \n8615  ...       0.0        0.0        0.00        0.0       0.0          0.0   \n8616  ...     100.0       30.0        5.00        0.0       0.0          0.1   \n8617  ...     100.0       30.0        0.50        0.0       0.0          0.1   \n\n      FA_Sat_(g)  FA_Mono_(g)  FA_Poly_(g)  Cholestrl_(mg)  \n0         51.368       21.021        3.043           215.0  \n1         50.489       23.426        3.012           219.0  \n2         61.924       28.732        3.694           256.0  \n3         18.669        7.778        0.800            75.0  \n4         18.764        8.598        0.784            94.0  \n...          ...          ...          ...             ...  \n8613       7.148        8.320        6.210            95.0  \n8614       0.218        0.082        0.222            41.0  \n8615       0.000        0.000        0.000             0.0  \n8616       0.361        0.259        0.252            50.0  \n8617       0.127        0.088        0.170            50.0  \n\n[8618 rows x 36 columns]\n"
     ]
    }
   ],
   "source": [
    "food_info = pd.read_csv('/home/simplon/Documents/jeux_de_données/food_info.csv')\n",
    "food_info.head()\n",
    "print()\n",
    "print(food_info)"
   ]
  },
  {
   "cell_type": "code",
   "execution_count": 4,
   "metadata": {},
   "outputs": [
    {
     "output_type": "stream",
     "name": "stdout",
     "text": [
      "<class 'pandas.core.series.Series'>\n\nNDB_No                                  1111\nShrt_Desc          MILK SHAKES THICK VANILLA\nWater_(g)                              74.45\nEnerg_Kcal                               112\nProtein_(g)                             3.86\nLipid_Tot_(g)                           3.03\nAsh_(g)                                 0.91\nCarbohydrt_(g)                         17.75\nFiber_TD_(g)                               0\nSugar_Tot_(g)                          17.75\nCalcium_(mg)                             146\nIron_(mg)                                0.1\nMagnesium_(mg)                            12\nPhosphorus_(mg)                          115\nPotassium_(mg)                           183\nSodium_(mg)                               95\nZinc_(mg)                               0.39\nCopper_(mg)                            0.051\nManganese_(mg)                         0.014\nSelenium_(mcg)                           2.3\nVit_C_(mg)                                 0\nThiamin_(mg)                            0.03\nRiboflavin_(mg)                        0.195\nNiacin_(mg)                            0.146\nVit_B6_(mg)                            0.042\nVit_B12_(mcg)                           0.52\nVit_A_IU                                  91\nVit_A_RAE                                 25\nVit_E_(mg)                              0.05\nVit_D_mcg                                1.2\nVit_D_IU                                  48\nVit_K_(mcg)                              0.2\nFA_Sat_(g)                             1.886\nFA_Mono_(g)                            0.875\nFA_Poly_(g)                            0.113\nCholestrl_(mg)                            12\nName: 99, dtype: object\n"
     ]
    }
   ],
   "source": [
    "row_100 = food_info.loc[99]\n",
    "print(type(row_100))\n",
    "print()\n",
    "print(row_100)"
   ]
  },
  {
   "cell_type": "code",
   "execution_count": 5,
   "metadata": {},
   "outputs": [
    {
     "output_type": "stream",
     "name": "stdout",
     "text": [
      "8618\n8617\n8613\n"
     ]
    }
   ],
   "source": [
    "num_rows = food_info.shape[0]\n",
    "print(num_rows)\n",
    "print(num_rows-1)\n",
    "print(num_rows-5)"
   ]
  },
  {
   "cell_type": "code",
   "execution_count": 6,
   "metadata": {},
   "outputs": [
    {
     "output_type": "execute_result",
     "data": {
      "text/plain": [
       "      NDB_No                   Shrt_Desc  Water_(g)  Energ_Kcal  Protein_(g)  \\\n",
       "8612   80200               FROG LEGS RAW      81.90          73        16.40   \n",
       "8613   83110             MACKEREL SALTED      43.00         305        18.50   \n",
       "8614   90240  SCALLOP (BAY&SEA) CKD STMD      70.25         111        20.54   \n",
       "8615   90480                  SYRUP CANE      26.00         269         0.00   \n",
       "8616   90560                   SNAIL RAW      79.20          90        16.10   \n",
       "8617   93600            TURTLE GREEN RAW      78.50          89        19.80   \n",
       "\n",
       "      Lipid_Tot_(g)  Ash_(g)  Carbohydrt_(g)  Fiber_TD_(g)  Sugar_Tot_(g)  \\\n",
       "8612           0.30     1.40            0.00           0.0            0.0   \n",
       "8613          25.10    13.40            0.00           0.0            0.0   \n",
       "8614           0.84     2.97            5.41           0.0            0.0   \n",
       "8615           0.00     0.86           73.14           0.0           73.2   \n",
       "8616           1.40     1.30            2.00           0.0            0.0   \n",
       "8617           0.50     1.20            0.00           0.0            0.0   \n",
       "\n",
       "      ...  Vit_A_IU  Vit_A_RAE  Vit_E_(mg)  Vit_D_mcg  Vit_D_IU  Vit_K_(mcg)  \\\n",
       "8612  ...      50.0       15.0        1.00        0.2       8.0          0.1   \n",
       "8613  ...     157.0       47.0        2.38       25.2    1006.0          7.8   \n",
       "8614  ...       5.0        2.0        0.00        0.0       2.0          0.0   \n",
       "8615  ...       0.0        0.0        0.00        0.0       0.0          0.0   \n",
       "8616  ...     100.0       30.0        5.00        0.0       0.0          0.1   \n",
       "8617  ...     100.0       30.0        0.50        0.0       0.0          0.1   \n",
       "\n",
       "      FA_Sat_(g)  FA_Mono_(g)  FA_Poly_(g)  Cholestrl_(mg)  \n",
       "8612       0.076        0.053        0.102            50.0  \n",
       "8613       7.148        8.320        6.210            95.0  \n",
       "8614       0.218        0.082        0.222            41.0  \n",
       "8615       0.000        0.000        0.000             0.0  \n",
       "8616       0.361        0.259        0.252            50.0  \n",
       "8617       0.127        0.088        0.170            50.0  \n",
       "\n",
       "[6 rows x 36 columns]"
      ],
      "text/html": "<div>\n<style scoped>\n    .dataframe tbody tr th:only-of-type {\n        vertical-align: middle;\n    }\n\n    .dataframe tbody tr th {\n        vertical-align: top;\n    }\n\n    .dataframe thead th {\n        text-align: right;\n    }\n</style>\n<table border=\"1\" class=\"dataframe\">\n  <thead>\n    <tr style=\"text-align: right;\">\n      <th></th>\n      <th>NDB_No</th>\n      <th>Shrt_Desc</th>\n      <th>Water_(g)</th>\n      <th>Energ_Kcal</th>\n      <th>Protein_(g)</th>\n      <th>Lipid_Tot_(g)</th>\n      <th>Ash_(g)</th>\n      <th>Carbohydrt_(g)</th>\n      <th>Fiber_TD_(g)</th>\n      <th>Sugar_Tot_(g)</th>\n      <th>...</th>\n      <th>Vit_A_IU</th>\n      <th>Vit_A_RAE</th>\n      <th>Vit_E_(mg)</th>\n      <th>Vit_D_mcg</th>\n      <th>Vit_D_IU</th>\n      <th>Vit_K_(mcg)</th>\n      <th>FA_Sat_(g)</th>\n      <th>FA_Mono_(g)</th>\n      <th>FA_Poly_(g)</th>\n      <th>Cholestrl_(mg)</th>\n    </tr>\n  </thead>\n  <tbody>\n    <tr>\n      <th>8612</th>\n      <td>80200</td>\n      <td>FROG LEGS RAW</td>\n      <td>81.90</td>\n      <td>73</td>\n      <td>16.40</td>\n      <td>0.30</td>\n      <td>1.40</td>\n      <td>0.00</td>\n      <td>0.0</td>\n      <td>0.0</td>\n      <td>...</td>\n      <td>50.0</td>\n      <td>15.0</td>\n      <td>1.00</td>\n      <td>0.2</td>\n      <td>8.0</td>\n      <td>0.1</td>\n      <td>0.076</td>\n      <td>0.053</td>\n      <td>0.102</td>\n      <td>50.0</td>\n    </tr>\n    <tr>\n      <th>8613</th>\n      <td>83110</td>\n      <td>MACKEREL SALTED</td>\n      <td>43.00</td>\n      <td>305</td>\n      <td>18.50</td>\n      <td>25.10</td>\n      <td>13.40</td>\n      <td>0.00</td>\n      <td>0.0</td>\n      <td>0.0</td>\n      <td>...</td>\n      <td>157.0</td>\n      <td>47.0</td>\n      <td>2.38</td>\n      <td>25.2</td>\n      <td>1006.0</td>\n      <td>7.8</td>\n      <td>7.148</td>\n      <td>8.320</td>\n      <td>6.210</td>\n      <td>95.0</td>\n    </tr>\n    <tr>\n      <th>8614</th>\n      <td>90240</td>\n      <td>SCALLOP (BAY&amp;SEA) CKD STMD</td>\n      <td>70.25</td>\n      <td>111</td>\n      <td>20.54</td>\n      <td>0.84</td>\n      <td>2.97</td>\n      <td>5.41</td>\n      <td>0.0</td>\n      <td>0.0</td>\n      <td>...</td>\n      <td>5.0</td>\n      <td>2.0</td>\n      <td>0.00</td>\n      <td>0.0</td>\n      <td>2.0</td>\n      <td>0.0</td>\n      <td>0.218</td>\n      <td>0.082</td>\n      <td>0.222</td>\n      <td>41.0</td>\n    </tr>\n    <tr>\n      <th>8615</th>\n      <td>90480</td>\n      <td>SYRUP CANE</td>\n      <td>26.00</td>\n      <td>269</td>\n      <td>0.00</td>\n      <td>0.00</td>\n      <td>0.86</td>\n      <td>73.14</td>\n      <td>0.0</td>\n      <td>73.2</td>\n      <td>...</td>\n      <td>0.0</td>\n      <td>0.0</td>\n      <td>0.00</td>\n      <td>0.0</td>\n      <td>0.0</td>\n      <td>0.0</td>\n      <td>0.000</td>\n      <td>0.000</td>\n      <td>0.000</td>\n      <td>0.0</td>\n    </tr>\n    <tr>\n      <th>8616</th>\n      <td>90560</td>\n      <td>SNAIL RAW</td>\n      <td>79.20</td>\n      <td>90</td>\n      <td>16.10</td>\n      <td>1.40</td>\n      <td>1.30</td>\n      <td>2.00</td>\n      <td>0.0</td>\n      <td>0.0</td>\n      <td>...</td>\n      <td>100.0</td>\n      <td>30.0</td>\n      <td>5.00</td>\n      <td>0.0</td>\n      <td>0.0</td>\n      <td>0.1</td>\n      <td>0.361</td>\n      <td>0.259</td>\n      <td>0.252</td>\n      <td>50.0</td>\n    </tr>\n    <tr>\n      <th>8617</th>\n      <td>93600</td>\n      <td>TURTLE GREEN RAW</td>\n      <td>78.50</td>\n      <td>89</td>\n      <td>19.80</td>\n      <td>0.50</td>\n      <td>1.20</td>\n      <td>0.00</td>\n      <td>0.0</td>\n      <td>0.0</td>\n      <td>...</td>\n      <td>100.0</td>\n      <td>30.0</td>\n      <td>0.50</td>\n      <td>0.0</td>\n      <td>0.0</td>\n      <td>0.1</td>\n      <td>0.127</td>\n      <td>0.088</td>\n      <td>0.170</td>\n      <td>50.0</td>\n    </tr>\n  </tbody>\n</table>\n<p>6 rows × 36 columns</p>\n</div>"
     },
     "metadata": {},
     "execution_count": 6
    }
   ],
   "source": [
    "last_rows = food_info.loc[num_rows - 6 : num_rows + 2]\n",
    "last_rows"
   ]
  },
  {
   "source": [
    "## Séléctionner une colonne plutot qu'une ligne\n",
    "\n",
    "- Sélectionner et afficher seulement les colonnes qui utilisent comme unité de mesure les grammes (c'est à dire qui se terminent par \"(g)\"). Pour cela:\n",
    ">- Utiliser l'attribut columns pour retourner le nom des colonnes du dataframe foodinfo et convertir en liste utilisant la méthode tolist()\n",
    ">- Créer une nouvelle liste qu'on nommera gram__columns, contenant seulement les colonnes se terminant par \"(g)\". Indice: la méthode endswith() retourne True si l'objet sur lequel on l'applique se termine par l'élément entre parenthèses. ex: total(g).endswith(\"(g)\") retourne True. Une boucle for est fortement conseillé pour parcourir tous les noms de colonne.\n",
    ">- Sélectionner les colonnes de gram_columns pour le dataframe food_info et assigner le dataframe résultat à la variable gram_df\n",
    ">- Afficher les 3 premières valeurs de ce dataframe gram_df"
   ],
   "cell_type": "markdown",
   "metadata": {}
  },
  {
   "cell_type": "code",
   "execution_count": 7,
   "metadata": {},
   "outputs": [
    {
     "output_type": "execute_result",
     "data": {
      "text/plain": [
       "0        0.85\n",
       "1        0.85\n",
       "2        0.28\n",
       "3       21.40\n",
       "4       23.24\n",
       "        ...  \n",
       "8613    18.50\n",
       "8614    20.54\n",
       "8615     0.00\n",
       "8616    16.10\n",
       "8617    19.80\n",
       "Name: Protein_(g), Length: 8618, dtype: float64"
      ]
     },
     "metadata": {},
     "execution_count": 7
    }
   ],
   "source": [
    "protein = food_info[\"Protein_(g)\"]\n",
    "cholesterol = food_info[\"Cholestrl_(mg)\"]\n",
    "protein"
   ]
  },
  {
   "cell_type": "code",
   "execution_count": 8,
   "metadata": {},
   "outputs": [
    {
     "output_type": "stream",
     "name": "stdout",
     "text": [
      "<class 'pandas.core.series.Series'>\n\n0        0.85\n1        0.85\n2        0.28\n3       21.40\n4       23.24\n        ...  \n8613    18.50\n8614    20.54\n8615     0.00\n8616    16.10\n8617    19.80\nName: Protein_(g), Length: 8618, dtype: float64\n"
     ]
    }
   ],
   "source": [
    "print(type(protein))\n",
    "print()\n",
    "print(protein)"
   ]
  },
  {
   "cell_type": "code",
   "execution_count": 9,
   "metadata": {},
   "outputs": [
    {
     "output_type": "stream",
     "name": "stdout",
     "text": [
      "0       215.0\n1       219.0\n2       256.0\n3        75.0\n4        94.0\n        ...  \n8613     95.0\n8614     41.0\n8615      0.0\n8616     50.0\n8617     50.0\nName: Cholestrl_(mg), Length: 8618, dtype: float64\n"
     ]
    }
   ],
   "source": [
    "print(cholesterol)"
   ]
  },
  {
   "cell_type": "code",
   "execution_count": 10,
   "metadata": {},
   "outputs": [
    {
     "output_type": "stream",
     "name": "stdout",
     "text": [
      "                       Shrt_Desc  Selenium_(mcg)  Thiamin_(mg)\n0               BUTTER WITH SALT             1.0         0.005\n1       BUTTER WHIPPED WITH SALT             1.0         0.005\n2           BUTTER OIL ANHYDROUS             0.0         0.001\n3                    CHEESE BLUE            14.5         0.029\n4                   CHEESE BRICK            14.5         0.014\n...                          ...             ...           ...\n8613             MACKEREL SALTED            73.4         0.020\n8614  SCALLOP (BAY&SEA) CKD STMD            21.7         0.012\n8615                  SYRUP CANE             0.7         0.130\n8616                   SNAIL RAW            27.4         0.010\n8617            TURTLE GREEN RAW            16.8         0.120\n\n[8618 rows x 3 columns]\n<class 'pandas.core.frame.DataFrame'>\n"
     ]
    }
   ],
   "source": [
    "selenium_thiamin = food_info[['Shrt_Desc', 'Selenium_(mcg)','Thiamin_(mg)']]\n",
    "print(selenium_thiamin)\n",
    "\n",
    "print(type(selenium_thiamin))"
   ]
  },
  {
   "source": [
    "### Cas pratique"
   ],
   "cell_type": "markdown",
   "metadata": {}
  },
  {
   "cell_type": "code",
   "execution_count": 11,
   "metadata": {},
   "outputs": [
    {
     "output_type": "execute_result",
     "data": {
      "text/plain": [
       "      Water_(g)  Protein_(g)  Lipid_Tot_(g)  Ash_(g)  Carbohydrt_(g)  \\\n",
       "0         15.87         0.85          81.11     2.11            0.06   \n",
       "1         15.87         0.85          81.11     2.11            0.06   \n",
       "2          0.24         0.28          99.48     0.00            0.00   \n",
       "3         42.41        21.40          28.74     5.11            2.34   \n",
       "4         41.11        23.24          29.68     3.18            2.79   \n",
       "...         ...          ...            ...      ...             ...   \n",
       "8613      43.00        18.50          25.10    13.40            0.00   \n",
       "8614      70.25        20.54           0.84     2.97            5.41   \n",
       "8615      26.00         0.00           0.00     0.86           73.14   \n",
       "8616      79.20        16.10           1.40     1.30            2.00   \n",
       "8617      78.50        19.80           0.50     1.20            0.00   \n",
       "\n",
       "      Fiber_TD_(g)  Sugar_Tot_(g)  FA_Sat_(g)  FA_Mono_(g)  FA_Poly_(g)  \n",
       "0              0.0           0.06      51.368       21.021        3.043  \n",
       "1              0.0           0.06      50.489       23.426        3.012  \n",
       "2              0.0           0.00      61.924       28.732        3.694  \n",
       "3              0.0           0.50      18.669        7.778        0.800  \n",
       "4              0.0           0.51      18.764        8.598        0.784  \n",
       "...            ...            ...         ...          ...          ...  \n",
       "8613           0.0           0.00       7.148        8.320        6.210  \n",
       "8614           0.0           0.00       0.218        0.082        0.222  \n",
       "8615           0.0          73.20       0.000        0.000        0.000  \n",
       "8616           0.0           0.00       0.361        0.259        0.252  \n",
       "8617           0.0           0.00       0.127        0.088        0.170  \n",
       "\n",
       "[8618 rows x 10 columns]"
      ],
      "text/html": "<div>\n<style scoped>\n    .dataframe tbody tr th:only-of-type {\n        vertical-align: middle;\n    }\n\n    .dataframe tbody tr th {\n        vertical-align: top;\n    }\n\n    .dataframe thead th {\n        text-align: right;\n    }\n</style>\n<table border=\"1\" class=\"dataframe\">\n  <thead>\n    <tr style=\"text-align: right;\">\n      <th></th>\n      <th>Water_(g)</th>\n      <th>Protein_(g)</th>\n      <th>Lipid_Tot_(g)</th>\n      <th>Ash_(g)</th>\n      <th>Carbohydrt_(g)</th>\n      <th>Fiber_TD_(g)</th>\n      <th>Sugar_Tot_(g)</th>\n      <th>FA_Sat_(g)</th>\n      <th>FA_Mono_(g)</th>\n      <th>FA_Poly_(g)</th>\n    </tr>\n  </thead>\n  <tbody>\n    <tr>\n      <th>0</th>\n      <td>15.87</td>\n      <td>0.85</td>\n      <td>81.11</td>\n      <td>2.11</td>\n      <td>0.06</td>\n      <td>0.0</td>\n      <td>0.06</td>\n      <td>51.368</td>\n      <td>21.021</td>\n      <td>3.043</td>\n    </tr>\n    <tr>\n      <th>1</th>\n      <td>15.87</td>\n      <td>0.85</td>\n      <td>81.11</td>\n      <td>2.11</td>\n      <td>0.06</td>\n      <td>0.0</td>\n      <td>0.06</td>\n      <td>50.489</td>\n      <td>23.426</td>\n      <td>3.012</td>\n    </tr>\n    <tr>\n      <th>2</th>\n      <td>0.24</td>\n      <td>0.28</td>\n      <td>99.48</td>\n      <td>0.00</td>\n      <td>0.00</td>\n      <td>0.0</td>\n      <td>0.00</td>\n      <td>61.924</td>\n      <td>28.732</td>\n      <td>3.694</td>\n    </tr>\n    <tr>\n      <th>3</th>\n      <td>42.41</td>\n      <td>21.40</td>\n      <td>28.74</td>\n      <td>5.11</td>\n      <td>2.34</td>\n      <td>0.0</td>\n      <td>0.50</td>\n      <td>18.669</td>\n      <td>7.778</td>\n      <td>0.800</td>\n    </tr>\n    <tr>\n      <th>4</th>\n      <td>41.11</td>\n      <td>23.24</td>\n      <td>29.68</td>\n      <td>3.18</td>\n      <td>2.79</td>\n      <td>0.0</td>\n      <td>0.51</td>\n      <td>18.764</td>\n      <td>8.598</td>\n      <td>0.784</td>\n    </tr>\n    <tr>\n      <th>...</th>\n      <td>...</td>\n      <td>...</td>\n      <td>...</td>\n      <td>...</td>\n      <td>...</td>\n      <td>...</td>\n      <td>...</td>\n      <td>...</td>\n      <td>...</td>\n      <td>...</td>\n    </tr>\n    <tr>\n      <th>8613</th>\n      <td>43.00</td>\n      <td>18.50</td>\n      <td>25.10</td>\n      <td>13.40</td>\n      <td>0.00</td>\n      <td>0.0</td>\n      <td>0.00</td>\n      <td>7.148</td>\n      <td>8.320</td>\n      <td>6.210</td>\n    </tr>\n    <tr>\n      <th>8614</th>\n      <td>70.25</td>\n      <td>20.54</td>\n      <td>0.84</td>\n      <td>2.97</td>\n      <td>5.41</td>\n      <td>0.0</td>\n      <td>0.00</td>\n      <td>0.218</td>\n      <td>0.082</td>\n      <td>0.222</td>\n    </tr>\n    <tr>\n      <th>8615</th>\n      <td>26.00</td>\n      <td>0.00</td>\n      <td>0.00</td>\n      <td>0.86</td>\n      <td>73.14</td>\n      <td>0.0</td>\n      <td>73.20</td>\n      <td>0.000</td>\n      <td>0.000</td>\n      <td>0.000</td>\n    </tr>\n    <tr>\n      <th>8616</th>\n      <td>79.20</td>\n      <td>16.10</td>\n      <td>1.40</td>\n      <td>1.30</td>\n      <td>2.00</td>\n      <td>0.0</td>\n      <td>0.00</td>\n      <td>0.361</td>\n      <td>0.259</td>\n      <td>0.252</td>\n    </tr>\n    <tr>\n      <th>8617</th>\n      <td>78.50</td>\n      <td>19.80</td>\n      <td>0.50</td>\n      <td>1.20</td>\n      <td>0.00</td>\n      <td>0.0</td>\n      <td>0.00</td>\n      <td>0.127</td>\n      <td>0.088</td>\n      <td>0.170</td>\n    </tr>\n  </tbody>\n</table>\n<p>8618 rows × 10 columns</p>\n</div>"
     },
     "metadata": {},
     "execution_count": 11
    }
   ],
   "source": [
    "col_names = food_info.columns.tolist()\n",
    "gram_columns = []\n",
    "\n",
    "for c in col_names:\n",
    "    if c.endswith(\"(g)\"):\n",
    "        gram_columns.append(c)\n",
    "\n",
    "gram_df = food_info[gram_columns]\n",
    "gram_df"
   ]
  },
  {
   "source": [
    "## Traiter les valeurs manquantes\n",
    "\n",
    "### Trouver les valeurs manquantes"
   ],
   "cell_type": "markdown",
   "metadata": {}
  },
  {
   "cell_type": "code",
   "execution_count": 12,
   "metadata": {},
   "outputs": [
    {
     "output_type": "execute_result",
     "data": {
      "text/plain": [
       "      pclass  survived                                             name  \\\n",
       "0        1.0       1.0                    Allen, Miss. Elisabeth Walton   \n",
       "1        1.0       1.0                   Allison, Master. Hudson Trevor   \n",
       "2        1.0       0.0                     Allison, Miss. Helen Loraine   \n",
       "3        1.0       0.0             Allison, Mr. Hudson Joshua Creighton   \n",
       "4        1.0       0.0  Allison, Mrs. Hudson J C (Bessie Waldo Daniels)   \n",
       "...      ...       ...                                              ...   \n",
       "1305     3.0       0.0                            Zabour, Miss. Thamine   \n",
       "1306     3.0       0.0                        Zakarian, Mr. Mapriededer   \n",
       "1307     3.0       0.0                              Zakarian, Mr. Ortin   \n",
       "1308     3.0       0.0                               Zimmerman, Mr. Leo   \n",
       "1309     NaN       NaN                                              NaN   \n",
       "\n",
       "         sex      age  sibsp  parch  ticket      fare    cabin embarked boat  \\\n",
       "0     female  29.0000    0.0    0.0   24160  211.3375       B5        S    2   \n",
       "1       male   0.9167    1.0    2.0  113781  151.5500  C22 C26        S   11   \n",
       "2     female   2.0000    1.0    2.0  113781  151.5500  C22 C26        S  NaN   \n",
       "3       male  30.0000    1.0    2.0  113781  151.5500  C22 C26        S  NaN   \n",
       "4     female  25.0000    1.0    2.0  113781  151.5500  C22 C26        S  NaN   \n",
       "...      ...      ...    ...    ...     ...       ...      ...      ...  ...   \n",
       "1305  female      NaN    1.0    0.0    2665   14.4542      NaN        C  NaN   \n",
       "1306    male  26.5000    0.0    0.0    2656    7.2250      NaN        C  NaN   \n",
       "1307    male  27.0000    0.0    0.0    2670    7.2250      NaN        C  NaN   \n",
       "1308    male  29.0000    0.0    0.0  315082    7.8750      NaN        S  NaN   \n",
       "1309     NaN      NaN    NaN    NaN     NaN       NaN      NaN      NaN  NaN   \n",
       "\n",
       "       body                        home.dest  \n",
       "0       NaN                     St Louis, MO  \n",
       "1       NaN  Montreal, PQ / Chesterville, ON  \n",
       "2       NaN  Montreal, PQ / Chesterville, ON  \n",
       "3     135.0  Montreal, PQ / Chesterville, ON  \n",
       "4       NaN  Montreal, PQ / Chesterville, ON  \n",
       "...     ...                              ...  \n",
       "1305    NaN                              NaN  \n",
       "1306  304.0                              NaN  \n",
       "1307    NaN                              NaN  \n",
       "1308    NaN                              NaN  \n",
       "1309    NaN                              NaN  \n",
       "\n",
       "[1310 rows x 14 columns]"
      ],
      "text/html": "<div>\n<style scoped>\n    .dataframe tbody tr th:only-of-type {\n        vertical-align: middle;\n    }\n\n    .dataframe tbody tr th {\n        vertical-align: top;\n    }\n\n    .dataframe thead th {\n        text-align: right;\n    }\n</style>\n<table border=\"1\" class=\"dataframe\">\n  <thead>\n    <tr style=\"text-align: right;\">\n      <th></th>\n      <th>pclass</th>\n      <th>survived</th>\n      <th>name</th>\n      <th>sex</th>\n      <th>age</th>\n      <th>sibsp</th>\n      <th>parch</th>\n      <th>ticket</th>\n      <th>fare</th>\n      <th>cabin</th>\n      <th>embarked</th>\n      <th>boat</th>\n      <th>body</th>\n      <th>home.dest</th>\n    </tr>\n  </thead>\n  <tbody>\n    <tr>\n      <th>0</th>\n      <td>1.0</td>\n      <td>1.0</td>\n      <td>Allen, Miss. Elisabeth Walton</td>\n      <td>female</td>\n      <td>29.0000</td>\n      <td>0.0</td>\n      <td>0.0</td>\n      <td>24160</td>\n      <td>211.3375</td>\n      <td>B5</td>\n      <td>S</td>\n      <td>2</td>\n      <td>NaN</td>\n      <td>St Louis, MO</td>\n    </tr>\n    <tr>\n      <th>1</th>\n      <td>1.0</td>\n      <td>1.0</td>\n      <td>Allison, Master. Hudson Trevor</td>\n      <td>male</td>\n      <td>0.9167</td>\n      <td>1.0</td>\n      <td>2.0</td>\n      <td>113781</td>\n      <td>151.5500</td>\n      <td>C22 C26</td>\n      <td>S</td>\n      <td>11</td>\n      <td>NaN</td>\n      <td>Montreal, PQ / Chesterville, ON</td>\n    </tr>\n    <tr>\n      <th>2</th>\n      <td>1.0</td>\n      <td>0.0</td>\n      <td>Allison, Miss. Helen Loraine</td>\n      <td>female</td>\n      <td>2.0000</td>\n      <td>1.0</td>\n      <td>2.0</td>\n      <td>113781</td>\n      <td>151.5500</td>\n      <td>C22 C26</td>\n      <td>S</td>\n      <td>NaN</td>\n      <td>NaN</td>\n      <td>Montreal, PQ / Chesterville, ON</td>\n    </tr>\n    <tr>\n      <th>3</th>\n      <td>1.0</td>\n      <td>0.0</td>\n      <td>Allison, Mr. Hudson Joshua Creighton</td>\n      <td>male</td>\n      <td>30.0000</td>\n      <td>1.0</td>\n      <td>2.0</td>\n      <td>113781</td>\n      <td>151.5500</td>\n      <td>C22 C26</td>\n      <td>S</td>\n      <td>NaN</td>\n      <td>135.0</td>\n      <td>Montreal, PQ / Chesterville, ON</td>\n    </tr>\n    <tr>\n      <th>4</th>\n      <td>1.0</td>\n      <td>0.0</td>\n      <td>Allison, Mrs. Hudson J C (Bessie Waldo Daniels)</td>\n      <td>female</td>\n      <td>25.0000</td>\n      <td>1.0</td>\n      <td>2.0</td>\n      <td>113781</td>\n      <td>151.5500</td>\n      <td>C22 C26</td>\n      <td>S</td>\n      <td>NaN</td>\n      <td>NaN</td>\n      <td>Montreal, PQ / Chesterville, ON</td>\n    </tr>\n    <tr>\n      <th>...</th>\n      <td>...</td>\n      <td>...</td>\n      <td>...</td>\n      <td>...</td>\n      <td>...</td>\n      <td>...</td>\n      <td>...</td>\n      <td>...</td>\n      <td>...</td>\n      <td>...</td>\n      <td>...</td>\n      <td>...</td>\n      <td>...</td>\n      <td>...</td>\n    </tr>\n    <tr>\n      <th>1305</th>\n      <td>3.0</td>\n      <td>0.0</td>\n      <td>Zabour, Miss. Thamine</td>\n      <td>female</td>\n      <td>NaN</td>\n      <td>1.0</td>\n      <td>0.0</td>\n      <td>2665</td>\n      <td>14.4542</td>\n      <td>NaN</td>\n      <td>C</td>\n      <td>NaN</td>\n      <td>NaN</td>\n      <td>NaN</td>\n    </tr>\n    <tr>\n      <th>1306</th>\n      <td>3.0</td>\n      <td>0.0</td>\n      <td>Zakarian, Mr. Mapriededer</td>\n      <td>male</td>\n      <td>26.5000</td>\n      <td>0.0</td>\n      <td>0.0</td>\n      <td>2656</td>\n      <td>7.2250</td>\n      <td>NaN</td>\n      <td>C</td>\n      <td>NaN</td>\n      <td>304.0</td>\n      <td>NaN</td>\n    </tr>\n    <tr>\n      <th>1307</th>\n      <td>3.0</td>\n      <td>0.0</td>\n      <td>Zakarian, Mr. Ortin</td>\n      <td>male</td>\n      <td>27.0000</td>\n      <td>0.0</td>\n      <td>0.0</td>\n      <td>2670</td>\n      <td>7.2250</td>\n      <td>NaN</td>\n      <td>C</td>\n      <td>NaN</td>\n      <td>NaN</td>\n      <td>NaN</td>\n    </tr>\n    <tr>\n      <th>1308</th>\n      <td>3.0</td>\n      <td>0.0</td>\n      <td>Zimmerman, Mr. Leo</td>\n      <td>male</td>\n      <td>29.0000</td>\n      <td>0.0</td>\n      <td>0.0</td>\n      <td>315082</td>\n      <td>7.8750</td>\n      <td>NaN</td>\n      <td>S</td>\n      <td>NaN</td>\n      <td>NaN</td>\n      <td>NaN</td>\n    </tr>\n    <tr>\n      <th>1309</th>\n      <td>NaN</td>\n      <td>NaN</td>\n      <td>NaN</td>\n      <td>NaN</td>\n      <td>NaN</td>\n      <td>NaN</td>\n      <td>NaN</td>\n      <td>NaN</td>\n      <td>NaN</td>\n      <td>NaN</td>\n      <td>NaN</td>\n      <td>NaN</td>\n      <td>NaN</td>\n      <td>NaN</td>\n    </tr>\n  </tbody>\n</table>\n<p>1310 rows × 14 columns</p>\n</div>"
     },
     "metadata": {},
     "execution_count": 12
    }
   ],
   "source": [
    "titanic_survival = pd.read_csv('/home/simplon/Documents/jeux_de_données/titanic_survival.csv')\n",
    "titanic_survival"
   ]
  },
  {
   "source": [
    "- Compter le nombre de valeurs dans la colonne \"age\" possédant des valeurs manquantes:\n",
    ">- Assigner à la variable age la colonne des ages du dataframe titanic_survival\n",
    ">- Utiliser pandas.isnull() sur la variable age pour créer une Series de valeurs True et False\n",
    ">- Utiliser la Series résultante pour sélectionner seulement les élements de la colonne \"age\" qui sont nuls et assigner le résultat à la variable age_null\n",
    ">- Assigner le nombre de valeurs manquantes de age_null à la variable age_null_count (fonction len() )\n",
    "- Afficher age_null_count pour voir le nombre de valeurs manquantes de la colonne \"age\""
   ],
   "cell_type": "markdown",
   "metadata": {}
  },
  {
   "cell_type": "code",
   "execution_count": 13,
   "metadata": {},
   "outputs": [
    {
     "output_type": "stream",
     "name": "stdout",
     "text": [
      "10    47.0\n11    18.0\n12    24.0\n13    26.0\n14    80.0\n15     NaN\n16    24.0\n17    50.0\n18    32.0\n19    36.0\n20    37.0\n21    47.0\n22    26.0\n23    42.0\n24    29.0\n25    25.0\nName: age, dtype: float64\n"
     ]
    }
   ],
   "source": [
    "age = titanic_survival['age']\n",
    "print(age.loc[10:25])"
   ]
  },
  {
   "cell_type": "code",
   "execution_count": 14,
   "metadata": {},
   "outputs": [
    {
     "output_type": "stream",
     "name": "stdout",
     "text": [
      "264\n\n15     NaN\n37     NaN\n40     NaN\n46     NaN\n59     NaN\n        ..\n1297   NaN\n1302   NaN\n1303   NaN\n1305   NaN\n1309   NaN\nName: age, Length: 264, dtype: float64\n"
     ]
    }
   ],
   "source": [
    "age_is_null = pd.isnull(age)\n",
    "age_null = age[age_is_null]\n",
    "age_null_count = len(age_null)\n",
    "print(age_null_count)\n",
    "print()\n",
    "print(age_null)"
   ]
  },
  {
   "source": [
    "## Problème avec les valeurs manquantes"
   ],
   "cell_type": "markdown",
   "metadata": {}
  },
  {
   "cell_type": "code",
   "execution_count": 15,
   "metadata": {},
   "outputs": [
    {
     "output_type": "execute_result",
     "data": {
      "text/plain": [
       "29.8811345124283"
      ]
     },
     "metadata": {},
     "execution_count": 15
    }
   ],
   "source": [
    "age_is_null = pd.isnull(titanic_survival['age'])\n",
    "good_ages = titanic_survival['age'][age_is_null == False ]\n",
    "mean_age = sum(good_ages) / len(good_ages)\n",
    "mean_age"
   ]
  },
  {
   "source": [
    "## Calculer une moyenne"
   ],
   "cell_type": "markdown",
   "metadata": {}
  },
  {
   "cell_type": "code",
   "execution_count": 16,
   "metadata": {},
   "outputs": [
    {
     "output_type": "execute_result",
     "data": {
      "text/plain": [
       "33.29547928134572"
      ]
     },
     "metadata": {},
     "execution_count": 16
    }
   ],
   "source": [
    "mean_fare = titanic_survival[\"fare\"].mean()\n",
    "mean_fare"
   ]
  },
  {
   "source": [
    "## Calculer des stats de prix\n",
    "\n",
    "- Créer un dictionnaire vide qu'on nommera fares_by_class.\n",
    "- Créer la liste passenger_classes qui contient les éléments [1,2,3]\n",
    "- Utiliser une boucle for pour parcourir la liste passenger_classes:\n",
    ">- Sélectionner juste les lignes de titanic_survival pour lesquelles la colonne pclass est égale à la variable temporaire (l'itératreur) de la boucle for, c'est à dire correspondant au numéro de classe (1, 2 ou 3)\n",
    ">- Sélectionner seulement la colonne fare pour ce sous-ensemble de lignes (correspondant à la classe)\n",
    ">- Utiliser la méthode Series.mean() pour calculer la moyenne de ce sous-ensemble\n",
    ">- Ajouter cette moyenne calculée de la classe au dictionnaire fares_by_class avec comme clé le numéro de la classe (et donc comme valeur la moyenne du prix du billet d'embarquement)\n",
    "- Une fois la boucle achevée, le dictionnaire fares_by_class devrait avoir 1,2 et 3 comme clés avec en valeur les moyennes correpondantes.\n",
    "- Afficher le résultat."
   ],
   "cell_type": "markdown",
   "metadata": {}
  },
  {
   "cell_type": "code",
   "execution_count": 17,
   "metadata": {},
   "outputs": [
    {
     "output_type": "stream",
     "name": "stdout",
     "text": [
      "{1: 87.50899164086687, 2: 21.1791963898917, 3: 13.302888700564957}\n"
     ]
    }
   ],
   "source": [
    "fares_by_class = {}\n",
    "passengers_classes = [1,2,3]\n",
    "\n",
    "for this_class in passengers_classes:\n",
    "    is_class = (titanic_survival[\"pclass\"] == this_class)\n",
    "    pclass_rows = titanic_survival[is_class]\n",
    "    pclass_fares = pclass_rows['fare']\n",
    "    fare_for_class = pclass_fares.mean()\n",
    "    fares_by_class[this_class] = fare_for_class\n",
    "\n",
    "print(fares_by_class)"
   ]
  },
  {
   "cell_type": "code",
   "execution_count": 18,
   "metadata": {},
   "outputs": [
    {
     "output_type": "execute_result",
     "data": {
      "text/plain": [
       "             fare\n",
       "pclass           \n",
       "1.0     87.508992\n",
       "2.0     21.179196\n",
       "3.0     13.302889"
      ],
      "text/html": "<div>\n<style scoped>\n    .dataframe tbody tr th:only-of-type {\n        vertical-align: middle;\n    }\n\n    .dataframe tbody tr th {\n        vertical-align: top;\n    }\n\n    .dataframe thead th {\n        text-align: right;\n    }\n</style>\n<table border=\"1\" class=\"dataframe\">\n  <thead>\n    <tr style=\"text-align: right;\">\n      <th></th>\n      <th>fare</th>\n    </tr>\n    <tr>\n      <th>pclass</th>\n      <th></th>\n    </tr>\n  </thead>\n  <tbody>\n    <tr>\n      <th>1.0</th>\n      <td>87.508992</td>\n    </tr>\n    <tr>\n      <th>2.0</th>\n      <td>21.179196</td>\n    </tr>\n    <tr>\n      <th>3.0</th>\n      <td>13.302889</td>\n    </tr>\n  </tbody>\n</table>\n</div>"
     },
     "metadata": {},
     "execution_count": 18
    }
   ],
   "source": [
    "titanic_survival[[\"fare\", \"pclass\"]].groupby(\"pclass\").mean()"
   ]
  },
  {
   "cell_type": "code",
   "execution_count": 19,
   "metadata": {},
   "outputs": [
    {
     "output_type": "execute_result",
     "data": {
      "text/plain": [
       "{1.0: 87.50899164086687,\n",
       " 2.0: 21.1791963898917,\n",
       " 3.0: 13.302888700564957,\n",
       " nan: nan}"
      ]
     },
     "metadata": {},
     "execution_count": 19
    }
   ],
   "source": [
    "{pclass: titanic_survival[\"fare\"][titanic_survival[\"pclass\"] == pclass].mean() for pclass in titanic_survival[\"pclass\"].unique()}"
   ]
  },
  {
   "source": [
    "## Pivot\n",
    "\n",
    "Le pivots de table est un moyen de créer un sous ensemble directment sur une colonne et d'effectuer un calcul sur une colonne comme la somme ou une moyenne. \n",
    "\n",
    "- Utiliser la méthode dataFrame.pivot_table() pour calculer la moyenne de l'âge pour chaque classe de passager (\"pclass\").\n",
    "- Assigner le résultat à la variable passenger_age.\n",
    "- Afficher passenger_age.\n",
    "- Faire de même avec la colonne survived pour chaque classe de passager."
   ],
   "cell_type": "markdown",
   "metadata": {}
  },
  {
   "cell_type": "code",
   "execution_count": 20,
   "metadata": {},
   "outputs": [
    {
     "output_type": "execute_result",
     "data": {
      "text/plain": [
       "             fare\n",
       "pclass           \n",
       "1.0     87.508992\n",
       "2.0     21.179196\n",
       "3.0     13.302889"
      ],
      "text/html": "<div>\n<style scoped>\n    .dataframe tbody tr th:only-of-type {\n        vertical-align: middle;\n    }\n\n    .dataframe tbody tr th {\n        vertical-align: top;\n    }\n\n    .dataframe thead th {\n        text-align: right;\n    }\n</style>\n<table border=\"1\" class=\"dataframe\">\n  <thead>\n    <tr style=\"text-align: right;\">\n      <th></th>\n      <th>fare</th>\n    </tr>\n    <tr>\n      <th>pclass</th>\n      <th></th>\n    </tr>\n  </thead>\n  <tbody>\n    <tr>\n      <th>1.0</th>\n      <td>87.508992</td>\n    </tr>\n    <tr>\n      <th>2.0</th>\n      <td>21.179196</td>\n    </tr>\n    <tr>\n      <th>3.0</th>\n      <td>13.302889</td>\n    </tr>\n  </tbody>\n</table>\n</div>"
     },
     "metadata": {},
     "execution_count": 20
    }
   ],
   "source": [
    "passanger_age = titanic_survival.pivot_table(index=\"pclass\", values=\"fare\")\n",
    "passanger_age"
   ]
  },
  {
   "cell_type": "code",
   "execution_count": 21,
   "metadata": {},
   "outputs": [
    {
     "output_type": "execute_result",
     "data": {
      "text/plain": [
       "        survived\n",
       "pclass          \n",
       "1.0     0.619195\n",
       "2.0     0.429603\n",
       "3.0     0.255289"
      ],
      "text/html": "<div>\n<style scoped>\n    .dataframe tbody tr th:only-of-type {\n        vertical-align: middle;\n    }\n\n    .dataframe tbody tr th {\n        vertical-align: top;\n    }\n\n    .dataframe thead th {\n        text-align: right;\n    }\n</style>\n<table border=\"1\" class=\"dataframe\">\n  <thead>\n    <tr style=\"text-align: right;\">\n      <th></th>\n      <th>survived</th>\n    </tr>\n    <tr>\n      <th>pclass</th>\n      <th></th>\n    </tr>\n  </thead>\n  <tbody>\n    <tr>\n      <th>1.0</th>\n      <td>0.619195</td>\n    </tr>\n    <tr>\n      <th>2.0</th>\n      <td>0.429603</td>\n    </tr>\n    <tr>\n      <th>3.0</th>\n      <td>0.255289</td>\n    </tr>\n  </tbody>\n</table>\n</div>"
     },
     "metadata": {},
     "execution_count": 21
    }
   ],
   "source": [
    "passanger_survival = titanic_survival.pivot_table(index=\"pclass\", values=\"survived\")\n",
    "passanger_survival"
   ]
  },
  {
   "cell_type": "code",
   "execution_count": 23,
   "metadata": {},
   "outputs": [
    {
     "output_type": "execute_result",
     "data": {
      "text/plain": [
       "Index(['pclass', 'survived', 'name', 'sex', 'age', 'sibsp', 'parch', 'ticket',\n",
       "       'fare', 'cabin', 'embarked', 'boat', 'body', 'home.dest'],\n",
       "      dtype='object')"
      ]
     },
     "metadata": {},
     "execution_count": 23
    }
   ],
   "source": [
    "titanic_survival.columns"
   ]
  },
  {
   "source": [
    "- Faire un pivot de table qui calcule le total d'argent encaissé (\"fare\") et le nombre total de survivants (\"survived\") pour chaque port d'embarcation (\"embarked\"). Il faudra utiliser la fonction numpy.sum\n",
    "- Assigner le résultat à la variable port_stats.\n",
    "- Afficher le résultat."
   ],
   "cell_type": "markdown",
   "metadata": {}
  },
  {
   "cell_type": "code",
   "execution_count": 26,
   "metadata": {},
   "outputs": [
    {
     "output_type": "execute_result",
     "data": {
      "text/plain": [
       "               fare  survived\n",
       "embarked                     \n",
       "C         62.336267  0.555556\n",
       "Q         12.409012  0.357724\n",
       "S         27.418824  0.332604"
      ],
      "text/html": "<div>\n<style scoped>\n    .dataframe tbody tr th:only-of-type {\n        vertical-align: middle;\n    }\n\n    .dataframe tbody tr th {\n        vertical-align: top;\n    }\n\n    .dataframe thead th {\n        text-align: right;\n    }\n</style>\n<table border=\"1\" class=\"dataframe\">\n  <thead>\n    <tr style=\"text-align: right;\">\n      <th></th>\n      <th>fare</th>\n      <th>survived</th>\n    </tr>\n    <tr>\n      <th>embarked</th>\n      <th></th>\n      <th></th>\n    </tr>\n  </thead>\n  <tbody>\n    <tr>\n      <th>C</th>\n      <td>62.336267</td>\n      <td>0.555556</td>\n    </tr>\n    <tr>\n      <th>Q</th>\n      <td>12.409012</td>\n      <td>0.357724</td>\n    </tr>\n    <tr>\n      <th>S</th>\n      <td>27.418824</td>\n      <td>0.332604</td>\n    </tr>\n  </tbody>\n</table>\n</div>"
     },
     "metadata": {},
     "execution_count": 26
    }
   ],
   "source": [
    "port_stats = titanic_survival.pivot_table(index=\"embarked\", values=[\"fare\",\"survived\"], aggfunc=np.mean)\n",
    "port_stats"
   ]
  },
  {
   "source": [
    "## Eliminer les valeurs manquantes"
   ],
   "cell_type": "markdown",
   "metadata": {}
  },
  {
   "cell_type": "code",
   "execution_count": 31,
   "metadata": {},
   "outputs": [
    {
     "output_type": "execute_result",
     "data": {
      "text/plain": [
       "      pclass  survived                                             name  \\\n",
       "0        1.0       1.0                    Allen, Miss. Elisabeth Walton   \n",
       "1        1.0       1.0                   Allison, Master. Hudson Trevor   \n",
       "2        1.0       0.0                     Allison, Miss. Helen Loraine   \n",
       "3        1.0       0.0             Allison, Mr. Hudson Joshua Creighton   \n",
       "4        1.0       0.0  Allison, Mrs. Hudson J C (Bessie Waldo Daniels)   \n",
       "...      ...       ...                                              ...   \n",
       "1301     3.0       0.0                             Youseff, Mr. Gerious   \n",
       "1304     3.0       0.0                             Zabour, Miss. Hileni   \n",
       "1306     3.0       0.0                        Zakarian, Mr. Mapriededer   \n",
       "1307     3.0       0.0                              Zakarian, Mr. Ortin   \n",
       "1308     3.0       0.0                               Zimmerman, Mr. Leo   \n",
       "\n",
       "         sex      age  sibsp  parch  ticket      fare    cabin embarked boat  \\\n",
       "0     female  29.0000    0.0    0.0   24160  211.3375       B5        S    2   \n",
       "1       male   0.9167    1.0    2.0  113781  151.5500  C22 C26        S   11   \n",
       "2     female   2.0000    1.0    2.0  113781  151.5500  C22 C26        S  NaN   \n",
       "3       male  30.0000    1.0    2.0  113781  151.5500  C22 C26        S  NaN   \n",
       "4     female  25.0000    1.0    2.0  113781  151.5500  C22 C26        S  NaN   \n",
       "...      ...      ...    ...    ...     ...       ...      ...      ...  ...   \n",
       "1301    male  45.5000    0.0    0.0    2628    7.2250      NaN        C  NaN   \n",
       "1304  female  14.5000    1.0    0.0    2665   14.4542      NaN        C  NaN   \n",
       "1306    male  26.5000    0.0    0.0    2656    7.2250      NaN        C  NaN   \n",
       "1307    male  27.0000    0.0    0.0    2670    7.2250      NaN        C  NaN   \n",
       "1308    male  29.0000    0.0    0.0  315082    7.8750      NaN        S  NaN   \n",
       "\n",
       "       body                        home.dest  \n",
       "0       NaN                     St Louis, MO  \n",
       "1       NaN  Montreal, PQ / Chesterville, ON  \n",
       "2       NaN  Montreal, PQ / Chesterville, ON  \n",
       "3     135.0  Montreal, PQ / Chesterville, ON  \n",
       "4       NaN  Montreal, PQ / Chesterville, ON  \n",
       "...     ...                              ...  \n",
       "1301  312.0                              NaN  \n",
       "1304  328.0                              NaN  \n",
       "1306  304.0                              NaN  \n",
       "1307    NaN                              NaN  \n",
       "1308    NaN                              NaN  \n",
       "\n",
       "[1046 rows x 14 columns]"
      ],
      "text/html": "<div>\n<style scoped>\n    .dataframe tbody tr th:only-of-type {\n        vertical-align: middle;\n    }\n\n    .dataframe tbody tr th {\n        vertical-align: top;\n    }\n\n    .dataframe thead th {\n        text-align: right;\n    }\n</style>\n<table border=\"1\" class=\"dataframe\">\n  <thead>\n    <tr style=\"text-align: right;\">\n      <th></th>\n      <th>pclass</th>\n      <th>survived</th>\n      <th>name</th>\n      <th>sex</th>\n      <th>age</th>\n      <th>sibsp</th>\n      <th>parch</th>\n      <th>ticket</th>\n      <th>fare</th>\n      <th>cabin</th>\n      <th>embarked</th>\n      <th>boat</th>\n      <th>body</th>\n      <th>home.dest</th>\n    </tr>\n  </thead>\n  <tbody>\n    <tr>\n      <th>0</th>\n      <td>1.0</td>\n      <td>1.0</td>\n      <td>Allen, Miss. Elisabeth Walton</td>\n      <td>female</td>\n      <td>29.0000</td>\n      <td>0.0</td>\n      <td>0.0</td>\n      <td>24160</td>\n      <td>211.3375</td>\n      <td>B5</td>\n      <td>S</td>\n      <td>2</td>\n      <td>NaN</td>\n      <td>St Louis, MO</td>\n    </tr>\n    <tr>\n      <th>1</th>\n      <td>1.0</td>\n      <td>1.0</td>\n      <td>Allison, Master. Hudson Trevor</td>\n      <td>male</td>\n      <td>0.9167</td>\n      <td>1.0</td>\n      <td>2.0</td>\n      <td>113781</td>\n      <td>151.5500</td>\n      <td>C22 C26</td>\n      <td>S</td>\n      <td>11</td>\n      <td>NaN</td>\n      <td>Montreal, PQ / Chesterville, ON</td>\n    </tr>\n    <tr>\n      <th>2</th>\n      <td>1.0</td>\n      <td>0.0</td>\n      <td>Allison, Miss. Helen Loraine</td>\n      <td>female</td>\n      <td>2.0000</td>\n      <td>1.0</td>\n      <td>2.0</td>\n      <td>113781</td>\n      <td>151.5500</td>\n      <td>C22 C26</td>\n      <td>S</td>\n      <td>NaN</td>\n      <td>NaN</td>\n      <td>Montreal, PQ / Chesterville, ON</td>\n    </tr>\n    <tr>\n      <th>3</th>\n      <td>1.0</td>\n      <td>0.0</td>\n      <td>Allison, Mr. Hudson Joshua Creighton</td>\n      <td>male</td>\n      <td>30.0000</td>\n      <td>1.0</td>\n      <td>2.0</td>\n      <td>113781</td>\n      <td>151.5500</td>\n      <td>C22 C26</td>\n      <td>S</td>\n      <td>NaN</td>\n      <td>135.0</td>\n      <td>Montreal, PQ / Chesterville, ON</td>\n    </tr>\n    <tr>\n      <th>4</th>\n      <td>1.0</td>\n      <td>0.0</td>\n      <td>Allison, Mrs. Hudson J C (Bessie Waldo Daniels)</td>\n      <td>female</td>\n      <td>25.0000</td>\n      <td>1.0</td>\n      <td>2.0</td>\n      <td>113781</td>\n      <td>151.5500</td>\n      <td>C22 C26</td>\n      <td>S</td>\n      <td>NaN</td>\n      <td>NaN</td>\n      <td>Montreal, PQ / Chesterville, ON</td>\n    </tr>\n    <tr>\n      <th>...</th>\n      <td>...</td>\n      <td>...</td>\n      <td>...</td>\n      <td>...</td>\n      <td>...</td>\n      <td>...</td>\n      <td>...</td>\n      <td>...</td>\n      <td>...</td>\n      <td>...</td>\n      <td>...</td>\n      <td>...</td>\n      <td>...</td>\n      <td>...</td>\n    </tr>\n    <tr>\n      <th>1301</th>\n      <td>3.0</td>\n      <td>0.0</td>\n      <td>Youseff, Mr. Gerious</td>\n      <td>male</td>\n      <td>45.5000</td>\n      <td>0.0</td>\n      <td>0.0</td>\n      <td>2628</td>\n      <td>7.2250</td>\n      <td>NaN</td>\n      <td>C</td>\n      <td>NaN</td>\n      <td>312.0</td>\n      <td>NaN</td>\n    </tr>\n    <tr>\n      <th>1304</th>\n      <td>3.0</td>\n      <td>0.0</td>\n      <td>Zabour, Miss. Hileni</td>\n      <td>female</td>\n      <td>14.5000</td>\n      <td>1.0</td>\n      <td>0.0</td>\n      <td>2665</td>\n      <td>14.4542</td>\n      <td>NaN</td>\n      <td>C</td>\n      <td>NaN</td>\n      <td>328.0</td>\n      <td>NaN</td>\n    </tr>\n    <tr>\n      <th>1306</th>\n      <td>3.0</td>\n      <td>0.0</td>\n      <td>Zakarian, Mr. Mapriededer</td>\n      <td>male</td>\n      <td>26.5000</td>\n      <td>0.0</td>\n      <td>0.0</td>\n      <td>2656</td>\n      <td>7.2250</td>\n      <td>NaN</td>\n      <td>C</td>\n      <td>NaN</td>\n      <td>304.0</td>\n      <td>NaN</td>\n    </tr>\n    <tr>\n      <th>1307</th>\n      <td>3.0</td>\n      <td>0.0</td>\n      <td>Zakarian, Mr. Ortin</td>\n      <td>male</td>\n      <td>27.0000</td>\n      <td>0.0</td>\n      <td>0.0</td>\n      <td>2670</td>\n      <td>7.2250</td>\n      <td>NaN</td>\n      <td>C</td>\n      <td>NaN</td>\n      <td>NaN</td>\n      <td>NaN</td>\n    </tr>\n    <tr>\n      <th>1308</th>\n      <td>3.0</td>\n      <td>0.0</td>\n      <td>Zimmerman, Mr. Leo</td>\n      <td>male</td>\n      <td>29.0000</td>\n      <td>0.0</td>\n      <td>0.0</td>\n      <td>315082</td>\n      <td>7.8750</td>\n      <td>NaN</td>\n      <td>S</td>\n      <td>NaN</td>\n      <td>NaN</td>\n      <td>NaN</td>\n    </tr>\n  </tbody>\n</table>\n<p>1046 rows × 14 columns</p>\n</div>"
     },
     "metadata": {},
     "execution_count": 31
    }
   ],
   "source": [
    "# axis = 0 pour supprimer les lignes et axis = 1 pour supprimer les colonnes\n",
    "\n",
    "new_titanic_survival = titanic_survival.dropna(axis=0, subset=[\"age\",\"sex\"])\n",
    "new_titanic_survival"
   ]
  },
  {
   "cell_type": "code",
   "execution_count": 32,
   "metadata": {},
   "outputs": [
    {
     "output_type": "execute_result",
     "data": {
      "text/plain": [
       "(1046, 14)"
      ]
     },
     "metadata": {},
     "execution_count": 32
    }
   ],
   "source": [
    "new_titanic_survival.shape"
   ]
  },
  {
   "source": [
    "- Assigner les 10 premières lignes de new_titanic_survival à la variable first_ten_rows.\n",
    "- Assigner la 5e ligne de new_titanic_survival à la variable row_position-fifth.\n",
    "- Assigner la ligne dont l'intitulé d'index est 25 pour new_titanic_survival à la variable row_index_25."
   ],
   "cell_type": "markdown",
   "metadata": {}
  },
  {
   "cell_type": "code",
   "execution_count": 33,
   "metadata": {},
   "outputs": [],
   "source": [
    "first_two_rows = new_tittanic_survival.iloc[0:10]\n",
    "row_position_fifth = new_tittanic_survival.iloc[4]\n",
    "row_index_25 = new_tittanic_survival.loc[25]"
   ]
  },
  {
   "source": [
    "## Les index de colonne\n",
    "\n",
    "- Assigner la valeur d'intitule de ligne 1100 pour la colonne \"age\" de new_titanic_survival à la variable row_index_1100_age.\n",
    "- Assigner la valeur d'intitulé de ligne 25 pour la colonne \"survived\" de new_titanic_survival à la variable row_index_25_survived.\n",
    "- Assigner les 5 premières lignes et 3 premières colonnes de new_titanic_survival à la variable five_rows_three_cols.\n",
    "- Afficher tous les résultats."
   ],
   "cell_type": "markdown",
   "metadata": {}
  },
  {
   "cell_type": "code",
   "execution_count": 37,
   "metadata": {},
   "outputs": [
    {
     "output_type": "execute_result",
     "data": {
      "text/plain": [
       "   pclass  survived                                             name\n",
       "0     1.0       1.0                    Allen, Miss. Elisabeth Walton\n",
       "1     1.0       1.0                   Allison, Master. Hudson Trevor\n",
       "2     1.0       0.0                     Allison, Miss. Helen Loraine\n",
       "3     1.0       0.0             Allison, Mr. Hudson Joshua Creighton\n",
       "4     1.0       0.0  Allison, Mrs. Hudson J C (Bessie Waldo Daniels)"
      ],
      "text/html": "<div>\n<style scoped>\n    .dataframe tbody tr th:only-of-type {\n        vertical-align: middle;\n    }\n\n    .dataframe tbody tr th {\n        vertical-align: top;\n    }\n\n    .dataframe thead th {\n        text-align: right;\n    }\n</style>\n<table border=\"1\" class=\"dataframe\">\n  <thead>\n    <tr style=\"text-align: right;\">\n      <th></th>\n      <th>pclass</th>\n      <th>survived</th>\n      <th>name</th>\n    </tr>\n  </thead>\n  <tbody>\n    <tr>\n      <th>0</th>\n      <td>1.0</td>\n      <td>1.0</td>\n      <td>Allen, Miss. Elisabeth Walton</td>\n    </tr>\n    <tr>\n      <th>1</th>\n      <td>1.0</td>\n      <td>1.0</td>\n      <td>Allison, Master. Hudson Trevor</td>\n    </tr>\n    <tr>\n      <th>2</th>\n      <td>1.0</td>\n      <td>0.0</td>\n      <td>Allison, Miss. Helen Loraine</td>\n    </tr>\n    <tr>\n      <th>3</th>\n      <td>1.0</td>\n      <td>0.0</td>\n      <td>Allison, Mr. Hudson Joshua Creighton</td>\n    </tr>\n    <tr>\n      <th>4</th>\n      <td>1.0</td>\n      <td>0.0</td>\n      <td>Allison, Mrs. Hudson J C (Bessie Waldo Daniels)</td>\n    </tr>\n  </tbody>\n</table>\n</div>"
     },
     "metadata": {},
     "execution_count": 37
    }
   ],
   "source": [
    "row_index_1100_age = new_tittanic_survival.loc[100,\"age\"]\n",
    "row_index_25_survived = new_tittanic_survival.loc[25,\"survived\"]\n",
    "five_rows_three_cols = new_tittanic_survival.iloc[0:5,0:3]\n",
    "five_rows_three_cols"
   ]
  },
  {
   "source": [
    "## Reindexer les lignes d'un DataFrame"
   ],
   "cell_type": "markdown",
   "metadata": {}
  },
  {
   "cell_type": "code",
   "execution_count": 46,
   "metadata": {},
   "outputs": [
    {
     "output_type": "execute_result",
     "data": {
      "text/plain": [
       "   pclass  survived                                             name\n",
       "0     1.0       1.0                    Allen, Miss. Elisabeth Walton\n",
       "1     1.0       1.0                   Allison, Master. Hudson Trevor\n",
       "2     1.0       0.0                     Allison, Miss. Helen Loraine\n",
       "3     1.0       0.0             Allison, Mr. Hudson Joshua Creighton\n",
       "4     1.0       0.0  Allison, Mrs. Hudson J C (Bessie Waldo Daniels)"
      ],
      "text/html": "<div>\n<style scoped>\n    .dataframe tbody tr th:only-of-type {\n        vertical-align: middle;\n    }\n\n    .dataframe tbody tr th {\n        vertical-align: top;\n    }\n\n    .dataframe thead th {\n        text-align: right;\n    }\n</style>\n<table border=\"1\" class=\"dataframe\">\n  <thead>\n    <tr style=\"text-align: right;\">\n      <th></th>\n      <th>pclass</th>\n      <th>survived</th>\n      <th>name</th>\n    </tr>\n  </thead>\n  <tbody>\n    <tr>\n      <th>0</th>\n      <td>1.0</td>\n      <td>1.0</td>\n      <td>Allen, Miss. Elisabeth Walton</td>\n    </tr>\n    <tr>\n      <th>1</th>\n      <td>1.0</td>\n      <td>1.0</td>\n      <td>Allison, Master. Hudson Trevor</td>\n    </tr>\n    <tr>\n      <th>2</th>\n      <td>1.0</td>\n      <td>0.0</td>\n      <td>Allison, Miss. Helen Loraine</td>\n    </tr>\n    <tr>\n      <th>3</th>\n      <td>1.0</td>\n      <td>0.0</td>\n      <td>Allison, Mr. Hudson Joshua Creighton</td>\n    </tr>\n    <tr>\n      <th>4</th>\n      <td>1.0</td>\n      <td>0.0</td>\n      <td>Allison, Mrs. Hudson J C (Bessie Waldo Daniels)</td>\n    </tr>\n  </tbody>\n</table>\n</div>"
     },
     "metadata": {},
     "execution_count": 46
    }
   ],
   "source": [
    "titanic_reindexed = new_tittanic_survival.reset_index(drop=True)\n",
    "titanic_reindexed.iloc[0:5,0:3]"
   ]
  },
  {
   "source": [
    "## Appliquer des   un DataFrame\n",
    "\n",
    "- Ecrire une fonction qui compte le nombre d'éléments manquants d'un objet Series.\n",
    "- Utiliser la méthode DataFrame.apply() pour appliquer votre fonction sur titanic_survival.\n",
    "- Assigner le résultat  à la variable column_null_count.\n",
    "- Afficher le résultat."
   ],
   "cell_type": "markdown",
   "metadata": {}
  },
  {
   "cell_type": "code",
   "execution_count": 51,
   "metadata": {},
   "outputs": [
    {
     "output_type": "execute_result",
     "data": {
      "text/plain": [
       "pclass          1\n",
       "survived        1\n",
       "name            1\n",
       "sex             1\n",
       "age           264\n",
       "sibsp           1\n",
       "parch           1\n",
       "ticket          1\n",
       "fare            2\n",
       "cabin        1015\n",
       "embarked        3\n",
       "boat          824\n",
       "body         1189\n",
       "home.dest     565\n",
       "dtype: int64"
      ]
     },
     "metadata": {},
     "execution_count": 51
    }
   ],
   "source": [
    "def null_count(column):\n",
    "    colomn_null = pd.isnull(column)\n",
    "    null = column[colomn_null]\n",
    "    return len(null)\n",
    "\n",
    "column_null_count = titanic_survival.apply(null_count)\n",
    "column_null_count"
   ]
  },
  {
   "source": [
    "## Appliquer une fonction à une ligne\n",
    "\n",
    "- Créer une fonction qui retourne la chaine de caractères \"minor\" pour quelqu'un de moins de 18 ans, \"adult\" si son age est supérieur ou égal à 18 et \"unknown\" si la valeur est manquante.\n",
    "- utiliser cette fonction avec la méthode apply() pour trouver l'intitulé correct pour chaque passag du dataframe titanic_survival.  Ajouter l'option axis=1.\n",
    "- Assigner le résultat à la variable age_labels.\n",
    "- Afficher le résultat."
   ],
   "cell_type": "markdown",
   "metadata": {}
  },
  {
   "cell_type": "code",
   "execution_count": 62,
   "metadata": {},
   "outputs": [
    {
     "output_type": "execute_result",
     "data": {
      "text/plain": [
       "0         adult\n",
       "1         minor\n",
       "2         minor\n",
       "3         adult\n",
       "4         adult\n",
       "         ...   \n",
       "1305    unknown\n",
       "1306      adult\n",
       "1307      adult\n",
       "1308      adult\n",
       "1309    unknown\n",
       "Length: 1310, dtype: object"
      ]
     },
     "metadata": {},
     "execution_count": 62
    }
   ],
   "source": [
    "def fun_age(ligne):\n",
    "\n",
    "    if ligne[\"age\"] < 18:\n",
    "        return \"minor\"\n",
    "    elif ligne[\"age\"] >= 18:\n",
    "        return \"adult\"\n",
    "    else:\n",
    "        return 'unknown'\n",
    "\n",
    "age_labels = titanic_survival.apply(fun_age, axis=1)\n",
    "age_labels"
   ]
  },
  {
   "cell_type": "code",
   "execution_count": 63,
   "metadata": {},
   "outputs": [
    {
     "output_type": "execute_result",
     "data": {
      "text/plain": [
       "            survived\n",
       "age_labels          \n",
       "adult       0.387892\n",
       "minor       0.525974\n",
       "unknown     0.277567"
      ],
      "text/html": "<div>\n<style scoped>\n    .dataframe tbody tr th:only-of-type {\n        vertical-align: middle;\n    }\n\n    .dataframe tbody tr th {\n        vertical-align: top;\n    }\n\n    .dataframe thead th {\n        text-align: right;\n    }\n</style>\n<table border=\"1\" class=\"dataframe\">\n  <thead>\n    <tr style=\"text-align: right;\">\n      <th></th>\n      <th>survived</th>\n    </tr>\n    <tr>\n      <th>age_labels</th>\n      <th></th>\n    </tr>\n  </thead>\n  <tbody>\n    <tr>\n      <th>adult</th>\n      <td>0.387892</td>\n    </tr>\n    <tr>\n      <th>minor</th>\n      <td>0.525974</td>\n    </tr>\n    <tr>\n      <th>unknown</th>\n      <td>0.277567</td>\n    </tr>\n  </tbody>\n</table>\n</div>"
     },
     "metadata": {},
     "execution_count": 63
    }
   ],
   "source": [
    "titanic_survival[\"age_labels\"] = age_labels\n",
    "\n",
    "age_group_survival = titanic_survival.pivot_table(index=\"age_labels\", values=\"survived\")\n",
    "age_group_survival"
   ]
  },
  {
   "source": [
    "# Food_info.csv"
   ],
   "cell_type": "markdown",
   "metadata": {}
  },
  {
   "cell_type": "code",
   "execution_count": 64,
   "metadata": {},
   "outputs": [
    {
     "output_type": "execute_result",
     "data": {
      "text/plain": [
       "   NDB_No                 Shrt_Desc  Water_(g)  Energ_Kcal  Protein_(g)  \\\n",
       "0    1001          BUTTER WITH SALT      15.87         717         0.85   \n",
       "1    1002  BUTTER WHIPPED WITH SALT      15.87         717         0.85   \n",
       "2    1003      BUTTER OIL ANHYDROUS       0.24         876         0.28   \n",
       "3    1004               CHEESE BLUE      42.41         353        21.40   \n",
       "4    1005              CHEESE BRICK      41.11         371        23.24   \n",
       "\n",
       "   Lipid_Tot_(g)  Ash_(g)  Carbohydrt_(g)  Fiber_TD_(g)  Sugar_Tot_(g)  ...  \\\n",
       "0          81.11     2.11            0.06           0.0           0.06  ...   \n",
       "1          81.11     2.11            0.06           0.0           0.06  ...   \n",
       "2          99.48     0.00            0.00           0.0           0.00  ...   \n",
       "3          28.74     5.11            2.34           0.0           0.50  ...   \n",
       "4          29.68     3.18            2.79           0.0           0.51  ...   \n",
       "\n",
       "   Vit_A_IU  Vit_A_RAE  Vit_E_(mg)  Vit_D_mcg  Vit_D_IU  Vit_K_(mcg)  \\\n",
       "0    2499.0      684.0        2.32        1.5      60.0          7.0   \n",
       "1    2499.0      684.0        2.32        1.5      60.0          7.0   \n",
       "2    3069.0      840.0        2.80        1.8      73.0          8.6   \n",
       "3     721.0      198.0        0.25        0.5      21.0          2.4   \n",
       "4    1080.0      292.0        0.26        0.5      22.0          2.5   \n",
       "\n",
       "   FA_Sat_(g)  FA_Mono_(g)  FA_Poly_(g)  Cholestrl_(mg)  \n",
       "0      51.368       21.021        3.043           215.0  \n",
       "1      50.489       23.426        3.012           219.0  \n",
       "2      61.924       28.732        3.694           256.0  \n",
       "3      18.669        7.778        0.800            75.0  \n",
       "4      18.764        8.598        0.784            94.0  \n",
       "\n",
       "[5 rows x 36 columns]"
      ],
      "text/html": "<div>\n<style scoped>\n    .dataframe tbody tr th:only-of-type {\n        vertical-align: middle;\n    }\n\n    .dataframe tbody tr th {\n        vertical-align: top;\n    }\n\n    .dataframe thead th {\n        text-align: right;\n    }\n</style>\n<table border=\"1\" class=\"dataframe\">\n  <thead>\n    <tr style=\"text-align: right;\">\n      <th></th>\n      <th>NDB_No</th>\n      <th>Shrt_Desc</th>\n      <th>Water_(g)</th>\n      <th>Energ_Kcal</th>\n      <th>Protein_(g)</th>\n      <th>Lipid_Tot_(g)</th>\n      <th>Ash_(g)</th>\n      <th>Carbohydrt_(g)</th>\n      <th>Fiber_TD_(g)</th>\n      <th>Sugar_Tot_(g)</th>\n      <th>...</th>\n      <th>Vit_A_IU</th>\n      <th>Vit_A_RAE</th>\n      <th>Vit_E_(mg)</th>\n      <th>Vit_D_mcg</th>\n      <th>Vit_D_IU</th>\n      <th>Vit_K_(mcg)</th>\n      <th>FA_Sat_(g)</th>\n      <th>FA_Mono_(g)</th>\n      <th>FA_Poly_(g)</th>\n      <th>Cholestrl_(mg)</th>\n    </tr>\n  </thead>\n  <tbody>\n    <tr>\n      <th>0</th>\n      <td>1001</td>\n      <td>BUTTER WITH SALT</td>\n      <td>15.87</td>\n      <td>717</td>\n      <td>0.85</td>\n      <td>81.11</td>\n      <td>2.11</td>\n      <td>0.06</td>\n      <td>0.0</td>\n      <td>0.06</td>\n      <td>...</td>\n      <td>2499.0</td>\n      <td>684.0</td>\n      <td>2.32</td>\n      <td>1.5</td>\n      <td>60.0</td>\n      <td>7.0</td>\n      <td>51.368</td>\n      <td>21.021</td>\n      <td>3.043</td>\n      <td>215.0</td>\n    </tr>\n    <tr>\n      <th>1</th>\n      <td>1002</td>\n      <td>BUTTER WHIPPED WITH SALT</td>\n      <td>15.87</td>\n      <td>717</td>\n      <td>0.85</td>\n      <td>81.11</td>\n      <td>2.11</td>\n      <td>0.06</td>\n      <td>0.0</td>\n      <td>0.06</td>\n      <td>...</td>\n      <td>2499.0</td>\n      <td>684.0</td>\n      <td>2.32</td>\n      <td>1.5</td>\n      <td>60.0</td>\n      <td>7.0</td>\n      <td>50.489</td>\n      <td>23.426</td>\n      <td>3.012</td>\n      <td>219.0</td>\n    </tr>\n    <tr>\n      <th>2</th>\n      <td>1003</td>\n      <td>BUTTER OIL ANHYDROUS</td>\n      <td>0.24</td>\n      <td>876</td>\n      <td>0.28</td>\n      <td>99.48</td>\n      <td>0.00</td>\n      <td>0.00</td>\n      <td>0.0</td>\n      <td>0.00</td>\n      <td>...</td>\n      <td>3069.0</td>\n      <td>840.0</td>\n      <td>2.80</td>\n      <td>1.8</td>\n      <td>73.0</td>\n      <td>8.6</td>\n      <td>61.924</td>\n      <td>28.732</td>\n      <td>3.694</td>\n      <td>256.0</td>\n    </tr>\n    <tr>\n      <th>3</th>\n      <td>1004</td>\n      <td>CHEESE BLUE</td>\n      <td>42.41</td>\n      <td>353</td>\n      <td>21.40</td>\n      <td>28.74</td>\n      <td>5.11</td>\n      <td>2.34</td>\n      <td>0.0</td>\n      <td>0.50</td>\n      <td>...</td>\n      <td>721.0</td>\n      <td>198.0</td>\n      <td>0.25</td>\n      <td>0.5</td>\n      <td>21.0</td>\n      <td>2.4</td>\n      <td>18.669</td>\n      <td>7.778</td>\n      <td>0.800</td>\n      <td>75.0</td>\n    </tr>\n    <tr>\n      <th>4</th>\n      <td>1005</td>\n      <td>CHEESE BRICK</td>\n      <td>41.11</td>\n      <td>371</td>\n      <td>23.24</td>\n      <td>29.68</td>\n      <td>3.18</td>\n      <td>2.79</td>\n      <td>0.0</td>\n      <td>0.51</td>\n      <td>...</td>\n      <td>1080.0</td>\n      <td>292.0</td>\n      <td>0.26</td>\n      <td>0.5</td>\n      <td>22.0</td>\n      <td>2.5</td>\n      <td>18.764</td>\n      <td>8.598</td>\n      <td>0.784</td>\n      <td>94.0</td>\n    </tr>\n  </tbody>\n</table>\n<p>5 rows × 36 columns</p>\n</div>"
     },
     "metadata": {},
     "execution_count": 64
    }
   ],
   "source": [
    "food_info.head()"
   ]
  },
  {
   "cell_type": "code",
   "execution_count": 70,
   "metadata": {},
   "outputs": [],
   "source": [
    "sodium_grams = food_info[\"Sodium_(mg)\"] / 1000\n",
    "sugar_milligrams = food_info[\"Sugar_Tot_(g)\"] * 1000"
   ]
  },
  {
   "cell_type": "code",
   "execution_count": 72,
   "metadata": {},
   "outputs": [
    {
     "output_type": "execute_result",
     "data": {
      "text/plain": [
       "0       0.053560\n",
       "1       0.053560\n",
       "2       1.166667\n",
       "3       0.504598\n",
       "4       0.565313\n",
       "          ...   \n",
       "8613    0.430233\n",
       "8614    0.292384\n",
       "8615    0.000000\n",
       "8616    0.203283\n",
       "8617    0.252229\n",
       "Length: 8618, dtype: float64"
      ]
     },
     "metadata": {},
     "execution_count": 72
    }
   ],
   "source": [
    "grams_protein = food_info[\"Protein_(g)\"] / food_info[\"Water_(g)\"]\n",
    "milligram_calcium = food_info[\"Calcium_(mg)\"] + food_info[\"Iron_(mg)\"]\n",
    "grams_protein"
   ]
  },
  {
   "cell_type": "code",
   "execution_count": 73,
   "metadata": {},
   "outputs": [
    {
     "output_type": "execute_result",
     "data": {
      "text/plain": [
       "0      -59.1325\n",
       "1      -59.1325\n",
       "2      -74.0500\n",
       "3       21.2450\n",
       "4       24.2200\n",
       "         ...   \n",
       "8613    18.1750\n",
       "8614    40.4500\n",
       "8615     0.0000\n",
       "8616    31.1500\n",
       "8617    39.2250\n",
       "Length: 8618, dtype: float64"
      ]
     },
     "metadata": {},
     "execution_count": 73
    }
   ],
   "source": [
    "protein = food_info[\"Protein_(g)\"] * 2\n",
    "fat = food_info[\"Lipid_Tot_(g)\"] * (-0.75)\n",
    "rating = protein + fat\n",
    "rating"
   ]
  },
  {
   "cell_type": "code",
   "execution_count": 75,
   "metadata": {},
   "outputs": [
    {
     "output_type": "execute_result",
     "data": {
      "text/plain": [
       "0       0.8111\n",
       "1       0.8111\n",
       "2       0.9948\n",
       "3       0.2874\n",
       "4       0.2968\n",
       "         ...  \n",
       "8613    0.2510\n",
       "8614    0.0084\n",
       "8615    0.0000\n",
       "8616    0.0140\n",
       "8617    0.0050\n",
       "Name: Lipid_Tot_(g), Length: 8618, dtype: float64"
      ]
     },
     "metadata": {},
     "execution_count": 75
    }
   ],
   "source": [
    "normalized_protein = food_info[\"Protein_(g)\"] / food_info[\"Protein_(g)\"].max()\n",
    "normalized_fat = food_info[\"Lipid_Tot_(g)\"] / food_info[\"Lipid_Tot_(g)\"].max()\n",
    "normalized_fat"
   ]
  },
  {
   "source": [
    "## Créer une nouvelle colonne"
   ],
   "cell_type": "markdown",
   "metadata": {}
  },
  {
   "cell_type": "code",
   "execution_count": 78,
   "metadata": {},
   "outputs": [
    {
     "output_type": "execute_result",
     "data": {
      "text/plain": [
       "   NDB_No                 Shrt_Desc  Water_(g)  Energ_Kcal  Protein_(g)  \\\n",
       "0    1001          BUTTER WITH SALT      15.87         717         0.85   \n",
       "1    1002  BUTTER WHIPPED WITH SALT      15.87         717         0.85   \n",
       "2    1003      BUTTER OIL ANHYDROUS       0.24         876         0.28   \n",
       "3    1004               CHEESE BLUE      42.41         353        21.40   \n",
       "4    1005              CHEESE BRICK      41.11         371        23.24   \n",
       "\n",
       "   Lipid_Tot_(g)  Ash_(g)  Carbohydrt_(g)  Fiber_TD_(g)  Sugar_Tot_(g)  ...  \\\n",
       "0          81.11     2.11            0.06           0.0           0.06  ...   \n",
       "1          81.11     2.11            0.06           0.0           0.06  ...   \n",
       "2          99.48     0.00            0.00           0.0           0.00  ...   \n",
       "3          28.74     5.11            2.34           0.0           0.50  ...   \n",
       "4          29.68     3.18            2.79           0.0           0.51  ...   \n",
       "\n",
       "   Vit_E_(mg)  Vit_D_mcg  Vit_D_IU  Vit_K_(mcg)  FA_Sat_(g)  FA_Mono_(g)  \\\n",
       "0        2.32        1.5      60.0          7.0      51.368       21.021   \n",
       "1        2.32        1.5      60.0          7.0      50.489       23.426   \n",
       "2        2.80        1.8      73.0          8.6      61.924       28.732   \n",
       "3        0.25        0.5      21.0          2.4      18.669        7.778   \n",
       "4        0.26        0.5      22.0          2.5      18.764        8.598   \n",
       "\n",
       "   FA_Poly_(g)  Cholestrl_(mg)  Normalized_Protein  Normalized_fat  \n",
       "0        3.043           215.0            0.009624          0.8111  \n",
       "1        3.012           219.0            0.009624          0.8111  \n",
       "2        3.694           256.0            0.003170          0.9948  \n",
       "3        0.800            75.0            0.242301          0.2874  \n",
       "4        0.784            94.0            0.263134          0.2968  \n",
       "\n",
       "[5 rows x 38 columns]"
      ],
      "text/html": "<div>\n<style scoped>\n    .dataframe tbody tr th:only-of-type {\n        vertical-align: middle;\n    }\n\n    .dataframe tbody tr th {\n        vertical-align: top;\n    }\n\n    .dataframe thead th {\n        text-align: right;\n    }\n</style>\n<table border=\"1\" class=\"dataframe\">\n  <thead>\n    <tr style=\"text-align: right;\">\n      <th></th>\n      <th>NDB_No</th>\n      <th>Shrt_Desc</th>\n      <th>Water_(g)</th>\n      <th>Energ_Kcal</th>\n      <th>Protein_(g)</th>\n      <th>Lipid_Tot_(g)</th>\n      <th>Ash_(g)</th>\n      <th>Carbohydrt_(g)</th>\n      <th>Fiber_TD_(g)</th>\n      <th>Sugar_Tot_(g)</th>\n      <th>...</th>\n      <th>Vit_E_(mg)</th>\n      <th>Vit_D_mcg</th>\n      <th>Vit_D_IU</th>\n      <th>Vit_K_(mcg)</th>\n      <th>FA_Sat_(g)</th>\n      <th>FA_Mono_(g)</th>\n      <th>FA_Poly_(g)</th>\n      <th>Cholestrl_(mg)</th>\n      <th>Normalized_Protein</th>\n      <th>Normalized_fat</th>\n    </tr>\n  </thead>\n  <tbody>\n    <tr>\n      <th>0</th>\n      <td>1001</td>\n      <td>BUTTER WITH SALT</td>\n      <td>15.87</td>\n      <td>717</td>\n      <td>0.85</td>\n      <td>81.11</td>\n      <td>2.11</td>\n      <td>0.06</td>\n      <td>0.0</td>\n      <td>0.06</td>\n      <td>...</td>\n      <td>2.32</td>\n      <td>1.5</td>\n      <td>60.0</td>\n      <td>7.0</td>\n      <td>51.368</td>\n      <td>21.021</td>\n      <td>3.043</td>\n      <td>215.0</td>\n      <td>0.009624</td>\n      <td>0.8111</td>\n    </tr>\n    <tr>\n      <th>1</th>\n      <td>1002</td>\n      <td>BUTTER WHIPPED WITH SALT</td>\n      <td>15.87</td>\n      <td>717</td>\n      <td>0.85</td>\n      <td>81.11</td>\n      <td>2.11</td>\n      <td>0.06</td>\n      <td>0.0</td>\n      <td>0.06</td>\n      <td>...</td>\n      <td>2.32</td>\n      <td>1.5</td>\n      <td>60.0</td>\n      <td>7.0</td>\n      <td>50.489</td>\n      <td>23.426</td>\n      <td>3.012</td>\n      <td>219.0</td>\n      <td>0.009624</td>\n      <td>0.8111</td>\n    </tr>\n    <tr>\n      <th>2</th>\n      <td>1003</td>\n      <td>BUTTER OIL ANHYDROUS</td>\n      <td>0.24</td>\n      <td>876</td>\n      <td>0.28</td>\n      <td>99.48</td>\n      <td>0.00</td>\n      <td>0.00</td>\n      <td>0.0</td>\n      <td>0.00</td>\n      <td>...</td>\n      <td>2.80</td>\n      <td>1.8</td>\n      <td>73.0</td>\n      <td>8.6</td>\n      <td>61.924</td>\n      <td>28.732</td>\n      <td>3.694</td>\n      <td>256.0</td>\n      <td>0.003170</td>\n      <td>0.9948</td>\n    </tr>\n    <tr>\n      <th>3</th>\n      <td>1004</td>\n      <td>CHEESE BLUE</td>\n      <td>42.41</td>\n      <td>353</td>\n      <td>21.40</td>\n      <td>28.74</td>\n      <td>5.11</td>\n      <td>2.34</td>\n      <td>0.0</td>\n      <td>0.50</td>\n      <td>...</td>\n      <td>0.25</td>\n      <td>0.5</td>\n      <td>21.0</td>\n      <td>2.4</td>\n      <td>18.669</td>\n      <td>7.778</td>\n      <td>0.800</td>\n      <td>75.0</td>\n      <td>0.242301</td>\n      <td>0.2874</td>\n    </tr>\n    <tr>\n      <th>4</th>\n      <td>1005</td>\n      <td>CHEESE BRICK</td>\n      <td>41.11</td>\n      <td>371</td>\n      <td>23.24</td>\n      <td>29.68</td>\n      <td>3.18</td>\n      <td>2.79</td>\n      <td>0.0</td>\n      <td>0.51</td>\n      <td>...</td>\n      <td>0.26</td>\n      <td>0.5</td>\n      <td>22.0</td>\n      <td>2.5</td>\n      <td>18.764</td>\n      <td>8.598</td>\n      <td>0.784</td>\n      <td>94.0</td>\n      <td>0.263134</td>\n      <td>0.2968</td>\n    </tr>\n  </tbody>\n</table>\n<p>5 rows × 38 columns</p>\n</div>"
     },
     "metadata": {},
     "execution_count": 78
    }
   ],
   "source": [
    "food_info[\"Normalized_Protein\"] = normalized_protein\n",
    "food_info[\"Normalized_fat\"] = normalized_fat\n",
    "food_info.head()"
   ]
  },
  {
   "source": [
    "## Créer une colonne pour l'indice nutritionnel normalisé"
   ],
   "cell_type": "markdown",
   "metadata": {}
  },
  {
   "cell_type": "code",
   "execution_count": 84,
   "metadata": {},
   "outputs": [
    {
     "output_type": "execute_result",
     "data": {
      "text/plain": [
       "   NDB_No                 Shrt_Desc  Water_(g)  Energ_Kcal  Protein_(g)  \\\n",
       "0    1001          BUTTER WITH SALT      15.87         717         0.85   \n",
       "1    1002  BUTTER WHIPPED WITH SALT      15.87         717         0.85   \n",
       "2    1003      BUTTER OIL ANHYDROUS       0.24         876         0.28   \n",
       "3    1004               CHEESE BLUE      42.41         353        21.40   \n",
       "4    1005              CHEESE BRICK      41.11         371        23.24   \n",
       "\n",
       "   Lipid_Tot_(g)  Ash_(g)  Carbohydrt_(g)  Fiber_TD_(g)  Sugar_Tot_(g)  ...  \\\n",
       "0          81.11     2.11            0.06           0.0           0.06  ...   \n",
       "1          81.11     2.11            0.06           0.0           0.06  ...   \n",
       "2          99.48     0.00            0.00           0.0           0.00  ...   \n",
       "3          28.74     5.11            2.34           0.0           0.50  ...   \n",
       "4          29.68     3.18            2.79           0.0           0.51  ...   \n",
       "\n",
       "   Vit_D_IU  Vit_K_(mcg)  FA_Sat_(g)  FA_Mono_(g)  FA_Poly_(g)  \\\n",
       "0      60.0          7.0      51.368       21.021        3.043   \n",
       "1      60.0          7.0      50.489       23.426        3.012   \n",
       "2      73.0          8.6      61.924       28.732        3.694   \n",
       "3      21.0          2.4      18.669        7.778        0.800   \n",
       "4      22.0          2.5      18.764        8.598        0.784   \n",
       "\n",
       "   Cholestrl_(mg)  Normalized_Protein  Normalized_fat  Norm_Nutr_index  \\\n",
       "0           215.0            0.009624          0.8111        -0.589077   \n",
       "1           219.0            0.009624          0.8111        -0.589077   \n",
       "2           256.0            0.003170          0.9948        -0.739759   \n",
       "3            75.0            0.242301          0.2874         0.269051   \n",
       "4            94.0            0.263134          0.2968         0.303668   \n",
       "\n",
       "   Norm_Nutr_Index  \n",
       "0        -0.589077  \n",
       "1        -0.589077  \n",
       "2        -0.739759  \n",
       "3         0.269051  \n",
       "4         0.303668  \n",
       "\n",
       "[5 rows x 40 columns]"
      ],
      "text/html": "<div>\n<style scoped>\n    .dataframe tbody tr th:only-of-type {\n        vertical-align: middle;\n    }\n\n    .dataframe tbody tr th {\n        vertical-align: top;\n    }\n\n    .dataframe thead th {\n        text-align: right;\n    }\n</style>\n<table border=\"1\" class=\"dataframe\">\n  <thead>\n    <tr style=\"text-align: right;\">\n      <th></th>\n      <th>NDB_No</th>\n      <th>Shrt_Desc</th>\n      <th>Water_(g)</th>\n      <th>Energ_Kcal</th>\n      <th>Protein_(g)</th>\n      <th>Lipid_Tot_(g)</th>\n      <th>Ash_(g)</th>\n      <th>Carbohydrt_(g)</th>\n      <th>Fiber_TD_(g)</th>\n      <th>Sugar_Tot_(g)</th>\n      <th>...</th>\n      <th>Vit_D_IU</th>\n      <th>Vit_K_(mcg)</th>\n      <th>FA_Sat_(g)</th>\n      <th>FA_Mono_(g)</th>\n      <th>FA_Poly_(g)</th>\n      <th>Cholestrl_(mg)</th>\n      <th>Normalized_Protein</th>\n      <th>Normalized_fat</th>\n      <th>Norm_Nutr_index</th>\n      <th>Norm_Nutr_Index</th>\n    </tr>\n  </thead>\n  <tbody>\n    <tr>\n      <th>0</th>\n      <td>1001</td>\n      <td>BUTTER WITH SALT</td>\n      <td>15.87</td>\n      <td>717</td>\n      <td>0.85</td>\n      <td>81.11</td>\n      <td>2.11</td>\n      <td>0.06</td>\n      <td>0.0</td>\n      <td>0.06</td>\n      <td>...</td>\n      <td>60.0</td>\n      <td>7.0</td>\n      <td>51.368</td>\n      <td>21.021</td>\n      <td>3.043</td>\n      <td>215.0</td>\n      <td>0.009624</td>\n      <td>0.8111</td>\n      <td>-0.589077</td>\n      <td>-0.589077</td>\n    </tr>\n    <tr>\n      <th>1</th>\n      <td>1002</td>\n      <td>BUTTER WHIPPED WITH SALT</td>\n      <td>15.87</td>\n      <td>717</td>\n      <td>0.85</td>\n      <td>81.11</td>\n      <td>2.11</td>\n      <td>0.06</td>\n      <td>0.0</td>\n      <td>0.06</td>\n      <td>...</td>\n      <td>60.0</td>\n      <td>7.0</td>\n      <td>50.489</td>\n      <td>23.426</td>\n      <td>3.012</td>\n      <td>219.0</td>\n      <td>0.009624</td>\n      <td>0.8111</td>\n      <td>-0.589077</td>\n      <td>-0.589077</td>\n    </tr>\n    <tr>\n      <th>2</th>\n      <td>1003</td>\n      <td>BUTTER OIL ANHYDROUS</td>\n      <td>0.24</td>\n      <td>876</td>\n      <td>0.28</td>\n      <td>99.48</td>\n      <td>0.00</td>\n      <td>0.00</td>\n      <td>0.0</td>\n      <td>0.00</td>\n      <td>...</td>\n      <td>73.0</td>\n      <td>8.6</td>\n      <td>61.924</td>\n      <td>28.732</td>\n      <td>3.694</td>\n      <td>256.0</td>\n      <td>0.003170</td>\n      <td>0.9948</td>\n      <td>-0.739759</td>\n      <td>-0.739759</td>\n    </tr>\n    <tr>\n      <th>3</th>\n      <td>1004</td>\n      <td>CHEESE BLUE</td>\n      <td>42.41</td>\n      <td>353</td>\n      <td>21.40</td>\n      <td>28.74</td>\n      <td>5.11</td>\n      <td>2.34</td>\n      <td>0.0</td>\n      <td>0.50</td>\n      <td>...</td>\n      <td>21.0</td>\n      <td>2.4</td>\n      <td>18.669</td>\n      <td>7.778</td>\n      <td>0.800</td>\n      <td>75.0</td>\n      <td>0.242301</td>\n      <td>0.2874</td>\n      <td>0.269051</td>\n      <td>0.269051</td>\n    </tr>\n    <tr>\n      <th>4</th>\n      <td>1005</td>\n      <td>CHEESE BRICK</td>\n      <td>41.11</td>\n      <td>371</td>\n      <td>23.24</td>\n      <td>29.68</td>\n      <td>3.18</td>\n      <td>2.79</td>\n      <td>0.0</td>\n      <td>0.51</td>\n      <td>...</td>\n      <td>22.0</td>\n      <td>2.5</td>\n      <td>18.764</td>\n      <td>8.598</td>\n      <td>0.784</td>\n      <td>94.0</td>\n      <td>0.263134</td>\n      <td>0.2968</td>\n      <td>0.303668</td>\n      <td>0.303668</td>\n    </tr>\n  </tbody>\n</table>\n<p>5 rows × 40 columns</p>\n</div>"
     },
     "metadata": {},
     "execution_count": 84
    }
   ],
   "source": [
    "food_info[\"Norm_Nutr_Index\"] = 2 * food_info[\"Normalized_Protein\"] + (-0.75) * food_info[\"Normalized_fat\"]\n",
    "food_info.head()"
   ]
  },
  {
   "source": [
    "## Trier un Dataframe"
   ],
   "cell_type": "markdown",
   "metadata": {}
  },
  {
   "cell_type": "code",
   "execution_count": 86,
   "metadata": {},
   "outputs": [
    {
     "output_type": "execute_result",
     "data": {
      "text/plain": [
       "      NDB_No                                         Shrt_Desc  Water_(g)  \\\n",
       "4991   16423          SOY PROT ISOLATE K TYPE CRUDE PROT BASIS       4.98   \n",
       "6155   19177                          GELATINS DRY PDR UNSWTND      13.00   \n",
       "216     1258            EGG WHITE DRIED STABILIZED GLUCOSE RED       6.53   \n",
       "124     1136        EGG WHITE DRIED PDR STABILIZED GLUCOSE RED       8.54   \n",
       "8152   35055  SEAL BEARDED (OOGRUK) MEAT DRIED (ALASKA NATIVE)      11.60   \n",
       "\n",
       "      Energ_Kcal  Protein_(g)  Lipid_Tot_(g)  Ash_(g)  Carbohydrt_(g)  \\\n",
       "4991         321        88.32           0.53     3.58            2.59   \n",
       "6155         335        85.60           0.10     1.30            0.00   \n",
       "216          362        84.63           0.48     3.63            4.72   \n",
       "124          376        82.40           0.04     4.55            4.47   \n",
       "8152         351        82.60           2.30     3.50            0.00   \n",
       "\n",
       "      Fiber_TD_(g)  Sugar_Tot_(g)  ...  Vit_D_IU  Vit_K_(mcg)  FA_Sat_(g)  \\\n",
       "4991           2.0            0.0  ...       0.0          0.0       0.066   \n",
       "6155           0.0            0.0  ...       0.0          0.0       0.070   \n",
       "216            0.0            0.0  ...       0.0          0.0       0.147   \n",
       "124            0.0            0.0  ...       0.0          0.0       0.000   \n",
       "8152           0.0            0.0  ...       NaN          NaN       0.600   \n",
       "\n",
       "      FA_Mono_(g)  FA_Poly_(g)  Cholestrl_(mg)  Normalized_Protein  \\\n",
       "4991        0.101        0.258             0.0            1.000000   \n",
       "6155        0.060        0.010             0.0            0.969203   \n",
       "216         0.173        0.070            20.0            0.958220   \n",
       "124         0.000        0.000             0.0            0.932971   \n",
       "8152        1.330        0.370             NaN            0.935236   \n",
       "\n",
       "      Normalized_fat  Norm_Nutr_index  Norm_Nutr_Index  \n",
       "4991          0.0053         1.996025         1.996025  \n",
       "6155          0.0010         1.937656         1.937656  \n",
       "216           0.0048         1.912840         1.912840  \n",
       "124           0.0004         1.865642         1.865642  \n",
       "8152          0.0230         1.853221         1.853221  \n",
       "\n",
       "[5 rows x 40 columns]"
      ],
      "text/html": "<div>\n<style scoped>\n    .dataframe tbody tr th:only-of-type {\n        vertical-align: middle;\n    }\n\n    .dataframe tbody tr th {\n        vertical-align: top;\n    }\n\n    .dataframe thead th {\n        text-align: right;\n    }\n</style>\n<table border=\"1\" class=\"dataframe\">\n  <thead>\n    <tr style=\"text-align: right;\">\n      <th></th>\n      <th>NDB_No</th>\n      <th>Shrt_Desc</th>\n      <th>Water_(g)</th>\n      <th>Energ_Kcal</th>\n      <th>Protein_(g)</th>\n      <th>Lipid_Tot_(g)</th>\n      <th>Ash_(g)</th>\n      <th>Carbohydrt_(g)</th>\n      <th>Fiber_TD_(g)</th>\n      <th>Sugar_Tot_(g)</th>\n      <th>...</th>\n      <th>Vit_D_IU</th>\n      <th>Vit_K_(mcg)</th>\n      <th>FA_Sat_(g)</th>\n      <th>FA_Mono_(g)</th>\n      <th>FA_Poly_(g)</th>\n      <th>Cholestrl_(mg)</th>\n      <th>Normalized_Protein</th>\n      <th>Normalized_fat</th>\n      <th>Norm_Nutr_index</th>\n      <th>Norm_Nutr_Index</th>\n    </tr>\n  </thead>\n  <tbody>\n    <tr>\n      <th>4991</th>\n      <td>16423</td>\n      <td>SOY PROT ISOLATE K TYPE CRUDE PROT BASIS</td>\n      <td>4.98</td>\n      <td>321</td>\n      <td>88.32</td>\n      <td>0.53</td>\n      <td>3.58</td>\n      <td>2.59</td>\n      <td>2.0</td>\n      <td>0.0</td>\n      <td>...</td>\n      <td>0.0</td>\n      <td>0.0</td>\n      <td>0.066</td>\n      <td>0.101</td>\n      <td>0.258</td>\n      <td>0.0</td>\n      <td>1.000000</td>\n      <td>0.0053</td>\n      <td>1.996025</td>\n      <td>1.996025</td>\n    </tr>\n    <tr>\n      <th>6155</th>\n      <td>19177</td>\n      <td>GELATINS DRY PDR UNSWTND</td>\n      <td>13.00</td>\n      <td>335</td>\n      <td>85.60</td>\n      <td>0.10</td>\n      <td>1.30</td>\n      <td>0.00</td>\n      <td>0.0</td>\n      <td>0.0</td>\n      <td>...</td>\n      <td>0.0</td>\n      <td>0.0</td>\n      <td>0.070</td>\n      <td>0.060</td>\n      <td>0.010</td>\n      <td>0.0</td>\n      <td>0.969203</td>\n      <td>0.0010</td>\n      <td>1.937656</td>\n      <td>1.937656</td>\n    </tr>\n    <tr>\n      <th>216</th>\n      <td>1258</td>\n      <td>EGG WHITE DRIED STABILIZED GLUCOSE RED</td>\n      <td>6.53</td>\n      <td>362</td>\n      <td>84.63</td>\n      <td>0.48</td>\n      <td>3.63</td>\n      <td>4.72</td>\n      <td>0.0</td>\n      <td>0.0</td>\n      <td>...</td>\n      <td>0.0</td>\n      <td>0.0</td>\n      <td>0.147</td>\n      <td>0.173</td>\n      <td>0.070</td>\n      <td>20.0</td>\n      <td>0.958220</td>\n      <td>0.0048</td>\n      <td>1.912840</td>\n      <td>1.912840</td>\n    </tr>\n    <tr>\n      <th>124</th>\n      <td>1136</td>\n      <td>EGG WHITE DRIED PDR STABILIZED GLUCOSE RED</td>\n      <td>8.54</td>\n      <td>376</td>\n      <td>82.40</td>\n      <td>0.04</td>\n      <td>4.55</td>\n      <td>4.47</td>\n      <td>0.0</td>\n      <td>0.0</td>\n      <td>...</td>\n      <td>0.0</td>\n      <td>0.0</td>\n      <td>0.000</td>\n      <td>0.000</td>\n      <td>0.000</td>\n      <td>0.0</td>\n      <td>0.932971</td>\n      <td>0.0004</td>\n      <td>1.865642</td>\n      <td>1.865642</td>\n    </tr>\n    <tr>\n      <th>8152</th>\n      <td>35055</td>\n      <td>SEAL BEARDED (OOGRUK) MEAT DRIED (ALASKA NATIVE)</td>\n      <td>11.60</td>\n      <td>351</td>\n      <td>82.60</td>\n      <td>2.30</td>\n      <td>3.50</td>\n      <td>0.00</td>\n      <td>0.0</td>\n      <td>0.0</td>\n      <td>...</td>\n      <td>NaN</td>\n      <td>NaN</td>\n      <td>0.600</td>\n      <td>1.330</td>\n      <td>0.370</td>\n      <td>NaN</td>\n      <td>0.935236</td>\n      <td>0.0230</td>\n      <td>1.853221</td>\n      <td>1.853221</td>\n    </tr>\n  </tbody>\n</table>\n<p>5 rows × 40 columns</p>\n</div>"
     },
     "metadata": {},
     "execution_count": 86
    }
   ],
   "source": [
    "food_info.sort_values(\"Norm_Nutr_Index\", inplace=True, ascending=False)\n",
    "food_info.head()"
   ]
  },
  {
   "cell_type": "code",
   "execution_count": null,
   "metadata": {},
   "outputs": [],
   "source": []
  }
 ]
}