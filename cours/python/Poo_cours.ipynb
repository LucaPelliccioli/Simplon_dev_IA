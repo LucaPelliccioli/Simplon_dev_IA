{
 "metadata": {
  "language_info": {
   "codemirror_mode": {
    "name": "ipython",
    "version": 3
   },
   "file_extension": ".py",
   "mimetype": "text/x-python",
   "name": "python",
   "nbconvert_exporter": "python",
   "pygments_lexer": "ipython3",
   "version": "3.8.5"
  },
  "orig_nbformat": 2,
  "kernelspec": {
   "name": "python3",
   "display_name": "Python 3.8.5 64-bit ('base': conda)",
   "metadata": {
    "interpreter": {
     "hash": "64b474f71659f9be32f34132c3eef93d33d176ead871b80ca6db3fa26bc83f65"
    }
   }
  }
 },
 "nbformat": 4,
 "nbformat_minor": 2,
 "cells": [
  {
   "cell_type": "code",
   "execution_count": 1,
   "metadata": {},
   "outputs": [
    {
     "output_type": "stream",
     "name": "stdout",
     "text": [
      "type Superstring content : ! DI GRANDE HO INCAPACE LE NE PIENE SCATOLLE STO\n"
     ]
    }
   ],
   "source": [
    "class Superstring:\n",
    "\n",
    "    def __init__(self, chaine):\n",
    "        self.ch = chaine\n",
    "\n",
    "    def ajoute(self, char):\n",
    "        self.ch += char\n",
    "\n",
    "    def insert(self,char,i):\n",
    "        self.ch = self.ch[:i] + char + self.ch[i:]\n",
    "\n",
    "    def upper(self):\n",
    "        self.ch = self.ch.upper()\n",
    "    \n",
    "    def capsdown(self):\n",
    "        self.ch = self.ch.lower()\n",
    "\n",
    "    def tri(self):\n",
    "        liste = self.ch.split()\n",
    "        liste = sorted(liste, key = str.lower)\n",
    "        self.ch = \" \".join(liste)\n",
    "\n",
    "    def __str__(self):\n",
    "        return \"type \" + type(self).__name__ + \" content : \" + self.ch\n",
    "\n",
    "s1 = Superstring(\"Ne ho piene le scatolle \")\n",
    "s1.ajoute(\"di sto incapace !\")\n",
    "s1.insert(\" grande\",30)\n",
    "s1.tri()\n",
    "s1.upper()\n",
    "print(s1)"
   ]
  },
  {
   "cell_type": "code",
   "execution_count": 2,
   "metadata": {},
   "outputs": [
    {
     "output_type": "stream",
     "name": "stdout",
     "text": [
      "False\nTrue\nFalse\n"
     ]
    }
   ],
   "source": [
    "class Formulaire:\n",
    "\n",
    "    def __init__(self, nom, prenom, anneeNaissance):\n",
    "        self.nom = nom.upper()\n",
    "        self.prenom = prenom.upper()\n",
    "        self.anneeNaissance = anneeNaissance\n",
    "\n",
    "    def age(self):\n",
    "        return 2021 - self.anneeNaissance\n",
    "    \n",
    "    def majeur(self):\n",
    "        return self.age() >= 18\n",
    "\n",
    "    def memeFamille(self,Formulaire):\n",
    "        return self.nom == Formulaire.nom\n",
    "\n",
    "    def memePersonne(self):\n",
    "        return all ([self.nom == Formulaire.nom,\n",
    "                     self.prenom == Formulaire.prenom,\n",
    "                     self.anneeNaissance == Formulaire.anneeNaissence])\n",
    "    \n",
    "    def __repr__(self):\n",
    "        chaine = \"Nom :\" + self.nom + \", Prénom :\" + self.prenom + \", Année :\" + str(self.anneeNaissance)\n",
    "        return chaine\n",
    "\n",
    "ij = Formulaire(\"Isner\", \"John\", 2005)\n",
    "nr = Formulaire(\"Nadal\", \"Rafael\", 1999)\n",
    "fd = Formulaire(\"Ferrer\", \"David\", 2000)\n",
    "\n",
    "print(ij.majeur())\n",
    "print(nr.majeur())\n",
    "print(fd.memeFamille(ij))"
   ]
  },
  {
   "cell_type": "code",
   "execution_count": 3,
   "metadata": {},
   "outputs": [
    {
     "output_type": "stream",
     "name": "stdout",
     "text": [
      "Nom :NADAL, Prénom :RAFAEL, Année :1999\nNom :FERRER, Prénom :DAVID, Année :2000\nNom :ISNER, Prénom :JOHN, Année :2005\n"
     ]
    }
   ],
   "source": [
    "liste = [ij, nr, fd]\n",
    "\n",
    "# liste_sort = sorted(liste, key = lambda formulaire: formulaire.anneeNaissance)\n",
    "liste.sort(key = lambda formulaire: formulaire.anneeNaissance)\n",
    "\n",
    "for i in liste:\n",
    "    print(i)"
   ]
  },
  {
   "cell_type": "code",
   "execution_count": 4,
   "metadata": {},
   "outputs": [],
   "source": [
    "from random import randrange\n",
    "\n",
    "# On initialise toutes les valeurs et couleurs que peuvent prendre les cartes\n",
    "valeurs = [i for i in range(1,11)]\n",
    "couleurs = [i for i in range(1,5)]\n",
    "\n",
    "# On choisit le nombre de tout que va durée la partie et on initialise le score à 0\n",
    "nbTours = 7\n",
    "score = 0\n",
    "\n",
    "# Enfin on crée une liste de tuple pour représenter la pacquet de cartes\n",
    "paquet = [(v, c) for v in  valeurs for c in couleurs]\n",
    "main1, main2 = [], []"
   ]
  },
  {
   "cell_type": "code",
   "execution_count": 5,
   "metadata": {},
   "outputs": [],
   "source": [
    "for i in range(nbTours):\n",
    "\n",
    "    # Le joueur 1 tire une carte aléatoirement dans le paquet\n",
    "    x = paquet[randrange(len(paquet))]\n",
    "\n",
    "    # La carte est ajouté à la main du joueur 1\n",
    "    main1.append(x)\n",
    "\n",
    "    # La carte tiré  est supprimé du paquet\n",
    "    paquet.remove(x)\n",
    "    \n",
    "    # Idem pour le joueur 2\n",
    "    y = paquet[randrange(len(paquet))]\n",
    "    main2.append(y)\n",
    "    paquet.remove(y)"
   ]
  },
  {
   "cell_type": "code",
   "execution_count": 6,
   "metadata": {},
   "outputs": [
    {
     "output_type": "stream",
     "name": "stdout",
     "text": [
      "Vainqueur : joueur 2\n"
     ]
    }
   ],
   "source": [
    "for i in range(nbTours):\n",
    "        \n",
    "    if main1[i][0] > main2[i][0] or (main1[i][0] == main2[i][0] and main1[i][1] > main2[i][1]):\n",
    "            score += 1\n",
    "    else :\n",
    "            score -= 1\n",
    "print(\"Vainqueur : \" + (\"joueur 1\" if score > 0 else \"joueur 2\"))"
   ]
  },
  {
   "source": [
    "### Créer une fonction plusGrandQue() qui doit faire la comparaison entre deux cartes (représenté par des tuples) et donc remplacer la troisième partie du code"
   ],
   "cell_type": "markdown",
   "metadata": {}
  },
  {
   "cell_type": "code",
   "execution_count": 3,
   "metadata": {},
   "outputs": [],
   "source": [
    "def plusGrandQue(carte1,carte2):\n",
    "    \n",
    "    return carte1.valeur>carte2.valeur or (carte1.valeur==carte2.valeur and carte1.couleur> carte2.couleur)"
   ]
  },
  {
   "source": [
    "### Créer une fonction piocher() qui doit sélectionner l’ensemble des carte tiré par un joueur et donc remplacer la deuxième partie du code"
   ],
   "cell_type": "markdown",
   "metadata": {}
  },
  {
   "cell_type": "code",
   "execution_count": 4,
   "metadata": {},
   "outputs": [],
   "source": [
    "def piocher(nbTours, paquet):\n",
    "    main1,main2 = [],[]\n",
    "\n",
    "    for i in range(nbTours):\n",
    "\n",
    "        x = paquet[randrange(len(paquet))]\n",
    "        main1.append(x)\n",
    "        paquet.remove(x)\n",
    "        y = paquet[randrange(len(paquet))]\n",
    "        main2.append(y)\n",
    "        paquet.remove(y)\n",
    "        \n",
    "    return main1,main2"
   ]
  },
  {
   "source": [
    "### Créer une classe «carte» ayant les attribut couleur et valeur. Elle devra être appelé dans la fonction plusGrandQue()"
   ],
   "cell_type": "markdown",
   "metadata": {}
  },
  {
   "cell_type": "code",
   "execution_count": 9,
   "metadata": {},
   "outputs": [],
   "source": [
    "class Carte:\n",
    "    \n",
    "    def __init__(self,valeur,couleur):\n",
    "        self.couleur= couleur\n",
    "        self.valeur=valeur"
   ]
  },
  {
   "source": [
    "### Créer une classe «partie» qui nous permettra d’effectuer différentes partie avec des jeux différents. C’est-à-dire que l’on peut choisir : \n",
    "- - Un nombre de couleurs autre que 4\n",
    "- - Un nombre de valeurs autre que 10\n",
    "- - Un nombre de tour autre que 7\n",
    "- A vous de trouver :\n",
    "- - Quelle sont les attributs à définir dans la méthode __init__\n",
    "- - Quelle autre méthode définir et quelle seront ces attributs?"
   ],
   "cell_type": "markdown",
   "metadata": {}
  },
  {
   "cell_type": "code",
   "execution_count": 10,
   "metadata": {},
   "outputs": [],
   "source": [
    "class Partie():\n",
    "\n",
    "    def __init__(self,valeur,couleur,nbreTours):\n",
    "        self.nbTour=nbreTours\n",
    "        self.score=0\n",
    "        self.paquet=[Carte(v,c) for v in range (1,valeur+1) for c in range(1,couleur+1)]\n",
    "    \n",
    "    def jouer(self):\n",
    "        main1,main2=piocher(self.paquet,self.nbTour)\n",
    "        \n",
    "        for tour in range(self.nbTour):\n",
    "            self.score+=1 if plusGrandQue(main1[tour],main2[tour]) else -1\n",
    "        print('Vainqueur joueur 1 avec un score: 'if self.score>0 else 'Vainqueur joueur 2 avec un score: ' ,self.score)"
   ]
  },
  {
   "cell_type": "code",
   "execution_count": 11,
   "metadata": {},
   "outputs": [
    {
     "output_type": "error",
     "ename": "TypeError",
     "evalue": "'list' object cannot be interpreted as an integer",
     "traceback": [
      "\u001b[0;31m---------------------------------------------------------------------------\u001b[0m",
      "\u001b[0;31mTypeError\u001b[0m                                 Traceback (most recent call last)",
      "\u001b[0;32m<ipython-input-11-36e5913ad1f9>\u001b[0m in \u001b[0;36m<module>\u001b[0;34m\u001b[0m\n\u001b[1;32m      1\u001b[0m \u001b[0mpartie1\u001b[0m\u001b[0;34m=\u001b[0m\u001b[0mPartie\u001b[0m\u001b[0;34m(\u001b[0m\u001b[0mvaleur\u001b[0m\u001b[0;34m=\u001b[0m\u001b[0;36m4\u001b[0m\u001b[0;34m,\u001b[0m\u001b[0mcouleur\u001b[0m\u001b[0;34m=\u001b[0m\u001b[0;36m3\u001b[0m\u001b[0;34m,\u001b[0m\u001b[0mnbreTours\u001b[0m\u001b[0;34m=\u001b[0m\u001b[0;36m5\u001b[0m\u001b[0;34m)\u001b[0m\u001b[0;34m\u001b[0m\u001b[0;34m\u001b[0m\u001b[0m\n\u001b[0;32m----> 2\u001b[0;31m \u001b[0mpartie1\u001b[0m\u001b[0;34m.\u001b[0m\u001b[0mjouer\u001b[0m\u001b[0;34m(\u001b[0m\u001b[0;34m)\u001b[0m\u001b[0;34m\u001b[0m\u001b[0;34m\u001b[0m\u001b[0m\n\u001b[0m",
      "\u001b[0;32m<ipython-input-10-4d2e836825c6>\u001b[0m in \u001b[0;36mjouer\u001b[0;34m(self)\u001b[0m\n\u001b[1;32m      7\u001b[0m \u001b[0;34m\u001b[0m\u001b[0m\n\u001b[1;32m      8\u001b[0m     \u001b[0;32mdef\u001b[0m \u001b[0mjouer\u001b[0m\u001b[0;34m(\u001b[0m\u001b[0mself\u001b[0m\u001b[0;34m)\u001b[0m\u001b[0;34m:\u001b[0m\u001b[0;34m\u001b[0m\u001b[0;34m\u001b[0m\u001b[0m\n\u001b[0;32m----> 9\u001b[0;31m         \u001b[0mmain1\u001b[0m\u001b[0;34m,\u001b[0m\u001b[0mmain2\u001b[0m\u001b[0;34m=\u001b[0m\u001b[0mpiocher\u001b[0m\u001b[0;34m(\u001b[0m\u001b[0mself\u001b[0m\u001b[0;34m.\u001b[0m\u001b[0mpaquet\u001b[0m\u001b[0;34m,\u001b[0m\u001b[0mself\u001b[0m\u001b[0;34m.\u001b[0m\u001b[0mnbTour\u001b[0m\u001b[0;34m)\u001b[0m\u001b[0;34m\u001b[0m\u001b[0;34m\u001b[0m\u001b[0m\n\u001b[0m\u001b[1;32m     10\u001b[0m \u001b[0;34m\u001b[0m\u001b[0m\n\u001b[1;32m     11\u001b[0m         \u001b[0;32mfor\u001b[0m \u001b[0mtour\u001b[0m \u001b[0;32min\u001b[0m \u001b[0mrange\u001b[0m\u001b[0;34m(\u001b[0m\u001b[0mself\u001b[0m\u001b[0;34m.\u001b[0m\u001b[0mnbTour\u001b[0m\u001b[0;34m)\u001b[0m\u001b[0;34m:\u001b[0m\u001b[0;34m\u001b[0m\u001b[0;34m\u001b[0m\u001b[0m\n",
      "\u001b[0;32m<ipython-input-4-10d84ef6b89f>\u001b[0m in \u001b[0;36mpiocher\u001b[0;34m(nbTours, paquet)\u001b[0m\n\u001b[1;32m      2\u001b[0m     \u001b[0mmain1\u001b[0m\u001b[0;34m,\u001b[0m\u001b[0mmain2\u001b[0m \u001b[0;34m=\u001b[0m \u001b[0;34m[\u001b[0m\u001b[0;34m]\u001b[0m\u001b[0;34m,\u001b[0m\u001b[0;34m[\u001b[0m\u001b[0;34m]\u001b[0m\u001b[0;34m\u001b[0m\u001b[0;34m\u001b[0m\u001b[0m\n\u001b[1;32m      3\u001b[0m \u001b[0;34m\u001b[0m\u001b[0m\n\u001b[0;32m----> 4\u001b[0;31m     \u001b[0;32mfor\u001b[0m \u001b[0mi\u001b[0m \u001b[0;32min\u001b[0m \u001b[0mrange\u001b[0m\u001b[0;34m(\u001b[0m\u001b[0mnbTours\u001b[0m\u001b[0;34m)\u001b[0m\u001b[0;34m:\u001b[0m\u001b[0;34m\u001b[0m\u001b[0;34m\u001b[0m\u001b[0m\n\u001b[0m\u001b[1;32m      5\u001b[0m \u001b[0;34m\u001b[0m\u001b[0m\n\u001b[1;32m      6\u001b[0m         \u001b[0mx\u001b[0m \u001b[0;34m=\u001b[0m \u001b[0mpaquet\u001b[0m\u001b[0;34m[\u001b[0m\u001b[0mrandrange\u001b[0m\u001b[0;34m(\u001b[0m\u001b[0mlen\u001b[0m\u001b[0;34m(\u001b[0m\u001b[0mpaquet\u001b[0m\u001b[0;34m)\u001b[0m\u001b[0;34m)\u001b[0m\u001b[0;34m]\u001b[0m\u001b[0;34m\u001b[0m\u001b[0;34m\u001b[0m\u001b[0m\n",
      "\u001b[0;31mTypeError\u001b[0m: 'list' object cannot be interpreted as an integer"
     ]
    }
   ],
   "source": [
    "partie1=Partie(valeur=4,couleur=3,nbreTours=5)\n",
    "partie1.jouer()"
   ]
  },
  {
   "source": [
    "# L'encapsulation"
   ],
   "cell_type": "markdown",
   "metadata": {}
  },
  {
   "cell_type": "code",
   "execution_count": 6,
   "metadata": {},
   "outputs": [
    {
     "output_type": "stream",
     "name": "stdout",
     "text": [
      "33\n40\n19\n"
     ]
    }
   ],
   "source": [
    "class formulaire: \n",
    "\n",
    "    def __init__(self, nom, prenom, naissance):\n",
    "        self.nom = nom.upper()\n",
    "        self.prenom = prenom\n",
    "        na = str(naissance)\n",
    "\n",
    "        if na.isnumeric():\n",
    "            self.naissance = int(na)\n",
    "        else:\n",
    "            self.naissance = 1900\n",
    "\n",
    "    def age(self):\n",
    "        return 2021 - self.naissance\n",
    "    \n",
    "    def majeur(self):\n",
    "        return self.age() >= 18\n",
    "\n",
    "    def memeFamille(self,Formulaire):\n",
    "        return self.nom == Formulaire.nom\n",
    "\n",
    "nd = formulaire(\"Novak\",\"Djokovic\",1988)\n",
    "rf = formulaire(\"Roger\",\"Federer\",1981)\n",
    "js = formulaire(\"Jannik\",\"Sinner\",2002)\n",
    "\n",
    "print(nd.age())\n",
    "print(rf.age())\n",
    "print(js.age())"
   ]
  },
  {
   "cell_type": "code",
   "execution_count": 11,
   "metadata": {},
   "outputs": [
    {
     "output_type": "stream",
     "name": "stdout",
     "text": [
      "33\n40\n19\n"
     ]
    }
   ],
   "source": [
    "class formulaire: \n",
    "\n",
    "    def __init__(self, nom, prenom, naissance):\n",
    "        self.nom = str(nom).upper()\n",
    "        self.prenom = str(prenom).upper()\n",
    "        self.naissance = naissance\n",
    "\n",
    "    def _set_naissance(self, naissance):\n",
    "        na = str(naissance)\n",
    "\n",
    "        if na.isnumeric():\n",
    "            self._naissance = int(na)\n",
    "        else:\n",
    "            self._naissance = 1900\n",
    "    \n",
    "    def _get_naissance(self):\n",
    "        return self._naissance\n",
    "    naissance = property(_get_naissance, _set_naissance)\n",
    "\n",
    "    def age(self):\n",
    "        return 2021 - self.naissance\n",
    "    \n",
    "    def majeur(self):\n",
    "        return self.age() >= 18\n",
    "\n",
    "    def memeFamille(self,formulaire):\n",
    "        return self.nom == formulaire.nom\n",
    "\n",
    "nd = formulaire(\"Novak\",\"Djokovic\",1988)\n",
    "rf = formulaire(\"Roger\",\"Federer\",1981)\n",
    "js = formulaire(\"Jannik\",\"Sinner\",2002)\n",
    "\n",
    "print(nd.age())\n",
    "print(rf.age())\n",
    "print(js.age())"
   ]
  },
  {
   "source": [
    "# Exercices\n",
    "\n",
    "1. Modifier _get_naissance() de sorte qu'il provoque un affichage dans la console avant de renvoyer la valeur. L'appel du calcul de l'age provoque-t-il un affichage supplémentaire? Pourquoi?"
   ],
   "cell_type": "markdown",
   "metadata": {}
  },
  {
   "cell_type": "code",
   "execution_count": 35,
   "metadata": {},
   "outputs": [
    {
     "output_type": "stream",
     "name": "stdout",
     "text": [
      "Mon age est le suivant: 33\nMon age est le suivant: 40\nMon age est le suivant: 19\n"
     ]
    }
   ],
   "source": [
    "class formulaire: \n",
    "\n",
    "    def __init__(self, nom, prenom, naissance):\n",
    "        self.nom = str(nom).upper()\n",
    "        self.prenom = str(prenom).upper()\n",
    "        self.naissance = naissance\n",
    "\n",
    "    def set_naissance(self, naissance):\n",
    "        na = str(naissance)\n",
    "\n",
    "        if na.isnumeric():\n",
    "            self._naissance = int(na)\n",
    "        else:\n",
    "            self._naissance = 1900\n",
    "    \n",
    "    def get_naissance(self):\n",
    "        print(\"Mon age est le suivant: \", end=\"\")\n",
    "        #print(\"Passe par _get_nais\" : self.nom, self.prenom, self._naissance)\n",
    "        return self._naissance\n",
    "    naissance = property(get_naissance, set_naissance)\n",
    "\n",
    "\n",
    "    def age(self):\n",
    "        return 2021 - self.naissance\n",
    "    \n",
    "    def majeur(self):\n",
    "        return self.age() >= 18\n",
    "\n",
    "    def memeFamille(self,formulaire):\n",
    "        return self.nom == formulaire.nom\n",
    "\n",
    "nd = formulaire(\"Novak\",\"Djokovic\",1988)\n",
    "rf = formulaire(\"Roger\",\"Federer\",1981)\n",
    "js = formulaire(\"Jannik\",\"Sinner\",2002)\n",
    "\n",
    "print(nd.age())\n",
    "print(rf.age())\n",
    "print(js.age())"
   ]
  },
  {
   "source": [
    "2. Modifier _set_naissance() de sorte qu'il gère aussi le cas ou la date de naissance est donnée comme une liste"
   ],
   "cell_type": "markdown",
   "metadata": {}
  },
  {
   "cell_type": "code",
   "execution_count": 42,
   "metadata": {},
   "outputs": [
    {
     "output_type": "stream",
     "name": "stdout",
     "text": [
      "121\n40\n19\n2005\n"
     ]
    }
   ],
   "source": [
    "class formulaire: \n",
    "\n",
    "    def __init__(self, nom, prenom, naissance):\n",
    "        self.nom = str(nom).upper()\n",
    "        self.prenom = str(prenom).upper()\n",
    "        self.naissance = naissance\n",
    "\n",
    "    def _set_naissance(self, naissance):\n",
    "        na = str(naissance)\n",
    "\n",
    "        if type(naissance) == list:\n",
    "            naissance = \"\".join(str(na) for num in naissance)\n",
    "        else:\n",
    "            na = str(naissance)\n",
    "\n",
    "        if na.isnumeric():\n",
    "            self._naissance = int(na)\n",
    "        else:\n",
    "            self._naissance = 1900\n",
    "    \n",
    "    def _get_naissance(self):\n",
    "        return self._naissance\n",
    "    naissance = property(_get_naissance, _set_naissance)\n",
    "\n",
    "    def age(self):\n",
    "        return 2021 - self.naissance\n",
    "    \n",
    "    def majeur(self):\n",
    "        return self.age() >= 18\n",
    "\n",
    "    def memeFamille(self,formulaire):\n",
    "        return self.nom == formulaire.nom\n",
    "\n",
    "nd = formulaire(\"Novak\",\"Djokovic\",[1,9,8,8])\n",
    "rf = formulaire(\"Roger\",\"Federer\",1981)\n",
    "js = formulaire(\"Jannik\",\"Sinner\",2002)\n",
    "\n",
    "print(nd.age())\n",
    "print(rf.age())\n",
    "print(js.age())\n",
    "print(\"\".join([str(num) for num in [2,0,0,5]]))"
   ]
  },
  {
   "source": [
    "3. Utiliser des propriétés similaires pour encapsuler le nom et le prénom"
   ],
   "cell_type": "markdown",
   "metadata": {}
  },
  {
   "cell_type": "code",
   "execution_count": 22,
   "metadata": {},
   "outputs": [
    {
     "output_type": "stream",
     "name": "stdout",
     "text": [
      "33\n40\n19\n"
     ]
    }
   ],
   "source": [
    "class formulaire: \n",
    "\n",
    "    def __init__(self, nom, prenom, naissance):\n",
    "        self.nom = str(nom).upper()\n",
    "        self.prenom = str(prenom).upper()\n",
    "        self.naissance = naissance\n",
    "\n",
    "    def set_naissance(self, naissance):\n",
    "        na = str(naissance)\n",
    "\n",
    "        if na.isnumeric():\n",
    "            self._naissance = int(na)\n",
    "        else:\n",
    "            self._naissance = 1900\n",
    "\n",
    "    def get_naissance(self):\n",
    "        return self._naissance\n",
    "    naissance = property(get_naissance, set_naissance)\n",
    "\n",
    "    def _get_nom(self):\n",
    "        return str(self._nom).upper()\n",
    "    def _set_nom(self, n):\n",
    "        self._nom = str(n).upper()\n",
    "    nom = property(_get_nom, _set_nom)\n",
    "\n",
    "    def _get_prenom(self):\n",
    "        return str(self._prenom).upper()\n",
    "    def _set_prenom(self, p):\n",
    "        self._prenom = str(p).upper()\n",
    "    prenom = property(_get_prenom, _set_prenom)\n",
    "\n",
    "    def age(self):\n",
    "        return 2021 - self.naissance\n",
    "    \n",
    "    def majeur(self):\n",
    "        return self.age() >= 18\n",
    "\n",
    "    def memeFamille(self,formulaire):\n",
    "        return self.nom == formulaire.nom\n",
    "\n",
    "nd = formulaire(\"Novak\",\"Djokovic\",1988)\n",
    "rf = formulaire(\"Roger\",\"Federer\",1981)\n",
    "js = formulaire(\"Jannik\",\"Sinner\",2002)\n",
    "\n",
    "print(nd.age())\n",
    "print(rf.age())\n",
    "print(js.age())"
   ]
  }
 ]
}