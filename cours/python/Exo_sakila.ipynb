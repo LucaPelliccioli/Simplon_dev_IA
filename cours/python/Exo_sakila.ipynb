{
 "metadata": {
  "language_info": {
   "codemirror_mode": {
    "name": "ipython",
    "version": 3
   },
   "file_extension": ".py",
   "mimetype": "text/x-python",
   "name": "python",
   "nbconvert_exporter": "python",
   "pygments_lexer": "ipython3",
   "version": "3.8.5"
  },
  "orig_nbformat": 2,
  "kernelspec": {
   "name": "python3",
   "display_name": "Python 3.8.5 64-bit ('base': conda)",
   "metadata": {
    "interpreter": {
     "hash": "64b474f71659f9be32f34132c3eef93d33d176ead871b80ca6db3fa26bc83f65"
    }
   }
  }
 },
 "nbformat": 4,
 "nbformat_minor": 2,
 "cells": [
  {
   "source": [
    "# Interface utilisateur pour Sakila\n",
    "\n",
    "## 1. Créer un fonction connect_db() qui prendra en entrée un dictionnaire contenant un nom d’utilisateur, un mot de passe, un host et le nom d’une base de données"
   ],
   "cell_type": "markdown",
   "metadata": {}
  },
  {
   "cell_type": "code",
   "execution_count": 1,
   "metadata": {},
   "outputs": [],
   "source": [
    "# https://docs.sqlalchemy.org/en/14/core/engines.html\n",
    "\n",
    "from sqlalchemy import create_engine\n",
    "import pandas as pd\n",
    "\n",
    "\n",
    "#with open(\"nomduficher\") as fichier:\n",
    "#   dico = Json.load(fichier[\"mysql\"])"
   ]
  },
  {
   "cell_type": "code",
   "execution_count": 15,
   "metadata": {},
   "outputs": [],
   "source": [
    "def connect_db(dico):\n",
    "\n",
    "    str_engine = \"mysql+\" + dico[\"connector\"] + \"://\" + dico[\"user\"] + \":\" + dico[\"pwd\"] + \"@\" + dico[\"host\"] + \":\" + dico[\"port\"] + \"/\" + dico[\"bdd\"]\n",
    "    connect = create_engine(str_engine)\n",
    "    return connect\n",
    "\n",
    "d = {\n",
    "    \"connector\": \"pymysql\",\n",
    "    \"user\" : \"simplon\",\n",
    "    \"pwd\" : \"fidelio\",\n",
    "    \"host\" : \"localhost\",\n",
    "    \"port\": \"3306\",\n",
    "    \"bdd\" : \"sakila\"\n",
    "}\n",
    "\n",
    "engine = connect_db(d)"
   ]
  },
  {
   "source": [
    "## 2. Créer une fonction new_customer() qui va permettre l’insertion d’un nouveau client dans la table customer en demandant à un utilisateur de saisir les données, ainsi que son adresse pour remplir les tables address, city et country. Faire attention aux contraintes d’intégrités"
   ],
   "cell_type": "markdown",
   "metadata": {}
  },
  {
   "cell_type": "code",
   "execution_count": 6,
   "metadata": {},
   "outputs": [],
   "source": [
    "def new_customer(engine):\n",
    "\n",
    "    country = input(\"Pays: \")\n",
    "    country_df = pd.read_sql_query(\"select country_id from country where country = '%s';\" %(country), engine)\n",
    "    if country_df.empty:\n",
    "        engine.execute('insert into country (country) values (\"%s\");' %(country))\n",
    "        country_df = pd.read_sql_query(\"select country_id from country where country = '%s';\" %(country), engine)\n",
    "\n",
    "    city = input(\"Ville: \")\n",
    "    city_df = pd.read_sql_query(\"select city_id from city where city = '%s';\" %(city), engine)\n",
    "    if city_df.empty:\n",
    "        engine.execute('insert into city (city, country_id) values (\"%s\",%s);' %(city, int(country_df[\"country_id\"][0])))\n",
    "        city_df = pd.read_sql_query(\"select city_id from city where city = '%s';\" %(city), engine)\n",
    "\n",
    "    address = input(\"Adresse: \")\n",
    "    address2 = input(\"Adresse 2: \")\n",
    "    district = input(\"District: \")\n",
    "    postal_code = input(\"Code Postal: \")\n",
    "    phone = input(\"Numéro de téléphone: \")\n",
    "    location = \"ST_GeomFromWKB(X'0101000000000000000000F03F000000000000F03F')\"\n",
    "    address_df = pd.read_sql_query(\"select address_id from address where address = '%s';\" %(address), engine)\n",
    "    if address_df.empty:\n",
    "        engine.execute('insert into address (address, address2, district, city_id, postal_code, phone) values (\"%s\",\"%s\",\"%s\",%s,\"%s\",\"%s\",%s);' %(address, address2, district, int(city_df[\"city_id\"][0]), postal_code, phone, location))\n",
    "    address_df = pd.read_sql_query(\"select address_id from address where address = '%s';\" %(address), engine)\n",
    "\n",
    "    store = int(input(\"Store (1 ou 2): \"))\n",
    "    first_name = input(\"Prénom: \")\n",
    "    last_name = input(\"Nom: \")\n",
    "    email = input(\"Email: \")\n",
    "    customer_df = pd.read_sql_query(\"select customer_id from customer where email= '%s';\" %(email), engine)\n",
    "    if customer_df.empty:\n",
    "        engine.execute('insert into customer (store_id, first_name, last_name, email, address_id) values (%s,\"%s\",\"%s\",\"%s\",%s);' %(store, first_name, last_name, email, int(address_df[\"address_id\"][0])))\n",
    "        customer_df = pd.read_sql_query(\"select customer_id from customer where email= '%s';\" %(email), engine)\n",
    "\n",
    "new_customer(engine)"
   ]
  },
  {
   "source": [
    "##  3. Ecrire une fonction qui va afficher l’historique de location d’un client"
   ],
   "cell_type": "markdown",
   "metadata": {}
  },
  {
   "cell_type": "code",
   "execution_count": 13,
   "metadata": {},
   "outputs": [
    {
     "output_type": "execute_result",
     "data": {
      "text/plain": [
       "    rental_id         rental_date  inventory_id  customer_id  \\\n",
       "0        1008 2005-05-31 01:18:56           914          599   \n",
       "1        2272 2005-06-18 06:29:53          1364          599   \n",
       "2        3043 2005-06-20 12:38:35           633          599   \n",
       "3        3398 2005-06-21 15:34:38           221          599   \n",
       "4        3429 2005-06-21 18:46:05           456          599   \n",
       "5        5065 2005-07-09 04:42:00          1788          599   \n",
       "6        5843 2005-07-10 17:14:27          1615          599   \n",
       "7        6800 2005-07-12 17:03:56          3742          599   \n",
       "8        6895 2005-07-12 21:23:59          2935          599   \n",
       "9        8965 2005-07-30 03:52:37          2419          599   \n",
       "10       9630 2005-07-31 04:57:07          2008          599   \n",
       "11       9679 2005-07-31 06:41:19          3819          599   \n",
       "12      11522 2005-08-17 00:05:05          2033          599   \n",
       "13      14233 2005-08-21 05:07:08          2943          599   \n",
       "14      14599 2005-08-21 17:43:42          4575          599   \n",
       "15      14719 2005-08-21 21:41:57          4091          599   \n",
       "16      15590 2005-08-23 06:09:44          4048          599   \n",
       "17      15719 2005-08-23 11:08:46          3990          599   \n",
       "18      15725 2005-08-23 11:25:00           378          599   \n",
       "\n",
       "           return_date  staff_id         last_update  \n",
       "0  2005-06-01 01:24:56         2 2006-02-15 21:30:53  \n",
       "1  2005-06-23 10:58:53         1 2006-02-15 21:30:53  \n",
       "2  2005-06-29 14:16:35         2 2006-02-15 21:30:53  \n",
       "3  2005-06-29 11:23:38         1 2006-02-15 21:30:53  \n",
       "4  2005-06-30 17:28:05         1 2006-02-15 21:30:53  \n",
       "5  2005-07-12 08:55:00         1 2006-02-15 21:30:53  \n",
       "6  2005-07-15 21:18:27         2 2006-02-15 21:30:53  \n",
       "7  2005-07-21 20:32:56         2 2006-02-15 21:30:53  \n",
       "8  2005-07-19 20:47:59         2 2006-02-15 21:30:53  \n",
       "9  2005-08-05 01:28:37         2 2006-02-15 21:30:53  \n",
       "10 2005-08-07 10:55:07         2 2006-02-15 21:30:53  \n",
       "11 2005-08-02 07:23:19         1 2006-02-15 21:30:53  \n",
       "12 2005-08-24 04:56:05         1 2006-02-15 21:30:53  \n",
       "13 2005-08-28 03:20:08         1 2006-02-15 21:30:53  \n",
       "14 2005-08-22 18:53:42         1 2006-02-15 21:30:53  \n",
       "15 2005-08-25 20:37:57         1 2006-02-15 21:30:53  \n",
       "16 2005-09-01 06:53:44         2 2006-02-15 21:30:53  \n",
       "17 2005-08-25 07:25:46         1 2006-02-15 21:30:53  \n",
       "18 2005-08-26 11:46:00         1 2006-02-15 21:30:53  "
      ],
      "text/html": "<div>\n<style scoped>\n    .dataframe tbody tr th:only-of-type {\n        vertical-align: middle;\n    }\n\n    .dataframe tbody tr th {\n        vertical-align: top;\n    }\n\n    .dataframe thead th {\n        text-align: right;\n    }\n</style>\n<table border=\"1\" class=\"dataframe\">\n  <thead>\n    <tr style=\"text-align: right;\">\n      <th></th>\n      <th>rental_id</th>\n      <th>rental_date</th>\n      <th>inventory_id</th>\n      <th>customer_id</th>\n      <th>return_date</th>\n      <th>staff_id</th>\n      <th>last_update</th>\n    </tr>\n  </thead>\n  <tbody>\n    <tr>\n      <th>0</th>\n      <td>1008</td>\n      <td>2005-05-31 01:18:56</td>\n      <td>914</td>\n      <td>599</td>\n      <td>2005-06-01 01:24:56</td>\n      <td>2</td>\n      <td>2006-02-15 21:30:53</td>\n    </tr>\n    <tr>\n      <th>1</th>\n      <td>2272</td>\n      <td>2005-06-18 06:29:53</td>\n      <td>1364</td>\n      <td>599</td>\n      <td>2005-06-23 10:58:53</td>\n      <td>1</td>\n      <td>2006-02-15 21:30:53</td>\n    </tr>\n    <tr>\n      <th>2</th>\n      <td>3043</td>\n      <td>2005-06-20 12:38:35</td>\n      <td>633</td>\n      <td>599</td>\n      <td>2005-06-29 14:16:35</td>\n      <td>2</td>\n      <td>2006-02-15 21:30:53</td>\n    </tr>\n    <tr>\n      <th>3</th>\n      <td>3398</td>\n      <td>2005-06-21 15:34:38</td>\n      <td>221</td>\n      <td>599</td>\n      <td>2005-06-29 11:23:38</td>\n      <td>1</td>\n      <td>2006-02-15 21:30:53</td>\n    </tr>\n    <tr>\n      <th>4</th>\n      <td>3429</td>\n      <td>2005-06-21 18:46:05</td>\n      <td>456</td>\n      <td>599</td>\n      <td>2005-06-30 17:28:05</td>\n      <td>1</td>\n      <td>2006-02-15 21:30:53</td>\n    </tr>\n    <tr>\n      <th>5</th>\n      <td>5065</td>\n      <td>2005-07-09 04:42:00</td>\n      <td>1788</td>\n      <td>599</td>\n      <td>2005-07-12 08:55:00</td>\n      <td>1</td>\n      <td>2006-02-15 21:30:53</td>\n    </tr>\n    <tr>\n      <th>6</th>\n      <td>5843</td>\n      <td>2005-07-10 17:14:27</td>\n      <td>1615</td>\n      <td>599</td>\n      <td>2005-07-15 21:18:27</td>\n      <td>2</td>\n      <td>2006-02-15 21:30:53</td>\n    </tr>\n    <tr>\n      <th>7</th>\n      <td>6800</td>\n      <td>2005-07-12 17:03:56</td>\n      <td>3742</td>\n      <td>599</td>\n      <td>2005-07-21 20:32:56</td>\n      <td>2</td>\n      <td>2006-02-15 21:30:53</td>\n    </tr>\n    <tr>\n      <th>8</th>\n      <td>6895</td>\n      <td>2005-07-12 21:23:59</td>\n      <td>2935</td>\n      <td>599</td>\n      <td>2005-07-19 20:47:59</td>\n      <td>2</td>\n      <td>2006-02-15 21:30:53</td>\n    </tr>\n    <tr>\n      <th>9</th>\n      <td>8965</td>\n      <td>2005-07-30 03:52:37</td>\n      <td>2419</td>\n      <td>599</td>\n      <td>2005-08-05 01:28:37</td>\n      <td>2</td>\n      <td>2006-02-15 21:30:53</td>\n    </tr>\n    <tr>\n      <th>10</th>\n      <td>9630</td>\n      <td>2005-07-31 04:57:07</td>\n      <td>2008</td>\n      <td>599</td>\n      <td>2005-08-07 10:55:07</td>\n      <td>2</td>\n      <td>2006-02-15 21:30:53</td>\n    </tr>\n    <tr>\n      <th>11</th>\n      <td>9679</td>\n      <td>2005-07-31 06:41:19</td>\n      <td>3819</td>\n      <td>599</td>\n      <td>2005-08-02 07:23:19</td>\n      <td>1</td>\n      <td>2006-02-15 21:30:53</td>\n    </tr>\n    <tr>\n      <th>12</th>\n      <td>11522</td>\n      <td>2005-08-17 00:05:05</td>\n      <td>2033</td>\n      <td>599</td>\n      <td>2005-08-24 04:56:05</td>\n      <td>1</td>\n      <td>2006-02-15 21:30:53</td>\n    </tr>\n    <tr>\n      <th>13</th>\n      <td>14233</td>\n      <td>2005-08-21 05:07:08</td>\n      <td>2943</td>\n      <td>599</td>\n      <td>2005-08-28 03:20:08</td>\n      <td>1</td>\n      <td>2006-02-15 21:30:53</td>\n    </tr>\n    <tr>\n      <th>14</th>\n      <td>14599</td>\n      <td>2005-08-21 17:43:42</td>\n      <td>4575</td>\n      <td>599</td>\n      <td>2005-08-22 18:53:42</td>\n      <td>1</td>\n      <td>2006-02-15 21:30:53</td>\n    </tr>\n    <tr>\n      <th>15</th>\n      <td>14719</td>\n      <td>2005-08-21 21:41:57</td>\n      <td>4091</td>\n      <td>599</td>\n      <td>2005-08-25 20:37:57</td>\n      <td>1</td>\n      <td>2006-02-15 21:30:53</td>\n    </tr>\n    <tr>\n      <th>16</th>\n      <td>15590</td>\n      <td>2005-08-23 06:09:44</td>\n      <td>4048</td>\n      <td>599</td>\n      <td>2005-09-01 06:53:44</td>\n      <td>2</td>\n      <td>2006-02-15 21:30:53</td>\n    </tr>\n    <tr>\n      <th>17</th>\n      <td>15719</td>\n      <td>2005-08-23 11:08:46</td>\n      <td>3990</td>\n      <td>599</td>\n      <td>2005-08-25 07:25:46</td>\n      <td>1</td>\n      <td>2006-02-15 21:30:53</td>\n    </tr>\n    <tr>\n      <th>18</th>\n      <td>15725</td>\n      <td>2005-08-23 11:25:00</td>\n      <td>378</td>\n      <td>599</td>\n      <td>2005-08-26 11:46:00</td>\n      <td>1</td>\n      <td>2006-02-15 21:30:53</td>\n    </tr>\n  </tbody>\n</table>\n</div>"
     },
     "metadata": {},
     "execution_count": 13
    }
   ],
   "source": [
    "def historique(engine):\n",
    "\n",
    "    historique_customer = pd.read_sql_query(\"select * from rental where customer_id = (select customer_id from customer where customer_id=599);\",engine)\n",
    "    return historique_customer\n",
    "\n",
    "historique(engine)"
   ]
  },
  {
   "source": [
    "## 4. D’après vous quels seraient les indicateurs graphiques les plus pertinents pour suivre l’évolution du business de location de vidéos? Avec Matplotlib et Seaborn rédiger trois fonctions qui vont vous permettre d’afficher les trois graphiques permettant de suivre au mieux la rentabilité de l’affaire"
   ],
   "cell_type": "markdown",
   "metadata": {}
  },
  {
   "cell_type": "code",
   "execution_count": 24,
   "metadata": {},
   "outputs": [
    {
     "output_type": "execute_result",
     "data": {
      "text/plain": [
       "               rental_date  amount first_name last_name\n",
       "0      2005-05-25 11:30:37    2.99       MARY     SMITH\n",
       "1      2005-05-25 11:30:37    0.99       MARY     SMITH\n",
       "2      2005-05-25 11:30:37    5.99       MARY     SMITH\n",
       "3      2005-05-25 11:30:37    0.99       MARY     SMITH\n",
       "4      2005-05-25 11:30:37    9.99       MARY     SMITH\n",
       "...                    ...     ...        ...       ...\n",
       "445478 2005-08-23 11:25:00    4.99     AUSTIN   CINTRON\n",
       "445479 2005-08-23 11:25:00    1.99     AUSTIN   CINTRON\n",
       "445480 2005-08-23 11:25:00    8.99     AUSTIN   CINTRON\n",
       "445481 2005-08-23 11:25:00    2.99     AUSTIN   CINTRON\n",
       "445482 2005-08-23 11:25:00    2.99     AUSTIN   CINTRON\n",
       "\n",
       "[445483 rows x 4 columns]"
      ],
      "text/html": "<div>\n<style scoped>\n    .dataframe tbody tr th:only-of-type {\n        vertical-align: middle;\n    }\n\n    .dataframe tbody tr th {\n        vertical-align: top;\n    }\n\n    .dataframe thead th {\n        text-align: right;\n    }\n</style>\n<table border=\"1\" class=\"dataframe\">\n  <thead>\n    <tr style=\"text-align: right;\">\n      <th></th>\n      <th>rental_date</th>\n      <th>amount</th>\n      <th>first_name</th>\n      <th>last_name</th>\n    </tr>\n  </thead>\n  <tbody>\n    <tr>\n      <th>0</th>\n      <td>2005-05-25 11:30:37</td>\n      <td>2.99</td>\n      <td>MARY</td>\n      <td>SMITH</td>\n    </tr>\n    <tr>\n      <th>1</th>\n      <td>2005-05-25 11:30:37</td>\n      <td>0.99</td>\n      <td>MARY</td>\n      <td>SMITH</td>\n    </tr>\n    <tr>\n      <th>2</th>\n      <td>2005-05-25 11:30:37</td>\n      <td>5.99</td>\n      <td>MARY</td>\n      <td>SMITH</td>\n    </tr>\n    <tr>\n      <th>3</th>\n      <td>2005-05-25 11:30:37</td>\n      <td>0.99</td>\n      <td>MARY</td>\n      <td>SMITH</td>\n    </tr>\n    <tr>\n      <th>4</th>\n      <td>2005-05-25 11:30:37</td>\n      <td>9.99</td>\n      <td>MARY</td>\n      <td>SMITH</td>\n    </tr>\n    <tr>\n      <th>...</th>\n      <td>...</td>\n      <td>...</td>\n      <td>...</td>\n      <td>...</td>\n    </tr>\n    <tr>\n      <th>445478</th>\n      <td>2005-08-23 11:25:00</td>\n      <td>4.99</td>\n      <td>AUSTIN</td>\n      <td>CINTRON</td>\n    </tr>\n    <tr>\n      <th>445479</th>\n      <td>2005-08-23 11:25:00</td>\n      <td>1.99</td>\n      <td>AUSTIN</td>\n      <td>CINTRON</td>\n    </tr>\n    <tr>\n      <th>445480</th>\n      <td>2005-08-23 11:25:00</td>\n      <td>8.99</td>\n      <td>AUSTIN</td>\n      <td>CINTRON</td>\n    </tr>\n    <tr>\n      <th>445481</th>\n      <td>2005-08-23 11:25:00</td>\n      <td>2.99</td>\n      <td>AUSTIN</td>\n      <td>CINTRON</td>\n    </tr>\n    <tr>\n      <th>445482</th>\n      <td>2005-08-23 11:25:00</td>\n      <td>2.99</td>\n      <td>AUSTIN</td>\n      <td>CINTRON</td>\n    </tr>\n  </tbody>\n</table>\n<p>445483 rows × 4 columns</p>\n</div>"
     },
     "metadata": {},
     "execution_count": 24
    }
   ],
   "source": [
    "customer1 = pd.read_sql_query(\"select rental.rental_date, amount, customer.first_name, customer.last_name from payment inner join customer on payment.customer_id = customer.customer_id inner join rental on customer.customer_id = rental.customer_id;\", engine)\n",
    "customer1"
   ]
  },
  {
   "cell_type": "code",
   "execution_count": 25,
   "metadata": {},
   "outputs": [
    {
     "output_type": "error",
     "ename": "ObjectNotExecutableError",
     "evalue": "Not an executable object:                rental_date  amount first_name last_name\n0      2005-05-25 11:30:37    2.99       MARY     SMITH\n1      2005-05-25 11:30:37    0.99       MARY     SMITH\n2      2005-05-25 11:30:37    5.99       MARY     SMITH\n3      2005-05-25 11:30:37    0.99       MARY     SMITH\n4      2005-05-25 11:30:37    9.99       MARY     SMITH\n...                    ...     ...        ...       ...\n445478 2005-08-23 11:25:00    4.99     AUSTIN   CINTRON\n445479 2005-08-23 11:25:00    1.99     AUSTIN   CINTRON\n445480 2005-08-23 11:25:00    8.99     AUSTIN   CINTRON\n445481 2005-08-23 11:25:00    2.99     AUSTIN   CINTRON\n445482 2005-08-23 11:25:00    2.99     AUSTIN   CINTRON\n\n[445483 rows x 4 columns]",
     "traceback": [
      "\u001b[0;31m---------------------------------------------------------------------------\u001b[0m",
      "\u001b[0;31mAttributeError\u001b[0m                            Traceback (most recent call last)",
      "\u001b[0;32m~/anaconda3/lib/python3.8/site-packages/sqlalchemy/engine/base.py\u001b[0m in \u001b[0;36mexecute\u001b[0;34m(self, object_, *multiparams, **params)\u001b[0m\n\u001b[1;32m   1004\u001b[0m         \u001b[0;32mtry\u001b[0m\u001b[0;34m:\u001b[0m\u001b[0;34m\u001b[0m\u001b[0;34m\u001b[0m\u001b[0m\n\u001b[0;32m-> 1005\u001b[0;31m             \u001b[0mmeth\u001b[0m \u001b[0;34m=\u001b[0m \u001b[0mobject_\u001b[0m\u001b[0;34m.\u001b[0m\u001b[0m_execute_on_connection\u001b[0m\u001b[0;34m\u001b[0m\u001b[0;34m\u001b[0m\u001b[0m\n\u001b[0m\u001b[1;32m   1006\u001b[0m         \u001b[0;32mexcept\u001b[0m \u001b[0mAttributeError\u001b[0m \u001b[0;32mas\u001b[0m \u001b[0merr\u001b[0m\u001b[0;34m:\u001b[0m\u001b[0;34m\u001b[0m\u001b[0;34m\u001b[0m\u001b[0m\n",
      "\u001b[0;32m~/anaconda3/lib/python3.8/site-packages/pandas/core/generic.py\u001b[0m in \u001b[0;36m__getattr__\u001b[0;34m(self, name)\u001b[0m\n\u001b[1;32m   5138\u001b[0m                 \u001b[0;32mreturn\u001b[0m \u001b[0mself\u001b[0m\u001b[0;34m[\u001b[0m\u001b[0mname\u001b[0m\u001b[0;34m]\u001b[0m\u001b[0;34m\u001b[0m\u001b[0;34m\u001b[0m\u001b[0m\n\u001b[0;32m-> 5139\u001b[0;31m             \u001b[0;32mreturn\u001b[0m \u001b[0mobject\u001b[0m\u001b[0;34m.\u001b[0m\u001b[0m__getattribute__\u001b[0m\u001b[0;34m(\u001b[0m\u001b[0mself\u001b[0m\u001b[0;34m,\u001b[0m \u001b[0mname\u001b[0m\u001b[0;34m)\u001b[0m\u001b[0;34m\u001b[0m\u001b[0;34m\u001b[0m\u001b[0m\n\u001b[0m\u001b[1;32m   5140\u001b[0m \u001b[0;34m\u001b[0m\u001b[0m\n",
      "\u001b[0;31mAttributeError\u001b[0m: 'DataFrame' object has no attribute '_execute_on_connection'",
      "\nThe above exception was the direct cause of the following exception:\n",
      "\u001b[0;31mObjectNotExecutableError\u001b[0m                  Traceback (most recent call last)",
      "\u001b[0;32m<ipython-input-25-64af1e898e8a>\u001b[0m in \u001b[0;36m<module>\u001b[0;34m\u001b[0m\n\u001b[1;32m      6\u001b[0m \u001b[0mplt\u001b[0m\u001b[0;34m.\u001b[0m\u001b[0mtitle\u001b[0m\u001b[0;34m(\u001b[0m\u001b[0;34m\"Client les plus rentable\"\u001b[0m\u001b[0;34m)\u001b[0m\u001b[0;34m\u001b[0m\u001b[0;34m\u001b[0m\u001b[0m\n\u001b[1;32m      7\u001b[0m \u001b[0;34m\u001b[0m\u001b[0m\n\u001b[0;32m----> 8\u001b[0;31m \u001b[0mclient_plus_rentable\u001b[0m \u001b[0;34m=\u001b[0m \u001b[0mpd\u001b[0m\u001b[0;34m.\u001b[0m\u001b[0mread_sql_query\u001b[0m\u001b[0;34m(\u001b[0m\u001b[0mcustomer1\u001b[0m\u001b[0;34m,\u001b[0m\u001b[0mengine\u001b[0m\u001b[0;34m)\u001b[0m\u001b[0;34m\u001b[0m\u001b[0;34m\u001b[0m\u001b[0m\n\u001b[0m\u001b[1;32m      9\u001b[0m \u001b[0mclient_plus_rentable\u001b[0m\u001b[0;34m\u001b[0m\u001b[0;34m\u001b[0m\u001b[0m\n\u001b[1;32m     10\u001b[0m \u001b[0;34m\u001b[0m\u001b[0m\n",
      "\u001b[0;32m~/anaconda3/lib/python3.8/site-packages/pandas/io/sql.py\u001b[0m in \u001b[0;36mread_sql_query\u001b[0;34m(sql, con, index_col, coerce_float, params, parse_dates, chunksize)\u001b[0m\n\u001b[1;32m    375\u001b[0m     \"\"\"\n\u001b[1;32m    376\u001b[0m     \u001b[0mpandas_sql\u001b[0m \u001b[0;34m=\u001b[0m \u001b[0mpandasSQL_builder\u001b[0m\u001b[0;34m(\u001b[0m\u001b[0mcon\u001b[0m\u001b[0;34m)\u001b[0m\u001b[0;34m\u001b[0m\u001b[0;34m\u001b[0m\u001b[0m\n\u001b[0;32m--> 377\u001b[0;31m     return pandas_sql.read_query(\n\u001b[0m\u001b[1;32m    378\u001b[0m         \u001b[0msql\u001b[0m\u001b[0;34m,\u001b[0m\u001b[0;34m\u001b[0m\u001b[0;34m\u001b[0m\u001b[0m\n\u001b[1;32m    379\u001b[0m         \u001b[0mindex_col\u001b[0m\u001b[0;34m=\u001b[0m\u001b[0mindex_col\u001b[0m\u001b[0;34m,\u001b[0m\u001b[0;34m\u001b[0m\u001b[0;34m\u001b[0m\u001b[0m\n",
      "\u001b[0;32m~/anaconda3/lib/python3.8/site-packages/pandas/io/sql.py\u001b[0m in \u001b[0;36mread_query\u001b[0;34m(self, sql, index_col, coerce_float, parse_dates, params, chunksize)\u001b[0m\n\u001b[1;32m   1293\u001b[0m         \u001b[0margs\u001b[0m \u001b[0;34m=\u001b[0m \u001b[0m_convert_params\u001b[0m\u001b[0;34m(\u001b[0m\u001b[0msql\u001b[0m\u001b[0;34m,\u001b[0m \u001b[0mparams\u001b[0m\u001b[0;34m)\u001b[0m\u001b[0;34m\u001b[0m\u001b[0;34m\u001b[0m\u001b[0m\n\u001b[1;32m   1294\u001b[0m \u001b[0;34m\u001b[0m\u001b[0m\n\u001b[0;32m-> 1295\u001b[0;31m         \u001b[0mresult\u001b[0m \u001b[0;34m=\u001b[0m \u001b[0mself\u001b[0m\u001b[0;34m.\u001b[0m\u001b[0mexecute\u001b[0m\u001b[0;34m(\u001b[0m\u001b[0;34m*\u001b[0m\u001b[0margs\u001b[0m\u001b[0;34m)\u001b[0m\u001b[0;34m\u001b[0m\u001b[0;34m\u001b[0m\u001b[0m\n\u001b[0m\u001b[1;32m   1296\u001b[0m         \u001b[0mcolumns\u001b[0m \u001b[0;34m=\u001b[0m \u001b[0mresult\u001b[0m\u001b[0;34m.\u001b[0m\u001b[0mkeys\u001b[0m\u001b[0;34m(\u001b[0m\u001b[0;34m)\u001b[0m\u001b[0;34m\u001b[0m\u001b[0;34m\u001b[0m\u001b[0m\n\u001b[1;32m   1297\u001b[0m \u001b[0;34m\u001b[0m\u001b[0m\n",
      "\u001b[0;32m~/anaconda3/lib/python3.8/site-packages/pandas/io/sql.py\u001b[0m in \u001b[0;36mexecute\u001b[0;34m(self, *args, **kwargs)\u001b[0m\n\u001b[1;32m   1159\u001b[0m     \u001b[0;32mdef\u001b[0m \u001b[0mexecute\u001b[0m\u001b[0;34m(\u001b[0m\u001b[0mself\u001b[0m\u001b[0;34m,\u001b[0m \u001b[0;34m*\u001b[0m\u001b[0margs\u001b[0m\u001b[0;34m,\u001b[0m \u001b[0;34m**\u001b[0m\u001b[0mkwargs\u001b[0m\u001b[0;34m)\u001b[0m\u001b[0;34m:\u001b[0m\u001b[0;34m\u001b[0m\u001b[0;34m\u001b[0m\u001b[0m\n\u001b[1;32m   1160\u001b[0m         \u001b[0;34m\"\"\"Simple passthrough to SQLAlchemy connectable\"\"\"\u001b[0m\u001b[0;34m\u001b[0m\u001b[0;34m\u001b[0m\u001b[0m\n\u001b[0;32m-> 1161\u001b[0;31m         return self.connectable.execution_options(no_parameters=True).execute(\n\u001b[0m\u001b[1;32m   1162\u001b[0m             \u001b[0;34m*\u001b[0m\u001b[0margs\u001b[0m\u001b[0;34m,\u001b[0m \u001b[0;34m**\u001b[0m\u001b[0mkwargs\u001b[0m\u001b[0;34m\u001b[0m\u001b[0;34m\u001b[0m\u001b[0m\n\u001b[1;32m   1163\u001b[0m         )\n",
      "\u001b[0;32m~/anaconda3/lib/python3.8/site-packages/sqlalchemy/engine/base.py\u001b[0m in \u001b[0;36mexecute\u001b[0;34m(self, statement, *multiparams, **params)\u001b[0m\n\u001b[1;32m   2233\u001b[0m \u001b[0;34m\u001b[0m\u001b[0m\n\u001b[1;32m   2234\u001b[0m         \u001b[0mconnection\u001b[0m \u001b[0;34m=\u001b[0m \u001b[0mself\u001b[0m\u001b[0;34m.\u001b[0m\u001b[0m_contextual_connect\u001b[0m\u001b[0;34m(\u001b[0m\u001b[0mclose_with_result\u001b[0m\u001b[0;34m=\u001b[0m\u001b[0;32mTrue\u001b[0m\u001b[0;34m)\u001b[0m\u001b[0;34m\u001b[0m\u001b[0;34m\u001b[0m\u001b[0m\n\u001b[0;32m-> 2235\u001b[0;31m         \u001b[0;32mreturn\u001b[0m \u001b[0mconnection\u001b[0m\u001b[0;34m.\u001b[0m\u001b[0mexecute\u001b[0m\u001b[0;34m(\u001b[0m\u001b[0mstatement\u001b[0m\u001b[0;34m,\u001b[0m \u001b[0;34m*\u001b[0m\u001b[0mmultiparams\u001b[0m\u001b[0;34m,\u001b[0m \u001b[0;34m**\u001b[0m\u001b[0mparams\u001b[0m\u001b[0;34m)\u001b[0m\u001b[0;34m\u001b[0m\u001b[0;34m\u001b[0m\u001b[0m\n\u001b[0m\u001b[1;32m   2236\u001b[0m \u001b[0;34m\u001b[0m\u001b[0m\n\u001b[1;32m   2237\u001b[0m     \u001b[0;32mdef\u001b[0m \u001b[0mscalar\u001b[0m\u001b[0;34m(\u001b[0m\u001b[0mself\u001b[0m\u001b[0;34m,\u001b[0m \u001b[0mstatement\u001b[0m\u001b[0;34m,\u001b[0m \u001b[0;34m*\u001b[0m\u001b[0mmultiparams\u001b[0m\u001b[0;34m,\u001b[0m \u001b[0;34m**\u001b[0m\u001b[0mparams\u001b[0m\u001b[0;34m)\u001b[0m\u001b[0;34m:\u001b[0m\u001b[0;34m\u001b[0m\u001b[0;34m\u001b[0m\u001b[0m\n",
      "\u001b[0;32m~/anaconda3/lib/python3.8/site-packages/sqlalchemy/engine/base.py\u001b[0m in \u001b[0;36mexecute\u001b[0;34m(self, object_, *multiparams, **params)\u001b[0m\n\u001b[1;32m   1005\u001b[0m             \u001b[0mmeth\u001b[0m \u001b[0;34m=\u001b[0m \u001b[0mobject_\u001b[0m\u001b[0;34m.\u001b[0m\u001b[0m_execute_on_connection\u001b[0m\u001b[0;34m\u001b[0m\u001b[0;34m\u001b[0m\u001b[0m\n\u001b[1;32m   1006\u001b[0m         \u001b[0;32mexcept\u001b[0m \u001b[0mAttributeError\u001b[0m \u001b[0;32mas\u001b[0m \u001b[0merr\u001b[0m\u001b[0;34m:\u001b[0m\u001b[0;34m\u001b[0m\u001b[0;34m\u001b[0m\u001b[0m\n\u001b[0;32m-> 1007\u001b[0;31m             util.raise_(\n\u001b[0m\u001b[1;32m   1008\u001b[0m                 \u001b[0mexc\u001b[0m\u001b[0;34m.\u001b[0m\u001b[0mObjectNotExecutableError\u001b[0m\u001b[0;34m(\u001b[0m\u001b[0mobject_\u001b[0m\u001b[0;34m)\u001b[0m\u001b[0;34m,\u001b[0m \u001b[0mreplace_context\u001b[0m\u001b[0;34m=\u001b[0m\u001b[0merr\u001b[0m\u001b[0;34m\u001b[0m\u001b[0;34m\u001b[0m\u001b[0m\n\u001b[1;32m   1009\u001b[0m             )\n",
      "\u001b[0;32m~/anaconda3/lib/python3.8/site-packages/sqlalchemy/util/compat.py\u001b[0m in \u001b[0;36mraise_\u001b[0;34m(***failed resolving arguments***)\u001b[0m\n\u001b[1;32m    180\u001b[0m \u001b[0;34m\u001b[0m\u001b[0m\n\u001b[1;32m    181\u001b[0m         \u001b[0;32mtry\u001b[0m\u001b[0;34m:\u001b[0m\u001b[0;34m\u001b[0m\u001b[0;34m\u001b[0m\u001b[0m\n\u001b[0;32m--> 182\u001b[0;31m             \u001b[0;32mraise\u001b[0m \u001b[0mexception\u001b[0m\u001b[0;34m\u001b[0m\u001b[0;34m\u001b[0m\u001b[0m\n\u001b[0m\u001b[1;32m    183\u001b[0m         \u001b[0;32mfinally\u001b[0m\u001b[0;34m:\u001b[0m\u001b[0;34m\u001b[0m\u001b[0;34m\u001b[0m\u001b[0m\n\u001b[1;32m    184\u001b[0m             \u001b[0;31m# credit to\u001b[0m\u001b[0;34m\u001b[0m\u001b[0;34m\u001b[0m\u001b[0;34m\u001b[0m\u001b[0m\n",
      "\u001b[0;31mObjectNotExecutableError\u001b[0m: Not an executable object:                rental_date  amount first_name last_name\n0      2005-05-25 11:30:37    2.99       MARY     SMITH\n1      2005-05-25 11:30:37    0.99       MARY     SMITH\n2      2005-05-25 11:30:37    5.99       MARY     SMITH\n3      2005-05-25 11:30:37    0.99       MARY     SMITH\n4      2005-05-25 11:30:37    9.99       MARY     SMITH\n...                    ...     ...        ...       ...\n445478 2005-08-23 11:25:00    4.99     AUSTIN   CINTRON\n445479 2005-08-23 11:25:00    1.99     AUSTIN   CINTRON\n445480 2005-08-23 11:25:00    8.99     AUSTIN   CINTRON\n445481 2005-08-23 11:25:00    2.99     AUSTIN   CINTRON\n445482 2005-08-23 11:25:00    2.99     AUSTIN   CINTRON\n\n[445483 rows x 4 columns]"
     ]
    }
   ],
   "source": [
    "import matplotlib as mtp\n",
    "import matplotlib.pyplot as plt\n",
    "import seaborn as sns\n",
    "\n",
    "plt.subplots(figsize = (10,5), dpi=70)\n",
    "plt.title(\"Client les plus rentable\")\n",
    "\n",
    "client_plus_rentable = pd.read_sql_query(customer1,engine)\n",
    "client_plus_rentable\n",
    "\n",
    "sns.plot(x=\"rental_date\",y=\"amount\",data=customer1)\n",
    "plt.xticks(rotation=90)\n",
    "plt.show()\n",
    "plt.close()"
   ]
  },
  {
   "cell_type": "code",
   "execution_count": null,
   "metadata": {},
   "outputs": [],
   "source": []
  }
 ]
}